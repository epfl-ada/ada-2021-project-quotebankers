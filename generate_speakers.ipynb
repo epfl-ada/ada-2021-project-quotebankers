{
 "cells": [
  {
   "cell_type": "code",
   "execution_count": 10,
   "metadata": {},
   "outputs": [],
   "source": [
    "import pandas as pd\n",
    "import numpy as np\n",
    "import matplotlib.pyplot as plt\n",
    "from qwikidata.linked_data_interface import get_entity_dict_from_api\n",
    "from qwikidata.entity import WikidataItem\n",
    "import itertools\n",
    "from collections import Counter\n",
    "from tqdm.notebook import tqdm\n",
    "\n",
    "from datetime import datetime\n",
    "\n",
    "\n",
    "pd.options.plotting.backend = \"plotly\""
   ]
  },
  {
   "cell_type": "code",
   "execution_count": 7,
   "metadata": {},
   "outputs": [],
   "source": [
    "df = pd.read_json('data\\\\speakers.json.bz2', compression='bz2')"
   ]
  },
  {
   "cell_type": "code",
   "execution_count": 12,
   "metadata": {},
   "outputs": [
    {
     "name": "stdout",
     "output_type": "stream",
     "text": [
      "(442811, 5)\n"
     ]
    },
    {
     "data": {
      "text/html": [
       "<div>\n",
       "<style scoped>\n",
       "    .dataframe tbody tr th:only-of-type {\n",
       "        vertical-align: middle;\n",
       "    }\n",
       "\n",
       "    .dataframe tbody tr th {\n",
       "        vertical-align: top;\n",
       "    }\n",
       "\n",
       "    .dataframe thead th {\n",
       "        text-align: right;\n",
       "    }\n",
       "</style>\n",
       "<table border=\"1\" class=\"dataframe\">\n",
       "  <thead>\n",
       "    <tr style=\"text-align: right;\">\n",
       "      <th></th>\n",
       "      <th>date_of_birth</th>\n",
       "      <th>nationality</th>\n",
       "      <th>gender</th>\n",
       "      <th>occupation</th>\n",
       "      <th>n_quotes</th>\n",
       "    </tr>\n",
       "  </thead>\n",
       "  <tbody>\n",
       "    <tr>\n",
       "      <th>Q270316</th>\n",
       "      <td>[+1947-01-28T00:00:00Z]</td>\n",
       "      <td>[Q30]</td>\n",
       "      <td>[Q6581072]</td>\n",
       "      <td>[Q82955]</td>\n",
       "      <td>21060</td>\n",
       "    </tr>\n",
       "    <tr>\n",
       "      <th>Q1253</th>\n",
       "      <td>[+1944-06-13T00:00:00Z]</td>\n",
       "      <td>[Q884]</td>\n",
       "      <td>[Q6581097]</td>\n",
       "      <td>[Q82955, Q193391]</td>\n",
       "      <td>94704</td>\n",
       "    </tr>\n",
       "  </tbody>\n",
       "</table>\n",
       "</div>"
      ],
      "text/plain": [
       "                   date_of_birth nationality      gender         occupation  \\\n",
       "Q270316  [+1947-01-28T00:00:00Z]       [Q30]  [Q6581072]           [Q82955]   \n",
       "Q1253    [+1944-06-13T00:00:00Z]      [Q884]  [Q6581097]  [Q82955, Q193391]   \n",
       "\n",
       "         n_quotes  \n",
       "Q270316     21060  \n",
       "Q1253       94704  "
      ]
     },
     "execution_count": 12,
     "metadata": {},
     "output_type": "execute_result"
    }
   ],
   "source": [
    "speakers_dropped = df.drop(columns=['aliases', 'label', 'US_congress_bio_ID', \n",
    "                                          'lastrevid', 'type', \n",
    "                                          'candidacy', 'academic_degree',\n",
    "                                          'religion', 'n_unique_quotes',\n",
    "                                          'ethnic_group', 'party']).dropna(axis=0)\n",
    "print(speakers_dropped.shape)\n",
    "speakers_dropped.head(2)"
   ]
  },
  {
   "cell_type": "code",
   "execution_count": 17,
   "metadata": {},
   "outputs": [
    {
     "data": {
      "text/plain": [
       "str"
      ]
     },
     "execution_count": 17,
     "metadata": {},
     "output_type": "execute_result"
    }
   ],
   "source": [
    "type(speakers_dropped.iloc[12]['date_of_birth'][0])"
   ]
  },
  {
   "cell_type": "code",
   "execution_count": 18,
   "metadata": {},
   "outputs": [
    {
     "data": {
      "text/html": [
       "<div>\n",
       "<style scoped>\n",
       "    .dataframe tbody tr th:only-of-type {\n",
       "        vertical-align: middle;\n",
       "    }\n",
       "\n",
       "    .dataframe tbody tr th {\n",
       "        vertical-align: top;\n",
       "    }\n",
       "\n",
       "    .dataframe thead th {\n",
       "        text-align: right;\n",
       "    }\n",
       "</style>\n",
       "<table border=\"1\" class=\"dataframe\">\n",
       "  <thead>\n",
       "    <tr style=\"text-align: right;\">\n",
       "      <th></th>\n",
       "      <th>date_of_birth</th>\n",
       "      <th>nationality</th>\n",
       "      <th>gender</th>\n",
       "      <th>occupation</th>\n",
       "      <th>n_quotes</th>\n",
       "      <th>age</th>\n",
       "    </tr>\n",
       "  </thead>\n",
       "  <tbody>\n",
       "    <tr>\n",
       "      <th>Q270316</th>\n",
       "      <td>[+1947-01-28T00:00:00Z]</td>\n",
       "      <td>[Q30]</td>\n",
       "      <td>[Q6581072]</td>\n",
       "      <td>[Q82955]</td>\n",
       "      <td>21060</td>\n",
       "      <td>74</td>\n",
       "    </tr>\n",
       "    <tr>\n",
       "      <th>Q1253</th>\n",
       "      <td>[+1944-06-13T00:00:00Z]</td>\n",
       "      <td>[Q884]</td>\n",
       "      <td>[Q6581097]</td>\n",
       "      <td>[Q82955, Q193391]</td>\n",
       "      <td>94704</td>\n",
       "      <td>77</td>\n",
       "    </tr>\n",
       "  </tbody>\n",
       "</table>\n",
       "</div>"
      ],
      "text/plain": [
       "                   date_of_birth nationality      gender         occupation  \\\n",
       "Q270316  [+1947-01-28T00:00:00Z]       [Q30]  [Q6581072]           [Q82955]   \n",
       "Q1253    [+1944-06-13T00:00:00Z]      [Q884]  [Q6581097]  [Q82955, Q193391]   \n",
       "\n",
       "         n_quotes  age  \n",
       "Q270316     21060   74  \n",
       "Q1253       94704   77  "
      ]
     },
     "execution_count": 18,
     "metadata": {},
     "output_type": "execute_result"
    }
   ],
   "source": [
    "ages = []\n",
    "for birth in speakers_dropped.date_of_birth.values:\n",
    "    #birth = eval(birth)\n",
    "    if not birth is None:\n",
    "        ages.append(datetime.now().year - int(birth[0][1:5]))\n",
    "    else:\n",
    "        ages.append(None)\n",
    "\n",
    "speakers_dropped['age'] = ages\n",
    "speakers_dropped.head(2)"
   ]
  },
  {
   "cell_type": "code",
   "execution_count": 19,
   "metadata": {},
   "outputs": [
    {
     "data": {
      "text/html": [
       "<div>\n",
       "<style scoped>\n",
       "    .dataframe tbody tr th:only-of-type {\n",
       "        vertical-align: middle;\n",
       "    }\n",
       "\n",
       "    .dataframe tbody tr th {\n",
       "        vertical-align: top;\n",
       "    }\n",
       "\n",
       "    .dataframe thead th {\n",
       "        text-align: right;\n",
       "    }\n",
       "</style>\n",
       "<table border=\"1\" class=\"dataframe\">\n",
       "  <thead>\n",
       "    <tr style=\"text-align: right;\">\n",
       "      <th></th>\n",
       "      <th>nationality</th>\n",
       "      <th>gender</th>\n",
       "      <th>occupation</th>\n",
       "      <th>n_quotes</th>\n",
       "      <th>age</th>\n",
       "    </tr>\n",
       "  </thead>\n",
       "  <tbody>\n",
       "    <tr>\n",
       "      <th>Q270316</th>\n",
       "      <td>[Q30]</td>\n",
       "      <td>[Q6581072]</td>\n",
       "      <td>[Q82955]</td>\n",
       "      <td>21060</td>\n",
       "      <td>74</td>\n",
       "    </tr>\n",
       "    <tr>\n",
       "      <th>Q1253</th>\n",
       "      <td>[Q884]</td>\n",
       "      <td>[Q6581097]</td>\n",
       "      <td>[Q82955, Q193391]</td>\n",
       "      <td>94704</td>\n",
       "      <td>77</td>\n",
       "    </tr>\n",
       "  </tbody>\n",
       "</table>\n",
       "</div>"
      ],
      "text/plain": [
       "        nationality      gender         occupation  n_quotes  age\n",
       "Q270316       [Q30]  [Q6581072]           [Q82955]     21060   74\n",
       "Q1253        [Q884]  [Q6581097]  [Q82955, Q193391]     94704   77"
      ]
     },
     "execution_count": 19,
     "metadata": {},
     "output_type": "execute_result"
    }
   ],
   "source": [
    "speakers_features = speakers_dropped.drop(columns=['date_of_birth'])\n",
    "speakers_features.head(2)"
   ]
  },
  {
   "cell_type": "code",
   "execution_count": 22,
   "metadata": {},
   "outputs": [
    {
     "name": "stdout",
     "output_type": "stream",
     "text": [
      "(442811, 5)\n"
     ]
    },
    {
     "data": {
      "text/html": [
       "<div>\n",
       "<style scoped>\n",
       "    .dataframe tbody tr th:only-of-type {\n",
       "        vertical-align: middle;\n",
       "    }\n",
       "\n",
       "    .dataframe tbody tr th {\n",
       "        vertical-align: top;\n",
       "    }\n",
       "\n",
       "    .dataframe thead th {\n",
       "        text-align: right;\n",
       "    }\n",
       "</style>\n",
       "<table border=\"1\" class=\"dataframe\">\n",
       "  <thead>\n",
       "    <tr style=\"text-align: right;\">\n",
       "      <th></th>\n",
       "      <th>n_quotes</th>\n",
       "      <th>age</th>\n",
       "      <th>nationality</th>\n",
       "      <th>gender</th>\n",
       "      <th>occupation</th>\n",
       "    </tr>\n",
       "  </thead>\n",
       "  <tbody>\n",
       "    <tr>\n",
       "      <th>Q270316</th>\n",
       "      <td>21060</td>\n",
       "      <td>74</td>\n",
       "      <td>Q30</td>\n",
       "      <td>Q6581072</td>\n",
       "      <td>Q82955</td>\n",
       "    </tr>\n",
       "    <tr>\n",
       "      <th>Q1253</th>\n",
       "      <td>94704</td>\n",
       "      <td>77</td>\n",
       "      <td>Q884</td>\n",
       "      <td>Q6581097</td>\n",
       "      <td>Q82955</td>\n",
       "    </tr>\n",
       "  </tbody>\n",
       "</table>\n",
       "</div>"
      ],
      "text/plain": [
       "         n_quotes  age nationality    gender occupation\n",
       "Q270316     21060   74         Q30  Q6581072     Q82955\n",
       "Q1253       94704   77        Q884  Q6581097     Q82955"
      ]
     },
     "execution_count": 22,
     "metadata": {},
     "output_type": "execute_result"
    }
   ],
   "source": [
    "speakers_features_full = pd.DataFrame()\n",
    "speakers_features_full['n_quotes'] = speakers_features['n_quotes']\n",
    "speakers_features_full['age'] = speakers_features['age']\n",
    "\n",
    "for name, values in speakers_features.iteritems():\n",
    "    if name not in ['n_quotes', 'age']:\n",
    "        updated_values = []\n",
    "        for val in values:\n",
    "            #print(val)\n",
    "            # print(val.split(\"'\")[1])\n",
    "            if not val is None:\n",
    "                updated_values.append(val[0])\n",
    "            else:\n",
    "                updated_values.append(None)\n",
    "        speakers_features_full[name] = updated_values\n",
    "\n",
    "speakers_features_preprocessed = speakers_features_full.dropna(axis=0) # remove row if any column value is None\n",
    "print(speakers_features_preprocessed.shape)\n",
    "speakers_features_preprocessed.head(2)"
   ]
  },
  {
   "cell_type": "code",
   "execution_count": 23,
   "metadata": {},
   "outputs": [],
   "source": [
    "speakers_features_preprocessed.to_json('data\\\\clean_speakers.jsonl')"
   ]
  },
  {
   "cell_type": "code",
   "execution_count": 24,
   "metadata": {},
   "outputs": [
    {
     "name": "stdout",
     "output_type": "stream",
     "text": [
      "(326437, 5)\n"
     ]
    },
    {
     "data": {
      "text/html": [
       "<div>\n",
       "<style scoped>\n",
       "    .dataframe tbody tr th:only-of-type {\n",
       "        vertical-align: middle;\n",
       "    }\n",
       "\n",
       "    .dataframe tbody tr th {\n",
       "        vertical-align: top;\n",
       "    }\n",
       "\n",
       "    .dataframe thead th {\n",
       "        text-align: right;\n",
       "    }\n",
       "</style>\n",
       "<table border=\"1\" class=\"dataframe\">\n",
       "  <thead>\n",
       "    <tr style=\"text-align: right;\">\n",
       "      <th></th>\n",
       "      <th>n_quotes</th>\n",
       "      <th>age</th>\n",
       "      <th>nationality</th>\n",
       "      <th>gender</th>\n",
       "      <th>occupation</th>\n",
       "    </tr>\n",
       "  </thead>\n",
       "  <tbody>\n",
       "    <tr>\n",
       "      <th>Q270316</th>\n",
       "      <td>21060</td>\n",
       "      <td>74</td>\n",
       "      <td>Q30</td>\n",
       "      <td>Q6581072</td>\n",
       "      <td>Q82955</td>\n",
       "    </tr>\n",
       "    <tr>\n",
       "      <th>Q1253</th>\n",
       "      <td>94704</td>\n",
       "      <td>77</td>\n",
       "      <td>Q884</td>\n",
       "      <td>Q6581097</td>\n",
       "      <td>Q82955</td>\n",
       "    </tr>\n",
       "  </tbody>\n",
       "</table>\n",
       "</div>"
      ],
      "text/plain": [
       "         n_quotes  age nationality    gender occupation\n",
       "Q270316     21060   74         Q30  Q6581072     Q82955\n",
       "Q1253       94704   77        Q884  Q6581097     Q82955"
      ]
     },
     "execution_count": 24,
     "metadata": {},
     "output_type": "execute_result"
    }
   ],
   "source": [
    "speakers_features_final = speakers_features_preprocessed[(speakers_features_preprocessed.age > 0) \n",
    "                                                               & (speakers_features_preprocessed.age < 150) \n",
    "                                                               & (speakers_features_preprocessed.n_quotes > 5)]\n",
    "print(speakers_features_final.shape)\n",
    "speakers_features_final.head(2)"
   ]
  },
  {
   "cell_type": "code",
   "execution_count": 25,
   "metadata": {},
   "outputs": [],
   "source": [
    "speakers_features_final.to_json('data\\\\clean_speakers_5.jsonl')"
   ]
  },
  {
   "cell_type": "code",
   "execution_count": null,
   "metadata": {},
   "outputs": [],
   "source": [
    "df = pd.read_json('data\\\\clean_speakers_5.jsonl')\n",
    "print(df.shape)"
   ]
  },
  {
   "cell_type": "code",
   "execution_count": null,
   "metadata": {},
   "outputs": [
    {
     "data": {
      "text/plain": [
       "'male'"
      ]
     },
     "metadata": {},
     "output_type": "display_data"
    }
   ],
   "source": [
    "qid = 'Q6581097'\n",
    "get_entity_dict_from_api(qid)['labels']['en']['value']"
   ]
  },
  {
   "cell_type": "code",
   "execution_count": null,
   "metadata": {},
   "outputs": [
    {
     "data": {
      "text/html": [
       "<div>\n",
       "<style scoped>\n",
       "    .dataframe tbody tr th:only-of-type {\n",
       "        vertical-align: middle;\n",
       "    }\n",
       "\n",
       "    .dataframe tbody tr th {\n",
       "        vertical-align: top;\n",
       "    }\n",
       "\n",
       "    .dataframe thead th {\n",
       "        text-align: right;\n",
       "    }\n",
       "</style>\n",
       "<table border=\"1\" class=\"dataframe\">\n",
       "  <thead>\n",
       "    <tr style=\"text-align: right;\">\n",
       "      <th></th>\n",
       "      <th>qid</th>\n",
       "      <th>count</th>\n",
       "      <th>meaning</th>\n",
       "    </tr>\n",
       "  </thead>\n",
       "  <tbody>\n",
       "    <tr>\n",
       "      <th>0</th>\n",
       "      <td>Q82955</td>\n",
       "      <td>33781</td>\n",
       "      <td>politician</td>\n",
       "    </tr>\n",
       "    <tr>\n",
       "      <th>6</th>\n",
       "      <td>Q937857</td>\n",
       "      <td>29266</td>\n",
       "      <td>association football player</td>\n",
       "    </tr>\n",
       "    <tr>\n",
       "      <th>42</th>\n",
       "      <td>Q33999</td>\n",
       "      <td>21880</td>\n",
       "      <td>actor</td>\n",
       "    </tr>\n",
       "    <tr>\n",
       "      <th>7</th>\n",
       "      <td>Q19204627</td>\n",
       "      <td>10649</td>\n",
       "      <td>American football player</td>\n",
       "    </tr>\n",
       "    <tr>\n",
       "      <th>2</th>\n",
       "      <td>Q1930187</td>\n",
       "      <td>9077</td>\n",
       "      <td>journalist</td>\n",
       "    </tr>\n",
       "    <tr>\n",
       "      <th>19</th>\n",
       "      <td>Q177220</td>\n",
       "      <td>8616</td>\n",
       "      <td>singer</td>\n",
       "    </tr>\n",
       "    <tr>\n",
       "      <th>63</th>\n",
       "      <td>Q36180</td>\n",
       "      <td>8466</td>\n",
       "      <td>writer</td>\n",
       "    </tr>\n",
       "    <tr>\n",
       "      <th>11</th>\n",
       "      <td>Q3665646</td>\n",
       "      <td>7288</td>\n",
       "      <td>basketball player</td>\n",
       "    </tr>\n",
       "    <tr>\n",
       "      <th>26</th>\n",
       "      <td>Q10871364</td>\n",
       "      <td>6683</td>\n",
       "      <td>baseball player</td>\n",
       "    </tr>\n",
       "    <tr>\n",
       "      <th>14</th>\n",
       "      <td>Q11774891</td>\n",
       "      <td>6413</td>\n",
       "      <td>ice hockey player</td>\n",
       "    </tr>\n",
       "    <tr>\n",
       "      <th>27</th>\n",
       "      <td>Q12299841</td>\n",
       "      <td>6263</td>\n",
       "      <td>cricketer</td>\n",
       "    </tr>\n",
       "    <tr>\n",
       "      <th>4</th>\n",
       "      <td>Q2526255</td>\n",
       "      <td>4771</td>\n",
       "      <td>film director</td>\n",
       "    </tr>\n",
       "    <tr>\n",
       "      <th>23</th>\n",
       "      <td>Q40348</td>\n",
       "      <td>4639</td>\n",
       "      <td>lawyer</td>\n",
       "    </tr>\n",
       "    <tr>\n",
       "      <th>59</th>\n",
       "      <td>Q639669</td>\n",
       "      <td>4497</td>\n",
       "      <td>musician</td>\n",
       "    </tr>\n",
       "    <tr>\n",
       "      <th>35</th>\n",
       "      <td>Q43845</td>\n",
       "      <td>4202</td>\n",
       "      <td>businessperson</td>\n",
       "    </tr>\n",
       "    <tr>\n",
       "      <th>12</th>\n",
       "      <td>Q14089670</td>\n",
       "      <td>3663</td>\n",
       "      <td>rugby union player</td>\n",
       "    </tr>\n",
       "    <tr>\n",
       "      <th>48</th>\n",
       "      <td>Q11513337</td>\n",
       "      <td>3540</td>\n",
       "      <td>athletics competitor</td>\n",
       "    </tr>\n",
       "    <tr>\n",
       "      <th>33</th>\n",
       "      <td>Q2309784</td>\n",
       "      <td>3219</td>\n",
       "      <td>sport cyclist</td>\n",
       "    </tr>\n",
       "    <tr>\n",
       "      <th>40</th>\n",
       "      <td>Q36834</td>\n",
       "      <td>3214</td>\n",
       "      <td>composer</td>\n",
       "    </tr>\n",
       "    <tr>\n",
       "      <th>55</th>\n",
       "      <td>Q1028181</td>\n",
       "      <td>3031</td>\n",
       "      <td>painter</td>\n",
       "    </tr>\n",
       "  </tbody>\n",
       "</table>\n",
       "</div>"
      ],
      "text/plain": [
       "          qid  count                      meaning\n",
       "0      Q82955  33781                   politician\n",
       "6     Q937857  29266  association football player\n",
       "42     Q33999  21880                        actor\n",
       "7   Q19204627  10649     American football player\n",
       "2    Q1930187   9077                   journalist\n",
       "19    Q177220   8616                       singer\n",
       "63     Q36180   8466                       writer\n",
       "11   Q3665646   7288            basketball player\n",
       "26  Q10871364   6683              baseball player\n",
       "14  Q11774891   6413            ice hockey player\n",
       "27  Q12299841   6263                    cricketer\n",
       "4    Q2526255   4771                film director\n",
       "23     Q40348   4639                       lawyer\n",
       "59    Q639669   4497                     musician\n",
       "35     Q43845   4202               businessperson\n",
       "12  Q14089670   3663           rugby union player\n",
       "48  Q11513337   3540         athletics competitor\n",
       "33   Q2309784   3219                sport cyclist\n",
       "40     Q36834   3214                     composer\n",
       "55   Q1028181   3031                      painter"
      ]
     },
     "metadata": {},
     "output_type": "display_data"
    }
   ],
   "source": [
    "ctr = Counter(df['occupation'])\n",
    "relevant_occupations = pd.DataFrame.from_dict(ctr, orient='index').reset_index().rename(columns={'index': 'qid', 0: 'count'}).sort_values('count', ascending=False)[0:100]\n",
    "relevant_occupations['meaning'] = relevant_occupations['qid'].apply(lambda s: get_entity_dict_from_api(s)['labels']['en']['value'])\n",
    "relevant_occupations.head(20)"
   ]
  },
  {
   "cell_type": "code",
   "execution_count": null,
   "metadata": {},
   "outputs": [],
   "source": [
    "tqdm.pandas()\n",
    "# association football player, American football player, basketball player, ice hockey player, cricketer, baseball player, rugby union player, athletics competitor, sport cyclist\n",
    "sports = {'Q937857', 'Q19204627', 'Q3665646', 'Q11774891', 'Q12299841', 'Q10871364', 'Q14089670', 'Q11513337', 'Q2309784'}\n",
    "# actor, singer, film director, musician, singer-songwriter, screenwriter, composer, painter\n",
    "culture = {'Q33999', 'Q177220', 'Q2526255', 'Q639669', 'Q488205', 'Q28389', 'Q36834', 'Q1028181'}\n",
    "# journalist, writer, economist, lawyer\n",
    "academy = {'Q1930187', 'Q36180', 'Q188094', 'Q40348'}\n",
    "df['politics'] = df['occupation'].apply(lambda x: 1 if x=='Q82955' else 0)\n",
    "df['sport'] = df['occupation'].apply(lambda x: 1 if x in sports else 0)\n",
    "df['culture'] = df['occupation'].apply(lambda x: 1 if x in culture else 0)\n",
    "df['academic'] = df['occupation'].apply(lambda x: 1 if x in academy else 0)\n",
    "df['gender'] = df['gender'].apply(lambda x: 'male' if x=='Q6581097' else 'female' if x=='Q6581072' else 0)\n",
    "df.drop(columns=['occupation'], inplace=True)"
   ]
  },
  {
   "cell_type": "code",
   "execution_count": null,
   "metadata": {},
   "outputs": [
    {
     "data": {
      "text/html": [
       "<div>\n",
       "<style scoped>\n",
       "    .dataframe tbody tr th:only-of-type {\n",
       "        vertical-align: middle;\n",
       "    }\n",
       "\n",
       "    .dataframe tbody tr th {\n",
       "        vertical-align: top;\n",
       "    }\n",
       "\n",
       "    .dataframe thead th {\n",
       "        text-align: right;\n",
       "    }\n",
       "</style>\n",
       "<table border=\"1\" class=\"dataframe\">\n",
       "  <thead>\n",
       "    <tr style=\"text-align: right;\">\n",
       "      <th></th>\n",
       "      <th>qid</th>\n",
       "      <th>count</th>\n",
       "      <th>meaning</th>\n",
       "    </tr>\n",
       "  </thead>\n",
       "  <tbody>\n",
       "    <tr>\n",
       "      <th>0</th>\n",
       "      <td>Q30</td>\n",
       "      <td>117674</td>\n",
       "      <td>United States of America</td>\n",
       "    </tr>\n",
       "    <tr>\n",
       "      <th>3</th>\n",
       "      <td>Q145</td>\n",
       "      <td>40031</td>\n",
       "      <td>United Kingdom</td>\n",
       "    </tr>\n",
       "    <tr>\n",
       "      <th>9</th>\n",
       "      <td>Q16</td>\n",
       "      <td>18202</td>\n",
       "      <td>Canada</td>\n",
       "    </tr>\n",
       "    <tr>\n",
       "      <th>2</th>\n",
       "      <td>Q408</td>\n",
       "      <td>14889</td>\n",
       "      <td>Australia</td>\n",
       "    </tr>\n",
       "    <tr>\n",
       "      <th>5</th>\n",
       "      <td>Q183</td>\n",
       "      <td>11361</td>\n",
       "      <td>Germany</td>\n",
       "    </tr>\n",
       "  </tbody>\n",
       "</table>\n",
       "</div>"
      ],
      "text/plain": [
       "    qid   count                   meaning\n",
       "0   Q30  117674  United States of America\n",
       "3  Q145   40031            United Kingdom\n",
       "9   Q16   18202                    Canada\n",
       "2  Q408   14889                 Australia\n",
       "5  Q183   11361                   Germany"
      ]
     },
     "metadata": {},
     "output_type": "display_data"
    }
   ],
   "source": [
    "ctr = Counter(df['nationality'])\n",
    "relevant_nationality = pd.DataFrame.from_dict(ctr, orient='index').reset_index().rename(columns={'index': 'qid', 0: 'count'}).sort_values('count', ascending=False)[0:20]\n",
    "relevant_nationality['meaning'] = relevant_nationality['qid'].apply(lambda s: get_entity_dict_from_api(s)['labels']['en']['value'])\n",
    "relevant_nationality.head(5)"
   ]
  },
  {
   "cell_type": "code",
   "execution_count": null,
   "metadata": {},
   "outputs": [],
   "source": [
    "df['nationality'] = df['nationality'].apply(lambda s: relevant_nationality.loc[relevant_nationality['qid']==s].meaning.values[0] if s in relevant_nationality.qid.values else 'Other')"
   ]
  },
  {
   "cell_type": "code",
   "execution_count": null,
   "metadata": {},
   "outputs": [
    {
     "data": {
      "text/html": [
       "<div>\n",
       "<style scoped>\n",
       "    .dataframe tbody tr th:only-of-type {\n",
       "        vertical-align: middle;\n",
       "    }\n",
       "\n",
       "    .dataframe tbody tr th {\n",
       "        vertical-align: top;\n",
       "    }\n",
       "\n",
       "    .dataframe thead th {\n",
       "        text-align: right;\n",
       "    }\n",
       "</style>\n",
       "<table border=\"1\" class=\"dataframe\">\n",
       "  <thead>\n",
       "    <tr style=\"text-align: right;\">\n",
       "      <th></th>\n",
       "      <th>n_quotes</th>\n",
       "      <th>age</th>\n",
       "      <th>nationality</th>\n",
       "      <th>gender</th>\n",
       "      <th>politics</th>\n",
       "      <th>sport</th>\n",
       "      <th>culture</th>\n",
       "      <th>academic</th>\n",
       "    </tr>\n",
       "  </thead>\n",
       "  <tbody>\n",
       "    <tr>\n",
       "      <th>Q270316</th>\n",
       "      <td>21060</td>\n",
       "      <td>74</td>\n",
       "      <td>United States of America</td>\n",
       "      <td>female</td>\n",
       "      <td>1</td>\n",
       "      <td>0</td>\n",
       "      <td>0</td>\n",
       "      <td>0</td>\n",
       "    </tr>\n",
       "    <tr>\n",
       "      <th>Q1253</th>\n",
       "      <td>94704</td>\n",
       "      <td>77</td>\n",
       "      <td>Other</td>\n",
       "      <td>male</td>\n",
       "      <td>1</td>\n",
       "      <td>0</td>\n",
       "      <td>0</td>\n",
       "      <td>0</td>\n",
       "    </tr>\n",
       "    <tr>\n",
       "      <th>Q19874690</th>\n",
       "      <td>1207</td>\n",
       "      <td>62</td>\n",
       "      <td>Australia</td>\n",
       "      <td>male</td>\n",
       "      <td>0</td>\n",
       "      <td>0</td>\n",
       "      <td>0</td>\n",
       "      <td>0</td>\n",
       "    </tr>\n",
       "    <tr>\n",
       "      <th>Q5271548</th>\n",
       "      <td>1587</td>\n",
       "      <td>83</td>\n",
       "      <td>United States of America</td>\n",
       "      <td>female</td>\n",
       "      <td>0</td>\n",
       "      <td>0</td>\n",
       "      <td>0</td>\n",
       "      <td>1</td>\n",
       "    </tr>\n",
       "    <tr>\n",
       "      <th>Q2287947</th>\n",
       "      <td>132971</td>\n",
       "      <td>28</td>\n",
       "      <td>United States of America</td>\n",
       "      <td>male</td>\n",
       "      <td>0</td>\n",
       "      <td>0</td>\n",
       "      <td>0</td>\n",
       "      <td>0</td>\n",
       "    </tr>\n",
       "  </tbody>\n",
       "</table>\n",
       "</div>"
      ],
      "text/plain": [
       "           n_quotes  age               nationality  gender  politics  sport  \\\n",
       "Q270316       21060   74  United States of America  female         1      0   \n",
       "Q1253         94704   77                     Other    male         1      0   \n",
       "Q19874690      1207   62                 Australia    male         0      0   \n",
       "Q5271548       1587   83  United States of America  female         0      0   \n",
       "Q2287947     132971   28  United States of America    male         0      0   \n",
       "\n",
       "           culture  academic  \n",
       "Q270316          0         0  \n",
       "Q1253            0         0  \n",
       "Q19874690        0         0  \n",
       "Q5271548         0         1  \n",
       "Q2287947         0         0  "
      ]
     },
     "metadata": {},
     "output_type": "display_data"
    }
   ],
   "source": [
    "df.head()"
   ]
  },
  {
   "cell_type": "code",
   "execution_count": null,
   "metadata": {},
   "outputs": [],
   "source": [
    "df.to_json('data\\\\nice_df_speakers.jsonl')"
   ]
  }
 ],
 "metadata": {
  "interpreter": {
   "hash": "4369559244255f10d34bca352df9b3f8794934e60b17f3451fa3b0f2f96527a8"
  },
  "kernelspec": {
   "display_name": "Python 3.8.8 64-bit ('base': conda)",
   "language": "python",
   "name": "python3"
  },
  "language_info": {
   "codemirror_mode": {
    "name": "ipython",
    "version": 3
   },
   "file_extension": ".py",
   "mimetype": "text/x-python",
   "name": "python",
   "nbconvert_exporter": "python",
   "pygments_lexer": "ipython3",
   "version": "3.8.8"
  },
  "orig_nbformat": 4
 },
 "nbformat": 4,
 "nbformat_minor": 2
}
