{
 "cells": [
  {
   "cell_type": "code",
   "execution_count": 1,
   "metadata": {},
   "outputs": [],
   "source": [
    "import pandas as pd\n",
    "import numpy as np\n",
    "import matplotlib.pyplot as plt\n",
    "from qwikidata.linked_data_interface import get_entity_dict_from_api\n",
    "from qwikidata.entity import WikidataItem\n",
    "import itertools\n",
    "from collections import Counter\n",
    "from tqdm.notebook import tqdm\n",
    "\n",
    "from datetime import datetime\n",
    "\n",
    " \n",
    "pd.options.plotting.backend = \"plotly\""
   ]
  },
  {
   "cell_type": "code",
   "execution_count": 2,
   "metadata": {},
   "outputs": [
    {
     "name": "stdout",
     "output_type": "stream",
     "text": [
      "(326437, 5)\n"
     ]
    },
    {
     "data": {
      "text/html": [
       "<div>\n",
       "<style scoped>\n",
       "    .dataframe tbody tr th:only-of-type {\n",
       "        vertical-align: middle;\n",
       "    }\n",
       "\n",
       "    .dataframe tbody tr th {\n",
       "        vertical-align: top;\n",
       "    }\n",
       "\n",
       "    .dataframe thead th {\n",
       "        text-align: right;\n",
       "    }\n",
       "</style>\n",
       "<table border=\"1\" class=\"dataframe\">\n",
       "  <thead>\n",
       "    <tr style=\"text-align: right;\">\n",
       "      <th></th>\n",
       "      <th>n_quotes</th>\n",
       "      <th>age</th>\n",
       "      <th>nationality</th>\n",
       "      <th>gender</th>\n",
       "      <th>occupation</th>\n",
       "    </tr>\n",
       "  </thead>\n",
       "  <tbody>\n",
       "    <tr>\n",
       "      <th>Q270316</th>\n",
       "      <td>21060</td>\n",
       "      <td>74</td>\n",
       "      <td>Q30</td>\n",
       "      <td>Q6581072</td>\n",
       "      <td>Q82955</td>\n",
       "    </tr>\n",
       "    <tr>\n",
       "      <th>Q1253</th>\n",
       "      <td>94704</td>\n",
       "      <td>77</td>\n",
       "      <td>Q884</td>\n",
       "      <td>Q6581097</td>\n",
       "      <td>Q82955</td>\n",
       "    </tr>\n",
       "  </tbody>\n",
       "</table>\n",
       "</div>"
      ],
      "text/plain": [
       "         n_quotes  age nationality    gender occupation\n",
       "Q270316     21060   74         Q30  Q6581072     Q82955\n",
       "Q1253       94704   77        Q884  Q6581097     Q82955"
      ]
     },
     "execution_count": 2,
     "metadata": {},
     "output_type": "execute_result"
    }
   ],
   "source": [
    "df = pd.read_json('data\\\\clean_speakers_5.jsonl')\n",
    "print(df.shape)\n",
    "df.head(2)"
   ]
  },
  {
   "cell_type": "code",
   "execution_count": 3,
   "metadata": {},
   "outputs": [],
   "source": [
    "df_male = df[df['gender']=='Q6581097']\n",
    "df_female = df[df['gender']=='Q6581072']"
   ]
  },
  {
   "cell_type": "code",
   "execution_count": 4,
   "metadata": {},
   "outputs": [
    {
     "data": {
      "text/html": [
       "<div>\n",
       "<style scoped>\n",
       "    .dataframe tbody tr th:only-of-type {\n",
       "        vertical-align: middle;\n",
       "    }\n",
       "\n",
       "    .dataframe tbody tr th {\n",
       "        vertical-align: top;\n",
       "    }\n",
       "\n",
       "    .dataframe thead th {\n",
       "        text-align: right;\n",
       "    }\n",
       "</style>\n",
       "<table border=\"1\" class=\"dataframe\">\n",
       "  <thead>\n",
       "    <tr style=\"text-align: right;\">\n",
       "      <th></th>\n",
       "      <th>qid</th>\n",
       "      <th>count</th>\n",
       "      <th>meaning</th>\n",
       "    </tr>\n",
       "  </thead>\n",
       "  <tbody>\n",
       "    <tr>\n",
       "      <th>0</th>\n",
       "      <td>Q82955</td>\n",
       "      <td>33781</td>\n",
       "      <td>politician</td>\n",
       "    </tr>\n",
       "    <tr>\n",
       "      <th>6</th>\n",
       "      <td>Q937857</td>\n",
       "      <td>29266</td>\n",
       "      <td>association football player</td>\n",
       "    </tr>\n",
       "    <tr>\n",
       "      <th>42</th>\n",
       "      <td>Q33999</td>\n",
       "      <td>21880</td>\n",
       "      <td>actor</td>\n",
       "    </tr>\n",
       "    <tr>\n",
       "      <th>7</th>\n",
       "      <td>Q19204627</td>\n",
       "      <td>10649</td>\n",
       "      <td>American football player</td>\n",
       "    </tr>\n",
       "    <tr>\n",
       "      <th>2</th>\n",
       "      <td>Q1930187</td>\n",
       "      <td>9077</td>\n",
       "      <td>journalist</td>\n",
       "    </tr>\n",
       "    <tr>\n",
       "      <th>19</th>\n",
       "      <td>Q177220</td>\n",
       "      <td>8616</td>\n",
       "      <td>singer</td>\n",
       "    </tr>\n",
       "    <tr>\n",
       "      <th>63</th>\n",
       "      <td>Q36180</td>\n",
       "      <td>8466</td>\n",
       "      <td>writer</td>\n",
       "    </tr>\n",
       "    <tr>\n",
       "      <th>11</th>\n",
       "      <td>Q3665646</td>\n",
       "      <td>7288</td>\n",
       "      <td>basketball player</td>\n",
       "    </tr>\n",
       "    <tr>\n",
       "      <th>26</th>\n",
       "      <td>Q10871364</td>\n",
       "      <td>6683</td>\n",
       "      <td>baseball player</td>\n",
       "    </tr>\n",
       "    <tr>\n",
       "      <th>14</th>\n",
       "      <td>Q11774891</td>\n",
       "      <td>6413</td>\n",
       "      <td>ice hockey player</td>\n",
       "    </tr>\n",
       "  </tbody>\n",
       "</table>\n",
       "</div>"
      ],
      "text/plain": [
       "          qid  count                      meaning\n",
       "0      Q82955  33781                   politician\n",
       "6     Q937857  29266  association football player\n",
       "42     Q33999  21880                        actor\n",
       "7   Q19204627  10649     American football player\n",
       "2    Q1930187   9077                   journalist\n",
       "19    Q177220   8616                       singer\n",
       "63     Q36180   8466                       writer\n",
       "11   Q3665646   7288            basketball player\n",
       "26  Q10871364   6683              baseball player\n",
       "14  Q11774891   6413            ice hockey player"
      ]
     },
     "execution_count": 4,
     "metadata": {},
     "output_type": "execute_result"
    }
   ],
   "source": [
    "ctr = Counter(df['occupation'])\n",
    "relevant_occupations = pd.DataFrame.from_dict(ctr, orient='index').reset_index().rename(columns={'index': 'qid', 0: 'count'}).sort_values('count', ascending=False)[0:10]\n",
    "relevant_occupations['meaning'] = relevant_occupations['qid'].apply(lambda s: get_entity_dict_from_api(s)['labels']['en']['value'])\n",
    "relevant_occupations.head(10)"
   ]
  },
  {
   "cell_type": "code",
   "execution_count": 5,
   "metadata": {},
   "outputs": [],
   "source": [
    "relevant_occupations['count'] = relevant_occupations['count'].divide(len(df))\n",
    "relevant_occupations = relevant_occupations.sort_values('count', ascending=True)\n",
    "relevant_occupations['meaning'] = relevant_occupations['meaning'].map(lambda x: x.capitalize())"
   ]
  },
  {
   "cell_type": "code",
   "execution_count": 18,
   "metadata": {},
   "outputs": [
    {
     "data": {
      "application/vnd.plotly.v1+json": {
       "config": {
        "plotlyServerURL": "https://plot.ly"
       },
       "data": [
        {
         "marker": {
          "color": "rgba(30,144,255, 0.8)",
          "line": {
           "color": "rgba(30,144,255, 1.0)",
           "width": 1
          }
         },
         "name": "Top 10 occupations in Quotebank's speakers",
         "orientation": "h",
         "type": "bar",
         "x": [
          1.9645444603399738,
          2.0472556726106412,
          2.2325900556615825,
          2.593456011420274,
          2.6394066849039786,
          2.7806284214105634,
          3.262191479519785,
          6.702671572156342,
          8.965282734493945,
          10.348398006353445
         ],
         "y": [
          "Ice hockey player",
          "Baseball player",
          "Basketball player",
          "Writer",
          "Singer",
          "Journalist",
          "American football player",
          "Actor",
          "Association football player",
          "Politician"
         ]
        }
       ],
       "layout": {
        "annotations": [
         {
          "font": {
           "color": "rgb(30,144,255)",
           "family": "Nunito",
           "size": 14
          },
          "showarrow": false,
          "text": "1.96%",
          "x": 2.96,
          "xref": "x",
          "y": "Ice hockey player",
          "yref": "y"
         },
         {
          "font": {
           "color": "rgb(30,144,255)",
           "family": "Nunito",
           "size": 14
          },
          "showarrow": false,
          "text": "2.05%",
          "x": 3.05,
          "xref": "x",
          "y": "Baseball player",
          "yref": "y"
         },
         {
          "font": {
           "color": "rgb(30,144,255)",
           "family": "Nunito",
           "size": 14
          },
          "showarrow": false,
          "text": "2.23%",
          "x": 3.23,
          "xref": "x",
          "y": "Basketball player",
          "yref": "y"
         },
         {
          "font": {
           "color": "rgb(30,144,255)",
           "family": "Nunito",
           "size": 14
          },
          "showarrow": false,
          "text": "2.59%",
          "x": 3.59,
          "xref": "x",
          "y": "Writer",
          "yref": "y"
         },
         {
          "font": {
           "color": "rgb(30,144,255)",
           "family": "Nunito",
           "size": 14
          },
          "showarrow": false,
          "text": "2.64%",
          "x": 3.64,
          "xref": "x",
          "y": "Singer",
          "yref": "y"
         },
         {
          "font": {
           "color": "rgb(30,144,255)",
           "family": "Nunito",
           "size": 14
          },
          "showarrow": false,
          "text": "2.78%",
          "x": 3.78,
          "xref": "x",
          "y": "Journalist",
          "yref": "y"
         },
         {
          "font": {
           "color": "rgb(30,144,255)",
           "family": "Nunito",
           "size": 14
          },
          "showarrow": false,
          "text": "3.26%",
          "x": 4.26,
          "xref": "x",
          "y": "American football player",
          "yref": "y"
         },
         {
          "font": {
           "color": "rgb(30,144,255)",
           "family": "Nunito",
           "size": 14
          },
          "showarrow": false,
          "text": "6.7%",
          "x": 7.7,
          "xref": "x",
          "y": "Actor",
          "yref": "y"
         },
         {
          "font": {
           "color": "rgb(30,144,255)",
           "family": "Nunito",
           "size": 14
          },
          "showarrow": false,
          "text": "8.97%",
          "x": 9.97,
          "xref": "x",
          "y": "Association football player",
          "yref": "y"
         },
         {
          "font": {
           "color": "rgb(30,144,255)",
           "family": "Nunito",
           "size": 14
          },
          "showarrow": false,
          "text": "10.35%",
          "x": 11.35,
          "xref": "x",
          "y": "Politician",
          "yref": "y"
         }
        ],
        "autosize": false,
        "font": {
         "family": "Nunito"
        },
        "height": 500,
        "legend": {
         "font": {
          "size": 13
         },
         "x": 0.029,
         "y": 1.038
        },
        "margin": {
         "b": 70,
         "l": 100,
         "r": 20,
         "t": 70
        },
        "template": {},
        "title": {
         "text": "Top 10 occupations in Quotebank's speakers"
        },
        "width": 1000,
        "xaxis": {
         "domain": [
          0.15,
          0.9
         ],
         "showgrid": false,
         "showline": false,
         "showticklabels": false,
         "zeroline": false
        },
        "yaxis": {
         "domain": [
          0,
          0.95
         ],
         "showgrid": false,
         "showline": false,
         "showticklabels": true,
         "tickfont": {
          "family": "Nunito",
          "size": 14
         },
         "ticksuffix": "  "
        }
       }
      }
     },
     "metadata": {},
     "output_type": "display_data"
    }
   ],
   "source": [
    "import plotly.graph_objects as go\n",
    "from plotly.subplots import make_subplots\n",
    "\n",
    "import numpy as np\n",
    "\n",
    "y_saving = (relevant_occupations['count']*100).tolist()\n",
    "\n",
    "x = relevant_occupations['meaning'].tolist()\n",
    "\n",
    "\n",
    "# Creating two subplots\n",
    "fig = go.Figure()\n",
    "\n",
    "fig.add_trace(go.Bar(\n",
    "    x=y_saving,\n",
    "    y=x,\n",
    "    marker=dict(\n",
    "        color='rgba(30,144,255, 0.8)',\n",
    "        line=dict(\n",
    "        color='rgba(30,144,255, 1.0)',\n",
    "        width=1),\n",
    "    ),\n",
    "    name='Top 10 occupations in Quotebank\\'s speakers',\n",
    "    orientation='h',\n",
    "))\n",
    "\n",
    "fig.update_layout(\n",
    "    autosize=False,\n",
    "    width=1000,\n",
    "    height=500,\n",
    "    title='Top 10 occupations in Quotebank\\'s speakers',\n",
    "    yaxis=dict(\n",
    "        showgrid=False,\n",
    "        showline=False,\n",
    "        showticklabels=True,\n",
    "        domain=[0, 0.95],\n",
    "        ticksuffix=\"  \",\n",
    "        tickfont=dict(family='Nunito', size=14),\n",
    "    ),\n",
    "    xaxis=dict(\n",
    "        zeroline=False,\n",
    "        showline=False,\n",
    "        showticklabels=False,\n",
    "        showgrid=False,\n",
    "        domain=[0.15, 0.9],\n",
    "    ),\n",
    "    legend=dict(x=0.029, y=1.038, font_size=13),\n",
    "    margin=dict(l=100, r=20, t=70, b=70),\n",
    "    template=None,\n",
    "    font_family='Nunito',\n",
    ")\n",
    "\n",
    "annotations = []\n",
    "\n",
    "y_s = np.round(y_saving, decimals=2)\n",
    "\n",
    "# Adding labels\n",
    "for yd, xd in zip(y_s, x):\n",
    "    # labeling the bar net worth\n",
    "    annotations.append(dict(xref='x1', yref='y1',\n",
    "                            y=xd, x=yd + 1.0,\n",
    "                            text=str(yd) + '%',\n",
    "                            font=dict(family='Nunito', size=14,\n",
    "                                      color='rgb(30,144,255)'),\n",
    "                            showarrow=False))\n",
    "\n",
    "fig.update_layout(annotations=annotations)\n",
    "\n",
    "fig.show()"
   ]
  },
  {
   "cell_type": "code",
   "execution_count": 7,
   "metadata": {},
   "outputs": [
    {
     "data": {
      "text/html": [
       "<div>\n",
       "<style scoped>\n",
       "    .dataframe tbody tr th:only-of-type {\n",
       "        vertical-align: middle;\n",
       "    }\n",
       "\n",
       "    .dataframe tbody tr th {\n",
       "        vertical-align: top;\n",
       "    }\n",
       "\n",
       "    .dataframe thead th {\n",
       "        text-align: right;\n",
       "    }\n",
       "</style>\n",
       "<table border=\"1\" class=\"dataframe\">\n",
       "  <thead>\n",
       "    <tr style=\"text-align: right;\">\n",
       "      <th></th>\n",
       "      <th>qid</th>\n",
       "      <th>count</th>\n",
       "      <th>meaning</th>\n",
       "    </tr>\n",
       "  </thead>\n",
       "  <tbody>\n",
       "    <tr>\n",
       "      <th>53</th>\n",
       "      <td>Q36180</td>\n",
       "      <td>0.021606</td>\n",
       "      <td>Writer</td>\n",
       "    </tr>\n",
       "    <tr>\n",
       "      <th>23</th>\n",
       "      <td>Q12299841</td>\n",
       "      <td>0.022898</td>\n",
       "      <td>Cricketer</td>\n",
       "    </tr>\n",
       "    <tr>\n",
       "      <th>11</th>\n",
       "      <td>Q11774891</td>\n",
       "      <td>0.024293</td>\n",
       "      <td>Ice hockey player</td>\n",
       "    </tr>\n",
       "    <tr>\n",
       "      <th>13</th>\n",
       "      <td>Q1930187</td>\n",
       "      <td>0.024721</td>\n",
       "      <td>Journalist</td>\n",
       "    </tr>\n",
       "    <tr>\n",
       "      <th>8</th>\n",
       "      <td>Q3665646</td>\n",
       "      <td>0.024729</td>\n",
       "      <td>Basketball player</td>\n",
       "    </tr>\n",
       "    <tr>\n",
       "      <th>22</th>\n",
       "      <td>Q10871364</td>\n",
       "      <td>0.026152</td>\n",
       "      <td>Baseball player</td>\n",
       "    </tr>\n",
       "    <tr>\n",
       "      <th>5</th>\n",
       "      <td>Q19204627</td>\n",
       "      <td>0.042082</td>\n",
       "      <td>American football player</td>\n",
       "    </tr>\n",
       "    <tr>\n",
       "      <th>36</th>\n",
       "      <td>Q33999</td>\n",
       "      <td>0.046136</td>\n",
       "      <td>Actor</td>\n",
       "    </tr>\n",
       "    <tr>\n",
       "      <th>0</th>\n",
       "      <td>Q82955</td>\n",
       "      <td>0.104647</td>\n",
       "      <td>Politician</td>\n",
       "    </tr>\n",
       "    <tr>\n",
       "      <th>4</th>\n",
       "      <td>Q937857</td>\n",
       "      <td>0.109527</td>\n",
       "      <td>Association football player</td>\n",
       "    </tr>\n",
       "  </tbody>\n",
       "</table>\n",
       "</div>"
      ],
      "text/plain": [
       "          qid     count                      meaning\n",
       "53     Q36180  0.021606                       Writer\n",
       "23  Q12299841  0.022898                    Cricketer\n",
       "11  Q11774891  0.024293            Ice hockey player\n",
       "13   Q1930187  0.024721                   Journalist\n",
       "8    Q3665646  0.024729            Basketball player\n",
       "22  Q10871364  0.026152              Baseball player\n",
       "5   Q19204627  0.042082     American football player\n",
       "36     Q33999  0.046136                        Actor\n",
       "0      Q82955  0.104647                   Politician\n",
       "4     Q937857  0.109527  Association football player"
      ]
     },
     "execution_count": 7,
     "metadata": {},
     "output_type": "execute_result"
    }
   ],
   "source": [
    "ctr = Counter(df_male['occupation'])\n",
    "relevant_occupations_male = pd.DataFrame.from_dict(ctr, orient='index').reset_index().rename(columns={'index': 'qid', 0: 'count'}).sort_values('count', ascending=False)[0:10]\n",
    "relevant_occupations_male['meaning'] = relevant_occupations_male['qid'].apply(lambda s: get_entity_dict_from_api(s)['labels']['en']['value'])\n",
    "relevant_occupations_male['count'] = relevant_occupations_male['count'].divide(len(df_male))\n",
    "relevant_occupations_male = relevant_occupations_male.sort_values('count', ascending=True)\n",
    "relevant_occupations_male['meaning'] = relevant_occupations_male['meaning'].map(lambda x: x.capitalize())\n",
    "relevant_occupations_male.head(10)"
   ]
  },
  {
   "cell_type": "code",
   "execution_count": 19,
   "metadata": {},
   "outputs": [
    {
     "data": {
      "application/vnd.plotly.v1+json": {
       "config": {
        "plotlyServerURL": "https://plot.ly"
       },
       "data": [
        {
         "marker": {
          "color": "rgba(0,43,226, 0.8)",
          "line": {
           "color": "rgba(0,43,226, 1.0)",
           "width": 1
          }
         },
         "name": "Top 10 male occupations in Quotebank's speakers",
         "orientation": "h",
         "type": "bar",
         "x": [
          2.1605660040825225,
          2.2897798212410074,
          2.4292990348599854,
          2.472106066311263,
          2.472898789115916,
          2.61519253255118,
          4.208169008501953,
          4.613646723082106,
          10.464733744227987,
          10.952654630492082
         ],
         "y": [
          "Writer",
          "Cricketer",
          "Ice hockey player",
          "Journalist",
          "Basketball player",
          "Baseball player",
          "American football player",
          "Actor",
          "Politician",
          "Association football player"
         ]
        }
       ],
       "layout": {
        "annotations": [
         {
          "font": {
           "color": "rgb(0,43,226)",
           "family": "Nunito",
           "size": 14
          },
          "showarrow": false,
          "text": "2.16%",
          "x": 3.46,
          "xref": "x",
          "y": "Writer",
          "yref": "y"
         },
         {
          "font": {
           "color": "rgb(0,43,226)",
           "family": "Nunito",
           "size": 14
          },
          "showarrow": false,
          "text": "2.29%",
          "x": 3.59,
          "xref": "x",
          "y": "Cricketer",
          "yref": "y"
         },
         {
          "font": {
           "color": "rgb(0,43,226)",
           "family": "Nunito",
           "size": 14
          },
          "showarrow": false,
          "text": "2.43%",
          "x": 3.7300000000000004,
          "xref": "x",
          "y": "Ice hockey player",
          "yref": "y"
         },
         {
          "font": {
           "color": "rgb(0,43,226)",
           "family": "Nunito",
           "size": 14
          },
          "showarrow": false,
          "text": "2.47%",
          "x": 3.7700000000000005,
          "xref": "x",
          "y": "Journalist",
          "yref": "y"
         },
         {
          "font": {
           "color": "rgb(0,43,226)",
           "family": "Nunito",
           "size": 14
          },
          "showarrow": false,
          "text": "2.47%",
          "x": 3.7700000000000005,
          "xref": "x",
          "y": "Basketball player",
          "yref": "y"
         },
         {
          "font": {
           "color": "rgb(0,43,226)",
           "family": "Nunito",
           "size": 14
          },
          "showarrow": false,
          "text": "2.62%",
          "x": 3.92,
          "xref": "x",
          "y": "Baseball player",
          "yref": "y"
         },
         {
          "font": {
           "color": "rgb(0,43,226)",
           "family": "Nunito",
           "size": 14
          },
          "showarrow": false,
          "text": "4.21%",
          "x": 5.51,
          "xref": "x",
          "y": "American football player",
          "yref": "y"
         },
         {
          "font": {
           "color": "rgb(0,43,226)",
           "family": "Nunito",
           "size": 14
          },
          "showarrow": false,
          "text": "4.61%",
          "x": 5.91,
          "xref": "x",
          "y": "Actor",
          "yref": "y"
         },
         {
          "font": {
           "color": "rgb(0,43,226)",
           "family": "Nunito",
           "size": 14
          },
          "showarrow": false,
          "text": "10.46%",
          "x": 11.760000000000002,
          "xref": "x",
          "y": "Politician",
          "yref": "y"
         },
         {
          "font": {
           "color": "rgb(0,43,226)",
           "family": "Nunito",
           "size": 14
          },
          "showarrow": false,
          "text": "10.95%",
          "x": 12.25,
          "xref": "x",
          "y": "Association football player",
          "yref": "y"
         }
        ],
        "autosize": false,
        "font": {
         "family": "Nunito"
        },
        "height": 500,
        "legend": {
         "font": {
          "size": 13
         },
         "x": 0.029,
         "y": 1.038
        },
        "margin": {
         "b": 70,
         "l": 100,
         "r": 20,
         "t": 70
        },
        "template": {},
        "title": {
         "text": "Top 10 occupations for males"
        },
        "width": 1000,
        "xaxis": {
         "domain": [
          0.15,
          0.9
         ],
         "showgrid": false,
         "showline": false,
         "showticklabels": false,
         "zeroline": false
        },
        "yaxis": {
         "domain": [
          0,
          0.95
         ],
         "showgrid": false,
         "showline": false,
         "showticklabels": true,
         "tickfont": {
          "family": "Nunito",
          "size": 14
         },
         "ticksuffix": "  "
        }
       }
      }
     },
     "metadata": {},
     "output_type": "display_data"
    }
   ],
   "source": [
    "import plotly.graph_objects as go\n",
    "from plotly.subplots import make_subplots\n",
    "\n",
    "import numpy as np\n",
    "\n",
    "y_saving = (relevant_occupations_male['count']*100).tolist()\n",
    "\n",
    "x = relevant_occupations_male['meaning'].tolist()\n",
    "\n",
    "\n",
    "# Creating two subplots\n",
    "fig = go.Figure()\n",
    "\n",
    "fig.add_trace(go.Bar(\n",
    "    x=y_saving,\n",
    "    y=x,\n",
    "    marker=dict(\n",
    "        color='rgba(0,43,226, 0.8)',\n",
    "        line=dict(\n",
    "        color='rgba(0,43,226, 1.0)',\n",
    "        width=1),\n",
    "    ),\n",
    "    name='Top 10 male occupations in Quotebank\\'s speakers',\n",
    "    orientation='h',\n",
    "))\n",
    "\n",
    "fig.update_layout(\n",
    "    autosize=False,\n",
    "    width=1000,\n",
    "    height=500,\n",
    "    title='Top 10 occupations for males',\n",
    "    yaxis=dict(\n",
    "        showgrid=False,\n",
    "        showline=False,\n",
    "        showticklabels=True,\n",
    "        domain=[0, 0.95],\n",
    "        ticksuffix=\"  \",\n",
    "        tickfont=dict(family='Nunito', size=14),\n",
    "    ),\n",
    "    xaxis=dict(\n",
    "        zeroline=False,\n",
    "        showline=False,\n",
    "        showticklabels=False,\n",
    "        showgrid=False,\n",
    "        domain=[0.15, 0.9],\n",
    "    ),\n",
    "    legend=dict(x=0.029, y=1.038, font_size=13),\n",
    "    margin=dict(l=100, r=20, t=70, b=70),\n",
    "    template=None,\n",
    "    font_family='Nunito',\n",
    ")\n",
    "\n",
    "annotations_m = []\n",
    "\n",
    "y_s = np.round(y_saving, decimals=2)\n",
    "\n",
    "# Adding labels\n",
    "for yd, xd in zip(y_s, x):\n",
    "    # labeling the bar net worth\n",
    "    annotations_m.append(dict(xref='x1', yref='y1',\n",
    "                            y=xd, x=yd + 1.3,\n",
    "                            text=str(yd) + '%',\n",
    "                            font=dict(family='Nunito', size=14,\n",
    "                                      color='rgb(0,43,226)'),\n",
    "                            showarrow=False))\n",
    "\n",
    "fig.update_layout(annotations=annotations_m)\n",
    "\n",
    "fig.show()"
   ]
  },
  {
   "cell_type": "code",
   "execution_count": 9,
   "metadata": {},
   "outputs": [
    {
     "data": {
      "text/html": [
       "<div>\n",
       "<style scoped>\n",
       "    .dataframe tbody tr th:only-of-type {\n",
       "        vertical-align: middle;\n",
       "    }\n",
       "\n",
       "    .dataframe tbody tr th {\n",
       "        vertical-align: top;\n",
       "    }\n",
       "\n",
       "    .dataframe thead th {\n",
       "        text-align: right;\n",
       "    }\n",
       "</style>\n",
       "<table border=\"1\" class=\"dataframe\">\n",
       "  <thead>\n",
       "    <tr style=\"text-align: right;\">\n",
       "      <th></th>\n",
       "      <th>qid</th>\n",
       "      <th>count</th>\n",
       "      <th>meaning</th>\n",
       "    </tr>\n",
       "  </thead>\n",
       "  <tbody>\n",
       "    <tr>\n",
       "      <th>62</th>\n",
       "      <td>Q6625963</td>\n",
       "      <td>0.014811</td>\n",
       "      <td>Novelist</td>\n",
       "    </tr>\n",
       "    <tr>\n",
       "      <th>14</th>\n",
       "      <td>Q40348</td>\n",
       "      <td>0.015395</td>\n",
       "      <td>Lawyer</td>\n",
       "    </tr>\n",
       "    <tr>\n",
       "      <th>11</th>\n",
       "      <td>Q11513337</td>\n",
       "      <td>0.017200</td>\n",
       "      <td>Athletics competitor</td>\n",
       "    </tr>\n",
       "    <tr>\n",
       "      <th>7</th>\n",
       "      <td>Q4610556</td>\n",
       "      <td>0.020947</td>\n",
       "      <td>Model</td>\n",
       "    </tr>\n",
       "    <tr>\n",
       "      <th>46</th>\n",
       "      <td>Q937857</td>\n",
       "      <td>0.022155</td>\n",
       "      <td>Association football player</td>\n",
       "    </tr>\n",
       "    <tr>\n",
       "      <th>1</th>\n",
       "      <td>Q1930187</td>\n",
       "      <td>0.038419</td>\n",
       "      <td>Journalist</td>\n",
       "    </tr>\n",
       "    <tr>\n",
       "      <th>52</th>\n",
       "      <td>Q36180</td>\n",
       "      <td>0.040537</td>\n",
       "      <td>Writer</td>\n",
       "    </tr>\n",
       "    <tr>\n",
       "      <th>19</th>\n",
       "      <td>Q177220</td>\n",
       "      <td>0.053420</td>\n",
       "      <td>Singer</td>\n",
       "    </tr>\n",
       "    <tr>\n",
       "      <th>0</th>\n",
       "      <td>Q82955</td>\n",
       "      <td>0.099807</td>\n",
       "      <td>Politician</td>\n",
       "    </tr>\n",
       "    <tr>\n",
       "      <th>10</th>\n",
       "      <td>Q33999</td>\n",
       "      <td>0.138280</td>\n",
       "      <td>Actor</td>\n",
       "    </tr>\n",
       "  </tbody>\n",
       "</table>\n",
       "</div>"
      ],
      "text/plain": [
       "          qid     count                      meaning\n",
       "62   Q6625963  0.014811                     Novelist\n",
       "14     Q40348  0.015395                       Lawyer\n",
       "11  Q11513337  0.017200         Athletics competitor\n",
       "7    Q4610556  0.020947                        Model\n",
       "46    Q937857  0.022155  Association football player\n",
       "1    Q1930187  0.038419                   Journalist\n",
       "52     Q36180  0.040537                       Writer\n",
       "19    Q177220  0.053420                       Singer\n",
       "0      Q82955  0.099807                   Politician\n",
       "10     Q33999  0.138280                        Actor"
      ]
     },
     "execution_count": 9,
     "metadata": {},
     "output_type": "execute_result"
    }
   ],
   "source": [
    "ctr = Counter(df_female['occupation'])\n",
    "relevant_occupations_female = pd.DataFrame.from_dict(ctr, orient='index').reset_index().rename(columns={'index': 'qid', 0: 'count'}).sort_values('count', ascending=False)[0:10]\n",
    "relevant_occupations_female['meaning'] = relevant_occupations_female['qid'].apply(lambda s: get_entity_dict_from_api(s)['labels']['en']['value'])\n",
    "relevant_occupations_female['count'] = relevant_occupations_female['count'].divide(len(df_female))\n",
    "relevant_occupations_female = relevant_occupations_female.sort_values('count', ascending=True)\n",
    "relevant_occupations_female['meaning'] = relevant_occupations_female['meaning'].map(lambda x: x.capitalize())\n",
    "relevant_occupations_female.head(10)"
   ]
  },
  {
   "cell_type": "code",
   "execution_count": 20,
   "metadata": {},
   "outputs": [
    {
     "data": {
      "application/vnd.plotly.v1+json": {
       "config": {
        "plotlyServerURL": "https://plot.ly"
       },
       "data": [
        {
         "marker": {
          "color": "rgba(220,20,60, 0.8)",
          "line": {
           "color": "rgba(220,20,60, 1.0)",
           "width": 1
          }
         },
         "name": "Top 10 male occupations in Quotebank's speakers",
         "orientation": "h",
         "type": "bar",
         "x": [
          1.4810892997746465,
          1.5394640384458744,
          1.7200184627080446,
          2.094702831853602,
          2.2155249653824227,
          3.841872335804078,
          4.053650457495045,
          5.3419673644484265,
          9.980722760717873,
          13.828025304770438
         ],
         "y": [
          "Novelist",
          "Lawyer",
          "Athletics competitor",
          "Model",
          "Association football player",
          "Journalist",
          "Writer",
          "Singer",
          "Politician",
          "Actor"
         ]
        }
       ],
       "layout": {
        "annotations": [
         {
          "font": {
           "color": "rgb(220,20,60)",
           "family": "Nunito",
           "size": 14
          },
          "showarrow": false,
          "text": "1.48%",
          "x": 2.98,
          "xref": "x",
          "y": "Novelist",
          "yref": "y"
         },
         {
          "font": {
           "color": "rgb(220,20,60)",
           "family": "Nunito",
           "size": 14
          },
          "showarrow": false,
          "text": "1.54%",
          "x": 3.04,
          "xref": "x",
          "y": "Lawyer",
          "yref": "y"
         },
         {
          "font": {
           "color": "rgb(220,20,60)",
           "family": "Nunito",
           "size": 14
          },
          "showarrow": false,
          "text": "1.72%",
          "x": 3.2199999999999998,
          "xref": "x",
          "y": "Athletics competitor",
          "yref": "y"
         },
         {
          "font": {
           "color": "rgb(220,20,60)",
           "family": "Nunito",
           "size": 14
          },
          "showarrow": false,
          "text": "2.09%",
          "x": 3.59,
          "xref": "x",
          "y": "Model",
          "yref": "y"
         },
         {
          "font": {
           "color": "rgb(220,20,60)",
           "family": "Nunito",
           "size": 14
          },
          "showarrow": false,
          "text": "2.22%",
          "x": 3.72,
          "xref": "x",
          "y": "Association football player",
          "yref": "y"
         },
         {
          "font": {
           "color": "rgb(220,20,60)",
           "family": "Nunito",
           "size": 14
          },
          "showarrow": false,
          "text": "3.84%",
          "x": 5.34,
          "xref": "x",
          "y": "Journalist",
          "yref": "y"
         },
         {
          "font": {
           "color": "rgb(220,20,60)",
           "family": "Nunito",
           "size": 14
          },
          "showarrow": false,
          "text": "4.05%",
          "x": 5.55,
          "xref": "x",
          "y": "Writer",
          "yref": "y"
         },
         {
          "font": {
           "color": "rgb(220,20,60)",
           "family": "Nunito",
           "size": 14
          },
          "showarrow": false,
          "text": "5.34%",
          "x": 6.84,
          "xref": "x",
          "y": "Singer",
          "yref": "y"
         },
         {
          "font": {
           "color": "rgb(220,20,60)",
           "family": "Nunito",
           "size": 14
          },
          "showarrow": false,
          "text": "9.98%",
          "x": 11.48,
          "xref": "x",
          "y": "Politician",
          "yref": "y"
         },
         {
          "font": {
           "color": "rgb(220,20,60)",
           "family": "Nunito",
           "size": 14
          },
          "showarrow": false,
          "text": "13.83%",
          "x": 15.33,
          "xref": "x",
          "y": "Actor",
          "yref": "y"
         }
        ],
        "autosize": false,
        "font": {
         "family": "Nunito"
        },
        "height": 500,
        "legend": {
         "font": {
          "size": 13
         },
         "x": 0.029,
         "y": 1.038
        },
        "margin": {
         "b": 70,
         "l": 100,
         "r": 20,
         "t": 70
        },
        "template": {},
        "title": {
         "text": "Top 10 occupations for female speakers"
        },
        "width": 1000,
        "xaxis": {
         "domain": [
          0.15,
          0.9
         ],
         "showgrid": false,
         "showline": false,
         "showticklabels": false,
         "zeroline": false
        },
        "yaxis": {
         "domain": [
          0,
          0.95
         ],
         "showgrid": false,
         "showline": false,
         "showticklabels": true,
         "tickfont": {
          "family": "Nunito",
          "size": 14
         },
         "ticksuffix": "  "
        }
       }
      }
     },
     "metadata": {},
     "output_type": "display_data"
    }
   ],
   "source": [
    "import plotly.graph_objects as go\n",
    "from plotly.subplots import make_subplots\n",
    "\n",
    "import numpy as np\n",
    "\n",
    "y_saving = (relevant_occupations_female['count']*100).tolist()\n",
    "\n",
    "x = relevant_occupations_female['meaning'].tolist()\n",
    "\n",
    "\n",
    "# Creating two subplots\n",
    "fig = go.Figure()\n",
    "\n",
    "fig.add_trace(go.Bar(\n",
    "    x=y_saving,\n",
    "    y=x,\n",
    "    marker=dict(\n",
    "        color='rgba(220,20,60, 0.8)',\n",
    "        line=dict(\n",
    "        color='rgba(220,20,60, 1.0)',\n",
    "        width=1),\n",
    "    ),\n",
    "    name='Top 10 male occupations in Quotebank\\'s speakers',\n",
    "    orientation='h',\n",
    "))\n",
    "\n",
    "fig.update_layout(\n",
    "    autosize=False,\n",
    "    width=1000,\n",
    "    height=500,\n",
    "    title='Top 10 occupations for female speakers',\n",
    "    yaxis=dict(\n",
    "        showgrid=False,\n",
    "        showline=False,\n",
    "        showticklabels=True,\n",
    "        domain=[0, 0.95],\n",
    "        ticksuffix=\"  \",\n",
    "        tickfont=dict(family='Nunito', size=14),\n",
    "    ),\n",
    "    xaxis=dict(\n",
    "        zeroline=False,\n",
    "        showline=False,\n",
    "        showticklabels=False,\n",
    "        showgrid=False,\n",
    "        domain=[0.15, 0.9],\n",
    "    ),\n",
    "    legend=dict(x=0.029, y=1.038, font_size=13),\n",
    "    margin=dict(l=100, r=20, t=70, b=70),\n",
    "    template=None,\n",
    "    font_family='Nunito',\n",
    ")\n",
    "\n",
    "annotations_f = []\n",
    "\n",
    "y_s = np.round(y_saving, decimals=2)\n",
    "\n",
    "# Adding labels\n",
    "for yd, xd in zip(y_s, x):\n",
    "    # labeling the bar net worth\n",
    "    annotations_f.append(dict(xref='x1', yref='y1',\n",
    "                            y=xd, x=yd + 1.5,\n",
    "                            text=str(yd) + '%',\n",
    "                            font=dict(family='Nunito', size=14,\n",
    "                                        color='rgb(220,20,60)'),\n",
    "                            showarrow=False))\n",
    "\n",
    "#annotations_f.append(dict(text=\"Gender\", x=0.15, xref=\"paper\", y=1.2, yref=\"paper\",\n",
    "#            align=\"left\", showarrow=False, font=dict(family='Nunito', size=14)))\n",
    "\n",
    "fig.update_layout(annotations=annotations_f)\n",
    "\n",
    "fig.show()"
   ]
  },
  {
   "cell_type": "code",
   "execution_count": 23,
   "metadata": {},
   "outputs": [
    {
     "data": {
      "application/vnd.plotly.v1+json": {
       "config": {
        "displayModeBar": false,
        "plotlyServerURL": "https://plot.ly"
       },
       "data": [
        {
         "marker": {
          "color": "rgba(30,144,255, 0.8)",
          "line": {
           "color": "rgba(30,144,255, 1.0)"
          }
         },
         "orientation": "h",
         "type": "bar",
         "visible": true,
         "x": [
          1.9645444603399738,
          2.0472556726106412,
          2.2325900556615825,
          2.593456011420274,
          2.6394066849039786,
          2.7806284214105634,
          3.262191479519785,
          6.702671572156342,
          8.965282734493945,
          10.348398006353445
         ],
         "y": [
          "Ice hockey player",
          "Baseball player",
          "Basketball player",
          "Writer",
          "Singer",
          "Journalist",
          "American football player",
          "Actor",
          "Association football player",
          "Politician"
         ]
        },
        {
         "marker": {
          "color": "rgba(0,43,226, 0.8)",
          "line": {
           "color": "rgba(0,43,226, 1.0)"
          }
         },
         "orientation": "h",
         "type": "bar",
         "visible": false,
         "x": [
          2.1605660040825225,
          2.2897798212410074,
          2.4292990348599854,
          2.472106066311263,
          2.472898789115916,
          2.61519253255118,
          4.208169008501953,
          4.613646723082106,
          10.464733744227987,
          10.952654630492082
         ],
         "y": [
          "Writer",
          "Cricketer",
          "Ice hockey player",
          "Journalist",
          "Basketball player",
          "Baseball player",
          "American football player",
          "Actor",
          "Politician",
          "Association football player"
         ]
        },
        {
         "marker": {
          "color": "rgba(220,20,60, 0.8)",
          "line": {
           "color": "rgba(220,20,60, 1.0)"
          }
         },
         "orientation": "h",
         "type": "bar",
         "visible": false,
         "x": [
          1.4810892997746465,
          1.5394640384458744,
          1.7200184627080446,
          2.094702831853602,
          2.2155249653824227,
          3.841872335804078,
          4.053650457495045,
          5.3419673644484265,
          9.980722760717873,
          13.828025304770438
         ],
         "y": [
          "Novelist",
          "Lawyer",
          "Athletics competitor",
          "Model",
          "Association football player",
          "Journalist",
          "Writer",
          "Singer",
          "Politician",
          "Actor"
         ]
        }
       ],
       "layout": {
        "annotations": [
         {
          "font": {
           "color": "rgb(30,144,255)",
           "family": "Nunito",
           "size": 14
          },
          "showarrow": false,
          "text": "1.96%",
          "x": 2.96,
          "xref": "x",
          "y": "Ice hockey player",
          "yref": "y"
         },
         {
          "font": {
           "color": "rgb(30,144,255)",
           "family": "Nunito",
           "size": 14
          },
          "showarrow": false,
          "text": "2.05%",
          "x": 3.05,
          "xref": "x",
          "y": "Baseball player",
          "yref": "y"
         },
         {
          "font": {
           "color": "rgb(30,144,255)",
           "family": "Nunito",
           "size": 14
          },
          "showarrow": false,
          "text": "2.23%",
          "x": 3.23,
          "xref": "x",
          "y": "Basketball player",
          "yref": "y"
         },
         {
          "font": {
           "color": "rgb(30,144,255)",
           "family": "Nunito",
           "size": 14
          },
          "showarrow": false,
          "text": "2.59%",
          "x": 3.59,
          "xref": "x",
          "y": "Writer",
          "yref": "y"
         },
         {
          "font": {
           "color": "rgb(30,144,255)",
           "family": "Nunito",
           "size": 14
          },
          "showarrow": false,
          "text": "2.64%",
          "x": 3.64,
          "xref": "x",
          "y": "Singer",
          "yref": "y"
         },
         {
          "font": {
           "color": "rgb(30,144,255)",
           "family": "Nunito",
           "size": 14
          },
          "showarrow": false,
          "text": "2.78%",
          "x": 3.78,
          "xref": "x",
          "y": "Journalist",
          "yref": "y"
         },
         {
          "font": {
           "color": "rgb(30,144,255)",
           "family": "Nunito",
           "size": 14
          },
          "showarrow": false,
          "text": "3.26%",
          "x": 4.26,
          "xref": "x",
          "y": "American football player",
          "yref": "y"
         },
         {
          "font": {
           "color": "rgb(30,144,255)",
           "family": "Nunito",
           "size": 14
          },
          "showarrow": false,
          "text": "6.7%",
          "x": 7.7,
          "xref": "x",
          "y": "Actor",
          "yref": "y"
         },
         {
          "font": {
           "color": "rgb(30,144,255)",
           "family": "Nunito",
           "size": 14
          },
          "showarrow": false,
          "text": "8.97%",
          "x": 9.97,
          "xref": "x",
          "y": "Association football player",
          "yref": "y"
         },
         {
          "font": {
           "color": "rgb(30,144,255)",
           "family": "Nunito",
           "size": 14
          },
          "showarrow": false,
          "text": "10.35%",
          "x": 11.35,
          "xref": "x",
          "y": "Politician",
          "yref": "y"
         }
        ],
        "autosize": true,
        "font": {
         "family": "Nunito"
        },
        "showlegend": false,
        "template": {},
        "title": {
         "text": "Top 10 occupations in Quotebank dataset"
        },
        "updatemenus": [
         {
          "active": 0,
          "buttons": [
           {
            "args": [
             {
              "visible": [
               true,
               false,
               false
              ]
             },
             {
              "annotations": [
               {
                "font": {
                 "color": "rgb(30,144,255)",
                 "family": "Nunito",
                 "size": 14
                },
                "showarrow": false,
                "text": "1.96%",
                "x": 2.96,
                "xref": "x1",
                "y": "Ice hockey player",
                "yref": "y1"
               },
               {
                "font": {
                 "color": "rgb(30,144,255)",
                 "family": "Nunito",
                 "size": 14
                },
                "showarrow": false,
                "text": "2.05%",
                "x": 3.05,
                "xref": "x1",
                "y": "Baseball player",
                "yref": "y1"
               },
               {
                "font": {
                 "color": "rgb(30,144,255)",
                 "family": "Nunito",
                 "size": 14
                },
                "showarrow": false,
                "text": "2.23%",
                "x": 3.23,
                "xref": "x1",
                "y": "Basketball player",
                "yref": "y1"
               },
               {
                "font": {
                 "color": "rgb(30,144,255)",
                 "family": "Nunito",
                 "size": 14
                },
                "showarrow": false,
                "text": "2.59%",
                "x": 3.59,
                "xref": "x1",
                "y": "Writer",
                "yref": "y1"
               },
               {
                "font": {
                 "color": "rgb(30,144,255)",
                 "family": "Nunito",
                 "size": 14
                },
                "showarrow": false,
                "text": "2.64%",
                "x": 3.64,
                "xref": "x1",
                "y": "Singer",
                "yref": "y1"
               },
               {
                "font": {
                 "color": "rgb(30,144,255)",
                 "family": "Nunito",
                 "size": 14
                },
                "showarrow": false,
                "text": "2.78%",
                "x": 3.78,
                "xref": "x1",
                "y": "Journalist",
                "yref": "y1"
               },
               {
                "font": {
                 "color": "rgb(30,144,255)",
                 "family": "Nunito",
                 "size": 14
                },
                "showarrow": false,
                "text": "3.26%",
                "x": 4.26,
                "xref": "x1",
                "y": "American football player",
                "yref": "y1"
               },
               {
                "font": {
                 "color": "rgb(30,144,255)",
                 "family": "Nunito",
                 "size": 14
                },
                "showarrow": false,
                "text": "6.7%",
                "x": 7.7,
                "xref": "x1",
                "y": "Actor",
                "yref": "y1"
               },
               {
                "font": {
                 "color": "rgb(30,144,255)",
                 "family": "Nunito",
                 "size": 14
                },
                "showarrow": false,
                "text": "8.97%",
                "x": 9.97,
                "xref": "x1",
                "y": "Association football player",
                "yref": "y1"
               },
               {
                "font": {
                 "color": "rgb(30,144,255)",
                 "family": "Nunito",
                 "size": 14
                },
                "showarrow": false,
                "text": "10.35%",
                "x": 11.35,
                "xref": "x1",
                "y": "Politician",
                "yref": "y1"
               }
              ],
              "title": "Top 10 occupations in Quotebank dataset"
             }
            ],
            "label": "Any",
            "method": "update"
           },
           {
            "args": [
             {
              "visible": [
               false,
               true,
               false
              ]
             },
             {
              "annotations": [
               {
                "font": {
                 "color": "rgb(0,43,226)",
                 "family": "Nunito",
                 "size": 14
                },
                "showarrow": false,
                "text": "2.16%",
                "x": 3.46,
                "xref": "x1",
                "y": "Writer",
                "yref": "y1"
               },
               {
                "font": {
                 "color": "rgb(0,43,226)",
                 "family": "Nunito",
                 "size": 14
                },
                "showarrow": false,
                "text": "2.29%",
                "x": 3.59,
                "xref": "x1",
                "y": "Cricketer",
                "yref": "y1"
               },
               {
                "font": {
                 "color": "rgb(0,43,226)",
                 "family": "Nunito",
                 "size": 14
                },
                "showarrow": false,
                "text": "2.43%",
                "x": 3.7300000000000004,
                "xref": "x1",
                "y": "Ice hockey player",
                "yref": "y1"
               },
               {
                "font": {
                 "color": "rgb(0,43,226)",
                 "family": "Nunito",
                 "size": 14
                },
                "showarrow": false,
                "text": "2.47%",
                "x": 3.7700000000000005,
                "xref": "x1",
                "y": "Journalist",
                "yref": "y1"
               },
               {
                "font": {
                 "color": "rgb(0,43,226)",
                 "family": "Nunito",
                 "size": 14
                },
                "showarrow": false,
                "text": "2.47%",
                "x": 3.7700000000000005,
                "xref": "x1",
                "y": "Basketball player",
                "yref": "y1"
               },
               {
                "font": {
                 "color": "rgb(0,43,226)",
                 "family": "Nunito",
                 "size": 14
                },
                "showarrow": false,
                "text": "2.62%",
                "x": 3.92,
                "xref": "x1",
                "y": "Baseball player",
                "yref": "y1"
               },
               {
                "font": {
                 "color": "rgb(0,43,226)",
                 "family": "Nunito",
                 "size": 14
                },
                "showarrow": false,
                "text": "4.21%",
                "x": 5.51,
                "xref": "x1",
                "y": "American football player",
                "yref": "y1"
               },
               {
                "font": {
                 "color": "rgb(0,43,226)",
                 "family": "Nunito",
                 "size": 14
                },
                "showarrow": false,
                "text": "4.61%",
                "x": 5.91,
                "xref": "x1",
                "y": "Actor",
                "yref": "y1"
               },
               {
                "font": {
                 "color": "rgb(0,43,226)",
                 "family": "Nunito",
                 "size": 14
                },
                "showarrow": false,
                "text": "10.46%",
                "x": 11.760000000000002,
                "xref": "x1",
                "y": "Politician",
                "yref": "y1"
               },
               {
                "font": {
                 "color": "rgb(0,43,226)",
                 "family": "Nunito",
                 "size": 14
                },
                "showarrow": false,
                "text": "10.95%",
                "x": 12.25,
                "xref": "x1",
                "y": "Association football player",
                "yref": "y1"
               }
              ],
              "title": "Top 10 occupations for male speakers"
             }
            ],
            "label": "Males",
            "method": "update"
           },
           {
            "args": [
             {
              "visible": [
               false,
               false,
               true
              ]
             },
             {
              "annotations": [
               {
                "font": {
                 "color": "rgb(220,20,60)",
                 "family": "Nunito",
                 "size": 14
                },
                "showarrow": false,
                "text": "1.48%",
                "x": 2.98,
                "xref": "x1",
                "y": "Novelist",
                "yref": "y1"
               },
               {
                "font": {
                 "color": "rgb(220,20,60)",
                 "family": "Nunito",
                 "size": 14
                },
                "showarrow": false,
                "text": "1.54%",
                "x": 3.04,
                "xref": "x1",
                "y": "Lawyer",
                "yref": "y1"
               },
               {
                "font": {
                 "color": "rgb(220,20,60)",
                 "family": "Nunito",
                 "size": 14
                },
                "showarrow": false,
                "text": "1.72%",
                "x": 3.2199999999999998,
                "xref": "x1",
                "y": "Athletics competitor",
                "yref": "y1"
               },
               {
                "font": {
                 "color": "rgb(220,20,60)",
                 "family": "Nunito",
                 "size": 14
                },
                "showarrow": false,
                "text": "2.09%",
                "x": 3.59,
                "xref": "x1",
                "y": "Model",
                "yref": "y1"
               },
               {
                "font": {
                 "color": "rgb(220,20,60)",
                 "family": "Nunito",
                 "size": 14
                },
                "showarrow": false,
                "text": "2.22%",
                "x": 3.72,
                "xref": "x1",
                "y": "Association football player",
                "yref": "y1"
               },
               {
                "font": {
                 "color": "rgb(220,20,60)",
                 "family": "Nunito",
                 "size": 14
                },
                "showarrow": false,
                "text": "3.84%",
                "x": 5.34,
                "xref": "x1",
                "y": "Journalist",
                "yref": "y1"
               },
               {
                "font": {
                 "color": "rgb(220,20,60)",
                 "family": "Nunito",
                 "size": 14
                },
                "showarrow": false,
                "text": "4.05%",
                "x": 5.55,
                "xref": "x1",
                "y": "Writer",
                "yref": "y1"
               },
               {
                "font": {
                 "color": "rgb(220,20,60)",
                 "family": "Nunito",
                 "size": 14
                },
                "showarrow": false,
                "text": "5.34%",
                "x": 6.84,
                "xref": "x1",
                "y": "Singer",
                "yref": "y1"
               },
               {
                "font": {
                 "color": "rgb(220,20,60)",
                 "family": "Nunito",
                 "size": 14
                },
                "showarrow": false,
                "text": "9.98%",
                "x": 11.48,
                "xref": "x1",
                "y": "Politician",
                "yref": "y1"
               },
               {
                "font": {
                 "color": "rgb(220,20,60)",
                 "family": "Nunito",
                 "size": 14
                },
                "showarrow": false,
                "text": "13.83%",
                "x": 15.33,
                "xref": "x1",
                "y": "Actor",
                "yref": "y1"
               }
              ],
              "title": "Top 10 occupations for female speakers"
             }
            ],
            "label": "Females",
            "method": "update"
           }
          ],
          "direction": "left",
          "showactive": true,
          "type": "buttons",
          "x": 0.15,
          "xanchor": "left",
          "yanchor": "bottom"
         }
        ],
        "xaxis": {
         "domain": [
          0.15,
          0.9
         ],
         "showgrid": false,
         "showline": false,
         "showticklabels": false,
         "zeroline": false
        },
        "yaxis": {
         "domain": [
          0,
          0.95
         ],
         "showgrid": false,
         "showline": false,
         "showticklabels": true,
         "tickfont": {
          "family": "Nunito",
          "size": 14
         },
         "ticksuffix": "  "
        }
       }
      }
     },
     "metadata": {},
     "output_type": "display_data"
    }
   ],
   "source": [
    "import plotly.graph_objects as go\n",
    "# import plotly.io as pio\n",
    "# pio.renderers.default = \"default\"\n",
    "from plotly.subplots import make_subplots\n",
    "from plotly import tools\n",
    "import plotly.offline as po\n",
    "import numpy as np\n",
    "\n",
    "# Creating two subplots\n",
    "# All\n",
    "# TODO\n",
    "\n",
    "# Any\n",
    "# Male\n",
    "y_saving_any = (relevant_occupations['count']*100).tolist()\n",
    "x_any = relevant_occupations['meaning'].tolist()\n",
    "any_fig = go.Bar(x=y_saving_any, \n",
    "                   y=x_any,\n",
    "                   marker=dict(\n",
    "                       color='rgba(30,144,255, 0.8)',\n",
    "                       line=dict(\n",
    "                       color='rgba(30,144,255, 1.0)'),\n",
    "                    ),\n",
    "                    # name='Top 10 male occupations in Quotebank\\'s speakers',\n",
    "                    orientation='h', \n",
    "                    visible=True)\n",
    "\n",
    "# Male\n",
    "y_saving_male = (relevant_occupations_male['count']*100).tolist()\n",
    "x_male = relevant_occupations_male['meaning'].tolist()\n",
    "males_fig = go.Bar(x=y_saving_male, \n",
    "                   y=x_male,\n",
    "                   marker=dict(\n",
    "                       color='rgba(0,43,226, 0.8)',\n",
    "                       line=dict(\n",
    "                       color='rgba(0,43,226, 1.0)'),\n",
    "                    ),\n",
    "                    # name='Top 10 male occupations in Quotebank\\'s speakers',\n",
    "                    orientation='h', visible=False)\n",
    "\n",
    "# Female\n",
    "y_saving_female = (relevant_occupations_female['count']*100).tolist()\n",
    "x = relevant_occupations_female['meaning'].tolist()\n",
    "females_fig = go.Bar(x=y_saving_female,\n",
    "                     y=x,\n",
    "                     marker=dict(\n",
    "                         color='rgba(220,20,60, 0.8)',\n",
    "                         line=dict(\n",
    "                         color='rgba(220,20,60, 1.0)',)),\n",
    "                    #  name='Top 10 female occupations in Quotebank\\'s speakers',\n",
    "                     orientation='h',\n",
    "                     visible=False)\n",
    "\n",
    "# data = [males_fig, females_fig]\n",
    "fig = go.Figure()\n",
    "\n",
    "fig.update_layout(\n",
    "    updatemenus=[\n",
    "        dict(\n",
    "            active=0,\n",
    "            type = \"buttons\",\n",
    "            direction = \"left\",\n",
    "            buttons=list([\n",
    "                dict(\n",
    "                    args=[{'visible': [True, False, False]}, \n",
    "                          {'title': 'Top 10 occupations in Quotebank dataset','annotations': annotations}],\n",
    "                    label=\"Any\",\n",
    "                    method=\"update\"\n",
    "                ),\n",
    "                dict(\n",
    "                    args=[{'visible': [False, True, False]}, \n",
    "                          {'title': 'Top 10 occupations for male speakers','annotations': annotations_m}],\n",
    "                    label=\"Males\",\n",
    "                    method=\"update\"\n",
    "                ),\n",
    "                dict(\n",
    "                    args=[{'visible': [False, False, True]}, \n",
    "                          {'title': 'Top 10 occupations for female speakers', 'annotations': annotations_f}],\n",
    "                    label=\"Females\",\n",
    "                    method=\"update\"\n",
    "                )\n",
    "            ]),\n",
    "            showactive=True,\n",
    "            x=0.15,\n",
    "            xanchor=\"left\",\n",
    "            yanchor=\"bottom\",\n",
    "        ),\n",
    "    ],\n",
    "    autosize=True,\n",
    "    yaxis=dict(showgrid=False, showline=False, showticklabels=True, domain=[0, 0.95], tickfont=dict(family='Nunito', size=14),ticksuffix=\"  \",),\n",
    "    xaxis=dict(showgrid=False, showline=False, showticklabels=False, domain=[0.15, 0.9], zeroline=False, ),\n",
    "    #legend=dict(x=0.029, y=1.038, font_size=13),\n",
    "    # margin=dict(l=100, r=20, t=70, b=70),\n",
    "    template=None, \n",
    "    showlegend=False,\n",
    "    font_family='Nunito',\n",
    ")\n",
    "\n",
    "\n",
    "fig.update_layout(\n",
    "    title_text=\"Top 10 occupations in Quotebank dataset\"\n",
    ")\n",
    "\n",
    "#\n",
    "fig.add_trace(any_fig)\n",
    "fig.add_trace(males_fig)\n",
    "fig.add_trace(females_fig)\n",
    "\n",
    "# po.plot(fig, auto_open=False, show_link=False)\n",
    "config = {'displayModeBar': False}\n",
    "\n",
    "fig.update_annotations(visible=True)\n",
    "fig.update_layout(annotations=annotations)\n",
    "\n",
    "fig.show(config=config)\n",
    "#py.iplot(fig, filename='cmocean-picker-one-dropdown')\n",
    "\n",
    "fig.write_html(\"top10_occupations_males_and_females.html\", config=config)"
   ]
  },
  {
   "cell_type": "code",
   "execution_count": 22,
   "metadata": {},
   "outputs": [],
   "source": [
    "fig.write_html(\"top10_occupations_males_and_females.html\")"
   ]
  },
  {
   "cell_type": "code",
   "execution_count": 104,
   "metadata": {},
   "outputs": [
    {
     "data": {
      "text/plain": [
       "Layout({\n",
       "    'annotations': [{'align': 'left',\n",
       "                     'font': {'family': 'Nunito', 'size': 14},\n",
       "                     'showarrow': False,\n",
       "                     'text': 'Gender',\n",
       "                     'visible': True,\n",
       "                     'x': 0.15,\n",
       "                     'xref': 'paper',\n",
       "                     'y': 1.2,\n",
       "                     'yref': 'paper'}],\n",
       "    'autosize': False,\n",
       "    'font': {'family': 'Nunito'},\n",
       "    'height': 500,\n",
       "    'showlegend': False,\n",
       "    'template': '...',\n",
       "    'title': {'text': 'Set a gender to see the percentages'},\n",
       "    'updatemenus': [{'active': 0,\n",
       "                     'buttons': [{'args': [{'visible': [True, False, False]},\n",
       "                                           {'annotations': [{'font': {'color': 'rgb(30,144,255)',\n",
       "                                                                      'family': 'Nunito',\n",
       "                                                                      'size': 14},\n",
       "                                                             'showarrow': False,\n",
       "                                                             'text': '1.96%',\n",
       "                                                             'x': 2.46,\n",
       "                                                             'xref': 'x1',\n",
       "                                                             'y': 'Ice hockey player',\n",
       "                                                             'yref': 'y1'},\n",
       "                                                            {'font': {'color': 'rgb(30,144,255)',\n",
       "                                                                      'family': 'Nunito',\n",
       "                                                                      'size': 14},\n",
       "                                                             'showarrow': False,\n",
       "                                                             'text': '2.05%',\n",
       "                                                             'x': 2.55,\n",
       "                                                             'xref': 'x1',\n",
       "                                                             'y': 'Baseball player',\n",
       "                                                             'yref': 'y1'},\n",
       "                                                            {'font': {'color': 'rgb(30,144,255)',\n",
       "                                                                      'family': 'Nunito',\n",
       "                                                                      'size': 14},\n",
       "                                                             'showarrow': False,\n",
       "                                                             'text': '2.23%',\n",
       "                                                             'x': 2.73,\n",
       "                                                             'xref': 'x1',\n",
       "                                                             'y': 'Basketball player',\n",
       "                                                             'yref': 'y1'},\n",
       "                                                            {'font': {'color': 'rgb(30,144,255)',\n",
       "                                                                      'family': 'Nunito',\n",
       "                                                                      'size': 14},\n",
       "                                                             'showarrow': False,\n",
       "                                                             'text': '2.59%',\n",
       "                                                             'x': 3.09,\n",
       "                                                             'xref': 'x1',\n",
       "                                                             'y': 'Writer',\n",
       "                                                             'yref': 'y1'},\n",
       "                                                            {'font': {'color': 'rgb(30,144,255)',\n",
       "                                                                      'family': 'Nunito',\n",
       "                                                                      'size': 14},\n",
       "                                                             'showarrow': False,\n",
       "                                                             'text': '2.64%',\n",
       "                                                             'x': 3.14,\n",
       "                                                             'xref': 'x1',\n",
       "                                                             'y': 'Singer',\n",
       "                                                             'yref': 'y1'},\n",
       "                                                            {'font': {'color': 'rgb(30,144,255)',\n",
       "                                                                      'family': 'Nunito',\n",
       "                                                                      'size': 14},\n",
       "                                                             'showarrow': False,\n",
       "                                                             'text': '2.78%',\n",
       "                                                             'x': 3.28,\n",
       "                                                             'xref': 'x1',\n",
       "                                                             'y': 'Journalist',\n",
       "                                                             'yref': 'y1'},\n",
       "                                                            {'font': {'color': 'rgb(30,144,255)',\n",
       "                                                                      'family': 'Nunito',\n",
       "                                                                      'size': 14},\n",
       "                                                             'showarrow': False,\n",
       "                                                             'text': '3.26%',\n",
       "                                                             'x': 3.76,\n",
       "                                                             'xref': 'x1',\n",
       "                                                             'y': 'American football player',\n",
       "                                                             'yref': 'y1'},\n",
       "                                                            {'font': {'color': 'rgb(30,144,255)',\n",
       "                                                                      'family': 'Nunito',\n",
       "                                                                      'size': 14},\n",
       "                                                             'showarrow': False,\n",
       "                                                             'text': '6.7%',\n",
       "                                                             'x': 7.2,\n",
       "                                                             'xref': 'x1',\n",
       "                                                             'y': 'Actor',\n",
       "                                                             'yref': 'y1'},\n",
       "                                                            {'font': {'color': 'rgb(30,144,255)',\n",
       "                                                                      'family': 'Nunito',\n",
       "                                                                      'size': 14},\n",
       "                                                             'showarrow': False,\n",
       "                                                             'text': '8.97%',\n",
       "                                                             'x': 9.47,\n",
       "                                                             'xref': 'x1',\n",
       "                                                             'y': 'Association football player',\n",
       "                                                             'yref': 'y1'},\n",
       "                                                            {'font': {'color': 'rgb(30,144,255)',\n",
       "                                                                      'family': 'Nunito',\n",
       "                                                                      'size': 14},\n",
       "                                                             'showarrow': False,\n",
       "                                                             'text': '10.35%',\n",
       "                                                             'x': 10.85,\n",
       "                                                             'xref': 'x1',\n",
       "                                                             'y': 'Politician',\n",
       "                                                             'yref': 'y1'}],\n",
       "                                            'title': 'Top 10 occupations in Quotebank dataset'}],\n",
       "                                  'label': 'Any',\n",
       "                                  'method': 'update'},\n",
       "                                 {'args': [{'visible': [False, True, False]},\n",
       "                                           {'annotations': [{'font': {'color': 'rgb(0,43,226)',\n",
       "                                                                      'family': 'Nunito',\n",
       "                                                                      'size': 14},\n",
       "                                                             'showarrow': False,\n",
       "                                                             'text': '2.16%',\n",
       "                                                             'x': 2.7600000000000002,\n",
       "                                                             'xref': 'x1',\n",
       "                                                             'y': 'Writer',\n",
       "                                                             'yref': 'y1'},\n",
       "                                                            {'font': {'color': 'rgb(0,43,226)',\n",
       "                                                                      'family': 'Nunito',\n",
       "                                                                      'size': 14},\n",
       "                                                             'showarrow': False,\n",
       "                                                             'text': '2.29%',\n",
       "                                                             'x': 2.89,\n",
       "                                                             'xref': 'x1',\n",
       "                                                             'y': 'Cricketer',\n",
       "                                                             'yref': 'y1'},\n",
       "                                                            {'font': {'color': 'rgb(0,43,226)',\n",
       "                                                                      'family': 'Nunito',\n",
       "                                                                      'size': 14},\n",
       "                                                             'showarrow': False,\n",
       "                                                             'text': '2.43%',\n",
       "                                                             'x': 3.0300000000000002,\n",
       "                                                             'xref': 'x1',\n",
       "                                                             'y': 'Ice hockey player',\n",
       "                                                             'yref': 'y1'},\n",
       "                                                            {'font': {'color': 'rgb(0,43,226)',\n",
       "                                                                      'family': 'Nunito',\n",
       "                                                                      'size': 14},\n",
       "                                                             'showarrow': False,\n",
       "                                                             'text': '2.47%',\n",
       "                                                             'x': 3.0700000000000003,\n",
       "                                                             'xref': 'x1',\n",
       "                                                             'y': 'Journalist',\n",
       "                                                             'yref': 'y1'},\n",
       "                                                            {'font': {'color': 'rgb(0,43,226)',\n",
       "                                                                      'family': 'Nunito',\n",
       "                                                                      'size': 14},\n",
       "                                                             'showarrow': False,\n",
       "                                                             'text': '2.47%',\n",
       "                                                             'x': 3.0700000000000003,\n",
       "                                                             'xref': 'x1',\n",
       "                                                             'y': 'Basketball player',\n",
       "                                                             'yref': 'y1'},\n",
       "                                                            {'font': {'color': 'rgb(0,43,226)',\n",
       "                                                                      'family': 'Nunito',\n",
       "                                                                      'size': 14},\n",
       "                                                             'showarrow': False,\n",
       "                                                             'text': '2.62%',\n",
       "                                                             'x': 3.22,\n",
       "                                                             'xref': 'x1',\n",
       "                                                             'y': 'Baseball player',\n",
       "                                                             'yref': 'y1'},\n",
       "                                                            {'font': {'color': 'rgb(0,43,226)',\n",
       "                                                                      'family': 'Nunito',\n",
       "                                                                      'size': 14},\n",
       "                                                             'showarrow': False,\n",
       "                                                             'text': '4.21%',\n",
       "                                                             'x': 4.81,\n",
       "                                                             'xref': 'x1',\n",
       "                                                             'y': 'American football player',\n",
       "                                                             'yref': 'y1'},\n",
       "                                                            {'font': {'color': 'rgb(0,43,226)',\n",
       "                                                                      'family': 'Nunito',\n",
       "                                                                      'size': 14},\n",
       "                                                             'showarrow': False,\n",
       "                                                             'text': '4.61%',\n",
       "                                                             'x': 5.21,\n",
       "                                                             'xref': 'x1',\n",
       "                                                             'y': 'Actor',\n",
       "                                                             'yref': 'y1'},\n",
       "                                                            {'font': {'color': 'rgb(0,43,226)',\n",
       "                                                                      'family': 'Nunito',\n",
       "                                                                      'size': 14},\n",
       "                                                             'showarrow': False,\n",
       "                                                             'text': '10.46%',\n",
       "                                                             'x': 11.06,\n",
       "                                                             'xref': 'x1',\n",
       "                                                             'y': 'Politician',\n",
       "                                                             'yref': 'y1'},\n",
       "                                                            {'font': {'color': 'rgb(0,43,226)',\n",
       "                                                                      'family': 'Nunito',\n",
       "                                                                      'size': 14},\n",
       "                                                             'showarrow': False,\n",
       "                                                             'text': '10.95%',\n",
       "                                                             'x': 11.549999999999999,\n",
       "                                                             'xref': 'x1',\n",
       "                                                             'y': 'Association football player',\n",
       "                                                             'yref': 'y1'}],\n",
       "                                            'title': 'Top 10 occupations for male speakers'}],\n",
       "                                  'label': 'Males',\n",
       "                                  'method': 'update'},\n",
       "                                 {'args': [{'visible': [False, False, True]},\n",
       "                                           {'annotations': [{'font': {'color': 'rgb(220,20,60)',\n",
       "                                                                      'family': 'Nunito',\n",
       "                                                                      'size': 14},\n",
       "                                                             'showarrow': False,\n",
       "                                                             'text': '1.48%',\n",
       "                                                             'x': 2.1799999999999997,\n",
       "                                                             'xref': 'x1',\n",
       "                                                             'y': 'Novelist',\n",
       "                                                             'yref': 'y1'},\n",
       "                                                            {'font': {'color': 'rgb(220,20,60)',\n",
       "                                                                      'family': 'Nunito',\n",
       "                                                                      'size': 14},\n",
       "                                                             'showarrow': False,\n",
       "                                                             'text': '1.54%',\n",
       "                                                             'x': 2.24,\n",
       "                                                             'xref': 'x1',\n",
       "                                                             'y': 'Lawyer',\n",
       "                                                             'yref': 'y1'},\n",
       "                                                            {'font': {'color': 'rgb(220,20,60)',\n",
       "                                                                      'family': 'Nunito',\n",
       "                                                                      'size': 14},\n",
       "                                                             'showarrow': False,\n",
       "                                                             'text': '1.72%',\n",
       "                                                             'x': 2.42,\n",
       "                                                             'xref': 'x1',\n",
       "                                                             'y': 'Athletics competitor',\n",
       "                                                             'yref': 'y1'},\n",
       "                                                            {'font': {'color': 'rgb(220,20,60)',\n",
       "                                                                      'family': 'Nunito',\n",
       "                                                                      'size': 14},\n",
       "                                                             'showarrow': False,\n",
       "                                                             'text': '2.09%',\n",
       "                                                             'x': 2.79,\n",
       "                                                             'xref': 'x1',\n",
       "                                                             'y': 'Model',\n",
       "                                                             'yref': 'y1'},\n",
       "                                                            {'font': {'color': 'rgb(220,20,60)',\n",
       "                                                                      'family': 'Nunito',\n",
       "                                                                      'size': 14},\n",
       "                                                             'showarrow': False,\n",
       "                                                             'text': '2.22%',\n",
       "                                                             'x': 2.92,\n",
       "                                                             'xref': 'x1',\n",
       "                                                             'y': 'Association football player',\n",
       "                                                             'yref': 'y1'},\n",
       "                                                            {'font': {'color': 'rgb(220,20,60)',\n",
       "                                                                      'family': 'Nunito',\n",
       "                                                                      'size': 14},\n",
       "                                                             'showarrow': False,\n",
       "                                                             'text': '3.84%',\n",
       "                                                             'x': 4.54,\n",
       "                                                             'xref': 'x1',\n",
       "                                                             'y': 'Journalist',\n",
       "                                                             'yref': 'y1'},\n",
       "                                                            {'font': {'color': 'rgb(220,20,60)',\n",
       "                                                                      'family': 'Nunito',\n",
       "                                                                      'size': 14},\n",
       "                                                             'showarrow': False,\n",
       "                                                             'text': '4.05%',\n",
       "                                                             'x': 4.75,\n",
       "                                                             'xref': 'x1',\n",
       "                                                             'y': 'Writer',\n",
       "                                                             'yref': 'y1'},\n",
       "                                                            {'font': {'color': 'rgb(220,20,60)',\n",
       "                                                                      'family': 'Nunito',\n",
       "                                                                      'size': 14},\n",
       "                                                             'showarrow': False,\n",
       "                                                             'text': '5.34%',\n",
       "                                                             'x': 6.04,\n",
       "                                                             'xref': 'x1',\n",
       "                                                             'y': 'Singer',\n",
       "                                                             'yref': 'y1'},\n",
       "                                                            {'font': {'color': 'rgb(220,20,60)',\n",
       "                                                                      'family': 'Nunito',\n",
       "                                                                      'size': 14},\n",
       "                                                             'showarrow': False,\n",
       "                                                             'text': '9.98%',\n",
       "                                                             'x': 10.68,\n",
       "                                                             'xref': 'x1',\n",
       "                                                             'y': 'Politician',\n",
       "                                                             'yref': 'y1'},\n",
       "                                                            {'font': {'color': 'rgb(220,20,60)',\n",
       "                                                                      'family': 'Nunito',\n",
       "                                                                      'size': 14},\n",
       "                                                             'showarrow': False,\n",
       "                                                             'text': '13.83%',\n",
       "                                                             'x': 14.53,\n",
       "                                                             'xref': 'x1',\n",
       "                                                             'y': 'Actor',\n",
       "                                                             'yref': 'y1'}],\n",
       "                                            'title': 'Top 10 occupations for female speakers'}],\n",
       "                                  'label': 'Females',\n",
       "                                  'method': 'update'}],\n",
       "                     'direction': 'left',\n",
       "                     'showactive': True,\n",
       "                     'type': 'buttons',\n",
       "                     'x': 0.15,\n",
       "                     'xanchor': 'left',\n",
       "                     'yanchor': 'bottom'}],\n",
       "    'width': 1000,\n",
       "    'xaxis': {'domain': [0.15, 0.9], 'showgrid': False, 'showline': False, 'showticklabels': False, 'zeroline': False},\n",
       "    'yaxis': {'domain': [0, 0.95],\n",
       "              'showgrid': False,\n",
       "              'showline': False,\n",
       "              'showticklabels': True,\n",
       "              'tickfont': {'family': 'Nunito', 'size': 14},\n",
       "              'ticksuffix': '  '}\n",
       "})"
      ]
     },
     "execution_count": 104,
     "metadata": {},
     "output_type": "execute_result"
    }
   ],
   "source": [
    "fig.layout"
   ]
  },
  {
   "cell_type": "code",
   "execution_count": 42,
   "metadata": {},
   "outputs": [
    {
     "data": {
      "application/vnd.plotly.v1+json": {
       "config": {
        "plotlyServerURL": "https://plot.ly"
       },
       "data": [
        {
         "marker": {
          "color": "rgba(0,43,226, 0.8)",
          "line": {
           "color": "rgba(0,43,226, 1.0)"
          }
         },
         "orientation": "h",
         "type": "bar",
         "x": [
          2.1605660040825225,
          2.2897798212410074,
          2.4292990348599854,
          2.472106066311263,
          2.472898789115916,
          2.61519253255118,
          4.208169008501953,
          4.613646723082106,
          10.464733744227987,
          10.952654630492082
         ],
         "y": [
          "Writer",
          "Cricketer",
          "Ice hockey player",
          "Journalist",
          "Basketball player",
          "Baseball player",
          "American football player",
          "Actor",
          "Politician",
          "Association football player"
         ]
        },
        {
         "marker": {
          "color": "rgba(220,20,60, 0.8)",
          "line": {
           "color": "rgba(220,20,60, 1.0)"
          }
         },
         "orientation": "h",
         "type": "bar",
         "visible": false,
         "x": [
          1.4810892997746465,
          1.5394640384458744,
          1.7200184627080446,
          2.094702831853602,
          2.2155249653824227,
          3.841872335804078,
          4.053650457495045,
          5.3419673644484265,
          9.980722760717873,
          13.828025304770438
         ],
         "y": [
          "Novelist",
          "Lawyer",
          "Athletics competitor",
          "Model",
          "Association football player",
          "Journalist",
          "Writer",
          "Singer",
          "Politician",
          "Actor"
         ]
        }
       ],
       "layout": {
        "autosize": false,
        "font": {
         "family": "Nunito"
        },
        "height": 500,
        "showlegend": false,
        "template": {},
        "updatemenus": [
         {
          "active": 0,
          "buttons": [
           {
            "args": [
             {
              "visible": [
               true,
               false,
               false
              ]
             },
             {
              "annotations": [
               {
                "font": {
                 "color": "rgb(0,43,226)",
                 "family": "Nunito",
                 "size": 14
                },
                "showarrow": false,
                "text": "2.16%",
                "x": 2.7600000000000002,
                "xref": "x1",
                "y": "Writer",
                "yref": "y1"
               },
               {
                "font": {
                 "color": "rgb(0,43,226)",
                 "family": "Nunito",
                 "size": 14
                },
                "showarrow": false,
                "text": "2.29%",
                "x": 2.89,
                "xref": "x1",
                "y": "Cricketer",
                "yref": "y1"
               },
               {
                "font": {
                 "color": "rgb(0,43,226)",
                 "family": "Nunito",
                 "size": 14
                },
                "showarrow": false,
                "text": "2.43%",
                "x": 3.0300000000000002,
                "xref": "x1",
                "y": "Ice hockey player",
                "yref": "y1"
               },
               {
                "font": {
                 "color": "rgb(0,43,226)",
                 "family": "Nunito",
                 "size": 14
                },
                "showarrow": false,
                "text": "2.47%",
                "x": 3.0700000000000003,
                "xref": "x1",
                "y": "Journalist",
                "yref": "y1"
               },
               {
                "font": {
                 "color": "rgb(0,43,226)",
                 "family": "Nunito",
                 "size": 14
                },
                "showarrow": false,
                "text": "2.47%",
                "x": 3.0700000000000003,
                "xref": "x1",
                "y": "Basketball player",
                "yref": "y1"
               },
               {
                "font": {
                 "color": "rgb(0,43,226)",
                 "family": "Nunito",
                 "size": 14
                },
                "showarrow": false,
                "text": "2.62%",
                "x": 3.22,
                "xref": "x1",
                "y": "Baseball player",
                "yref": "y1"
               },
               {
                "font": {
                 "color": "rgb(0,43,226)",
                 "family": "Nunito",
                 "size": 14
                },
                "showarrow": false,
                "text": "4.21%",
                "x": 4.81,
                "xref": "x1",
                "y": "American football player",
                "yref": "y1"
               },
               {
                "font": {
                 "color": "rgb(0,43,226)",
                 "family": "Nunito",
                 "size": 14
                },
                "showarrow": false,
                "text": "4.61%",
                "x": 5.21,
                "xref": "x1",
                "y": "Actor",
                "yref": "y1"
               },
               {
                "font": {
                 "color": "rgb(0,43,226)",
                 "family": "Nunito",
                 "size": 14
                },
                "showarrow": false,
                "text": "10.46%",
                "x": 11.06,
                "xref": "x1",
                "y": "Politician",
                "yref": "y1"
               },
               {
                "font": {
                 "color": "rgb(0,43,226)",
                 "family": "Nunito",
                 "size": 14
                },
                "showarrow": false,
                "text": "10.95%",
                "x": 11.549999999999999,
                "xref": "x1",
                "y": "Association football player",
                "yref": "y1"
               }
              ],
              "title": "Top 10 occupations for males"
             }
            ],
            "execute": true,
            "label": "Males",
            "method": "update"
           },
           {
            "args": [
             {
              "visible": [
               false,
               true,
               false
              ]
             },
             {
              "annotations": [
               {
                "font": {
                 "color": "rgb(220,20,60)",
                 "family": "Nunito",
                 "size": 14
                },
                "showarrow": false,
                "text": "1.48%",
                "x": 2.1799999999999997,
                "xref": "x1",
                "y": "Novelist",
                "yref": "y1"
               },
               {
                "font": {
                 "color": "rgb(220,20,60)",
                 "family": "Nunito",
                 "size": 14
                },
                "showarrow": false,
                "text": "1.54%",
                "x": 2.24,
                "xref": "x1",
                "y": "Lawyer",
                "yref": "y1"
               },
               {
                "font": {
                 "color": "rgb(220,20,60)",
                 "family": "Nunito",
                 "size": 14
                },
                "showarrow": false,
                "text": "1.72%",
                "x": 2.42,
                "xref": "x1",
                "y": "Athletics competitor",
                "yref": "y1"
               },
               {
                "font": {
                 "color": "rgb(220,20,60)",
                 "family": "Nunito",
                 "size": 14
                },
                "showarrow": false,
                "text": "2.09%",
                "x": 2.79,
                "xref": "x1",
                "y": "Model",
                "yref": "y1"
               },
               {
                "font": {
                 "color": "rgb(220,20,60)",
                 "family": "Nunito",
                 "size": 14
                },
                "showarrow": false,
                "text": "2.22%",
                "x": 2.92,
                "xref": "x1",
                "y": "Association football player",
                "yref": "y1"
               },
               {
                "font": {
                 "color": "rgb(220,20,60)",
                 "family": "Nunito",
                 "size": 14
                },
                "showarrow": false,
                "text": "3.84%",
                "x": 4.54,
                "xref": "x1",
                "y": "Journalist",
                "yref": "y1"
               },
               {
                "font": {
                 "color": "rgb(220,20,60)",
                 "family": "Nunito",
                 "size": 14
                },
                "showarrow": false,
                "text": "4.05%",
                "x": 4.75,
                "xref": "x1",
                "y": "Writer",
                "yref": "y1"
               },
               {
                "font": {
                 "color": "rgb(220,20,60)",
                 "family": "Nunito",
                 "size": 14
                },
                "showarrow": false,
                "text": "5.34%",
                "x": 6.04,
                "xref": "x1",
                "y": "Singer",
                "yref": "y1"
               },
               {
                "font": {
                 "color": "rgb(220,20,60)",
                 "family": "Nunito",
                 "size": 14
                },
                "showarrow": false,
                "text": "9.98%",
                "x": 10.68,
                "xref": "x1",
                "y": "Politician",
                "yref": "y1"
               },
               {
                "font": {
                 "color": "rgb(220,20,60)",
                 "family": "Nunito",
                 "size": 14
                },
                "showarrow": false,
                "text": "13.83%",
                "x": 14.53,
                "xref": "x1",
                "y": "Actor",
                "yref": "y1"
               }
              ],
              "title": "Top 10 occupations for females"
             }
            ],
            "label": "Females",
            "method": "update"
           }
          ],
          "direction": "left",
          "showactive": true,
          "type": "buttons",
          "x": 0.15,
          "xanchor": "left",
          "yanchor": "bottom"
         }
        ],
        "width": 1000,
        "xaxis": {
         "domain": [
          0.15,
          0.9
         ],
         "showgrid": false,
         "showline": false,
         "showticklabels": false,
         "zeroline": false
        },
        "yaxis": {
         "domain": [
          0,
          0.95
         ],
         "showgrid": false,
         "showline": false,
         "showticklabels": true,
         "tickfont": {
          "family": "Nunito",
          "size": 14
         },
         "ticksuffix": "  "
        }
       }
      }
     },
     "metadata": {},
     "output_type": "display_data"
    }
   ],
   "source": [
    "import plotly.graph_objects as go\n",
    "# import plotly.io as pio\n",
    "# pio.renderers.default = \"default\"\n",
    "from plotly.subplots import make_subplots\n",
    "from plotly import tools\n",
    "import plotly.offline as po\n",
    "import numpy as np\n",
    "\n",
    "# Creating two subplots\n",
    "fig = go.Figure()\n",
    "\n",
    "# All\n",
    "# TODO\n",
    "\n",
    "\n",
    "# Male\n",
    "y_saving_male = (relevant_occupations_male['count']*100).tolist()\n",
    "x_male = relevant_occupations_male['meaning'].tolist()\n",
    "males_fig = go.Bar(x=y_saving_male, \n",
    "                   y=x_male,\n",
    "                   marker=dict(\n",
    "                       color='rgba(0,43,226, 0.8)',\n",
    "                       line=dict(\n",
    "                       color='rgba(0,43,226, 1.0)'),\n",
    "                    ),\n",
    "                    # name='Top 10 male occupations in Quotebank\\'s speakers',\n",
    "                    orientation='h')\n",
    "\n",
    "# Female\n",
    "y_saving_female = (relevant_occupations_female['count']*100).tolist()\n",
    "x = relevant_occupations_female['meaning'].tolist()\n",
    "females_fig = go.Bar(x=y_saving_female,\n",
    "                     y=x,\n",
    "                     marker=dict(\n",
    "                         color='rgba(220,20,60, 0.8)',\n",
    "                         line=dict(\n",
    "                         color='rgba(220,20,60, 1.0)',)),\n",
    "                    #  name='Top 10 female occupations in Quotebank\\'s speakers',\n",
    "                     orientation='h',\n",
    "                     visible=False)\n",
    "\n",
    "y_saving_any = (relevant_occupations['count']*100).tolist()\n",
    "x_any = relevant_occupations['meaning'].tolist()\n",
    "any_fig = go.Bar(x=y_saving_any, \n",
    "                   y=x_any,\n",
    "                   marker=dict(\n",
    "                       color='rgba(30,144,255, 0.8)',\n",
    "                       line=dict(\n",
    "                       color='rgba(30,144,255, 1.0)'),\n",
    "                    ),\n",
    "                    # name='Top 10 male occupations in Quotebank\\'s speakers',\n",
    "                    orientation='h')\n",
    "\n",
    "\n",
    "# data = [males_fig, females_fig]\n",
    "fig.add_trace(males_fig)\n",
    "fig.add_trace(females_fig)\n",
    "\n",
    "\n",
    "\n",
    "\n",
    "fig.update_layout(\n",
    "    updatemenus=[\n",
    "        dict(\n",
    "            active=0,\n",
    "            type = \"buttons\",\n",
    "            direction = \"left\",\n",
    "            buttons=list([\n",
    "                dict(\n",
    "                    execute=True,\n",
    "                    args=[{'visible': [True, False, False]}, \n",
    "                          {'title': 'Top 10 occupations for males','annotations': annotations_m}],\n",
    "                    label=\"Males\",\n",
    "                    method=\"update\"\n",
    "                ),\n",
    "                dict(\n",
    "                    args=[{'visible': [False, True, False]}, \n",
    "                          {'title': 'Top 10 occupations for females', 'annotations': annotations_f}],\n",
    "                    label=\"Females\",\n",
    "                    method=\"update\"\n",
    "                )\n",
    "            ]),\n",
    "            showactive=True,\n",
    "            x=0.15,\n",
    "            xanchor=\"left\",\n",
    "            yanchor=\"bottom\",\n",
    "        ),\n",
    "    ],\n",
    "    autosize=False,\n",
    "    width=1000,\n",
    "    height=500,\n",
    "    yaxis=dict(showgrid=False, showline=False, showticklabels=True, domain=[0, 0.95], tickfont=dict(family='Nunito', size=14),ticksuffix=\"  \",),\n",
    "    xaxis=dict(showgrid=False, showline=False, showticklabels=False, domain=[0.15, 0.9], zeroline=False, ),\n",
    "    #legend=dict(x=0.029, y=1.038, font_size=13),\n",
    "    # margin=dict(l=100, r=20, t=70, b=70),\n",
    "    template=None, \n",
    "    showlegend=False,\n",
    "    font_family='Nunito',\n",
    ")\n",
    "\n",
    "# annotations = []\n",
    "\n",
    "# y_s = np.round(y_saving, decimals=2)\n",
    "\n",
    "# # Adding labels\n",
    "# for yd, xd in zip(y_s, x):\n",
    "#     # labeling the bar net worth\n",
    "#     annotations.append(dict(xref='x1', yref='y1',\n",
    "#                             y=xd, x=yd + 0.6,\n",
    "#                             text=str(yd) + '%',\n",
    "#                             font=dict(family='Nunito', size=14,\n",
    "#                                       color='rgb(218,165,32)'),\n",
    "#                             showarrow=False))\n",
    "\n",
    "#fig.update_layout(annotations=annotations)\n",
    "\n",
    "# po.plot(fig, auto_open=False, show_link=False)\n",
    "\n",
    "fig.show()\n",
    "#py.iplot(fig, filename='cmocean-picker-one-dropdown')\n",
    "\n",
    "#fig.write_html(\"top10_occupations_males_and_females.html\")"
   ]
  },
  {
   "cell_type": "code",
   "execution_count": 13,
   "metadata": {},
   "outputs": [
    {
     "data": {
      "application/vnd.plotly.v1+json": {
       "config": {
        "plotlyServerURL": "https://plot.ly"
       },
       "data": [
        {
         "marker": {
          "color": "rgba(218,165,32, 0.8)",
          "line": {
           "color": "rgba(218,165,32, 1.0)",
           "width": 1
          }
         },
         "name": "female",
         "orientation": "h",
         "type": "bar",
         "x": [
          1.4810892997746465,
          1.5394640384458744,
          1.7200184627080446,
          2.094702831853602,
          2.2155249653824227,
          3.841872335804078,
          4.053650457495045,
          5.3419673644484265,
          9.980722760717873,
          13.828025304770438
         ],
         "y": [
          "Novelist",
          "Lawyer",
          "Athletics competitor",
          "Model",
          "Association football player",
          "Journalist",
          "Writer",
          "Singer",
          "Politician",
          "Actor"
         ]
        },
        {
         "marker": {
          "color": "rgba(138,43,226, 0.8)",
          "line": {
           "color": "rgba(138,43,226, 1.0)",
           "width": 1
          }
         },
         "name": "male",
         "orientation": "h",
         "type": "bar",
         "x": [
          2.1605660040825225,
          2.2897798212410074,
          2.4292990348599854,
          2.472106066311263,
          2.472898789115916,
          2.61519253255118,
          4.208169008501953,
          4.613646723082106,
          10.464733744227987,
          10.952654630492082
         ],
         "y": [
          "Writer",
          "Cricketer",
          "Ice hockey player",
          "Journalist",
          "Basketball player",
          "Baseball player",
          "American football player",
          "Actor",
          "Politician",
          "Association football player"
         ]
        }
       ],
       "layout": {
        "autosize": false,
        "barmode": "stack",
        "font": {
         "family": "Nunito"
        },
        "height": 500,
        "legend": {
         "font": {
          "size": 13
         },
         "x": 0.929,
         "y": 1.038
        },
        "margin": {
         "b": 70,
         "l": 100,
         "r": 20,
         "t": 70
        },
        "template": {},
        "title": {
         "text": "Top 10 occupations for females"
        },
        "width": 1000,
        "xaxis": {
         "domain": [
          0.15,
          0.9
         ],
         "showgrid": false,
         "showline": false,
         "showticklabels": false,
         "zeroline": false
        },
        "yaxis": {
         "domain": [
          0,
          0.95
         ],
         "showgrid": false,
         "showline": false,
         "showticklabels": true,
         "tickfont": {
          "family": "Nunito",
          "size": 14
         },
         "ticksuffix": "  "
        }
       }
      }
     },
     "metadata": {},
     "output_type": "display_data"
    }
   ],
   "source": [
    "import plotly.graph_objects as go\n",
    "from plotly.subplots import make_subplots\n",
    "\n",
    "import numpy as np\n",
    "\n",
    "y_saving_f = (relevant_occupations_female['count']*100).tolist()\n",
    "\n",
    "x_f = relevant_occupations_female['meaning'].tolist()\n",
    "\n",
    "\n",
    "y_saving = (relevant_occupations_male['count']*100).tolist()\n",
    "\n",
    "x = relevant_occupations_male['meaning'].tolist()\n",
    "\n",
    "\n",
    "# Creating two subplots\n",
    "fig = go.Figure()\n",
    "\n",
    "fig.add_trace(go.Bar(\n",
    "    x=y_saving_f,\n",
    "    y=x_f,\n",
    "    marker=dict(\n",
    "        color='rgba(218,165,32, 0.8)',\n",
    "        line=dict(\n",
    "        color='rgba(218,165,32, 1.0)',\n",
    "        width=1),\n",
    "    ),\n",
    "    name='female',\n",
    "    orientation='h',\n",
    "))\n",
    "\n",
    "fig.add_trace(go.Bar(\n",
    "    x=y_saving,\n",
    "    y=x,\n",
    "    marker=dict(\n",
    "        color='rgba(138,43,226, 0.8)',\n",
    "        line=dict(\n",
    "        color='rgba(138,43,226, 1.0)',\n",
    "        width=1),\n",
    "    ),\n",
    "    name='male',\n",
    "    orientation='h',\n",
    "))\n",
    "\n",
    "fig.update_layout(\n",
    "    barmode='stack',\n",
    "    autosize=False,\n",
    "    width=1000,\n",
    "    height=500,\n",
    "    title='Top 10 occupations for females',\n",
    "    yaxis=dict(\n",
    "        showgrid=False,\n",
    "        showline=False,\n",
    "        showticklabels=True,\n",
    "        domain=[0, 0.95],\n",
    "        ticksuffix=\"  \",\n",
    "        tickfont=dict(family='Nunito', size=14),\n",
    "    ),\n",
    "    xaxis=dict(\n",
    "        zeroline=False,\n",
    "        showline=False,\n",
    "        showticklabels=False,\n",
    "        showgrid=False,\n",
    "        domain=[0.15, 0.9],\n",
    "    ),\n",
    "    legend=dict(x=0.929, y=1.038, font_size=13),\n",
    "    margin=dict(l=100, r=20, t=70, b=70),\n",
    "    template=None,\n",
    "    font_family='Nunito',\n",
    ")\n",
    "\n",
    "# annotations = []\n",
    "\n",
    "# y_s = np.round(y_saving, decimals=2)\n",
    "\n",
    "# # Adding labels\n",
    "# for yd, xd in zip(y_s, x):\n",
    "#     # labeling the bar net worth\n",
    "#     annotations.append(dict(xref='x1', yref='y1',\n",
    "#                             y=xd, x=yd + 0.6,\n",
    "#                             text=str(yd) + '%',\n",
    "#                             font=dict(family='Nunito', size=14,\n",
    "#                                       color='rgb(218,165,32)'),\n",
    "#                             showarrow=False))\n",
    "\n",
    "# fig.update_layout(annotations=annotations)\n",
    "\n",
    "fig.show()"
   ]
  },
  {
   "cell_type": "code",
   "execution_count": null,
   "metadata": {},
   "outputs": [],
   "source": []
  }
 ],
 "metadata": {
  "interpreter": {
   "hash": "4369559244255f10d34bca352df9b3f8794934e60b17f3451fa3b0f2f96527a8"
  },
  "kernelspec": {
   "display_name": "Python 3.8.8 64-bit ('base': conda)",
   "language": "python",
   "name": "python3"
  },
  "language_info": {
   "codemirror_mode": {
    "name": "ipython",
    "version": 3
   },
   "file_extension": ".py",
   "mimetype": "text/x-python",
   "name": "python",
   "nbconvert_exporter": "python",
   "pygments_lexer": "ipython3",
   "version": "3.8.8"
  },
  "orig_nbformat": 4
 },
 "nbformat": 4,
 "nbformat_minor": 2
}
