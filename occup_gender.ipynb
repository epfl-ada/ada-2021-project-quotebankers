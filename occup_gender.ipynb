{
 "cells": [
  {
   "cell_type": "code",
   "execution_count": 3,
   "metadata": {},
   "outputs": [],
   "source": [
    "import pandas as pd\n",
    "import numpy as np\n",
    "import matplotlib.pyplot as plt\n",
    "from qwikidata.linked_data_interface import get_entity_dict_from_api\n",
    "from qwikidata.entity import WikidataItem\n",
    "import itertools\n",
    "from collections import Counter\n",
    "from tqdm.notebook import tqdm\n",
    "\n",
    "from datetime import datetime\n",
    "\n",
    " \n",
    "pd.options.plotting.backend = \"plotly\""
   ]
  },
  {
   "cell_type": "code",
   "execution_count": 4,
   "metadata": {},
   "outputs": [
    {
     "name": "stdout",
     "output_type": "stream",
     "text": [
      "(326437, 5)\n"
     ]
    },
    {
     "data": {
      "text/html": [
       "<div>\n",
       "<style scoped>\n",
       "    .dataframe tbody tr th:only-of-type {\n",
       "        vertical-align: middle;\n",
       "    }\n",
       "\n",
       "    .dataframe tbody tr th {\n",
       "        vertical-align: top;\n",
       "    }\n",
       "\n",
       "    .dataframe thead th {\n",
       "        text-align: right;\n",
       "    }\n",
       "</style>\n",
       "<table border=\"1\" class=\"dataframe\">\n",
       "  <thead>\n",
       "    <tr style=\"text-align: right;\">\n",
       "      <th></th>\n",
       "      <th>n_quotes</th>\n",
       "      <th>age</th>\n",
       "      <th>nationality</th>\n",
       "      <th>gender</th>\n",
       "      <th>occupation</th>\n",
       "    </tr>\n",
       "  </thead>\n",
       "  <tbody>\n",
       "    <tr>\n",
       "      <th>Q270316</th>\n",
       "      <td>21060</td>\n",
       "      <td>74</td>\n",
       "      <td>Q30</td>\n",
       "      <td>Q6581072</td>\n",
       "      <td>Q82955</td>\n",
       "    </tr>\n",
       "    <tr>\n",
       "      <th>Q1253</th>\n",
       "      <td>94704</td>\n",
       "      <td>77</td>\n",
       "      <td>Q884</td>\n",
       "      <td>Q6581097</td>\n",
       "      <td>Q82955</td>\n",
       "    </tr>\n",
       "  </tbody>\n",
       "</table>\n",
       "</div>"
      ],
      "text/plain": [
       "         n_quotes  age nationality    gender occupation\n",
       "Q270316     21060   74         Q30  Q6581072     Q82955\n",
       "Q1253       94704   77        Q884  Q6581097     Q82955"
      ]
     },
     "execution_count": 4,
     "metadata": {},
     "output_type": "execute_result"
    }
   ],
   "source": [
    "df = pd.read_json('data\\\\clean_speakers_5.jsonl')\n",
    "print(df.shape)\n",
    "df.head(2)"
   ]
  },
  {
   "cell_type": "code",
   "execution_count": 5,
   "metadata": {},
   "outputs": [],
   "source": [
    "df_male = df[df['gender']=='Q6581097']\n",
    "df_female = df[df['gender']=='Q6581072']"
   ]
  },
  {
   "cell_type": "code",
   "execution_count": 6,
   "metadata": {},
   "outputs": [
    {
     "data": {
      "text/html": [
       "<div>\n",
       "<style scoped>\n",
       "    .dataframe tbody tr th:only-of-type {\n",
       "        vertical-align: middle;\n",
       "    }\n",
       "\n",
       "    .dataframe tbody tr th {\n",
       "        vertical-align: top;\n",
       "    }\n",
       "\n",
       "    .dataframe thead th {\n",
       "        text-align: right;\n",
       "    }\n",
       "</style>\n",
       "<table border=\"1\" class=\"dataframe\">\n",
       "  <thead>\n",
       "    <tr style=\"text-align: right;\">\n",
       "      <th></th>\n",
       "      <th>qid</th>\n",
       "      <th>count</th>\n",
       "      <th>meaning</th>\n",
       "    </tr>\n",
       "  </thead>\n",
       "  <tbody>\n",
       "    <tr>\n",
       "      <th>53</th>\n",
       "      <td>Q36180</td>\n",
       "      <td>0.021606</td>\n",
       "      <td>Writer</td>\n",
       "    </tr>\n",
       "    <tr>\n",
       "      <th>23</th>\n",
       "      <td>Q12299841</td>\n",
       "      <td>0.022898</td>\n",
       "      <td>Cricketer</td>\n",
       "    </tr>\n",
       "    <tr>\n",
       "      <th>11</th>\n",
       "      <td>Q11774891</td>\n",
       "      <td>0.024293</td>\n",
       "      <td>Ice hockey player</td>\n",
       "    </tr>\n",
       "    <tr>\n",
       "      <th>13</th>\n",
       "      <td>Q1930187</td>\n",
       "      <td>0.024721</td>\n",
       "      <td>Journalist</td>\n",
       "    </tr>\n",
       "    <tr>\n",
       "      <th>8</th>\n",
       "      <td>Q3665646</td>\n",
       "      <td>0.024729</td>\n",
       "      <td>Basketball player</td>\n",
       "    </tr>\n",
       "    <tr>\n",
       "      <th>22</th>\n",
       "      <td>Q10871364</td>\n",
       "      <td>0.026152</td>\n",
       "      <td>Baseball player</td>\n",
       "    </tr>\n",
       "    <tr>\n",
       "      <th>5</th>\n",
       "      <td>Q19204627</td>\n",
       "      <td>0.042082</td>\n",
       "      <td>American football player</td>\n",
       "    </tr>\n",
       "    <tr>\n",
       "      <th>36</th>\n",
       "      <td>Q33999</td>\n",
       "      <td>0.046136</td>\n",
       "      <td>Actor</td>\n",
       "    </tr>\n",
       "    <tr>\n",
       "      <th>0</th>\n",
       "      <td>Q82955</td>\n",
       "      <td>0.104647</td>\n",
       "      <td>Politician</td>\n",
       "    </tr>\n",
       "    <tr>\n",
       "      <th>4</th>\n",
       "      <td>Q937857</td>\n",
       "      <td>0.109527</td>\n",
       "      <td>Association football player</td>\n",
       "    </tr>\n",
       "  </tbody>\n",
       "</table>\n",
       "</div>"
      ],
      "text/plain": [
       "          qid     count                      meaning\n",
       "53     Q36180  0.021606                       Writer\n",
       "23  Q12299841  0.022898                    Cricketer\n",
       "11  Q11774891  0.024293            Ice hockey player\n",
       "13   Q1930187  0.024721                   Journalist\n",
       "8    Q3665646  0.024729            Basketball player\n",
       "22  Q10871364  0.026152              Baseball player\n",
       "5   Q19204627  0.042082     American football player\n",
       "36     Q33999  0.046136                        Actor\n",
       "0      Q82955  0.104647                   Politician\n",
       "4     Q937857  0.109527  Association football player"
      ]
     },
     "execution_count": 6,
     "metadata": {},
     "output_type": "execute_result"
    }
   ],
   "source": [
    "ctr = Counter(df_male['occupation'])\n",
    "relevant_occupations_male = pd.DataFrame.from_dict(ctr, orient='index').reset_index().rename(columns={'index': 'qid', 0: 'count'}).sort_values('count', ascending=False)[0:10]\n",
    "relevant_occupations_male['meaning'] = relevant_occupations_male['qid'].apply(lambda s: get_entity_dict_from_api(s)['labels']['en']['value'])\n",
    "relevant_occupations_male['count'] = relevant_occupations_male['count'].divide(len(df_male))\n",
    "relevant_occupations_male = relevant_occupations_male.sort_values('count', ascending=True)\n",
    "relevant_occupations_male['meaning'] = relevant_occupations_male['meaning'].map(lambda x: x.capitalize())\n",
    "relevant_occupations_male.head(10)"
   ]
  },
  {
   "cell_type": "code",
   "execution_count": 10,
   "metadata": {},
   "outputs": [
    {
     "data": {
      "application/vnd.plotly.v1+json": {
       "config": {
        "plotlyServerURL": "https://plot.ly"
       },
       "data": [
        {
         "marker": {
          "color": "rgba(138,43,226, 0.8)",
          "line": {
           "color": "rgba(138,43,226, 1.0)",
           "width": 1
          }
         },
         "name": "Top 10 male occupations in Quotebank's speakers",
         "orientation": "h",
         "type": "bar",
         "x": [
          2.1605660040825225,
          2.2897798212410074,
          2.4292990348599854,
          2.472106066311263,
          2.472898789115916,
          2.61519253255118,
          4.208169008501953,
          4.613646723082106,
          10.464733744227987,
          10.952654630492082
         ],
         "y": [
          "Writer",
          "Cricketer",
          "Ice hockey player",
          "Journalist",
          "Basketball player",
          "Baseball player",
          "American football player",
          "Actor",
          "Politician",
          "Association football player"
         ]
        }
       ],
       "layout": {
        "annotations": [
         {
          "font": {
           "color": "rgb(138,43,226)",
           "family": "Nunito",
           "size": 14
          },
          "showarrow": false,
          "text": "2.16%",
          "x": 2.66,
          "xref": "x",
          "y": "Writer",
          "yref": "y"
         },
         {
          "font": {
           "color": "rgb(138,43,226)",
           "family": "Nunito",
           "size": 14
          },
          "showarrow": false,
          "text": "2.29%",
          "x": 2.79,
          "xref": "x",
          "y": "Cricketer",
          "yref": "y"
         },
         {
          "font": {
           "color": "rgb(138,43,226)",
           "family": "Nunito",
           "size": 14
          },
          "showarrow": false,
          "text": "2.43%",
          "x": 2.93,
          "xref": "x",
          "y": "Ice hockey player",
          "yref": "y"
         },
         {
          "font": {
           "color": "rgb(138,43,226)",
           "family": "Nunito",
           "size": 14
          },
          "showarrow": false,
          "text": "2.47%",
          "x": 2.97,
          "xref": "x",
          "y": "Journalist",
          "yref": "y"
         },
         {
          "font": {
           "color": "rgb(138,43,226)",
           "family": "Nunito",
           "size": 14
          },
          "showarrow": false,
          "text": "2.47%",
          "x": 2.97,
          "xref": "x",
          "y": "Basketball player",
          "yref": "y"
         },
         {
          "font": {
           "color": "rgb(138,43,226)",
           "family": "Nunito",
           "size": 14
          },
          "showarrow": false,
          "text": "2.62%",
          "x": 3.12,
          "xref": "x",
          "y": "Baseball player",
          "yref": "y"
         },
         {
          "font": {
           "color": "rgb(138,43,226)",
           "family": "Nunito",
           "size": 14
          },
          "showarrow": false,
          "text": "4.21%",
          "x": 4.71,
          "xref": "x",
          "y": "American football player",
          "yref": "y"
         },
         {
          "font": {
           "color": "rgb(138,43,226)",
           "family": "Nunito",
           "size": 14
          },
          "showarrow": false,
          "text": "4.61%",
          "x": 5.11,
          "xref": "x",
          "y": "Actor",
          "yref": "y"
         },
         {
          "font": {
           "color": "rgb(138,43,226)",
           "family": "Nunito",
           "size": 14
          },
          "showarrow": false,
          "text": "10.46%",
          "x": 10.96,
          "xref": "x",
          "y": "Politician",
          "yref": "y"
         },
         {
          "font": {
           "color": "rgb(138,43,226)",
           "family": "Nunito",
           "size": 14
          },
          "showarrow": false,
          "text": "10.95%",
          "x": 11.45,
          "xref": "x",
          "y": "Association football player",
          "yref": "y"
         }
        ],
        "autosize": false,
        "font": {
         "family": "Nunito"
        },
        "height": 500,
        "legend": {
         "font": {
          "size": 13
         },
         "x": 0.029,
         "y": 1.038
        },
        "margin": {
         "b": 70,
         "l": 100,
         "r": 20,
         "t": 70
        },
        "template": {},
        "title": {
         "text": "Top 10 occupations for males"
        },
        "width": 1000,
        "xaxis": {
         "domain": [
          0.15,
          0.9
         ],
         "showgrid": false,
         "showline": false,
         "showticklabels": false,
         "zeroline": false
        },
        "yaxis": {
         "domain": [
          0,
          0.95
         ],
         "showgrid": false,
         "showline": false,
         "showticklabels": true,
         "tickfont": {
          "family": "Nunito",
          "size": 14
         },
         "ticksuffix": "  "
        }
       }
      }
     },
     "metadata": {},
     "output_type": "display_data"
    }
   ],
   "source": [
    "import plotly.graph_objects as go\n",
    "from plotly.subplots import make_subplots\n",
    "\n",
    "import numpy as np\n",
    "\n",
    "y_saving = (relevant_occupations_male['count']*100).tolist()\n",
    "\n",
    "x = relevant_occupations_male['meaning'].tolist()\n",
    "\n",
    "\n",
    "# Creating two subplots\n",
    "fig = go.Figure()\n",
    "\n",
    "fig.add_trace(go.Bar(\n",
    "    x=y_saving,\n",
    "    y=x,\n",
    "    marker=dict(\n",
    "        color='rgba(138,43,226, 0.8)',\n",
    "        line=dict(\n",
    "        color='rgba(138,43,226, 1.0)',\n",
    "        width=1),\n",
    "    ),\n",
    "    name='Top 10 male occupations in Quotebank\\'s speakers',\n",
    "    orientation='h',\n",
    "))\n",
    "\n",
    "fig.update_layout(\n",
    "    autosize=False,\n",
    "    width=1000,\n",
    "    height=500,\n",
    "    title='Top 10 occupations for males',\n",
    "    yaxis=dict(\n",
    "        showgrid=False,\n",
    "        showline=False,\n",
    "        showticklabels=True,\n",
    "        domain=[0, 0.95],\n",
    "        ticksuffix=\"  \",\n",
    "        tickfont=dict(family='Nunito', size=14),\n",
    "    ),\n",
    "    xaxis=dict(\n",
    "        zeroline=False,\n",
    "        showline=False,\n",
    "        showticklabels=False,\n",
    "        showgrid=False,\n",
    "        domain=[0.15, 0.9],\n",
    "    ),\n",
    "    legend=dict(x=0.029, y=1.038, font_size=13),\n",
    "    margin=dict(l=100, r=20, t=70, b=70),\n",
    "    template=None,\n",
    "    font_family='Nunito',\n",
    ")\n",
    "\n",
    "annotations = []\n",
    "\n",
    "y_s = np.round(y_saving, decimals=2)\n",
    "\n",
    "# Adding labels\n",
    "for yd, xd in zip(y_s, x):\n",
    "    # labeling the bar net worth\n",
    "    annotations.append(dict(xref='x1', yref='y1',\n",
    "                            y=xd, x=yd + 0.5,\n",
    "                            text=str(yd) + '%',\n",
    "                            font=dict(family='Nunito', size=14,\n",
    "                                      color='rgb(138,43,226)'),\n",
    "                            showarrow=False))\n",
    "\n",
    "fig.update_layout(annotations=annotations)\n",
    "\n",
    "fig.show()\n",
    "fig.write_html(\"images/top10_occupations_males.html\")"
   ]
  },
  {
   "cell_type": "code",
   "execution_count": 11,
   "metadata": {},
   "outputs": [
    {
     "data": {
      "text/html": [
       "<div>\n",
       "<style scoped>\n",
       "    .dataframe tbody tr th:only-of-type {\n",
       "        vertical-align: middle;\n",
       "    }\n",
       "\n",
       "    .dataframe tbody tr th {\n",
       "        vertical-align: top;\n",
       "    }\n",
       "\n",
       "    .dataframe thead th {\n",
       "        text-align: right;\n",
       "    }\n",
       "</style>\n",
       "<table border=\"1\" class=\"dataframe\">\n",
       "  <thead>\n",
       "    <tr style=\"text-align: right;\">\n",
       "      <th></th>\n",
       "      <th>qid</th>\n",
       "      <th>count</th>\n",
       "      <th>meaning</th>\n",
       "    </tr>\n",
       "  </thead>\n",
       "  <tbody>\n",
       "    <tr>\n",
       "      <th>62</th>\n",
       "      <td>Q6625963</td>\n",
       "      <td>0.014811</td>\n",
       "      <td>Novelist</td>\n",
       "    </tr>\n",
       "    <tr>\n",
       "      <th>14</th>\n",
       "      <td>Q40348</td>\n",
       "      <td>0.015395</td>\n",
       "      <td>Lawyer</td>\n",
       "    </tr>\n",
       "    <tr>\n",
       "      <th>11</th>\n",
       "      <td>Q11513337</td>\n",
       "      <td>0.017200</td>\n",
       "      <td>Athletics competitor</td>\n",
       "    </tr>\n",
       "    <tr>\n",
       "      <th>7</th>\n",
       "      <td>Q4610556</td>\n",
       "      <td>0.020947</td>\n",
       "      <td>Model</td>\n",
       "    </tr>\n",
       "    <tr>\n",
       "      <th>46</th>\n",
       "      <td>Q937857</td>\n",
       "      <td>0.022155</td>\n",
       "      <td>Association football player</td>\n",
       "    </tr>\n",
       "    <tr>\n",
       "      <th>1</th>\n",
       "      <td>Q1930187</td>\n",
       "      <td>0.038419</td>\n",
       "      <td>Journalist</td>\n",
       "    </tr>\n",
       "    <tr>\n",
       "      <th>52</th>\n",
       "      <td>Q36180</td>\n",
       "      <td>0.040537</td>\n",
       "      <td>Writer</td>\n",
       "    </tr>\n",
       "    <tr>\n",
       "      <th>19</th>\n",
       "      <td>Q177220</td>\n",
       "      <td>0.053420</td>\n",
       "      <td>Singer</td>\n",
       "    </tr>\n",
       "    <tr>\n",
       "      <th>0</th>\n",
       "      <td>Q82955</td>\n",
       "      <td>0.099807</td>\n",
       "      <td>Politician</td>\n",
       "    </tr>\n",
       "    <tr>\n",
       "      <th>10</th>\n",
       "      <td>Q33999</td>\n",
       "      <td>0.138280</td>\n",
       "      <td>Actor</td>\n",
       "    </tr>\n",
       "  </tbody>\n",
       "</table>\n",
       "</div>"
      ],
      "text/plain": [
       "          qid     count                      meaning\n",
       "62   Q6625963  0.014811                     Novelist\n",
       "14     Q40348  0.015395                       Lawyer\n",
       "11  Q11513337  0.017200         Athletics competitor\n",
       "7    Q4610556  0.020947                        Model\n",
       "46    Q937857  0.022155  Association football player\n",
       "1    Q1930187  0.038419                   Journalist\n",
       "52     Q36180  0.040537                       Writer\n",
       "19    Q177220  0.053420                       Singer\n",
       "0      Q82955  0.099807                   Politician\n",
       "10     Q33999  0.138280                        Actor"
      ]
     },
     "execution_count": 11,
     "metadata": {},
     "output_type": "execute_result"
    }
   ],
   "source": [
    "ctr = Counter(df_female['occupation'])\n",
    "relevant_occupations_female = pd.DataFrame.from_dict(ctr, orient='index').reset_index().rename(columns={'index': 'qid', 0: 'count'}).sort_values('count', ascending=False)[0:10]\n",
    "relevant_occupations_female['meaning'] = relevant_occupations_female['qid'].apply(lambda s: get_entity_dict_from_api(s)['labels']['en']['value'])\n",
    "relevant_occupations_female['count'] = relevant_occupations_female['count'].divide(len(df_female))\n",
    "relevant_occupations_female = relevant_occupations_female.sort_values('count', ascending=True)\n",
    "relevant_occupations_female['meaning'] = relevant_occupations_female['meaning'].map(lambda x: x.capitalize())\n",
    "relevant_occupations_female.head(10)"
   ]
  },
  {
   "cell_type": "code",
   "execution_count": 14,
   "metadata": {},
   "outputs": [
    {
     "data": {
      "application/vnd.plotly.v1+json": {
       "config": {
        "plotlyServerURL": "https://plot.ly"
       },
       "data": [
        {
         "marker": {
          "color": "rgba(218,165,32, 0.8)",
          "line": {
           "color": "rgba(218,165,32, 1.0)",
           "width": 1
          }
         },
         "name": "Top 10 male occupations in Quotebank's speakers",
         "orientation": "h",
         "type": "bar",
         "x": [
          1.4810892997746465,
          1.5394640384458744,
          1.7200184627080446,
          2.094702831853602,
          2.2155249653824227,
          3.841872335804078,
          4.053650457495045,
          5.3419673644484265,
          9.980722760717873,
          13.828025304770438
         ],
         "y": [
          "Novelist",
          "Lawyer",
          "Athletics competitor",
          "Model",
          "Association football player",
          "Journalist",
          "Writer",
          "Singer",
          "Politician",
          "Actor"
         ]
        }
       ],
       "layout": {
        "annotations": [
         {
          "font": {
           "color": "rgb(218,165,32)",
           "family": "Nunito",
           "size": 14
          },
          "showarrow": false,
          "text": "1.48%",
          "x": 2.08,
          "xref": "x",
          "y": "Novelist",
          "yref": "y"
         },
         {
          "font": {
           "color": "rgb(218,165,32)",
           "family": "Nunito",
           "size": 14
          },
          "showarrow": false,
          "text": "1.54%",
          "x": 2.14,
          "xref": "x",
          "y": "Lawyer",
          "yref": "y"
         },
         {
          "font": {
           "color": "rgb(218,165,32)",
           "family": "Nunito",
           "size": 14
          },
          "showarrow": false,
          "text": "1.72%",
          "x": 2.32,
          "xref": "x",
          "y": "Athletics competitor",
          "yref": "y"
         },
         {
          "font": {
           "color": "rgb(218,165,32)",
           "family": "Nunito",
           "size": 14
          },
          "showarrow": false,
          "text": "2.09%",
          "x": 2.69,
          "xref": "x",
          "y": "Model",
          "yref": "y"
         },
         {
          "font": {
           "color": "rgb(218,165,32)",
           "family": "Nunito",
           "size": 14
          },
          "showarrow": false,
          "text": "2.22%",
          "x": 2.8200000000000003,
          "xref": "x",
          "y": "Association football player",
          "yref": "y"
         },
         {
          "font": {
           "color": "rgb(218,165,32)",
           "family": "Nunito",
           "size": 14
          },
          "showarrow": false,
          "text": "3.84%",
          "x": 4.4399999999999995,
          "xref": "x",
          "y": "Journalist",
          "yref": "y"
         },
         {
          "font": {
           "color": "rgb(218,165,32)",
           "family": "Nunito",
           "size": 14
          },
          "showarrow": false,
          "text": "4.05%",
          "x": 4.6499999999999995,
          "xref": "x",
          "y": "Writer",
          "yref": "y"
         },
         {
          "font": {
           "color": "rgb(218,165,32)",
           "family": "Nunito",
           "size": 14
          },
          "showarrow": false,
          "text": "5.34%",
          "x": 5.9399999999999995,
          "xref": "x",
          "y": "Singer",
          "yref": "y"
         },
         {
          "font": {
           "color": "rgb(218,165,32)",
           "family": "Nunito",
           "size": 14
          },
          "showarrow": false,
          "text": "9.98%",
          "x": 10.58,
          "xref": "x",
          "y": "Politician",
          "yref": "y"
         },
         {
          "font": {
           "color": "rgb(218,165,32)",
           "family": "Nunito",
           "size": 14
          },
          "showarrow": false,
          "text": "13.83%",
          "x": 14.43,
          "xref": "x",
          "y": "Actor",
          "yref": "y"
         }
        ],
        "autosize": false,
        "font": {
         "family": "Nunito"
        },
        "height": 500,
        "legend": {
         "font": {
          "size": 13
         },
         "x": 0.029,
         "y": 1.038
        },
        "margin": {
         "b": 70,
         "l": 100,
         "r": 20,
         "t": 70
        },
        "template": {},
        "title": {
         "text": "Top 10 occupations for females"
        },
        "width": 1000,
        "xaxis": {
         "domain": [
          0.15,
          0.9
         ],
         "showgrid": false,
         "showline": false,
         "showticklabels": false,
         "zeroline": false
        },
        "yaxis": {
         "domain": [
          0,
          0.95
         ],
         "showgrid": false,
         "showline": false,
         "showticklabels": true,
         "tickfont": {
          "family": "Nunito",
          "size": 14
         },
         "ticksuffix": "  "
        }
       }
      }
     },
     "metadata": {},
     "output_type": "display_data"
    }
   ],
   "source": [
    "import plotly.graph_objects as go\n",
    "from plotly.subplots import make_subplots\n",
    "\n",
    "import numpy as np\n",
    "\n",
    "y_saving = (relevant_occupations_female['count']*100).tolist()\n",
    "\n",
    "x = relevant_occupations_female['meaning'].tolist()\n",
    "\n",
    "\n",
    "# Creating two subplots\n",
    "fig = go.Figure()\n",
    "\n",
    "fig.add_trace(go.Bar(\n",
    "    x=y_saving,\n",
    "    y=x,\n",
    "    marker=dict(\n",
    "        color='rgba(218,165,32, 0.8)',\n",
    "        line=dict(\n",
    "        color='rgba(218,165,32, 1.0)',\n",
    "        width=1),\n",
    "    ),\n",
    "    name='Top 10 male occupations in Quotebank\\'s speakers',\n",
    "    orientation='h',\n",
    "))\n",
    "\n",
    "fig.update_layout(\n",
    "    autosize=False,\n",
    "    width=1000,\n",
    "    height=500,\n",
    "    title='Top 10 occupations for females',\n",
    "    yaxis=dict(\n",
    "        showgrid=False,\n",
    "        showline=False,\n",
    "        showticklabels=True,\n",
    "        domain=[0, 0.95],\n",
    "        ticksuffix=\"  \",\n",
    "        tickfont=dict(family='Nunito', size=14),\n",
    "    ),\n",
    "    xaxis=dict(\n",
    "        zeroline=False,\n",
    "        showline=False,\n",
    "        showticklabels=False,\n",
    "        showgrid=False,\n",
    "        domain=[0.15, 0.9],\n",
    "    ),\n",
    "    legend=dict(x=0.029, y=1.038, font_size=13),\n",
    "    margin=dict(l=100, r=20, t=70, b=70),\n",
    "    template=None,\n",
    "    font_family='Nunito',\n",
    ")\n",
    "\n",
    "annotations = []\n",
    "\n",
    "y_s = np.round(y_saving, decimals=2)\n",
    "\n",
    "# Adding labels\n",
    "for yd, xd in zip(y_s, x):\n",
    "    # labeling the bar net worth\n",
    "    annotations.append(dict(xref='x1', yref='y1',\n",
    "                            y=xd, x=yd + 0.6,\n",
    "                            text=str(yd) + '%',\n",
    "                            font=dict(family='Nunito', size=14,\n",
    "                                      color='rgb(218,165,32)'),\n",
    "                            showarrow=False))\n",
    "\n",
    "fig.update_layout(annotations=annotations)\n",
    "\n",
    "fig.show()\n",
    "fig.write_html(\"images/top10_occupations_females.html\")"
   ]
  },
  {
   "cell_type": "code",
   "execution_count": 13,
   "metadata": {},
   "outputs": [
    {
     "data": {
      "application/vnd.plotly.v1+json": {
       "config": {
        "plotlyServerURL": "https://plot.ly"
       },
       "data": [
        {
         "marker": {
          "color": "rgba(218,165,32, 0.8)",
          "line": {
           "color": "rgba(218,165,32, 1.0)",
           "width": 1
          }
         },
         "name": "female",
         "orientation": "h",
         "type": "bar",
         "x": [
          1.4810892997746465,
          1.5394640384458744,
          1.7200184627080446,
          2.094702831853602,
          2.2155249653824227,
          3.841872335804078,
          4.053650457495045,
          5.3419673644484265,
          9.980722760717873,
          13.828025304770438
         ],
         "y": [
          "Novelist",
          "Lawyer",
          "Athletics competitor",
          "Model",
          "Association football player",
          "Journalist",
          "Writer",
          "Singer",
          "Politician",
          "Actor"
         ]
        },
        {
         "marker": {
          "color": "rgba(138,43,226, 0.8)",
          "line": {
           "color": "rgba(138,43,226, 1.0)",
           "width": 1
          }
         },
         "name": "male",
         "orientation": "h",
         "type": "bar",
         "x": [
          2.1605660040825225,
          2.2897798212410074,
          2.4292990348599854,
          2.472106066311263,
          2.472898789115916,
          2.61519253255118,
          4.208169008501953,
          4.613646723082106,
          10.464733744227987,
          10.952654630492082
         ],
         "y": [
          "Writer",
          "Cricketer",
          "Ice hockey player",
          "Journalist",
          "Basketball player",
          "Baseball player",
          "American football player",
          "Actor",
          "Politician",
          "Association football player"
         ]
        }
       ],
       "layout": {
        "autosize": false,
        "barmode": "stack",
        "font": {
         "family": "Nunito"
        },
        "height": 500,
        "legend": {
         "font": {
          "size": 13
         },
         "x": 0.929,
         "y": 1.038
        },
        "margin": {
         "b": 70,
         "l": 100,
         "r": 20,
         "t": 70
        },
        "template": {},
        "title": {
         "text": "Top 10 occupations for females"
        },
        "width": 1000,
        "xaxis": {
         "domain": [
          0.15,
          0.9
         ],
         "showgrid": false,
         "showline": false,
         "showticklabels": false,
         "zeroline": false
        },
        "yaxis": {
         "domain": [
          0,
          0.95
         ],
         "showgrid": false,
         "showline": false,
         "showticklabels": true,
         "tickfont": {
          "family": "Nunito",
          "size": 14
         },
         "ticksuffix": "  "
        }
       }
      }
     },
     "metadata": {},
     "output_type": "display_data"
    }
   ],
   "source": [
    "import plotly.graph_objects as go\n",
    "from plotly.subplots import make_subplots\n",
    "\n",
    "import numpy as np\n",
    "\n",
    "y_saving_f = (relevant_occupations_female['count']*100).tolist()\n",
    "\n",
    "x_f = relevant_occupations_female['meaning'].tolist()\n",
    "\n",
    "\n",
    "y_saving = (relevant_occupations_male['count']*100).tolist()\n",
    "\n",
    "x = relevant_occupations_male['meaning'].tolist()\n",
    "\n",
    "\n",
    "# Creating two subplots\n",
    "fig = go.Figure()\n",
    "\n",
    "fig.add_trace(go.Bar(\n",
    "    x=y_saving_f,\n",
    "    y=x_f,\n",
    "    marker=dict(\n",
    "        color='rgba(218,165,32, 0.8)',\n",
    "        line=dict(\n",
    "        color='rgba(218,165,32, 1.0)',\n",
    "        width=1),\n",
    "    ),\n",
    "    name='female',\n",
    "    orientation='h',\n",
    "))\n",
    "\n",
    "fig.add_trace(go.Bar(\n",
    "    x=y_saving,\n",
    "    y=x,\n",
    "    marker=dict(\n",
    "        color='rgba(138,43,226, 0.8)',\n",
    "        line=dict(\n",
    "        color='rgba(138,43,226, 1.0)',\n",
    "        width=1),\n",
    "    ),\n",
    "    name='male',\n",
    "    orientation='h',\n",
    "))\n",
    "\n",
    "fig.update_layout(\n",
    "    barmode='stack',\n",
    "    autosize=False,\n",
    "    width=1000,\n",
    "    height=500,\n",
    "    title='Top 10 occupations for females',\n",
    "    yaxis=dict(\n",
    "        showgrid=False,\n",
    "        showline=False,\n",
    "        showticklabels=True,\n",
    "        domain=[0, 0.95],\n",
    "        ticksuffix=\"  \",\n",
    "        tickfont=dict(family='Nunito', size=14),\n",
    "    ),\n",
    "    xaxis=dict(\n",
    "        zeroline=False,\n",
    "        showline=False,\n",
    "        showticklabels=False,\n",
    "        showgrid=False,\n",
    "        domain=[0.15, 0.9],\n",
    "    ),\n",
    "    legend=dict(x=0.929, y=1.038, font_size=13),\n",
    "    margin=dict(l=100, r=20, t=70, b=70),\n",
    "    template=None,\n",
    "    font_family='Nunito',\n",
    ")\n",
    "\n",
    "# annotations = []\n",
    "\n",
    "# y_s = np.round(y_saving, decimals=2)\n",
    "\n",
    "# # Adding labels\n",
    "# for yd, xd in zip(y_s, x):\n",
    "#     # labeling the bar net worth\n",
    "#     annotations.append(dict(xref='x1', yref='y1',\n",
    "#                             y=xd, x=yd + 0.6,\n",
    "#                             text=str(yd) + '%',\n",
    "#                             font=dict(family='Nunito', size=14,\n",
    "#                                       color='rgb(218,165,32)'),\n",
    "#                             showarrow=False))\n",
    "\n",
    "# fig.update_layout(annotations=annotations)\n",
    "\n",
    "fig.show()"
   ]
  },
  {
   "cell_type": "code",
   "execution_count": null,
   "metadata": {},
   "outputs": [],
   "source": [
    "import plotly.graph_objects as go\n",
    "from plotly.subplots import make_subplots\n",
    "\n",
    "import numpy as np\n",
    "\n",
    "y_saving = (relevant_occupations_male['count']*100).tolist()\n",
    "\n",
    "x = relevant_occupations_male['meaning'].tolist()\n",
    "\n",
    "\n",
    "# Creating two subplots\n",
    "fig = go.Figure()\n",
    "\n",
    "fig.add_trace(go.Bar(\n",
    "    x=y_saving,\n",
    "    y=x,\n",
    "    marker=dict(\n",
    "        color='rgba(138,43,226, 0.8)',\n",
    "        line=dict(\n",
    "        color='rgba(138,43,226, 1.0)',\n",
    "        width=1),\n",
    "    ),\n",
    "    name='Top 10 male occupations in Quotebank\\'s speakers',\n",
    "    orientation='h',\n",
    "))\n",
    "\n",
    "fig.update_layout(\n",
    "    autosize=False,\n",
    "    width=1000,\n",
    "    height=500,\n",
    "    title='Top 10 occupations for males',\n",
    "    yaxis=dict(\n",
    "        showgrid=False,\n",
    "        showline=False,\n",
    "        showticklabels=True,\n",
    "        domain=[0, 0.95],\n",
    "        ticksuffix=\"  \",\n",
    "        tickfont=dict(family='Nunito', size=14),\n",
    "    ),\n",
    "    xaxis=dict(\n",
    "        zeroline=False,\n",
    "        showline=False,\n",
    "        showticklabels=False,\n",
    "        showgrid=False,\n",
    "        domain=[0.15, 0.9],\n",
    "    ),\n",
    "    legend=dict(x=0.029, y=1.038, font_size=13),\n",
    "    margin=dict(l=100, r=20, t=70, b=70),\n",
    "    template=None,\n",
    "    font_family='Nunito',\n",
    ")\n",
    "\n",
    "annotations = []\n",
    "\n",
    "y_s = np.round(y_saving, decimals=2)\n",
    "\n",
    "# Adding labels\n",
    "for yd, xd in zip(y_s, x):\n",
    "    # labeling the bar net worth\n",
    "    annotations.append(dict(xref='x1', yref='y1',\n",
    "                            y=xd, x=yd + 0.5,\n",
    "                            text=str(yd) + '%',\n",
    "                            font=dict(family='Nunito', size=14,\n",
    "                                      color='rgb(138,43,226)'),\n",
    "                            showarrow=False))\n",
    "\n",
    "fig.update_layout(annotations=annotations)\n",
    "\n",
    "fig.show()\n",
    "fig.write_html(\"images/top10_occupations_males.html\")"
   ]
  }
 ],
 "metadata": {
  "interpreter": {
   "hash": "4369559244255f10d34bca352df9b3f8794934e60b17f3451fa3b0f2f96527a8"
  },
  "kernelspec": {
   "display_name": "Python 3.8.8 64-bit ('base': conda)",
   "language": "python",
   "name": "python3"
  },
  "language_info": {
   "codemirror_mode": {
    "name": "ipython",
    "version": 3
   },
   "file_extension": ".py",
   "mimetype": "text/x-python",
   "name": "python",
   "nbconvert_exporter": "python",
   "pygments_lexer": "ipython3",
   "version": "3.9.2"
  },
  "orig_nbformat": 4
 },
 "nbformat": 4,
 "nbformat_minor": 2
}
