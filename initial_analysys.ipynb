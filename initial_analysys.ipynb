{
 "cells": [
  {
   "cell_type": "markdown",
   "id": "b96aed65-125a-4489-8c08-622e99d0ca60",
   "metadata": {},
   "source": [
    "# Who has a voice in the media?"
   ]
  },
  {
   "cell_type": "markdown",
   "id": "72bb7cc0-60c0-45c3-8c11-10233b200116",
   "metadata": {},
   "source": [
    "## 1) Initial operations on dataset"
   ]
  },
  {
   "cell_type": "code",
   "execution_count": null,
   "id": "5bd2388a-7815-41c3-881b-9506eea2d595",
   "metadata": {},
   "outputs": [],
   "source": [
    "# Download datasets\n",
    "# Clean datasets\n"
   ]
  },
  {
   "cell_type": "code",
   "execution_count": null,
   "id": "c9ad4402-f0e9-4204-bc2a-d20bf4ac5940",
   "metadata": {},
   "outputs": [],
   "source": []
  },
  {
   "cell_type": "code",
   "execution_count": null,
   "id": "b7a93dcf-240f-4470-b976-e6cfe168fb1a",
   "metadata": {},
   "outputs": [],
   "source": []
  },
  {
   "cell_type": "code",
   "execution_count": null,
   "id": "25e4fde0-aa74-47ed-adb8-388792b6dc79",
   "metadata": {},
   "outputs": [],
   "source": []
  }
 ],
 "metadata": {
  "kernelspec": {
   "display_name": "Python 3",
   "language": "python",
   "name": "python3"
  },
  "language_info": {
   "codemirror_mode": {
    "name": "ipython",
    "version": 3
   },
   "file_extension": ".py",
   "mimetype": "text/x-python",
   "name": "python",
   "nbconvert_exporter": "python",
   "pygments_lexer": "ipython3",
   "version": "3.9.2"
  }
 },
 "nbformat": 4,
 "nbformat_minor": 5
}
