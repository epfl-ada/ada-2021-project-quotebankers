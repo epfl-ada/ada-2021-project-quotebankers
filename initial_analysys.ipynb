{
 "cells": [
  {
   "cell_type": "markdown",
   "id": "b96aed65-125a-4489-8c08-622e99d0ca60",
   "metadata": {},
   "source": [
    "# Who has a voice in the media?"
   ]
  },
  {
   "cell_type": "markdown",
   "id": "72bb7cc0-60c0-45c3-8c11-10233b200116",
   "metadata": {},
   "source": [
    "## 1) Initial operations on dataset"
   ]
  },
  {
   "cell_type": "code",
   "execution_count": 16,
   "id": "5bd2388a-7815-41c3-881b-9506eea2d595",
   "metadata": {},
   "outputs": [
    {
     "name": "stdout",
     "output_type": "stream",
     "text": [
      "\n",
      "Processing chunk...\n",
      "- Dropped 0 duplicate rows with same quoteID;\n",
      "- Dropped 354 rows with NaN speaker or quotation;\n"
     ]
    }
   ],
   "source": [
    "import pandas as pd\n",
    "import numpy as np\n",
    "\n",
    "def clean_data(chunk):\n",
    "    print('\\nProcessing chunk...')\n",
    "        \n",
    "    # Drop duplicate quoteIDs\n",
    "    nr_rows = chunk.shape[0]\n",
    "    chunk = chunk.drop_duplicates(subset=['quoteID'])\n",
    "    print('- Dropped {} duplicate rows with same quoteID;'.format(nr_rows - chunk.shape[0]))\n",
    "    \n",
    "    # Drop quotes where either speaker or quotation is None\n",
    "    nr_rows = chunk.shape[0]\n",
    "    chunk.replace(to_replace=['None'], value=np.nan, inplace=True)\n",
    "    chunk = chunk.dropna(axis=0, subset=['speaker', 'quotation'])\n",
    "    print('- Dropped {} rows with NaN speaker or quotation;'.format(nr_rows - chunk.shape[0]))\n",
    "\n",
    "    return chunk\n",
    "    \n",
    "chunk_list = []\n",
    "with pd.read_json('data/quotes-2020.json.bz2', lines=True, compression='bz2', chunksize=1_000) as df_reader:\n",
    "    for chunk in df_reader:\n",
    "        processed_chunk = clean_data(chunk)\n",
    "        chunk_list.append(processed_chunk)\n",
    "large_df = pd.concat(chunk_list, ignore_index=True)\n",
    "large_df.to_csv(path_or_buf='data/clean-quotes-2020.bz2', compression='bz2')    "
   ]
  },
  {
   "cell_type": "code",
   "execution_count": null,
   "id": "c9ad4402-f0e9-4204-bc2a-d20bf4ac5940",
   "metadata": {},
   "outputs": [],
   "source": []
  },
  {
   "cell_type": "code",
   "execution_count": null,
   "id": "b7a93dcf-240f-4470-b976-e6cfe168fb1a",
   "metadata": {},
   "outputs": [],
   "source": []
  },
  {
   "cell_type": "code",
   "execution_count": null,
   "id": "25e4fde0-aa74-47ed-adb8-388792b6dc79",
   "metadata": {},
   "outputs": [],
   "source": []
  }
 ],
 "metadata": {
  "kernelspec": {
   "display_name": "Python 3",
   "language": "python",
   "name": "python3"
  },
  "language_info": {
   "codemirror_mode": {
    "name": "ipython",
    "version": 3
   },
   "file_extension": ".py",
   "mimetype": "text/x-python",
   "name": "python",
   "nbconvert_exporter": "python",
   "pygments_lexer": "ipython3",
   "version": "3.9.2"
  }
 },
 "nbformat": 4,
 "nbformat_minor": 5
}
