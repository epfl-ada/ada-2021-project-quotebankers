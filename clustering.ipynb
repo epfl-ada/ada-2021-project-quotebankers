{
 "cells": [
  {
   "cell_type": "markdown",
   "id": "b96aed65-125a-4489-8c08-622e99d0ca60",
   "metadata": {},
   "source": [
    "# _Who has a voice in the media?_\n",
    "## Clustering"
   ]
  },
  {
   "cell_type": "code",
   "execution_count": 2,
   "id": "8e15f9ce-bf3e-4ac7-bd12-561bdd5fbe8b",
   "metadata": {},
   "outputs": [
    {
     "name": "stderr",
     "output_type": "stream",
     "text": [
      "[nltk_data] Downloading package wordnet to\n",
      "[nltk_data]     C:\\Users\\mathe\\AppData\\Roaming\\nltk_data...\n",
      "[nltk_data]   Package wordnet is already up-to-date!\n"
     ]
    }
   ],
   "source": [
    "import pandas as pd\n",
    "import numpy as np\n",
    "import matplotlib.pyplot as plt\n",
    "from datetime import datetime\n",
    "from collections import Counter\n",
    "from qwikidata.linked_data_interface import get_entity_dict_from_api\n",
    "import json\n",
    "import pickle\n",
    "from nltk.corpus import wordnet as wn\n",
    "import nltk\n",
    "_ = nltk.download('wordnet')"
   ]
  },
  {
   "cell_type": "markdown",
   "id": "9adc63ac",
   "metadata": {},
   "source": [
    "### 1. Download and pre-process the dataset of speakers"
   ]
  },
  {
   "cell_type": "markdown",
   "id": "d8403fb6",
   "metadata": {},
   "source": [
    "#### 1.1 Download"
   ]
  },
  {
   "cell_type": "code",
   "execution_count": 3,
   "id": "6ab6d30f",
   "metadata": {},
   "outputs": [
    {
     "name": "stdout",
     "output_type": "stream",
     "text": [
      "(691122, 16)\n"
     ]
    },
    {
     "data": {
      "text/html": [
       "<div>\n",
       "<style scoped>\n",
       "    .dataframe tbody tr th:only-of-type {\n",
       "        vertical-align: middle;\n",
       "    }\n",
       "\n",
       "    .dataframe tbody tr th {\n",
       "        vertical-align: top;\n",
       "    }\n",
       "\n",
       "    .dataframe thead th {\n",
       "        text-align: right;\n",
       "    }\n",
       "</style>\n",
       "<table border=\"1\" class=\"dataframe\">\n",
       "  <thead>\n",
       "    <tr style=\"text-align: right;\">\n",
       "      <th></th>\n",
       "      <th>aliases</th>\n",
       "      <th>date_of_birth</th>\n",
       "      <th>nationality</th>\n",
       "      <th>gender</th>\n",
       "      <th>lastrevid</th>\n",
       "      <th>ethnic_group</th>\n",
       "      <th>US_congress_bio_ID</th>\n",
       "      <th>occupation</th>\n",
       "      <th>party</th>\n",
       "      <th>academic_degree</th>\n",
       "      <th>label</th>\n",
       "      <th>candidacy</th>\n",
       "      <th>type</th>\n",
       "      <th>religion</th>\n",
       "      <th>n_unique_quotes</th>\n",
       "      <th>n_quotes</th>\n",
       "    </tr>\n",
       "  </thead>\n",
       "  <tbody>\n",
       "    <tr>\n",
       "      <th>Q270316</th>\n",
       "      <td>[Cynthia Jeanne Bowers, C. Jeanne Shaheen]</td>\n",
       "      <td>[+1947-01-28T00:00:00Z]</td>\n",
       "      <td>[Q30]</td>\n",
       "      <td>[Q6581072]</td>\n",
       "      <td>1393026432</td>\n",
       "      <td>None</td>\n",
       "      <td>S001181</td>\n",
       "      <td>[Q82955]</td>\n",
       "      <td>[Q29552]</td>\n",
       "      <td>None</td>\n",
       "      <td>Jeanne Shaheen</td>\n",
       "      <td>None</td>\n",
       "      <td>item</td>\n",
       "      <td>[Q23540]</td>\n",
       "      <td>4094</td>\n",
       "      <td>21060</td>\n",
       "    </tr>\n",
       "    <tr>\n",
       "      <th>Q1253</th>\n",
       "      <td>[Ban Kimoon, Ban Ki Moon]</td>\n",
       "      <td>[+1944-06-13T00:00:00Z]</td>\n",
       "      <td>[Q884]</td>\n",
       "      <td>[Q6581097]</td>\n",
       "      <td>1384825460</td>\n",
       "      <td>[Q484464]</td>\n",
       "      <td>None</td>\n",
       "      <td>[Q82955, Q193391]</td>\n",
       "      <td>[Q327591]</td>\n",
       "      <td>None</td>\n",
       "      <td>Ban Ki-moon</td>\n",
       "      <td>None</td>\n",
       "      <td>item</td>\n",
       "      <td>[Q9581, Q748]</td>\n",
       "      <td>12746</td>\n",
       "      <td>94704</td>\n",
       "    </tr>\n",
       "  </tbody>\n",
       "</table>\n",
       "</div>"
      ],
      "text/plain": [
       "                                            aliases            date_of_birth  \\\n",
       "Q270316  [Cynthia Jeanne Bowers, C. Jeanne Shaheen]  [+1947-01-28T00:00:00Z]   \n",
       "Q1253                     [Ban Kimoon, Ban Ki Moon]  [+1944-06-13T00:00:00Z]   \n",
       "\n",
       "        nationality      gender   lastrevid ethnic_group US_congress_bio_ID  \\\n",
       "Q270316       [Q30]  [Q6581072]  1393026432         None            S001181   \n",
       "Q1253        [Q884]  [Q6581097]  1384825460    [Q484464]               None   \n",
       "\n",
       "                occupation      party academic_degree           label  \\\n",
       "Q270316           [Q82955]   [Q29552]            None  Jeanne Shaheen   \n",
       "Q1253    [Q82955, Q193391]  [Q327591]            None     Ban Ki-moon   \n",
       "\n",
       "        candidacy  type       religion  n_unique_quotes  n_quotes  \n",
       "Q270316      None  item       [Q23540]             4094     21060  \n",
       "Q1253        None  item  [Q9581, Q748]            12746     94704  "
      ]
     },
     "execution_count": 3,
     "metadata": {},
     "output_type": "execute_result"
    }
   ],
   "source": [
    "# Download the dataset containing the unique speakers of all quotations in Quotebank phase E\n",
    "# speakers = pd.read_csv('data/speakers.bz2', compression='bz2')\n",
    "speakers = pd.read_json('data/speakers.json.bz2', compression='bz2')\n",
    "# speakers.set_index('id', inplace=True)\n",
    "print(speakers.shape)\n",
    "speakers.head(2)"
   ]
  },
  {
   "cell_type": "code",
   "execution_count": 24,
   "id": "64873ccf",
   "metadata": {},
   "outputs": [
    {
     "name": "stdout",
     "output_type": "stream",
     "text": [
      "The percentage of speakers with gender is 95.598%\n",
      "The percentage of speakers with occupation is 93.079%\n",
      "The percentage of speakers with date_of_birth is 76.902%\n",
      "The percentage of speakers with nationality is 72.437%\n",
      "The percentage of speakers with party is 8.964%\n",
      "The percentage of speakers with religion is 3.036%\n",
      "The percentage of speakers with US_congress_bio_ID is 0.226%\n",
      "The percentage of speakers with candidacy is 1.186%\n",
      "The percentage of speakers with ethnic_group is 2.536%\n",
      "The percentage of speakers with academic_degree is 1.108%\n"
     ]
    }
   ],
   "source": [
    "print(f'The percentage of speakers with gender is {100 * (1 - speakers.gender.isnull().sum() / len(speakers.index)):.3f}%')\n",
    "print(f'The percentage of speakers with occupation is {100 * (1 - speakers.occupation.isnull().sum() / len(speakers.index)):.3f}%')\n",
    "print(f'The percentage of speakers with date_of_birth is {100 * (1 - speakers.date_of_birth.isnull().sum() / len(speakers.index)):.3f}%')\n",
    "print(f'The percentage of speakers with nationality is {100 * (1 - speakers.nationality.isnull().sum() / len(speakers.index)):.3f}%')\n",
    "print(f'The percentage of speakers with party is {100 * (1 - speakers.party.isnull().sum() / len(speakers.index)):.3f}%')\n",
    "print(f'The percentage of speakers with religion is {100 * (1 - speakers.religion.isnull().sum() / len(speakers.index)):.3f}%')\n",
    "print(f'The percentage of speakers with US_congress_bio_ID is {100 * (1 - speakers.US_congress_bio_ID.isnull().sum() / len(speakers.index)):.3f}%')\n",
    "print(f'The percentage of speakers with candidacy is {100 * (1 - speakers.candidacy.isnull().sum() / len(speakers.index)):.3f}%')\n",
    "print(f'The percentage of speakers with ethnic_group is {100 * (1 - speakers.ethnic_group.isnull().sum() / len(speakers.index)):.3f}%')\n",
    "print(f'The percentage of speakers with academic_degree is {100 * (1 - speakers.academic_degree.isnull().sum() / len(speakers.index)):.3f}%')"
   ]
  },
  {
   "cell_type": "markdown",
   "id": "1958bd4e",
   "metadata": {},
   "source": [
    "#### 1.2 Drop columns\n",
    "Drop the columns that don't add value to clustering (e.g. speaker name) and other attributes present in less than 50% of the speakers"
   ]
  },
  {
   "cell_type": "code",
   "execution_count": 4,
   "id": "578956d8",
   "metadata": {},
   "outputs": [
    {
     "name": "stdout",
     "output_type": "stream",
     "text": [
      "(442811, 6)\n"
     ]
    },
    {
     "data": {
      "text/html": [
       "<div>\n",
       "<style scoped>\n",
       "    .dataframe tbody tr th:only-of-type {\n",
       "        vertical-align: middle;\n",
       "    }\n",
       "\n",
       "    .dataframe tbody tr th {\n",
       "        vertical-align: top;\n",
       "    }\n",
       "\n",
       "    .dataframe thead th {\n",
       "        text-align: right;\n",
       "    }\n",
       "</style>\n",
       "<table border=\"1\" class=\"dataframe\">\n",
       "  <thead>\n",
       "    <tr style=\"text-align: right;\">\n",
       "      <th></th>\n",
       "      <th>date_of_birth</th>\n",
       "      <th>nationality</th>\n",
       "      <th>gender</th>\n",
       "      <th>occupation</th>\n",
       "      <th>n_unique_quotes</th>\n",
       "      <th>n_quotes</th>\n",
       "    </tr>\n",
       "  </thead>\n",
       "  <tbody>\n",
       "    <tr>\n",
       "      <th>Q270316</th>\n",
       "      <td>[+1947-01-28T00:00:00Z]</td>\n",
       "      <td>[Q30]</td>\n",
       "      <td>[Q6581072]</td>\n",
       "      <td>[Q82955]</td>\n",
       "      <td>4094</td>\n",
       "      <td>21060</td>\n",
       "    </tr>\n",
       "    <tr>\n",
       "      <th>Q1253</th>\n",
       "      <td>[+1944-06-13T00:00:00Z]</td>\n",
       "      <td>[Q884]</td>\n",
       "      <td>[Q6581097]</td>\n",
       "      <td>[Q82955, Q193391]</td>\n",
       "      <td>12746</td>\n",
       "      <td>94704</td>\n",
       "    </tr>\n",
       "  </tbody>\n",
       "</table>\n",
       "</div>"
      ],
      "text/plain": [
       "                   date_of_birth nationality      gender         occupation  \\\n",
       "Q270316  [+1947-01-28T00:00:00Z]       [Q30]  [Q6581072]           [Q82955]   \n",
       "Q1253    [+1944-06-13T00:00:00Z]      [Q884]  [Q6581097]  [Q82955, Q193391]   \n",
       "\n",
       "         n_unique_quotes  n_quotes  \n",
       "Q270316             4094     21060  \n",
       "Q1253              12746     94704  "
      ]
     },
     "execution_count": 4,
     "metadata": {},
     "output_type": "execute_result"
    }
   ],
   "source": [
    "# Drop the columns that don't add value to clustering (e.g. speaker name) and other attributes present in less than 50% of the speakers\n",
    "speakers_dropped = speakers.drop(columns=['aliases', 'label', 'US_congress_bio_ID', \n",
    "                                          'lastrevid', 'type', \n",
    "                                          'candidacy', 'academic_degree',\n",
    "                                          'religion',\n",
    "                                          'ethnic_group', 'party']).dropna(axis=0)\n",
    "print(speakers_dropped.shape)\n",
    "speakers_dropped.head(2)"
   ]
  },
  {
   "cell_type": "markdown",
   "id": "38f66a9f",
   "metadata": {},
   "source": [
    "#### 1.3 Add the age column"
   ]
  },
  {
   "cell_type": "code",
   "execution_count": 5,
   "id": "7a941e30",
   "metadata": {},
   "outputs": [
    {
     "data": {
      "text/html": [
       "<div>\n",
       "<style scoped>\n",
       "    .dataframe tbody tr th:only-of-type {\n",
       "        vertical-align: middle;\n",
       "    }\n",
       "\n",
       "    .dataframe tbody tr th {\n",
       "        vertical-align: top;\n",
       "    }\n",
       "\n",
       "    .dataframe thead th {\n",
       "        text-align: right;\n",
       "    }\n",
       "</style>\n",
       "<table border=\"1\" class=\"dataframe\">\n",
       "  <thead>\n",
       "    <tr style=\"text-align: right;\">\n",
       "      <th></th>\n",
       "      <th>date_of_birth</th>\n",
       "      <th>nationality</th>\n",
       "      <th>gender</th>\n",
       "      <th>occupation</th>\n",
       "      <th>n_unique_quotes</th>\n",
       "      <th>n_quotes</th>\n",
       "      <th>age</th>\n",
       "    </tr>\n",
       "  </thead>\n",
       "  <tbody>\n",
       "    <tr>\n",
       "      <th>Q270316</th>\n",
       "      <td>[+1947-01-28T00:00:00Z]</td>\n",
       "      <td>[Q30]</td>\n",
       "      <td>[Q6581072]</td>\n",
       "      <td>[Q82955]</td>\n",
       "      <td>4094</td>\n",
       "      <td>21060</td>\n",
       "      <td>74</td>\n",
       "    </tr>\n",
       "    <tr>\n",
       "      <th>Q1253</th>\n",
       "      <td>[+1944-06-13T00:00:00Z]</td>\n",
       "      <td>[Q884]</td>\n",
       "      <td>[Q6581097]</td>\n",
       "      <td>[Q82955, Q193391]</td>\n",
       "      <td>12746</td>\n",
       "      <td>94704</td>\n",
       "      <td>77</td>\n",
       "    </tr>\n",
       "  </tbody>\n",
       "</table>\n",
       "</div>"
      ],
      "text/plain": [
       "                   date_of_birth nationality      gender         occupation  \\\n",
       "Q270316  [+1947-01-28T00:00:00Z]       [Q30]  [Q6581072]           [Q82955]   \n",
       "Q1253    [+1944-06-13T00:00:00Z]      [Q884]  [Q6581097]  [Q82955, Q193391]   \n",
       "\n",
       "         n_unique_quotes  n_quotes  age  \n",
       "Q270316             4094     21060   74  \n",
       "Q1253              12746     94704   77  "
      ]
     },
     "execution_count": 5,
     "metadata": {},
     "output_type": "execute_result"
    }
   ],
   "source": [
    "# Add the age from the date-of-birth column\n",
    "ages = []\n",
    "for birth in speakers_dropped.date_of_birth.values:\n",
    "    if not birth is None:\n",
    "        ages.append(datetime.now().year - int(birth[0][1:5]))\n",
    "    else:\n",
    "        ages.append(None)\n",
    "\n",
    "speakers_dropped['age'] = ages\n",
    "speakers_dropped.head(2)"
   ]
  },
  {
   "cell_type": "code",
   "execution_count": 6,
   "id": "f2faf312",
   "metadata": {},
   "outputs": [
    {
     "data": {
      "text/html": [
       "<div>\n",
       "<style scoped>\n",
       "    .dataframe tbody tr th:only-of-type {\n",
       "        vertical-align: middle;\n",
       "    }\n",
       "\n",
       "    .dataframe tbody tr th {\n",
       "        vertical-align: top;\n",
       "    }\n",
       "\n",
       "    .dataframe thead th {\n",
       "        text-align: right;\n",
       "    }\n",
       "</style>\n",
       "<table border=\"1\" class=\"dataframe\">\n",
       "  <thead>\n",
       "    <tr style=\"text-align: right;\">\n",
       "      <th></th>\n",
       "      <th>nationality</th>\n",
       "      <th>gender</th>\n",
       "      <th>occupation</th>\n",
       "      <th>n_unique_quotes</th>\n",
       "      <th>n_quotes</th>\n",
       "      <th>age</th>\n",
       "    </tr>\n",
       "  </thead>\n",
       "  <tbody>\n",
       "    <tr>\n",
       "      <th>Q270316</th>\n",
       "      <td>[Q30]</td>\n",
       "      <td>[Q6581072]</td>\n",
       "      <td>[Q82955]</td>\n",
       "      <td>4094</td>\n",
       "      <td>21060</td>\n",
       "      <td>74</td>\n",
       "    </tr>\n",
       "    <tr>\n",
       "      <th>Q1253</th>\n",
       "      <td>[Q884]</td>\n",
       "      <td>[Q6581097]</td>\n",
       "      <td>[Q82955, Q193391]</td>\n",
       "      <td>12746</td>\n",
       "      <td>94704</td>\n",
       "      <td>77</td>\n",
       "    </tr>\n",
       "  </tbody>\n",
       "</table>\n",
       "</div>"
      ],
      "text/plain": [
       "        nationality      gender         occupation  n_unique_quotes  n_quotes  \\\n",
       "Q270316       [Q30]  [Q6581072]           [Q82955]             4094     21060   \n",
       "Q1253        [Q884]  [Q6581097]  [Q82955, Q193391]            12746     94704   \n",
       "\n",
       "         age  \n",
       "Q270316   74  \n",
       "Q1253     77  "
      ]
     },
     "execution_count": 6,
     "metadata": {},
     "output_type": "execute_result"
    }
   ],
   "source": [
    "# Remove the date_of_birth column\n",
    "speakers_features = speakers_dropped.drop(columns=['date_of_birth']).dropna(axis=0)\n",
    "speakers_features.head(2)"
   ]
  },
  {
   "cell_type": "markdown",
   "id": "bcd5faf3",
   "metadata": {},
   "source": [
    "#### 1.4 Keep only first instance of the lists\n",
    "Keep only the first instance of occupation, nationality and gender."
   ]
  },
  {
   "cell_type": "code",
   "execution_count": 7,
   "id": "4ba6b3d7",
   "metadata": {},
   "outputs": [
    {
     "name": "stdout",
     "output_type": "stream",
     "text": [
      "(442811, 6)\n"
     ]
    },
    {
     "data": {
      "text/html": [
       "<div>\n",
       "<style scoped>\n",
       "    .dataframe tbody tr th:only-of-type {\n",
       "        vertical-align: middle;\n",
       "    }\n",
       "\n",
       "    .dataframe tbody tr th {\n",
       "        vertical-align: top;\n",
       "    }\n",
       "\n",
       "    .dataframe thead th {\n",
       "        text-align: right;\n",
       "    }\n",
       "</style>\n",
       "<table border=\"1\" class=\"dataframe\">\n",
       "  <thead>\n",
       "    <tr style=\"text-align: right;\">\n",
       "      <th></th>\n",
       "      <th>n_quotes</th>\n",
       "      <th>n_unique_quotes</th>\n",
       "      <th>age</th>\n",
       "      <th>nationality</th>\n",
       "      <th>gender</th>\n",
       "      <th>occupation</th>\n",
       "    </tr>\n",
       "  </thead>\n",
       "  <tbody>\n",
       "    <tr>\n",
       "      <th>Q270316</th>\n",
       "      <td>21060</td>\n",
       "      <td>4094</td>\n",
       "      <td>74</td>\n",
       "      <td>Q30</td>\n",
       "      <td>Q6581072</td>\n",
       "      <td>Q82955</td>\n",
       "    </tr>\n",
       "    <tr>\n",
       "      <th>Q1253</th>\n",
       "      <td>94704</td>\n",
       "      <td>12746</td>\n",
       "      <td>77</td>\n",
       "      <td>Q884</td>\n",
       "      <td>Q6581097</td>\n",
       "      <td>Q82955</td>\n",
       "    </tr>\n",
       "  </tbody>\n",
       "</table>\n",
       "</div>"
      ],
      "text/plain": [
       "         n_quotes  n_unique_quotes  age nationality    gender occupation\n",
       "Q270316     21060             4094   74         Q30  Q6581072     Q82955\n",
       "Q1253       94704            12746   77        Q884  Q6581097     Q82955"
      ]
     },
     "execution_count": 7,
     "metadata": {},
     "output_type": "execute_result"
    }
   ],
   "source": [
    "# Keep only the first instance of occupation, nationality and gender\n",
    "speakers_features_full = pd.DataFrame()\n",
    "speakers_features_full['n_quotes'] = speakers_features['n_quotes']\n",
    "speakers_features_full['n_unique_quotes'] = speakers_features['n_unique_quotes']\n",
    "speakers_features_full['age'] = speakers_features['age']\n",
    "\n",
    "for name, values in speakers_features.iteritems():\n",
    "    if name not in ['n_quotes', 'n_unique_quotes', 'age']:\n",
    "        updated_values = []\n",
    "        for val in values:\n",
    "            if not val is None:\n",
    "                updated_values.append(val[0])\n",
    "            else:\n",
    "                updated_values.append(None)\n",
    "        speakers_features_full[name] = updated_values\n",
    "\n",
    "speakers_features_preprocessed = speakers_features_full.dropna(axis=0) # remove row if any column value is None\n",
    "print(speakers_features_preprocessed.shape)\n",
    "speakers_features_preprocessed.head(2)"
   ]
  },
  {
   "cell_type": "markdown",
   "id": "c38de481",
   "metadata": {},
   "source": [
    "#### 1.5 Keep authors with age 0-150 and with more than 5 quotations"
   ]
  },
  {
   "cell_type": "code",
   "execution_count": 9,
   "id": "a10ed6b4",
   "metadata": {},
   "outputs": [
    {
     "name": "stdout",
     "output_type": "stream",
     "text": [
      "(338917, 6)\n"
     ]
    },
    {
     "data": {
      "text/html": [
       "<div>\n",
       "<style scoped>\n",
       "    .dataframe tbody tr th:only-of-type {\n",
       "        vertical-align: middle;\n",
       "    }\n",
       "\n",
       "    .dataframe tbody tr th {\n",
       "        vertical-align: top;\n",
       "    }\n",
       "\n",
       "    .dataframe thead th {\n",
       "        text-align: right;\n",
       "    }\n",
       "</style>\n",
       "<table border=\"1\" class=\"dataframe\">\n",
       "  <thead>\n",
       "    <tr style=\"text-align: right;\">\n",
       "      <th></th>\n",
       "      <th>n_quotes</th>\n",
       "      <th>n_unique_quotes</th>\n",
       "      <th>age</th>\n",
       "      <th>nationality</th>\n",
       "      <th>gender</th>\n",
       "      <th>occupation</th>\n",
       "    </tr>\n",
       "  </thead>\n",
       "  <tbody>\n",
       "    <tr>\n",
       "      <th>Q270316</th>\n",
       "      <td>21060</td>\n",
       "      <td>4094</td>\n",
       "      <td>74</td>\n",
       "      <td>Q30</td>\n",
       "      <td>Q6581072</td>\n",
       "      <td>Q82955</td>\n",
       "    </tr>\n",
       "    <tr>\n",
       "      <th>Q1253</th>\n",
       "      <td>94704</td>\n",
       "      <td>12746</td>\n",
       "      <td>77</td>\n",
       "      <td>Q884</td>\n",
       "      <td>Q6581097</td>\n",
       "      <td>Q82955</td>\n",
       "    </tr>\n",
       "  </tbody>\n",
       "</table>\n",
       "</div>"
      ],
      "text/plain": [
       "         n_quotes  n_unique_quotes  age nationality    gender occupation\n",
       "Q270316     21060             4094   74         Q30  Q6581072     Q82955\n",
       "Q1253       94704            12746   77        Q884  Q6581097     Q82955"
      ]
     },
     "execution_count": 9,
     "metadata": {},
     "output_type": "execute_result"
    }
   ],
   "source": [
    "# Only keep the speakers with age within [0, 150] and with more than 5 quotes\n",
    "speakers_features_final = speakers_features_preprocessed[(speakers_features_preprocessed.age > 0) \n",
    "                                                               & (speakers_features_preprocessed.age < 150) \n",
    "                                                               & (speakers_features_preprocessed.n_quotes >= 5)]\n",
    "print(speakers_features_final.shape)\n",
    "speakers_features_final.head(2)"
   ]
  },
  {
   "cell_type": "markdown",
   "id": "66be6133",
   "metadata": {},
   "source": [
    "##### SAVE or LOAD the pre-processing until now:"
   ]
  },
  {
   "cell_type": "code",
   "execution_count": 51,
   "id": "9c4fdde8",
   "metadata": {},
   "outputs": [],
   "source": [
    "# Save the final result of all of the preprocessing above\n",
    "# speakers_features_final.to_csv(path_or_buf='data/pickles/speakers_features_final.csv', index=True, encoding='utf-8')\n",
    "\n",
    "# # NOTE: UNCOMMENT THESE TWO ROWS if you don't want to row all of the cells above!!!\n",
    "# speakers_features_final = pd.read_csv('data/pickles/speakers_features_final.csv')\n",
    "# speakers_features_final.set_index('id', inplace=True)"
   ]
  },
  {
   "cell_type": "markdown",
   "id": "20e1b53b",
   "metadata": {},
   "source": [
    "#### 1.6 Construct new features using Wordnet"
   ]
  },
  {
   "cell_type": "code",
   "execution_count": 12,
   "id": "b8012a5f",
   "metadata": {},
   "outputs": [
    {
     "name": "stderr",
     "output_type": "stream",
     "text": [
      "Wikidata redirect detected.  Input entity id=Q15977509. Returned entity id=Q11287574.\n",
      "Wikidata redirect detected.  Input entity id=Q15895020. Returned entity id=Q10497074.\n",
      "Wikidata redirect detected.  Input entity id=Q16611554. Returned entity id=Q10672931.\n",
      "Wikidata redirect detected.  Input entity id=Q14616728. Returned entity id=Q12803959.\n",
      "Wikidata redirect detected.  Input entity id=Q15634285. Returned entity id=Q12119633.\n",
      "Wikidata redirect detected.  Input entity id=Q104050302. Returned entity id=Q1469535.\n",
      "Wikidata redirect detected.  Input entity id=Q84099710. Returned entity id=Q212238.\n",
      "Wikidata redirect detected.  Input entity id=Q18204472. Returned entity id=Q2548714.\n",
      "Wikidata redirect detected.  Input entity id=Q16154896. Returned entity id=Q10666486.\n",
      "Wikidata redirect detected.  Input entity id=Q21684462. Returned entity id=Q2101758.\n",
      "Wikidata redirect detected.  Input entity id=Q50572247. Returned entity id=Q20013489.\n",
      "Wikidata redirect detected.  Input entity id=Q26869657. Returned entity id=Q11613590.\n",
      "Wikidata redirect detected.  Input entity id=Q21030792. Returned entity id=Q2568073.\n",
      "Wikidata redirect detected.  Input entity id=Q92262721. Returned entity id=Q1495385.\n",
      "Wikidata redirect detected.  Input entity id=Q18926350. Returned entity id=Q10272925.\n",
      "Wikidata redirect detected.  Input entity id=Q4574084. Returned entity id=Q1449973.\n",
      "Wikidata redirect detected.  Input entity id=Q3738699. Returned entity id=Q1895303.\n",
      "Wikidata redirect detected.  Input entity id=Q17773400. Returned entity id=Q10501447.\n",
      "Wikidata redirect detected.  Input entity id=Q90478555. Returned entity id=Q64030843.\n",
      "Wikidata redirect detected.  Input entity id=Q15991263. Returned entity id=Q2743689.\n",
      "Wikidata redirect detected.  Input entity id=Q16026109. Returned entity id=Q12376667.\n",
      "Wikidata redirect detected.  Input entity id=Q2029941. Returned entity id=Q1419997.\n",
      "Wikidata redirect detected.  Input entity id=Q26998980. Returned entity id=Q4664241.\n",
      "Wikidata redirect detected.  Input entity id=Q2986283. Returned entity id=Q2743689.\n",
      "Wikidata redirect detected.  Input entity id=Q17502115. Returned entity id=Q11882872.\n",
      "Wikidata redirect detected.  Input entity id=Q11964531. Returned entity id=Q1210069.\n",
      "Wikidata redirect detected.  Input entity id=Q63581057. Returned entity id=Q47455777.\n",
      "Wikidata redirect detected.  Input entity id=Q3058993. Returned entity id=Q2752318.\n"
     ]
    }
   ],
   "source": [
    "def map_qid_occupations(features):\n",
    "    qids = features.occupation.unique().tolist()\n",
    "    qid_occupation_map = {}\n",
    "    for qid in qids:\n",
    "        if qid not in qid_occupation_map:\n",
    "            entity = get_entity_dict_from_api(qid)['labels']\n",
    "            if 'en' not in entity: continue\n",
    "            occupation_name = entity['en']['value']\n",
    "            if occupation_name == 'association football player': occupation_name = 'soccer_player'\n",
    "            elif occupation_name == 'American football player': occupation_name = 'football_player'\n",
    "            elif occupation_name == 'rugby union player': occupation_name = 'football_player'\n",
    "            elif occupation_name == 'rugby league player': occupation_name = 'football_player'\n",
    "            elif occupation_name == 'ice hockey player': occupation_name = 'athlete'\n",
    "            elif occupation_name == 'boxer': occupation_name = 'athlete'\n",
    "            elif occupation_name == 'golfer': occupation_name = 'athlete'\n",
    "            elif occupation_name == 'business magnate': occupation_name = 'businessperson'\n",
    "            elif occupation_name == 'business executive': occupation_name = 'businessperson'\n",
    "            elif occupation_name == 'singer-songwriter': occupation_name = 'musician'\n",
    "            elif occupation_name == 'composer': occupation_name = 'musician'\n",
    "            elif occupation_name == 'film-director': occupation_name = 'film_director'\n",
    "            elif occupation_name == 'film producer': occupation_name = 'film_director'\n",
    "            elif occupation_name == 'film actor': occupation_name = 'actor'\n",
    "            elif occupation_name == 'television actor': occupation_name = 'actor'\n",
    "            elif occupation_name == 'comedian': occupation_name = 'actor'\n",
    "            elif occupation_name == 'diplomat': occupation_name = 'politician'\n",
    "            elif occupation_name == 'philosopher': occupation_name = 'researcher'\n",
    "            elif occupation_name == 'economist': occupation_name = 'researcher'\n",
    "            qid_occupation_map[qid] = occupation_name\n",
    "    return qid_occupation_map\n",
    "    \n",
    "# UNCOMMENT ROW BELOW TO GET qid <-> occupation_name map\n",
    "qid_occupation_map = map_qid_occupations(speakers_features_final) # ===> takes around 15 minutes\n",
    "\n",
    "top_occupations = ['politician', 'athlete', 'actor', 'lawyer', 'researcher', 'journalist', 'musician', 'businessperson']\n",
    "\n",
    "def get_wordnet_similarity_to(features, top_occupations, qid_occupation_map, thresh=0.7):\n",
    "    \"\"\"\n",
    "    Calculates the similarities of all unique occupation qids to the pre-defined top occupations.\n",
    "    Returns a dictionary where the keys are each unique occupation qid, and the value is the similarity\n",
    "    to each top occupation. E.g.: qid_simlarities_map = {'Q1234': [similarity_to_politician, similarity_to_athlete, ..., similarity_to_businessperson], ...}.\n",
    "    \"\"\"\n",
    "    unique_qids = features.occupation.unique().tolist()\n",
    "    qid_similarities_map = {}\n",
    "    for qid in unique_qids:\n",
    "        if qid in qid_occupation_map and wn.synsets(qid_occupation_map[qid]): \n",
    "            dist_to_top_occupations = np.zeros((8, )) #{occupation: None for occupation in top_occupations}\n",
    "            qid_synset_obj = wn.synsets(qid_occupation_map[qid])[0]\n",
    "            for i, occ in enumerate(top_occupations):\n",
    "                top_occ_synset_obj = wn.synsets(occ)[0]\n",
    "                similarity_to_top_occupation = top_occ_synset_obj.wup_similarity(qid_synset_obj)\n",
    "                dist_to_top_occupations[i] = similarity_to_top_occupation\n",
    "            if np.max(dist_to_top_occupations) >= thresh:\n",
    "                dist_to_top_occupations[dist_to_top_occupations != np.max(dist_to_top_occupations)] = 0\n",
    "                dist_to_top_occupations[dist_to_top_occupations == np.max(dist_to_top_occupations)] = 1\n",
    "            else:\n",
    "                dist_to_top_occupations /= 5 # divide by 5 to compensate that the semantic distance to the top occupations are lower than threshold\n",
    "            qid_similarities_map[qid] = dist_to_top_occupations.tolist() # transform to list to be able to save qid_similarities_map as JSON later\n",
    "    \n",
    "    return qid_similarities_map\n",
    "            \n",
    "qid_similarities_map = get_wordnet_similarity_to(speakers_features_final, top_occupations, qid_occupation_map) # ==> just load it in cell below"
   ]
  },
  {
   "cell_type": "markdown",
   "id": "303ebb26",
   "metadata": {},
   "source": [
    "##### SAVE or LOAD the pre-processing until now:"
   ]
  },
  {
   "cell_type": "code",
   "execution_count": null,
   "id": "e0dd89bf",
   "metadata": {},
   "outputs": [],
   "source": [
    "# with open('data/pickles/qid_similarities_map.json', 'w') as f:\n",
    "#     json.dump(qid_similarities_map, f)\n",
    "# with open('data/pickles/qid_similarities_map.json', 'r') as f:\n",
    "    # qid_similarities_map = json.load(f)"
   ]
  },
  {
   "cell_type": "markdown",
   "id": "bf580c6c",
   "metadata": {},
   "source": [
    "Add the distances to the top occupations as new features in the data:"
   ]
  },
  {
   "cell_type": "code",
   "execution_count": 13,
   "id": "3dfe0aaf",
   "metadata": {},
   "outputs": [
    {
     "name": "stderr",
     "output_type": "stream",
     "text": [
      "<ipython-input-13-5c75eaaff747>:3: SettingWithCopyWarning: \n",
      "A value is trying to be set on a copy of a slice from a DataFrame.\n",
      "Try using .loc[row_indexer,col_indexer] = value instead\n",
      "\n",
      "See the caveats in the documentation: https://pandas.pydata.org/pandas-docs/stable/user_guide/indexing.html#returning-a-view-versus-a-copy\n",
      "  speakers_features_final[f'{top_occupation}_score'] = None\n",
      "C:\\Users\\mathe\\AppData\\Local\\Programs\\Python\\Python39\\lib\\site-packages\\pandas\\core\\indexing.py:1797: SettingWithCopyWarning: \n",
      "A value is trying to be set on a copy of a slice from a DataFrame.\n",
      "Try using .loc[row_indexer,col_indexer] = value instead\n",
      "\n",
      "See the caveats in the documentation: https://pandas.pydata.org/pandas-docs/stable/user_guide/indexing.html#returning-a-view-versus-a-copy\n",
      "  self._setitem_single_column(loc, v, pi)\n"
     ]
    },
    {
     "data": {
      "text/html": [
       "<div>\n",
       "<style scoped>\n",
       "    .dataframe tbody tr th:only-of-type {\n",
       "        vertical-align: middle;\n",
       "    }\n",
       "\n",
       "    .dataframe tbody tr th {\n",
       "        vertical-align: top;\n",
       "    }\n",
       "\n",
       "    .dataframe thead th {\n",
       "        text-align: right;\n",
       "    }\n",
       "</style>\n",
       "<table border=\"1\" class=\"dataframe\">\n",
       "  <thead>\n",
       "    <tr style=\"text-align: right;\">\n",
       "      <th></th>\n",
       "      <th>n_quotes</th>\n",
       "      <th>n_unique_quotes</th>\n",
       "      <th>age</th>\n",
       "      <th>nationality</th>\n",
       "      <th>gender</th>\n",
       "      <th>occupation</th>\n",
       "      <th>politician_score</th>\n",
       "      <th>athlete_score</th>\n",
       "      <th>actor_score</th>\n",
       "      <th>lawyer_score</th>\n",
       "      <th>researcher_score</th>\n",
       "      <th>journalist_score</th>\n",
       "      <th>musician_score</th>\n",
       "      <th>businessperson_score</th>\n",
       "    </tr>\n",
       "  </thead>\n",
       "  <tbody>\n",
       "    <tr>\n",
       "      <th>Q270316</th>\n",
       "      <td>21060</td>\n",
       "      <td>4094</td>\n",
       "      <td>74</td>\n",
       "      <td>Q30</td>\n",
       "      <td>Q6581072</td>\n",
       "      <td>Q82955</td>\n",
       "      <td>1.0</td>\n",
       "      <td>0.0</td>\n",
       "      <td>0.0</td>\n",
       "      <td>0.0</td>\n",
       "      <td>0.0</td>\n",
       "      <td>0.0</td>\n",
       "      <td>0.0</td>\n",
       "      <td>0.0</td>\n",
       "    </tr>\n",
       "    <tr>\n",
       "      <th>Q1253</th>\n",
       "      <td>94704</td>\n",
       "      <td>12746</td>\n",
       "      <td>77</td>\n",
       "      <td>Q884</td>\n",
       "      <td>Q6581097</td>\n",
       "      <td>Q82955</td>\n",
       "      <td>1.0</td>\n",
       "      <td>0.0</td>\n",
       "      <td>0.0</td>\n",
       "      <td>0.0</td>\n",
       "      <td>0.0</td>\n",
       "      <td>0.0</td>\n",
       "      <td>0.0</td>\n",
       "      <td>0.0</td>\n",
       "    </tr>\n",
       "  </tbody>\n",
       "</table>\n",
       "</div>"
      ],
      "text/plain": [
       "         n_quotes  n_unique_quotes  age nationality    gender occupation  \\\n",
       "Q270316     21060             4094   74         Q30  Q6581072     Q82955   \n",
       "Q1253       94704            12746   77        Q884  Q6581097     Q82955   \n",
       "\n",
       "        politician_score athlete_score actor_score lawyer_score  \\\n",
       "Q270316              1.0           0.0         0.0          0.0   \n",
       "Q1253                1.0           0.0         0.0          0.0   \n",
       "\n",
       "        researcher_score journalist_score musician_score businessperson_score  \n",
       "Q270316              0.0              0.0            0.0                  0.0  \n",
       "Q1253                0.0              0.0            0.0                  0.0  "
      ]
     },
     "execution_count": 13,
     "metadata": {},
     "output_type": "execute_result"
    }
   ],
   "source": [
    "# Create new columns: politician_score, athlete_score, actor_score, lawyer_score, researcher_score, journalist_score, musician_score, businessperson_score\n",
    "for top_occupation in top_occupations:\n",
    "    speakers_features_final[f'{top_occupation}_score'] = None\n",
    "\n",
    "unique_occupation_qids = speakers_features_final.occupation.unique().tolist()\n",
    "for occ_qid in qid_similarities_map:\n",
    "    speakers_features_final.loc[speakers_features_final['occupation'] == occ_qid, \n",
    "                                      ['politician_score', 'athlete_score', 'actor_score', 'lawyer_score', \n",
    "                                       'researcher_score', 'journalist_score', 'musician_score', 'businessperson_score']] = qid_similarities_map[occ_qid]\n",
    "speakers_features_final.head(2)"
   ]
  },
  {
   "cell_type": "code",
   "execution_count": 14,
   "id": "902175bb",
   "metadata": {},
   "outputs": [],
   "source": [
    "speakers_features_final.to_json(path_or_buf='data/speakers_8_occupations', compression='bz2')"
   ]
  },
  {
   "cell_type": "markdown",
   "id": "363c510f",
   "metadata": {},
   "source": [
    "Drop the categorical column of occupation which was used to create the new columns with WordNet"
   ]
  },
  {
   "cell_type": "code",
   "execution_count": 93,
   "id": "56345a06",
   "metadata": {},
   "outputs": [
    {
     "name": "stdout",
     "output_type": "stream",
     "text": [
      "(326437, 12)\n"
     ]
    },
    {
     "data": {
      "text/html": [
       "<div>\n",
       "<style scoped>\n",
       "    .dataframe tbody tr th:only-of-type {\n",
       "        vertical-align: middle;\n",
       "    }\n",
       "\n",
       "    .dataframe tbody tr th {\n",
       "        vertical-align: top;\n",
       "    }\n",
       "\n",
       "    .dataframe thead th {\n",
       "        text-align: right;\n",
       "    }\n",
       "</style>\n",
       "<table border=\"1\" class=\"dataframe\">\n",
       "  <thead>\n",
       "    <tr style=\"text-align: right;\">\n",
       "      <th></th>\n",
       "      <th>n_quotes</th>\n",
       "      <th>age</th>\n",
       "      <th>nationality</th>\n",
       "      <th>gender</th>\n",
       "      <th>politician_score</th>\n",
       "      <th>athlete_score</th>\n",
       "      <th>actor_score</th>\n",
       "      <th>lawyer_score</th>\n",
       "      <th>researcher_score</th>\n",
       "      <th>journalist_score</th>\n",
       "      <th>musician_score</th>\n",
       "      <th>businessperson_score</th>\n",
       "    </tr>\n",
       "  </thead>\n",
       "  <tbody>\n",
       "    <tr>\n",
       "      <th>Q270316</th>\n",
       "      <td>21060</td>\n",
       "      <td>74</td>\n",
       "      <td>Q30</td>\n",
       "      <td>Q6581072</td>\n",
       "      <td>1.0</td>\n",
       "      <td>0.0</td>\n",
       "      <td>0.0</td>\n",
       "      <td>0.0</td>\n",
       "      <td>0.0</td>\n",
       "      <td>0.0</td>\n",
       "      <td>0.0</td>\n",
       "      <td>0.0</td>\n",
       "    </tr>\n",
       "    <tr>\n",
       "      <th>Q1253</th>\n",
       "      <td>94704</td>\n",
       "      <td>77</td>\n",
       "      <td>Q884</td>\n",
       "      <td>Q6581097</td>\n",
       "      <td>1.0</td>\n",
       "      <td>0.0</td>\n",
       "      <td>0.0</td>\n",
       "      <td>0.0</td>\n",
       "      <td>0.0</td>\n",
       "      <td>0.0</td>\n",
       "      <td>0.0</td>\n",
       "      <td>0.0</td>\n",
       "    </tr>\n",
       "  </tbody>\n",
       "</table>\n",
       "</div>"
      ],
      "text/plain": [
       "         n_quotes  age nationality    gender politician_score athlete_score  \\\n",
       "Q270316     21060   74         Q30  Q6581072              1.0           0.0   \n",
       "Q1253       94704   77        Q884  Q6581097              1.0           0.0   \n",
       "\n",
       "        actor_score lawyer_score researcher_score journalist_score  \\\n",
       "Q270316         0.0          0.0              0.0              0.0   \n",
       "Q1253           0.0          0.0              0.0              0.0   \n",
       "\n",
       "        musician_score businessperson_score  \n",
       "Q270316            0.0                  0.0  \n",
       "Q1253              0.0                  0.0  "
      ]
     },
     "execution_count": 93,
     "metadata": {},
     "output_type": "execute_result"
    }
   ],
   "source": [
    "# Drop the categorical column of occupation which was used to create the new columns with WordNet\n",
    "speakers_features_preprocessed_final_really = speakers_features_final.drop(columns=['occupation', 'n_unique_quotes'])\n",
    "print(speakers_features_preprocessed_final_really.shape)\n",
    "speakers_features_preprocessed_final_really.head(2)"
   ]
  },
  {
   "cell_type": "markdown",
   "id": "829b78ad",
   "metadata": {},
   "source": [
    "##### SAVE or LOAD the pre-processing until now:"
   ]
  },
  {
   "cell_type": "code",
   "execution_count": 75,
   "id": "c0382d55",
   "metadata": {},
   "outputs": [],
   "source": [
    "# Save the final result of all of the preprocessing above\n",
    "# speakers_features_preprocessed_final_really.to_csv(path_or_buf='data/pickles/speakers_features_preprocessed_final_really.csv', index=True, encoding='utf-8')\n",
    "\n",
    "# # NOTE: UNCOMMENT THESE TWO ROWS if you don't want to row all of the cells above!!!\n",
    "# speakers_features_preprocessed_final_really = pd.read_csv('data/pickles/speakers_features_preprocessed_final_really.csv')\n",
    "# speakers_features_preprocessed_final_really.set_index('id', inplace=True)"
   ]
  },
  {
   "cell_type": "markdown",
   "id": "62fffa5d",
   "metadata": {},
   "source": [
    "#### 1.8 Normalize numerical columns"
   ]
  },
  {
   "cell_type": "code",
   "execution_count": 117,
   "id": "e7421494",
   "metadata": {},
   "outputs": [
    {
     "name": "stdout",
     "output_type": "stream",
     "text": [
      "(326437, 11)\n",
      "(243904, 11)\n"
     ]
    },
    {
     "data": {
      "text/html": [
       "<div>\n",
       "<style scoped>\n",
       "    .dataframe tbody tr th:only-of-type {\n",
       "        vertical-align: middle;\n",
       "    }\n",
       "\n",
       "    .dataframe tbody tr th {\n",
       "        vertical-align: top;\n",
       "    }\n",
       "\n",
       "    .dataframe thead th {\n",
       "        text-align: right;\n",
       "    }\n",
       "</style>\n",
       "<table border=\"1\" class=\"dataframe\">\n",
       "  <thead>\n",
       "    <tr style=\"text-align: right;\">\n",
       "      <th></th>\n",
       "      <th>gender</th>\n",
       "      <th>n_quotes</th>\n",
       "      <th>age</th>\n",
       "      <th>politician_score</th>\n",
       "      <th>athlete_score</th>\n",
       "      <th>actor_score</th>\n",
       "      <th>lawyer_score</th>\n",
       "      <th>researcher_score</th>\n",
       "      <th>journalist_score</th>\n",
       "      <th>musician_score</th>\n",
       "      <th>businessperson_score</th>\n",
       "    </tr>\n",
       "  </thead>\n",
       "  <tbody>\n",
       "    <tr>\n",
       "      <th>Q270316</th>\n",
       "      <td>Q6581072</td>\n",
       "      <td>0.002669</td>\n",
       "      <td>0.493243</td>\n",
       "      <td>1.0</td>\n",
       "      <td>0.0</td>\n",
       "      <td>0.0</td>\n",
       "      <td>0.0</td>\n",
       "      <td>0.0</td>\n",
       "      <td>0.0</td>\n",
       "      <td>0.0</td>\n",
       "      <td>0.0</td>\n",
       "    </tr>\n",
       "    <tr>\n",
       "      <th>Q1253</th>\n",
       "      <td>Q6581097</td>\n",
       "      <td>0.012004</td>\n",
       "      <td>0.513514</td>\n",
       "      <td>1.0</td>\n",
       "      <td>0.0</td>\n",
       "      <td>0.0</td>\n",
       "      <td>0.0</td>\n",
       "      <td>0.0</td>\n",
       "      <td>0.0</td>\n",
       "      <td>0.0</td>\n",
       "      <td>0.0</td>\n",
       "    </tr>\n",
       "  </tbody>\n",
       "</table>\n",
       "</div>"
      ],
      "text/plain": [
       "           gender  n_quotes       age politician_score athlete_score  \\\n",
       "Q270316  Q6581072  0.002669  0.493243              1.0           0.0   \n",
       "Q1253    Q6581097  0.012004  0.513514              1.0           0.0   \n",
       "\n",
       "        actor_score lawyer_score researcher_score journalist_score  \\\n",
       "Q270316         0.0          0.0              0.0              0.0   \n",
       "Q1253           0.0          0.0              0.0              0.0   \n",
       "\n",
       "        musician_score businessperson_score  \n",
       "Q270316            0.0                  0.0  \n",
       "Q1253              0.0                  0.0  "
      ]
     },
     "execution_count": 117,
     "metadata": {},
     "output_type": "execute_result"
    }
   ],
   "source": [
    "def min_max_normalize_column(column):\n",
    "    return (column - column.min()) / (column.max() - column.min())\n",
    "\n",
    "normalized_speakers = pd.DataFrame()\n",
    "normalized_speakers['gender'] = speakers_features_preprocessed_final_really['gender']\n",
    "# normalized_speakers['nationality'] = speakers_features_preprocessed_final_really['nationality'] # don't cluster over nationality as it doesn't give any good new info\n",
    "normalized_speakers['n_quotes'] = min_max_normalize_column(speakers_features_preprocessed_final_really['n_quotes'])\n",
    "normalized_speakers['age'] = min_max_normalize_column(speakers_features_preprocessed_final_really['age'])\n",
    "normalized_speakers['politician_score'] = speakers_features_preprocessed_final_really['politician_score']\n",
    "normalized_speakers['athlete_score'] = speakers_features_preprocessed_final_really['athlete_score']\n",
    "normalized_speakers['actor_score'] = speakers_features_preprocessed_final_really['actor_score']\n",
    "normalized_speakers['lawyer_score'] = speakers_features_preprocessed_final_really['lawyer_score']\n",
    "normalized_speakers['researcher_score'] = speakers_features_preprocessed_final_really['researcher_score']\n",
    "normalized_speakers['journalist_score'] = speakers_features_preprocessed_final_really['journalist_score']\n",
    "normalized_speakers['musician_score'] = speakers_features_preprocessed_final_really['musician_score']\n",
    "normalized_speakers['businessperson_score'] = speakers_features_preprocessed_final_really['businessperson_score']\n",
    "print(normalized_speakers.shape)\n",
    "normalized_speakers_final = normalized_speakers.dropna(axis=0)\n",
    "print(normalized_speakers_final.shape)\n",
    "normalized_speakers_final.head(2)"
   ]
  },
  {
   "cell_type": "code",
   "execution_count": 120,
   "id": "b31d98e0",
   "metadata": {},
   "outputs": [
    {
     "data": {
      "text/plain": [
       "Q6581097     188308\n",
       "Q6581072      55264\n",
       "Q1052281        186\n",
       "Q48270           70\n",
       "Q2449503         43\n",
       "Q1097630          8\n",
       "Q18116794         7\n",
       "Q15145779         7\n",
       "Q12964198         4\n",
       "Q15145778         2\n",
       "Q505371           2\n",
       "Q189125           1\n",
       "Q48279            1\n",
       "Q301702           1\n",
       "Name: gender, dtype: int64"
      ]
     },
     "execution_count": 120,
     "metadata": {},
     "output_type": "execute_result"
    }
   ],
   "source": [
    "normalized_speakers_final.gender.value_counts()"
   ]
  },
  {
   "cell_type": "code",
   "execution_count": 125,
   "id": "ace00704",
   "metadata": {},
   "outputs": [
    {
     "data": {
      "text/html": [
       "<div>\n",
       "<style scoped>\n",
       "    .dataframe tbody tr th:only-of-type {\n",
       "        vertical-align: middle;\n",
       "    }\n",
       "\n",
       "    .dataframe tbody tr th {\n",
       "        vertical-align: top;\n",
       "    }\n",
       "\n",
       "    .dataframe thead th {\n",
       "        text-align: right;\n",
       "    }\n",
       "</style>\n",
       "<table border=\"1\" class=\"dataframe\">\n",
       "  <thead>\n",
       "    <tr style=\"text-align: right;\">\n",
       "      <th></th>\n",
       "      <th>n_quotes</th>\n",
       "      <th>age</th>\n",
       "      <th>politician_score</th>\n",
       "      <th>athlete_score</th>\n",
       "      <th>actor_score</th>\n",
       "      <th>lawyer_score</th>\n",
       "      <th>researcher_score</th>\n",
       "      <th>journalist_score</th>\n",
       "      <th>musician_score</th>\n",
       "      <th>businessperson_score</th>\n",
       "      <th>gender_Other</th>\n",
       "      <th>gender_Q6581072</th>\n",
       "      <th>gender_Q6581097</th>\n",
       "    </tr>\n",
       "  </thead>\n",
       "  <tbody>\n",
       "    <tr>\n",
       "      <th>Q270316</th>\n",
       "      <td>0.002669</td>\n",
       "      <td>0.493243</td>\n",
       "      <td>1.0</td>\n",
       "      <td>0.0</td>\n",
       "      <td>0.0</td>\n",
       "      <td>0.0</td>\n",
       "      <td>0.0</td>\n",
       "      <td>0.0</td>\n",
       "      <td>0.0</td>\n",
       "      <td>0.0</td>\n",
       "      <td>0</td>\n",
       "      <td>1</td>\n",
       "      <td>0</td>\n",
       "    </tr>\n",
       "    <tr>\n",
       "      <th>Q1253</th>\n",
       "      <td>0.012004</td>\n",
       "      <td>0.513514</td>\n",
       "      <td>1.0</td>\n",
       "      <td>0.0</td>\n",
       "      <td>0.0</td>\n",
       "      <td>0.0</td>\n",
       "      <td>0.0</td>\n",
       "      <td>0.0</td>\n",
       "      <td>0.0</td>\n",
       "      <td>0.0</td>\n",
       "      <td>0</td>\n",
       "      <td>0</td>\n",
       "      <td>1</td>\n",
       "    </tr>\n",
       "  </tbody>\n",
       "</table>\n",
       "</div>"
      ],
      "text/plain": [
       "         n_quotes       age politician_score athlete_score actor_score  \\\n",
       "Q270316  0.002669  0.493243              1.0           0.0         0.0   \n",
       "Q1253    0.012004  0.513514              1.0           0.0         0.0   \n",
       "\n",
       "        lawyer_score researcher_score journalist_score musician_score  \\\n",
       "Q270316          0.0              0.0              0.0            0.0   \n",
       "Q1253            0.0              0.0              0.0            0.0   \n",
       "\n",
       "        businessperson_score  gender_Other  gender_Q6581072  gender_Q6581097  \n",
       "Q270316                  0.0             0                1                0  \n",
       "Q1253                    0.0             0                0                1  "
      ]
     },
     "execution_count": 125,
     "metadata": {},
     "output_type": "execute_result"
    }
   ],
   "source": [
    "# Before one-hot encoding the genders, reduce it to male, female and others\n",
    "map_gender = lambda gender: gender if (gender == 'Q6581097' or gender == 'Q6581072') else 'Other'\n",
    "reduced_genders = normalized_speakers_final['gender'].map(map_gender)\n",
    "normalized_speakers_final_reduced_genders = normalized_speakers_final.copy()\n",
    "normalized_speakers_final_reduced_genders['gender'] = reduced_genders\n",
    "\n",
    "normalized_speakers_final_reduced_genders_onehot = pd.get_dummies(normalized_speakers_final_reduced_genders, prefix=['gender'], columns=['gender'])\n",
    "normalized_speakers_final_reduced_genders_onehot.head(2)"
   ]
  },
  {
   "cell_type": "code",
   "execution_count": 184,
   "id": "5ceb37ae",
   "metadata": {},
   "outputs": [
    {
     "name": "stdout",
     "output_type": "stream",
     "text": [
      "(243904, 11)\n"
     ]
    },
    {
     "data": {
      "text/html": [
       "<div>\n",
       "<style scoped>\n",
       "    .dataframe tbody tr th:only-of-type {\n",
       "        vertical-align: middle;\n",
       "    }\n",
       "\n",
       "    .dataframe tbody tr th {\n",
       "        vertical-align: top;\n",
       "    }\n",
       "\n",
       "    .dataframe thead th {\n",
       "        text-align: right;\n",
       "    }\n",
       "</style>\n",
       "<table border=\"1\" class=\"dataframe\">\n",
       "  <thead>\n",
       "    <tr style=\"text-align: right;\">\n",
       "      <th></th>\n",
       "      <th>n_quotes</th>\n",
       "      <th>age</th>\n",
       "      <th>politician_score</th>\n",
       "      <th>athlete_score</th>\n",
       "      <th>actor_score</th>\n",
       "      <th>lawyer_score</th>\n",
       "      <th>researcher_score</th>\n",
       "      <th>journalist_score</th>\n",
       "      <th>musician_score</th>\n",
       "      <th>businessperson_score</th>\n",
       "    </tr>\n",
       "  </thead>\n",
       "  <tbody>\n",
       "    <tr>\n",
       "      <th>Q270316</th>\n",
       "      <td>0.002669</td>\n",
       "      <td>0.493243</td>\n",
       "      <td>1.0</td>\n",
       "      <td>0.0</td>\n",
       "      <td>0.0</td>\n",
       "      <td>0.0</td>\n",
       "      <td>0.0</td>\n",
       "      <td>0.0</td>\n",
       "      <td>0.0</td>\n",
       "      <td>0.0</td>\n",
       "    </tr>\n",
       "    <tr>\n",
       "      <th>Q1253</th>\n",
       "      <td>0.012004</td>\n",
       "      <td>0.513514</td>\n",
       "      <td>1.0</td>\n",
       "      <td>0.0</td>\n",
       "      <td>0.0</td>\n",
       "      <td>0.0</td>\n",
       "      <td>0.0</td>\n",
       "      <td>0.0</td>\n",
       "      <td>0.0</td>\n",
       "      <td>0.0</td>\n",
       "    </tr>\n",
       "  </tbody>\n",
       "</table>\n",
       "</div>"
      ],
      "text/plain": [
       "         n_quotes       age politician_score athlete_score actor_score  \\\n",
       "Q270316  0.002669  0.493243              1.0           0.0         0.0   \n",
       "Q1253    0.012004  0.513514              1.0           0.0         0.0   \n",
       "\n",
       "        lawyer_score researcher_score journalist_score musician_score  \\\n",
       "Q270316          0.0              0.0              0.0            0.0   \n",
       "Q1253            0.0              0.0              0.0            0.0   \n",
       "\n",
       "        businessperson_score  \n",
       "Q270316                  0.0  \n",
       "Q1253                    0.0  "
      ]
     },
     "execution_count": 184,
     "metadata": {},
     "output_type": "execute_result"
    }
   ],
   "source": [
    "# absolute_final_speaker_features = normalized_speakers_final_reduced_genders_onehot.copy()\n",
    "absolute_final_speaker_features = normalized_speakers_final_reduced_genders.copy()\n",
    "print(absolute_final_speaker_features.shape)\n",
    "absolute_final_speaker_features.drop(columns=['gender'], inplace=True)\n",
    "absolute_final_speaker_features.head(2)"
   ]
  },
  {
   "cell_type": "markdown",
   "id": "ae8e12fe",
   "metadata": {},
   "source": [
    "##### SAVE or LOAD the pre-processing until now:"
   ]
  },
  {
   "cell_type": "code",
   "execution_count": 77,
   "id": "4811ec0a",
   "metadata": {},
   "outputs": [],
   "source": [
    "# Save the final result of all of the preprocessing above\n",
    "# normalized_speakers.to_csv(path_or_buf='data/pickles/normalized_speakers.csv', index=True, encoding='utf-8')\n",
    "\n",
    "# # NOTE: UNCOMMENT THESE TWO ROWS if you don't want to row all of the cells above!!!\n",
    "# normalized_speakers = pd.read_csv('data/pickles/normalized_speakers.csv')\n",
    "# normalized_speakers.set_index('id', inplace=True)"
   ]
  },
  {
   "cell_type": "markdown",
   "id": "908cf196",
   "metadata": {},
   "source": [
    "### 2. Cluster with K-prototypes\n",
    "K-prototypes can handle clustering of numerical and categorical variables producing better results than doing one-hot encoding followed by k-means.  \n",
    "Reference: https://github.com/nicodv/kmodes."
   ]
  },
  {
   "cell_type": "code",
   "execution_count": 185,
   "id": "9ab4f0d7",
   "metadata": {},
   "outputs": [],
   "source": [
    "from kmodes.kprototypes import KPrototypes\n",
    "from sklearn.cluster import KMeans\n",
    "\n",
    "def run_kprototypes(features, start, end):\n",
    "    \"\"\"\n",
    "    Runs the k-prototypes clustering method for several values of k.\n",
    "    Returns: a dictionary containing the result where the key is k and the value is\n",
    "             the result of clustering with k, e.g. kprotos = {2: kproto_2, 3: kproto_3}.\n",
    "    \"\"\"\n",
    "    kprotos = {}\n",
    "    for k in range(start, end + 1):\n",
    "        print(f'Starting to cluster for {k} clusters')\n",
    "        # Assign the labels to the clusters\n",
    "        kproto = KPrototypes(n_clusters=k, random_state=10, n_jobs=-1).fit(features, categorical=[1, 2])\n",
    "        # kproto = KMeans(n_clusters=k, random_state=42).fit(features)\n",
    "        kprotos[k] = kproto\n",
    "        print(f'Done clustering for {k} clusters')\n",
    "    return kprotos"
   ]
  },
  {
   "cell_type": "code",
   "execution_count": 167,
   "id": "ca4622be",
   "metadata": {},
   "outputs": [],
   "source": [
    "def plot_sse(kprotos):\n",
    "    # Plot sum of squared errors (SSE): use elbow method for best k\n",
    "    plt.plot(kprotos.keys(), [kproto.cost_ for _, kproto in kprotos.items()])\n",
    "    # plt.plot(kprotos.keys(), [kproto.inertia_ for _, kproto in kprotos.items()])\n",
    "    plt.xlabel('K')\n",
    "    plt.ylabel('Sum of Squared Errors')"
   ]
  },
  {
   "cell_type": "markdown",
   "id": "92e15a0d",
   "metadata": {},
   "source": [
    "##### 2.1 Cluster and plot SSE"
   ]
  },
  {
   "cell_type": "code",
   "execution_count": 186,
   "id": "75ca0546",
   "metadata": {},
   "outputs": [
    {
     "name": "stdout",
     "output_type": "stream",
     "text": [
      "Starting to cluster for {k} clusters\n",
      "Done clustering for {k} clusters\n",
      "Starting to cluster for {k} clusters\n",
      "Done clustering for {k} clusters\n",
      "Starting to cluster for {k} clusters\n",
      "Done clustering for {k} clusters\n",
      "The clustering took 24.272247624397277 minutes\n"
     ]
    },
    {
     "data": {
      "image/png": "[encoded data removed]",
      "text/plain": [
       "<Figure size 432x288 with 1 Axes>"
      ]
     },
     "metadata": {
      "needs_background": "light"
     },
     "output_type": "display_data"
    }
   ],
   "source": [
    "import time\n",
    "start = time.time()\n",
    "kprotos = run_kprototypes(absolute_final_speaker_features, start=2, end=4)\n",
    "plot_sse(kprotos)\n",
    "end = time.time()\n",
    "print(f'The clustering took {(end - start) / 60} minutes')    "
   ]
  },
  {
   "cell_type": "markdown",
   "id": "d8442497",
   "metadata": {},
   "source": [
    "##### SAVE or LOAD the pre-processing until now:"
   ]
  },
  {
   "cell_type": "code",
   "execution_count": 142,
   "id": "fa9552f1",
   "metadata": {},
   "outputs": [],
   "source": [
    "# Save labels\n",
    "for k in kprotos:\n",
    "    with open(f'data/pickles/labels_for_{k}_cluster', 'wb') as f:\n",
    "        pickle.dump(kprotos[k].labels_, f)"
   ]
  },
  {
   "cell_type": "markdown",
   "id": "5b15d058",
   "metadata": {},
   "source": [
    "##### 2.2 Check distribution of elements among clusters"
   ]
  },
  {
   "cell_type": "code",
   "execution_count": 187,
   "id": "dfd0ab1a",
   "metadata": {},
   "outputs": [
    {
     "name": "stdout",
     "output_type": "stream",
     "text": [
      "k = 2 --> Counter({0: 174339, 1: 69565})\n",
      "k = 3 --> Counter({0: 148910, 1: 69565, 2: 25429})\n",
      "k = 4 --> Counter({2: 91428, 0: 69565, 3: 57482, 1: 25429})\n"
     ]
    }
   ],
   "source": [
    "def print_cluster_labels(kprotos):\n",
    "    \"\"\"Print cluster labels to see distribution of elements among them.\"\"\"\n",
    "    for k, kproto in kprotos.items():\n",
    "        print(f'k = {k} --> {Counter(kproto.labels_)}')\n",
    "print_cluster_labels(kprotos)"
   ]
  },
  {
   "cell_type": "code",
   "execution_count": 188,
   "id": "64f80c26",
   "metadata": {},
   "outputs": [],
   "source": [
    "def get_cluster_points(features, labels):\n",
    "    \"\"\"\n",
    "    Given the features clustered over and the resulting labels, return dataframes\n",
    "    where each dataframe contains the points of a label.\n",
    "    -----\n",
    "    Input: features - the dataframe which the clustering was run for\n",
    "           labels   - the labels that each row of features received on clustering\n",
    "    Returns:\n",
    "           list_of_dfs - a list of dataframes, where each dataframe contains the points\n",
    "                         of a same cluster label.\n",
    "    \"\"\"\n",
    "    unique_classes = np.unique(labels)\n",
    "    list_of_dfs = []\n",
    "    for label in unique_classes:\n",
    "        class_filter = np.equal(label, labels) * 1\n",
    "        indices = np.nonzero(class_filter)\n",
    "        df = features.iloc[indices]\n",
    "        list_of_dfs.append(df)\n",
    "    return list_of_dfs\n",
    "\n",
    "clusters_for_k = get_cluster_points(speakers_features_preprocessed_final_really, kprotos[3].labels_)"
   ]
  },
  {
   "cell_type": "markdown",
   "metadata": {},
   "source": [
    "##### SAVE or LOAD the clusters_for_k dataframes for each cluster:"
   ]
  },
  {
   "cell_type": "code",
   "execution_count": 116,
   "id": "2004887f",
   "metadata": {},
   "outputs": [],
   "source": [
    "# # Save\n",
    "# for cluster_nr, cluster_df in enumerate(clusters_for_k):\n",
    "#     cluster_df.to_csv(path_or_buf=f'data/pickles/cluster_{cluster_nr+1}.csv', index=True, encoding='utf-8')\n",
    "# Load\n",
    "# ..."
   ]
  },
  {
   "cell_type": "markdown",
   "id": "52b2711a",
   "metadata": {},
   "source": [
    "##### SAVE the clusters and add a column saying to which cluster the row belongs to:"
   ]
  },
  {
   "cell_type": "code",
   "execution_count": 141,
   "id": "9d8df3ad",
   "metadata": {},
   "outputs": [],
   "source": [
    "# Save dataframe containing qids and their cluster number\n",
    "final_clusters_df = pd.DataFrame()\n",
    "for cluster_nr, cluster_df in enumerate(clusters_for_k):\n",
    "    cluster_df_copy = cluster_df.copy()\n",
    "    cluster_df_copy['cluster_nr'] = cluster_nr + 1\n",
    "    final_clusters_df = final_clusters_df.append(cluster_df_copy)\n",
    "final_clusters_to_elliot = final_clusters_df.cluster_nr\n",
    "final_clusters_to_elliot.to_csv(path_or_buf='data/pickles/final_clusters_to_elliot.csv', index=True, encoding='utf-8')\n",
    "\n",
    "# Read as:\n",
    "# final_clusters_to_elliot = pd.read_csv('data/pickles/final_clusters_to_elliot.csv')\n",
    "# final_clusters_to_elliot.set_index('id', inplace=True)"
   ]
  },
  {
   "cell_type": "code",
   "execution_count": 189,
   "id": "746f70f0",
   "metadata": {},
   "outputs": [
    {
     "name": "stderr",
     "output_type": "stream",
     "text": [
      "<ipython-input-189-6e536224a76d>:25: UserWarning: FixedFormatter should only be used together with FixedLocator\n",
      "  _ = axs[i].set_xticklabels(top_occupations_labels)\n"
     ]
    },
    {
     "data": {
      "image/png": "[encoded data removed]",
      "text/plain": [
       "<Figure size 1584x576 with 3 Axes>"
      ]
     },
     "metadata": {
      "needs_background": "light"
     },
     "output_type": "display_data"
    }
   ],
   "source": [
    "from qwikidata.linked_data_interface import get_entity_dict_from_api\n",
    "import itertools\n",
    "\n",
    "def plot_occupation_of_clusters(wikidata_speakers, clusters, nr_occupations=8):\n",
    "    \"\"\"\n",
    "    Input: clusters - list of dataframes, where each dataframe contains points of the same cluster label.\n",
    "    \"\"\"\n",
    "    nr_clusters = len(clusters)\n",
    "    fig, axs = plt.subplots(1, nr_clusters, figsize=(22, 8), sharey=True)\n",
    "\n",
    "    for i, df in enumerate(clusters):\n",
    "        # Get the qids from the quotations df:\n",
    "        qids = df.index.tolist()\n",
    "        # Get the rows of the speakers having the wanted qids\n",
    "        speakers = wikidata_speakers.loc[qids]\n",
    "        # Get the speakers occupations and count them\n",
    "        occupation_count = Counter(speakers.occupation.values)\n",
    "        occupation_count_sorted = dict(sorted(occupation_count.items(), key=lambda x: x[1], reverse=True)) \n",
    "        top_occupations = dict(itertools.islice(occupation_count_sorted.items(), nr_occupations)) \n",
    "        # Query wikidata for occupation labels\n",
    "        top_occupations_labels = [get_entity_dict_from_api(item)['labels']['en']['value'] for item in top_occupations.keys()]\n",
    "        # Plot\n",
    "        _ = axs[i].set_title(f'Cluster {i+1}')\n",
    "        _ = axs[i].bar(top_occupations.keys(), top_occupations.values(), color='g', log=False, alpha=0.6)\n",
    "        _ = axs[i].set_xticklabels(top_occupations_labels)\n",
    "        _ = plt.setp(axs[i].get_xticklabels(), fontsize=12, rotation=55, ha='right')\n",
    "    fig.suptitle('Occupation distribution', fontsize=18)\n",
    "\n",
    "plot_occupation_of_clusters(speakers_features_final, clusters_for_k)"
   ]
  },
  {
   "cell_type": "code",
   "execution_count": 183,
   "id": "c70aadb1",
   "metadata": {},
   "outputs": [
    {
     "data": {
      "image/png": "[encoded data removed]",
      "text/plain": [
       "<Figure size 1800x576 with 3 Axes>"
      ]
     },
     "metadata": {
      "needs_background": "light"
     },
     "output_type": "display_data"
    }
   ],
   "source": [
    "def plot_nr_quotes_of_clusters(clusters):\n",
    "    # plt.bar(range(1, len(clusters) + 1), [cluster_df.n_quotes.sum() for cluster_df in clusters])\n",
    "    # plt.xlabel('Cluster number')\n",
    "    # plt.ylabel('Number of quotations')\n",
    "    nr_clusters = len(clusters)\n",
    "    fig, axs = plt.subplots(1, nr_clusters, figsize=(25, 8), sharex=True, sharey=True)\n",
    "    for i, cluster_df in enumerate(clusters):\n",
    "        axs[i].hist(cluster_df.n_quotes, bins=60, log=True)\n",
    "        axs[i].set_title(f'Cluster {i+1}')\n",
    "    fig.suptitle('Frequency of number of quotes distribution', fontsize=18)\n",
    "    \n",
    "plot_nr_quotes_of_clusters(clusters_for_k)"
   ]
  },
  {
   "cell_type": "code",
   "execution_count": 182,
   "id": "46ac1193",
   "metadata": {},
   "outputs": [
    {
     "data": {
      "image/png": "[encoded data removed]",
      "text/plain": [
       "<Figure size 1800x576 with 3 Axes>"
      ]
     },
     "metadata": {
      "needs_background": "light"
     },
     "output_type": "display_data"
    }
   ],
   "source": [
    "def plot_age_of_clusters(clusters):\n",
    "    \"\"\"\n",
    "    Input: clusters - list of dataframes, where each dataframe contains points of the same cluster label.\n",
    "    \"\"\"\n",
    "    nr_clusters = len(clusters)\n",
    "    fig, axs = plt.subplots(1, nr_clusters, figsize=(25, 8), sharey=True)\n",
    "    for i, cluster_df in enumerate(clusters):\n",
    "        ages_count = Counter(cluster_df.age)\n",
    "        # axs[i].hist(cluster_df.n_quotes, bins=30)\n",
    "        _ = axs[i].set_title(f'Cluster {i+1}') \n",
    "        _ = axs[i].set_xlim(10, 125)\n",
    "        _ = axs[i].bar(ages_count.keys(), ages_count.values(), color='r', alpha=0.6, width=0.8)\n",
    "    fig.suptitle('Age distribution', fontsize=18)\n",
    "    \n",
    "plot_age_of_clusters(clusters_for_k)"
   ]
  },
  {
   "cell_type": "code",
   "execution_count": 181,
   "id": "b809262d",
   "metadata": {},
   "outputs": [
    {
     "name": "stdout",
     "output_type": "stream",
     "text": [
      "Gender distribution in cluster 1 \n",
      " -Men: 78.06% \n",
      " -Women: 21.77%\n",
      "Gender distribution in cluster 2 \n",
      " -Men: 78.23% \n",
      " -Women: 21.61%\n",
      "Gender distribution in cluster 3 \n",
      " -Men: 78.21% \n",
      " -Women: 21.65%\n"
     ]
    }
   ],
   "source": [
    "# print(Counter(clusters_for_k[0].gender)) # 26% women\n",
    "male_qid = 'Q6581097'\n",
    "female_qid = 'Q6581072'\n",
    "age_dist_cluster_1 = dict(Counter(clusters_for_k[0].gender))\n",
    "age_dist_cluster_2 = dict(Counter(clusters_for_k[1].gender))\n",
    "age_dist_cluster_3 = dict(Counter(clusters_for_k[2].gender))\n",
    "\n",
    "def print_gender_dist(gender_dict, cluster_nr):\n",
    "    print(f'Gender distribution in cluster {cluster_nr} \\n -Men: {100*gender_dict[male_qid] / sum(gender_dict.values()):.2f}% \\n -Women: {100*gender_dict[female_qid] / sum(gender_dict.values()):.2f}%')\n",
    "\n",
    "print_gender_dist(age_dist_cluster_1, 1)\n",
    "print_gender_dist(age_dist_cluster_2, 2)\n",
    "print_gender_dist(age_dist_cluster_3, 3)\n",
    "\n",
    "\n",
    "# print(Counter(clusters_for_k[1].gender)) # 51% women\n",
    "# print(Counter(clusters_for_k[2].gender)) # 2.6% women"
   ]
  }
 ],
 "metadata": {
  "kernelspec": {
   "display_name": "Python 3",
   "language": "python",
   "name": "python3"
  },
  "language_info": {
   "codemirror_mode": {
    "name": "ipython",
    "version": 3
   },
   "file_extension": ".py",
   "mimetype": "text/x-python",
   "name": "python",
   "nbconvert_exporter": "python",
   "pygments_lexer": "ipython3",
   "version": "3.9.2"
  }
 },
 "nbformat": 4,
 "nbformat_minor": 5
}
