{
 "cells": [
  {
   "cell_type": "markdown",
   "id": "b96aed65-125a-4489-8c08-622e99d0ca60",
   "metadata": {},
   "source": [
    "# _Who has a voice in the media?_"
   ]
  },
  {
   "cell_type": "markdown",
   "id": "1593c269-a4a4-4638-8b8c-08f27493e276",
   "metadata": {},
   "source": [
    "## 1. Pre-processing the dataset\n",
    "In this study of \"_Who has a voice in the media_\", the **speaker identity and what it said is vital**. Thus, we remove the following rows from the original dataset:\n",
    "- rows where either the author or the quotation is NaN; \n",
    "- rows where the author has probability lower than 50%. \n",
    "\n",
    "Later, we also do a sanity controll and **remove possible duplicate of rows** with the same quote-ID as we obiously don't want to use exactly the same quote more than once in our analyzes. \n",
    "\n",
    "Finally, to reduce the dataset further we **remove columns** that we will not use for our analysis: _quoteID_, _speaker_, _probas_, _urls_, _phase_ and _numOccurrences_."
   ]
  },
  {
   "cell_type": "code",
   "execution_count": 1,
   "id": "8e15f9ce-bf3e-4ac7-bd12-561bdd5fbe8b",
   "metadata": {},
   "outputs": [],
   "source": [
    "import pandas as pd\n",
    "import numpy as np\n",
    "import matplotlib.pyplot as plt\n",
    "from datetime import datetime\n",
    "from collections import Counter\n",
    "from pathlib import Path"
   ]
  },
  {
   "cell_type": "code",
   "execution_count": 2,
   "metadata": {},
   "outputs": [
    {
     "name": "stderr",
     "output_type": "stream",
     "text": [
      "[nltk_data] Downloading package wordnet to\n",
      "[nltk_data]     C:\\Users\\mathe\\AppData\\Roaming\\nltk_data...\n",
      "[nltk_data]   Package wordnet is already up-to-date!\n"
     ]
    }
   ],
   "source": [
    "from nltk.corpus import wordnet as wn\n",
    "import nltk\n",
    "_ = nltk.download('wordnet')"
   ]
  },
  {
   "cell_type": "markdown",
   "id": "72bb7cc0-60c0-45c3-8c11-10233b200116",
   "metadata": {},
   "source": [
    "## 2. Initial analysis\n",
    "Here, we do initial studies on the content of the dataset. For instance we plot the following information about the speakers:\n",
    "- occupation;\n",
    "- gender;\n",
    "- age;\n",
    "- ethnicity;\n",
    "- top 20 speakers.\n",
    "**OBS! For practical reasons, in the initial analysis in Milestone 2, we randomly picked 100,000 quotations of each year instead of dealing with the whole data. The code and the analysis will basically remain the same but only need to be run for a longer time.**"
   ]
  },
  {
   "cell_type": "code",
   "execution_count": 3,
   "id": "e083d5e2-bf21-4108-83ec-1b0d2aaa35f3",
   "metadata": {},
   "outputs": [],
   "source": [
    "datafolder = Path(\"data\")\n",
    "\n",
    "DATA = {\n",
    "    '2015': 'data/clean-quotes-2015.bz2',\n",
    "    '2016': 'data/clean-quotes-2016.bz2',\n",
    "    '2017': 'data/clean-quotes-2017.bz2',\n",
    "    '2018': 'data/clean-quotes-2018.bz2',\n",
    "    '2019': 'data/clean-quotes-2019.bz2',\n",
    "    '2020': 'data/clean-quotes-2020.bz2',\n",
    "}\n",
    "\n",
    "ALL_YEARS = ['2015', '2016', '2017', '2018', '2019', '2020']\n",
    "\n",
    "def load_data(year, sample=True, sample_size=100_000):\n",
    "    year_file = Path(DATA[year])\n",
    "    if year_file.exists():\n",
    "        df = pd.read_csv(DATA[year], compression='bz2')\n",
    "        if sample:\n",
    "            df = df.sample(n=sample_size, random_state=1)\n",
    "    else:\n",
    "        return None \n",
    "    \n",
    "wikidata_speakers = pd.read_parquet('data/speaker_attributes.parquet')\n",
    "wikidata_speakers.set_index('id', inplace=True)"
   ]
  },
  {
   "cell_type": "code",
   "execution_count": 4,
   "id": "63d390fa",
   "metadata": {},
   "outputs": [],
   "source": [
    "nrows = 30_000\n",
    "df = pd.read_csv(DATA['2020'], compression='bz2', nrows=nrows)"
   ]
  },
  {
   "cell_type": "code",
   "execution_count": 5,
   "id": "83e29f4e-b580-4f7b-93b1-269321ece587",
   "metadata": {},
   "outputs": [],
   "source": [
    "qids = df.qids.tolist()\n",
    "wanted_qids = [eval(qid)[0] for qid in qids if len(eval(qid)) == 1 and eval(qid)[0] in wikidata_speakers.index]\n",
    "speakers = wikidata_speakers.loc[wanted_qids]\n",
    "speakers = speakers[~speakers.index.duplicated(keep='first')]\n",
    "\n",
    "n_quotes_per_person = Counter(wanted_qids)\n",
    "speakers['n_quotes'] = speakers.index.map(n_quotes_per_person)\n",
    "\n",
    "ages = []\n",
    "for date in speakers.date_of_birth.values:\n",
    "    if not date is None:\n",
    "        ages.append(datetime.now().year - int(date[0][1:5]))\n",
    "    else:\n",
    "        ages.append(None)\n",
    "\n",
    "speakers['age'] = ages\n"
   ]
  },
  {
   "cell_type": "markdown",
   "id": "b9007ddd",
   "metadata": {},
   "source": [
    "### 3. Pre-process dataset\n",
    "- Only keep meaningful features"
   ]
  },
  {
   "cell_type": "code",
   "execution_count": 11,
   "id": "64873ccf",
   "metadata": {},
   "outputs": [
    {
     "name": "stdout",
     "output_type": "stream",
     "text": [
      "The percentage of speakers with US_congress_bio_ID is 2.665%\n",
      "The percentage of speakers with candidacy is 4.705%\n",
      "The percentage of speakers with ethnic_group is 7.480%\n",
      "The percentage of speakers with religion is 11.009%\n",
      "The percentage of speakers with academic_degree is 2.261%\n",
      "The percentage of speakers with party is 23.378%\n",
      "The percentage of speakers with nationality is 84.047%\n",
      "The percentage of speakers with gender is 98.511%\n",
      "The percentage of speakers with occupation is 96.526%\n"
     ]
    }
   ],
   "source": [
    "print(f'The percentage of speakers with US_congress_bio_ID is {100 * len(speakers.US_congress_bio_ID.value_counts().index) / len(speakers.index) :.3f}%')\n",
    "print(f'The percentage of speakers with candidacy is {100 * sum(speakers.candidacy.value_counts().values) / len(speakers.index):.3f}%')\n",
    "print(f'The percentage of speakers with ethnic_group is {100 * sum(speakers.ethnic_group.value_counts().values) / len(speakers.index):.3f}%')\n",
    "print(f'The percentage of speakers with religion is {100 * sum(speakers.religion.value_counts().values) / len(speakers.index):.3f}%')\n",
    "print(f'The percentage of speakers with academic_degree is {100 * sum(speakers.academic_degree.value_counts().values) / len(speakers.index):.3f}%')\n",
    "print(f'The percentage of speakers with party is {100 * sum(speakers.party.value_counts().values) / len(speakers.index):.3f}%')\n",
    "print(f'The percentage of speakers with nationality is {100 * sum(speakers.nationality.value_counts().values) / len(speakers.index):.3f}%')\n",
    "print(f'The percentage of speakers with gender is {100 * sum(speakers.gender.value_counts().values) / len(speakers.index):.3f}%')\n",
    "print(f'The percentage of speakers with occupation is {100 * sum(speakers.occupation.value_counts().values) / len(speakers.index):.3f}%')"
   ]
  },
  {
   "cell_type": "markdown",
   "id": "1b525af0",
   "metadata": {},
   "source": [
    "Drop the columns:\n",
    "- that are particular to the speaker and don't add any value to the clustering (alisaes, label, US_congress_ID) ;\n",
    "- that don't add value to clustering (lastrevid, type);\n",
    "- that contain too little data to draw any conclusions (candidacy - 2.9%, academic_degree - 1.3%);\n",
    "- used to produce the new ages column (date_of_birth). "
   ]
  },
  {
   "cell_type": "code",
   "execution_count": 6,
   "id": "63fd782f",
   "metadata": {},
   "outputs": [
    {
     "data": {
      "text/html": [
       "<div>\n",
       "<style scoped>\n",
       "    .dataframe tbody tr th:only-of-type {\n",
       "        vertical-align: middle;\n",
       "    }\n",
       "\n",
       "    .dataframe tbody tr th {\n",
       "        vertical-align: top;\n",
       "    }\n",
       "\n",
       "    .dataframe thead th {\n",
       "        text-align: right;\n",
       "    }\n",
       "</style>\n",
       "<table border=\"1\" class=\"dataframe\">\n",
       "  <thead>\n",
       "    <tr style=\"text-align: right;\">\n",
       "      <th></th>\n",
       "      <th>nationality</th>\n",
       "      <th>gender</th>\n",
       "      <th>occupation</th>\n",
       "      <th>n_quotes</th>\n",
       "      <th>age</th>\n",
       "    </tr>\n",
       "    <tr>\n",
       "      <th>id</th>\n",
       "      <th></th>\n",
       "      <th></th>\n",
       "      <th></th>\n",
       "      <th></th>\n",
       "      <th></th>\n",
       "    </tr>\n",
       "  </thead>\n",
       "  <tbody>\n",
       "    <tr>\n",
       "      <th>Q367796</th>\n",
       "      <td>[Q30]</td>\n",
       "      <td>[Q6581072]</td>\n",
       "      <td>[Q82955]</td>\n",
       "      <td>1</td>\n",
       "      <td>80.0</td>\n",
       "    </tr>\n",
       "    <tr>\n",
       "      <th>Q20684375</th>\n",
       "      <td>None</td>\n",
       "      <td>[Q6581072]</td>\n",
       "      <td>None</td>\n",
       "      <td>5</td>\n",
       "      <td>37.0</td>\n",
       "    </tr>\n",
       "    <tr>\n",
       "      <th>Q5268447</th>\n",
       "      <td>[Q23635]</td>\n",
       "      <td>[Q6581097]</td>\n",
       "      <td>[Q12299841]</td>\n",
       "      <td>1</td>\n",
       "      <td>60.0</td>\n",
       "    </tr>\n",
       "    <tr>\n",
       "      <th>Q4864119</th>\n",
       "      <td>None</td>\n",
       "      <td>[Q6581097]</td>\n",
       "      <td>None</td>\n",
       "      <td>1</td>\n",
       "      <td>NaN</td>\n",
       "    </tr>\n",
       "    <tr>\n",
       "      <th>Q816459</th>\n",
       "      <td>[Q30]</td>\n",
       "      <td>[Q6581097]</td>\n",
       "      <td>[Q212980, Q9385011, Q82955, Q482980, Q1622272,...</td>\n",
       "      <td>5</td>\n",
       "      <td>70.0</td>\n",
       "    </tr>\n",
       "  </tbody>\n",
       "</table>\n",
       "</div>"
      ],
      "text/plain": [
       "          nationality      gender  \\\n",
       "id                                  \n",
       "Q367796         [Q30]  [Q6581072]   \n",
       "Q20684375        None  [Q6581072]   \n",
       "Q5268447     [Q23635]  [Q6581097]   \n",
       "Q4864119         None  [Q6581097]   \n",
       "Q816459         [Q30]  [Q6581097]   \n",
       "\n",
       "                                                  occupation  n_quotes   age  \n",
       "id                                                                            \n",
       "Q367796                                             [Q82955]         1  80.0  \n",
       "Q20684375                                               None         5  37.0  \n",
       "Q5268447                                         [Q12299841]         1  60.0  \n",
       "Q4864119                                                None         1   NaN  \n",
       "Q816459    [Q212980, Q9385011, Q82955, Q482980, Q1622272,...         5  70.0  "
      ]
     },
     "execution_count": 6,
     "metadata": {},
     "output_type": "execute_result"
    }
   ],
   "source": [
    "speakers_features = speakers.drop(columns=['aliases', 'label', 'US_congress_bio_ID', \n",
    "                                           'lastrevid', 'type', \n",
    "                                           'candidacy', 'academic_degree',\n",
    "                                           'date_of_birth', 'religion',\n",
    "                                           'ethnic_group', 'party'\n",
    "                                           ])\n",
    "speakers_features.head()"
   ]
  },
  {
   "cell_type": "markdown",
   "id": "86e3ed3f",
   "metadata": {},
   "source": [
    "More pre-processing: make the None names to 'Unknown', otherwise the KPrototype doesn't run. This way, the 'Unknown' class becomes a categorical variable."
   ]
  },
  {
   "cell_type": "code",
   "execution_count": 7,
   "id": "4ba6b3d7",
   "metadata": {},
   "outputs": [],
   "source": [
    "speakers_features_full = pd.DataFrame()\n",
    "speakers_features_full['n_quotes'] = speakers_features['n_quotes']\n",
    "speakers_features_full['age'] = speakers_features['age']\n",
    "\n",
    "# Keep only first instance of occupation, nationality\n",
    "for name, values in speakers_features.iteritems():\n",
    "    if name not in ['n_quotes', 'age']:\n",
    "        updated_values = []\n",
    "        for val in values:\n",
    "            if not val is None:\n",
    "                updated_values.append(val[0])\n",
    "            else:\n",
    "                updated_values.append(None)\n",
    "        speakers_features_full[name] = updated_values\n",
    "\n",
    "speakers_features_preprocessed_ = speakers_features_full.dropna(axis=0) # remove row if any column value is None"
   ]
  },
  {
   "cell_type": "markdown",
   "id": "8e00bb59",
   "metadata": {},
   "source": [
    "Remove the authors whose age is not between 0 and 200, and whose n_quotes is smaller than 5."
   ]
  },
  {
   "cell_type": "code",
   "execution_count": 8,
   "id": "a10ed6b4",
   "metadata": {},
   "outputs": [
    {
     "data": {
      "text/plain": [
       "2502"
      ]
     },
     "execution_count": 8,
     "metadata": {},
     "output_type": "execute_result"
    }
   ],
   "source": [
    "speakers_features_preprocessed = speakers_features_preprocessed_[(speakers_features_preprocessed_.age > 0) \n",
    "                                                               & (speakers_features_preprocessed_.age < 150) \n",
    "                                                               & (speakers_features_preprocessed_.n_quotes > 1)]\n",
    "speakers_features_preprocessed.head()\n",
    "len(speakers_features_preprocessed)"
   ]
  },
  {
   "cell_type": "markdown",
   "id": "20e1b53b",
   "metadata": {},
   "source": [
    "#### Construct new features using Wordnet"
   ]
  },
  {
   "cell_type": "code",
   "execution_count": 145,
   "id": "b8012a5f",
   "metadata": {},
   "outputs": [
    {
     "name": "stderr",
     "output_type": "stream",
     "text": [
      "Wikidata redirect detected.  Input entity id=Q15634285. Returned entity id=Q12119633.\n",
      "Wikidata redirect detected.  Input entity id=Q15895020. Returned entity id=Q10497074.\n",
      "Wikidata redirect detected.  Input entity id=Q104050302. Returned entity id=Q1469535.\n"
     ]
    }
   ],
   "source": [
    "from qwikidata.linked_data_interface import get_entity_dict_from_api\n",
    "\n",
    "def map_qid_occupations():\n",
    "    qids = speakers_features_preprocessed.occupation.unique().tolist()\n",
    "    qid_occupation_map = {}\n",
    "    for qid in qids:\n",
    "        if qid not in qid_occupation_map:\n",
    "            entity = get_entity_dict_from_api(qid)['labels']\n",
    "            if 'en' not in entity: continue\n",
    "            occupation_name = entity['en']['value']\n",
    "            if occupation_name == 'association football player': occupation_name = 'soccer_player'\n",
    "            elif occupation_name == 'American football player': occupation_name = 'football_player'\n",
    "            elif occupation_name == 'rugby union player': occupation_name = 'football_player'\n",
    "            elif occupation_name == 'rugby league player': occupation_name = 'football_player'\n",
    "            elif occupation_name == 'ice hockey player': occupation_name = 'athlete'\n",
    "            elif occupation_name == 'boxer': occupation_name = 'athlete'\n",
    "            elif occupation_name == 'golfer': occupation_name = 'athlete'\n",
    "            elif occupation_name == 'business magnate': occupation_name = 'businessperson'\n",
    "            elif occupation_name == 'business executive': occupation_name = 'businessperson'\n",
    "            elif occupation_name == 'singer-songwriter': occupation_name = 'musician'\n",
    "            elif occupation_name == 'composer': occupation_name = 'musician'\n",
    "            elif occupation_name == 'film-director': occupation_name = 'film_director'\n",
    "            elif occupation_name == 'film producer': occupation_name = 'film_director'\n",
    "            elif occupation_name == 'film actor': occupation_name = 'actor'\n",
    "            elif occupation_name == 'television actor': occupation_name = 'actor'\n",
    "            elif occupation_name == 'comedian': occupation_name = 'actor'\n",
    "            elif occupation_name == 'diplomat': occupation_name = 'politician'\n",
    "            elif occupation_name == 'philosopher': occupation_name = 'researcher'\n",
    "            elif occupation_name == 'economist': occupation_name = 'researcher'\n",
    "            qid_occupation_map[qid] = occupation_name\n",
    "    return qid_occupation_map\n",
    "    \n",
    "# UNCOMMENT ROW BELOW TO GET qid <-> occupation_name map\n",
    "qid_occupation_map = map_qid_occupations()\n",
    "\n",
    "top_occupations = ['politician', 'athlete', 'actor', 'lawyer', 'researcher', 'journalist', 'musician', 'businessperson']\n",
    "\n",
    "def get_wordnet_similarity_to(top_occupations, qid_occupation_map, thresh=0.7):\n",
    "    \"\"\"\n",
    "    Calculates the similarities of all unique occupation qids to the pre-defined top occupations.\n",
    "    Returns a dictionary where the keys are each unique occupation qid, and the value is the similarity\n",
    "    to each top occupation. E.g.: qid_simlarities_map = {'Q1234': [similarity_to_politician, similarity_to_athlete, ..., similarity_to_businessperson], ...}.\n",
    "    \"\"\"\n",
    "    unique_qids = speakers_features_preprocessed.occupation.unique().tolist()\n",
    "    qid_similarities_map = {}\n",
    "    for qid in unique_qids:\n",
    "        if qid in qid_occupation_map and wn.synsets(qid_occupation_map[qid]): \n",
    "            dist_to_top_occupations = np.zeros((8, )) #{occupation: None for occupation in top_occupations}\n",
    "            qid_synset_obj = wn.synsets(qid_occupation_map[qid])[0]\n",
    "            for i, occ in enumerate(top_occupations):\n",
    "                top_occ_synset_obj = wn.synsets(occ)[0]\n",
    "                similarity_to_top_occupation = top_occ_synset_obj.wup_similarity(qid_synset_obj)\n",
    "                dist_to_top_occupations[i] = similarity_to_top_occupation\n",
    "            if np.max(dist_to_top_occupations) >= thresh:\n",
    "                dist_to_top_occupations[dist_to_top_occupations != np.max(dist_to_top_occupations)] = 0\n",
    "                dist_to_top_occupations[dist_to_top_occupations == np.max(dist_to_top_occupations)] = 1\n",
    "                qid_similarities_map[qid] = dist_to_top_occupations\n",
    "    return qid_similarities_map\n",
    "            \n",
    "qid_similarities_map = get_wordnet_similarity_to(top_occupations, qid_occupation_map)"
   ]
  },
  {
   "cell_type": "code",
   "execution_count": 75,
   "id": "999895d6",
   "metadata": {},
   "outputs": [
    {
     "data": {
      "text/plain": [
       "0.0"
      ]
     },
     "execution_count": 75,
     "metadata": {},
     "output_type": "execute_result"
    }
   ],
   "source": [
    "# top_occ_synset_obj = wn.synsets('athlete')[0]\n",
    "# qid_synset_obj = wn.synsets('politician')[0]\n",
    "# top_occ_synset_obj.path_similarity(qid_synset_obj)\n",
    "a = np.array([[0.2, 0.3, 0.1, 0.99, 0.9]])\n",
    "a[a != np.max(a)] = 0\n",
    "a[a == np.max(a)] = 1\n",
    "a\n",
    "# 'soccer player'\n",
    "# 'American football player'\n",
    "# 'hockey player'\n",
    "top_occ_synset_obj = wn.synsets('singer')\n",
    "top_occ_synset_obj\n",
    "# qid_synset_obj = wn.synsets('hockey player')[0]\n",
    "# top_occ_synset_obj.path_similarity(qid_synset_obj)\n",
    "\n",
    "# qid_occupation_map"
   ]
  },
  {
   "cell_type": "code",
   "execution_count": 146,
   "id": "3dfe0aaf",
   "metadata": {},
   "outputs": [
    {
     "name": "stderr",
     "output_type": "stream",
     "text": [
      "<ipython-input-146-27b5453d7e82>:3: SettingWithCopyWarning: \n",
      "A value is trying to be set on a copy of a slice from a DataFrame.\n",
      "Try using .loc[row_indexer,col_indexer] = value instead\n",
      "\n",
      "See the caveats in the documentation: https://pandas.pydata.org/pandas-docs/stable/user_guide/indexing.html#returning-a-view-versus-a-copy\n",
      "  speakers_features_preprocessed[f'{top_occupation}_score'] = None\n",
      "C:\\Users\\mathe\\AppData\\Local\\Programs\\Python\\Python39\\lib\\site-packages\\pandas\\core\\indexing.py:1797: SettingWithCopyWarning: \n",
      "A value is trying to be set on a copy of a slice from a DataFrame.\n",
      "Try using .loc[row_indexer,col_indexer] = value instead\n",
      "\n",
      "See the caveats in the documentation: https://pandas.pydata.org/pandas-docs/stable/user_guide/indexing.html#returning-a-view-versus-a-copy\n",
      "  self._setitem_single_column(loc, v, pi)\n"
     ]
    }
   ],
   "source": [
    "# Create new columns: politician_score, athlete_score, actor_score, lawyer_score, researcher_score, journalist_score, musician_score, businessperson_score\n",
    "for top_occupation in top_occupations:\n",
    "    speakers_features_preprocessed[f'{top_occupation}_score'] = None\n",
    "speakers_features_preprocessed.head(20)\n",
    "\n",
    "unique_occupation_qids = speakers_features_preprocessed.occupation.unique().tolist()\n",
    "for occ_qid in qid_similarities_map:\n",
    "    speakers_features_preprocessed.loc[speakers_features_preprocessed['occupation'] == occ_qid, \n",
    "                                      ['politician_score', 'athlete_score', 'actor_score', 'lawyer_score', \n",
    "                                       'researcher_score', 'journalist_score', 'musician_score', 'businessperson_score']] = qid_similarities_map[occ_qid]\n",
    "# speakers_features_preprocessed.head(10)"
   ]
  },
  {
   "cell_type": "code",
   "execution_count": 181,
   "id": "56345a06",
   "metadata": {},
   "outputs": [
    {
     "data": {
      "text/html": [
       "<div>\n",
       "<style scoped>\n",
       "    .dataframe tbody tr th:only-of-type {\n",
       "        vertical-align: middle;\n",
       "    }\n",
       "\n",
       "    .dataframe tbody tr th {\n",
       "        vertical-align: top;\n",
       "    }\n",
       "\n",
       "    .dataframe thead th {\n",
       "        text-align: right;\n",
       "    }\n",
       "</style>\n",
       "<table border=\"1\" class=\"dataframe\">\n",
       "  <thead>\n",
       "    <tr style=\"text-align: right;\">\n",
       "      <th></th>\n",
       "      <th>n_quotes</th>\n",
       "      <th>nationality</th>\n",
       "      <th>gender</th>\n",
       "      <th>politician_score</th>\n",
       "      <th>athlete_score</th>\n",
       "      <th>actor_score</th>\n",
       "      <th>lawyer_score</th>\n",
       "      <th>researcher_score</th>\n",
       "      <th>journalist_score</th>\n",
       "      <th>musician_score</th>\n",
       "      <th>businessperson_score</th>\n",
       "    </tr>\n",
       "    <tr>\n",
       "      <th>id</th>\n",
       "      <th></th>\n",
       "      <th></th>\n",
       "      <th></th>\n",
       "      <th></th>\n",
       "      <th></th>\n",
       "      <th></th>\n",
       "      <th></th>\n",
       "      <th></th>\n",
       "      <th></th>\n",
       "      <th></th>\n",
       "      <th></th>\n",
       "    </tr>\n",
       "  </thead>\n",
       "  <tbody>\n",
       "    <tr>\n",
       "      <th>Q4749380</th>\n",
       "      <td>2</td>\n",
       "      <td>Q30</td>\n",
       "      <td>Q6581072</td>\n",
       "      <td>0.0</td>\n",
       "      <td>0.0</td>\n",
       "      <td>1.0</td>\n",
       "      <td>0.0</td>\n",
       "      <td>0.0</td>\n",
       "      <td>0.0</td>\n",
       "      <td>0.0</td>\n",
       "      <td>0.0</td>\n",
       "    </tr>\n",
       "    <tr>\n",
       "      <th>Q771586</th>\n",
       "      <td>2</td>\n",
       "      <td>Q30</td>\n",
       "      <td>Q6581097</td>\n",
       "      <td>1.0</td>\n",
       "      <td>0.0</td>\n",
       "      <td>0.0</td>\n",
       "      <td>0.0</td>\n",
       "      <td>0.0</td>\n",
       "      <td>0.0</td>\n",
       "      <td>0.0</td>\n",
       "      <td>0.0</td>\n",
       "    </tr>\n",
       "    <tr>\n",
       "      <th>Q461391</th>\n",
       "      <td>40</td>\n",
       "      <td>Q30</td>\n",
       "      <td>Q6581097</td>\n",
       "      <td>1.0</td>\n",
       "      <td>0.0</td>\n",
       "      <td>0.0</td>\n",
       "      <td>0.0</td>\n",
       "      <td>0.0</td>\n",
       "      <td>0.0</td>\n",
       "      <td>0.0</td>\n",
       "      <td>0.0</td>\n",
       "    </tr>\n",
       "    <tr>\n",
       "      <th>Q23517</th>\n",
       "      <td>7</td>\n",
       "      <td>Q145</td>\n",
       "      <td>Q6581097</td>\n",
       "      <td>0.0</td>\n",
       "      <td>0.0</td>\n",
       "      <td>1.0</td>\n",
       "      <td>0.0</td>\n",
       "      <td>0.0</td>\n",
       "      <td>0.0</td>\n",
       "      <td>0.0</td>\n",
       "      <td>0.0</td>\n",
       "    </tr>\n",
       "    <tr>\n",
       "      <th>Q59155</th>\n",
       "      <td>35</td>\n",
       "      <td>Q668</td>\n",
       "      <td>Q6581097</td>\n",
       "      <td>1.0</td>\n",
       "      <td>0.0</td>\n",
       "      <td>0.0</td>\n",
       "      <td>0.0</td>\n",
       "      <td>0.0</td>\n",
       "      <td>0.0</td>\n",
       "      <td>0.0</td>\n",
       "      <td>0.0</td>\n",
       "    </tr>\n",
       "  </tbody>\n",
       "</table>\n",
       "</div>"
      ],
      "text/plain": [
       "          n_quotes nationality    gender politician_score athlete_score  \\\n",
       "id                                                                        \n",
       "Q4749380         2         Q30  Q6581072              0.0           0.0   \n",
       "Q771586          2         Q30  Q6581097              1.0           0.0   \n",
       "Q461391         40         Q30  Q6581097              1.0           0.0   \n",
       "Q23517           7        Q145  Q6581097              0.0           0.0   \n",
       "Q59155          35        Q668  Q6581097              1.0           0.0   \n",
       "\n",
       "         actor_score lawyer_score researcher_score journalist_score  \\\n",
       "id                                                                    \n",
       "Q4749380         1.0          0.0              0.0              0.0   \n",
       "Q771586          0.0          0.0              0.0              0.0   \n",
       "Q461391          0.0          0.0              0.0              0.0   \n",
       "Q23517           1.0          0.0              0.0              0.0   \n",
       "Q59155           0.0          0.0              0.0              0.0   \n",
       "\n",
       "         musician_score businessperson_score  \n",
       "id                                            \n",
       "Q4749380            0.0                  0.0  \n",
       "Q771586             0.0                  0.0  \n",
       "Q461391             0.0                  0.0  \n",
       "Q23517              0.0                  0.0  \n",
       "Q59155              0.0                  0.0  "
      ]
     },
     "execution_count": 181,
     "metadata": {},
     "output_type": "execute_result"
    }
   ],
   "source": [
    "speakers_features_preprocessed_final = speakers_features_preprocessed.drop(columns=['occupation']).dropna()\n",
    "speakers_features_preprocessed_final.head()\n",
    "# print(speakers_features_preprocessed_final.shape)"
   ]
  },
  {
   "cell_type": "markdown",
   "id": "62fffa5d",
   "metadata": {},
   "source": [
    "#### Normalize numerical columns"
   ]
  },
  {
   "cell_type": "code",
   "execution_count": 182,
   "id": "e7421494",
   "metadata": {},
   "outputs": [],
   "source": [
    "def min_max_normalize_column(column):\n",
    "    return (column - column.min()) / (column.max() - column.min())\n",
    "\n",
    "normalized_speakers = pd.DataFrame()\n",
    "normalized_speakers['n_quotes'] = min_max_normalize_column(speakers_features_preprocessed_final['n_quotes'])\n",
    "# normalized_speakers['age'] = min_max_normalize_column(speakers_features_preprocessed_final['age'])\n",
    "normalized_speakers['politician_score'] = speakers_features_preprocessed_final['politician_score']\n",
    "normalized_speakers['athlete_score'] = speakers_features_preprocessed_final['athlete_score']\n",
    "normalized_speakers['actor_score'] = speakers_features_preprocessed_final['actor_score']\n",
    "normalized_speakers['lawyer_score'] = speakers_features_preprocessed_final['lawyer_score']\n",
    "normalized_speakers['researcher_score'] = speakers_features_preprocessed_final['researcher_score']\n",
    "normalized_speakers['journalist_score'] = speakers_features_preprocessed_final['journalist_score']\n",
    "normalized_speakers['musician_score'] = speakers_features_preprocessed_final['musician_score']\n",
    "normalized_speakers['businessperson_score'] = speakers_features_preprocessed_final['businessperson_score']\n",
    "\n"
   ]
  },
  {
   "cell_type": "markdown",
   "id": "908cf196",
   "metadata": {},
   "source": [
    "### 4. Cluster with K-prototypes\n",
    "K-prototypes can handle clustering of numerical and categorical variables producing better results than doing one-hot encoding followed by k-means.  \n",
    "Reference: https://github.com/nicodv/kmodes."
   ]
  },
  {
   "cell_type": "code",
   "execution_count": 184,
   "id": "9ab4f0d7",
   "metadata": {},
   "outputs": [],
   "source": [
    "from kmodes.kprototypes import KPrototypes\n",
    "\n",
    "def run_kprototypes(features, start, end):\n",
    "    \"\"\"\n",
    "    Runs the k-prototypes clustering method for several values of k.\n",
    "    Returns: a dictionary containing the result where the key is k and the value is\n",
    "             the result of clustering with k, e.g. kprotos = {2: kproto_2, 3: kproto_3}.\n",
    "    \"\"\"\n",
    "    kprotos = {}\n",
    "    for k in range(start, end + 1):\n",
    "        # Assign the labels to the clusters\n",
    "        kproto = KPrototypes(n_clusters=k, random_state=10, n_jobs=-1).fit(features, categorical=[1, 2])\n",
    "        kprotos[k] = kproto\n",
    "    return kprotos\n",
    "\n",
    "def plot_sse(kprotos):\n",
    "    # Plot sum of squared errors (SSE): use elbow method for best k\n",
    "    plt.plot(kprotos.keys(), [kproto.cost_ for _, kproto in kprotos.items()])\n",
    "    plt.xlabel('K')\n",
    "    plt.ylabel('Sum of Squared Errors')"
   ]
  },
  {
   "cell_type": "code",
   "execution_count": 185,
   "id": "75ca0546",
   "metadata": {},
   "outputs": [
    {
     "data": {
      "image/png": "[encoded data removed]",
      "text/plain": [
       "<Figure size 432x288 with 1 Axes>"
      ]
     },
     "metadata": {
      "needs_background": "light"
     },
     "output_type": "display_data"
    }
   ],
   "source": [
    "kprotos = run_kprototypes(speakers_features_preprocessed_final, start=2, end=6)\n",
    "plot_sse(kprotos)"
   ]
  },
  {
   "cell_type": "markdown",
   "id": "5b15d058",
   "metadata": {},
   "source": [
    "### Check distribution of elements among clusters"
   ]
  },
  {
   "cell_type": "code",
   "execution_count": 186,
   "id": "dfd0ab1a",
   "metadata": {},
   "outputs": [
    {
     "name": "stdout",
     "output_type": "stream",
     "text": [
      "k = 2 --> Counter({1: 1674, 0: 3})\n",
      "k = 3 --> Counter({1: 1640, 0: 34, 2: 3})\n",
      "k = 4 --> Counter({2: 1517, 1: 142, 0: 17, 3: 1})\n",
      "k = 5 --> Counter({0: 1483, 4: 167, 2: 23, 3: 3, 1: 1})\n",
      "k = 6 --> Counter({3: 1195, 0: 394, 2: 65, 5: 19, 4: 3, 1: 1})\n"
     ]
    }
   ],
   "source": [
    "def print_cluster_labels(kprotos):\n",
    "    \"\"\"Print cluster labels to see distribution of elements among them.\"\"\"\n",
    "    for k, kproto in kprotos.items():\n",
    "        print(f'k = {k} --> {Counter(kproto.labels_)}')\n",
    "print_cluster_labels(kprotos)"
   ]
  },
  {
   "cell_type": "markdown",
   "id": "d254528a",
   "metadata": {},
   "source": [
    "### 5. Visualize clusters distributions for k=6"
   ]
  },
  {
   "cell_type": "code",
   "execution_count": 187,
   "id": "64f80c26",
   "metadata": {},
   "outputs": [],
   "source": [
    "def get_cluster_points(features, labels):\n",
    "    \"\"\"\n",
    "    Given the features clustered over and the resulting labels, return dataframes\n",
    "    where each dataframe contains the points of a label.\n",
    "    -----\n",
    "    Input: features - the dataframe which the clustering was run for\n",
    "           labels   - the labels that each row of features received on clustering\n",
    "    Returns:\n",
    "           list_of_dfs - a list of dataframes, where each dataframe contains the points\n",
    "                         of a same cluster label.\n",
    "    \"\"\"\n",
    "    unique_classes = np.unique(labels)\n",
    "    list_of_dfs = []\n",
    "    for label in unique_classes:\n",
    "        class_filter = np.equal(label, labels) * 1\n",
    "        indices = np.nonzero(class_filter)\n",
    "        df = features.iloc[indices]\n",
    "        list_of_dfs.append(df)\n",
    "    return list_of_dfs\n",
    "\n",
    "clusters_for_k = get_cluster_points(speakers_features_preprocessed_final, kprotos[4].labels_)"
   ]
  },
  {
   "cell_type": "code",
   "execution_count": 188,
   "id": "746f70f0",
   "metadata": {},
   "outputs": [],
   "source": [
    "from qwikidata.linked_data_interface import get_entity_dict_from_api\n",
    "import itertools\n",
    "\n",
    "def plot_occupation_of_clusters(clusters, nr_occupations=8):\n",
    "    \"\"\"\n",
    "    Input: clusters - list of dataframes, where each dataframe contains points of the same cluster label.\n",
    "    \"\"\"\n",
    "    nr_clusters = len(clusters)\n",
    "    _, axs = plt.subplots(1, nr_clusters, figsize=(22, 8), sharey=True)\n",
    "\n",
    "    for i, df in enumerate(clusters):\n",
    "        # Get the qids from the quotations df:\n",
    "        qids = df.index.tolist()\n",
    "        # Get the rows of the speakers having the wanted qids\n",
    "        speakers = wikidata_speakers.loc[qids]\n",
    "        # Get the speakers occupations and count them\n",
    "        occupation_ids = [occ_id[0] for occ_id in speakers.occupation.values if not occ_id is None]\n",
    "        occupation_count = Counter(occupation_ids)\n",
    "        occupation_count_sorted = dict(sorted(occupation_count.items(), key=lambda x: x[1], reverse=True)) \n",
    "        top_occupations = dict(itertools.islice(occupation_count_sorted.items(), nr_occupations)) \n",
    "        # Query wikidata for occupation labels\n",
    "        top_occupations_labels = [get_entity_dict_from_api(item)['labels']['en']['value'] for item in top_occupations.keys()]\n",
    "        # Plot\n",
    "        _ = axs[i].set_title(f'Cluster {i+1}')\n",
    "        _ = axs[i].bar(top_occupations.keys(), top_occupations.values(), color='g', log=False, alpha=0.6)\n",
    "        _ = axs[i].set_xticklabels(top_occupations_labels)\n",
    "        _ = plt.setp(axs[i].get_xticklabels(), fontsize=12, rotation=55, ha='right')"
   ]
  },
  {
   "cell_type": "code",
   "execution_count": 189,
   "id": "f10000ef",
   "metadata": {},
   "outputs": [
    {
     "name": "stderr",
     "output_type": "stream",
     "text": [
      "<ipython-input-188-7bc39fc4d464>:26: UserWarning: FixedFormatter should only be used together with FixedLocator\n",
      "  _ = axs[i].set_xticklabels(top_occupations_labels)\n"
     ]
    },
    {
     "data": {
      "image/png": "[encoded data removed]",
      "text/plain": [
       "<Figure size 1584x576 with 4 Axes>"
      ]
     },
     "metadata": {
      "needs_background": "light"
     },
     "output_type": "display_data"
    }
   ],
   "source": [
    "plot_occupation_of_clusters(clusters_for_k)"
   ]
  },
  {
   "cell_type": "code",
   "execution_count": 21,
   "id": "dfcf2772",
   "metadata": {},
   "outputs": [],
   "source": [
    "def plot_nationality_of_clusters(clusters, nr_nationalities=5):\n",
    "    \"\"\"\n",
    "    Input: clusters - list of dataframes, where each dataframe contains points of the same cluster label.\n",
    "    \"\"\"\n",
    "    nr_clusters = len(clusters)\n",
    "    _, axs = plt.subplots(1, nr_clusters, figsize=(22, 8), sharey=True)\n",
    "\n",
    "    for i, df in enumerate(clusters):\n",
    "        # Get the qids from the quotations df:\n",
    "        qids = df.index.tolist()\n",
    "        # Get the rows of the speakers having the wanted qids\n",
    "        speakers = wikidata_speakers.loc[qids]\n",
    "        # Get the speakers occupations and count them\n",
    "        nationality_ids = [nat[0] for nat in speakers.nationality.values if not nat is None]\n",
    "        nationality_count = Counter(nationality_ids)\n",
    "        nationality_count_sorted = dict(sorted(nationality_count.items(), key=lambda x: x[1], reverse=True)) \n",
    "        top_nationalities = dict(itertools.islice(nationality_count_sorted.items(), nr_nationalities)) \n",
    "\n",
    "        # Query wikidata for occupation labels\n",
    "        top_nationality_labels = [get_entity_dict_from_api(item)['labels']['en']['value'] for item in top_nationalities.keys()]\n",
    "        # Plot\n",
    "        _ = axs[i].set_title(f'Cluster {i+1}')\n",
    "        _ = axs[i].bar(top_nationalities.keys(), top_nationalities.values(), color='b', log=False, alpha=0.6)\n",
    "        _ = axs[i].set_xticklabels(top_nationality_labels)\n",
    "        _ = plt.setp(axs[i].get_xticklabels(), fontsize=12, rotation=55, ha='right')\n"
   ]
  },
  {
   "cell_type": "code",
   "execution_count": 22,
   "id": "cc2a1d7d",
   "metadata": {},
   "outputs": [
    {
     "name": "stderr",
     "output_type": "stream",
     "text": [
      "<ipython-input-21-fc4f7e776724>:24: UserWarning: FixedFormatter should only be used together with FixedLocator\n",
      "  _ = axs[i].set_xticklabels(top_nationality_labels)\n"
     ]
    },
    {
     "data": {
      "image/png": "[encoded data removed]",
      "text/plain": [
       "<Figure size 1584x576 with 4 Axes>"
      ]
     },
     "metadata": {
      "needs_background": "light"
     },
     "output_type": "display_data"
    }
   ],
   "source": [
    "plot_nationality_of_clusters(clusters_for_k)"
   ]
  },
  {
   "cell_type": "code",
   "execution_count": 164,
   "id": "c70aadb1",
   "metadata": {},
   "outputs": [
    {
     "data": {
      "image/png": "[encoded data removed]",
      "text/plain": [
       "<Figure size 1800x576 with 5 Axes>"
      ]
     },
     "metadata": {
      "needs_background": "light"
     },
     "output_type": "display_data"
    }
   ],
   "source": [
    "def plot_nr_quotes_of_clusters(clusters):\n",
    "    # plt.bar(range(1, len(clusters) + 1), [cluster_df.n_quotes.sum() for cluster_df in clusters])\n",
    "    # plt.xlabel('Cluster number')\n",
    "    # plt.ylabel('Number of quotations')\n",
    "    nr_clusters = len(clusters)\n",
    "    _, axs = plt.subplots(1, nr_clusters, figsize=(25, 8), sharey=True)\n",
    "    for i, cluster_df in enumerate(clusters):\n",
    "        axs[i].hist(cluster_df.n_quotes, bins=30, log=True)\n",
    "        axs[i].set_title(f'Cluster {i+1}')\n",
    "plot_nr_quotes_of_clusters(clusters_for_k)"
   ]
  },
  {
   "cell_type": "code",
   "execution_count": 180,
   "id": "46ac1193",
   "metadata": {},
   "outputs": [
    {
     "data": {
      "image/png": "[encoded data removed]",
      "text/plain": [
       "<Figure size 1800x576 with 3 Axes>"
      ]
     },
     "metadata": {
      "needs_background": "light"
     },
     "output_type": "display_data"
    }
   ],
   "source": [
    "def plot_age_of_clusters(clusters):\n",
    "    \"\"\"\n",
    "    Input: clusters - list of dataframes, where each dataframe contains points of the same cluster label.\n",
    "    \"\"\"\n",
    "    nr_clusters = len(clusters)\n",
    "    _, axs = plt.subplots(1, nr_clusters, figsize=(25, 8), sharey=True)\n",
    "    for i, cluster_df in enumerate(clusters):\n",
    "        ages_count = Counter(cluster_df.age)\n",
    "        # axs[i].hist(cluster_df.n_quotes, bins=30)\n",
    "        _ = axs[i].set_title(f'Cluster {i+1}') \n",
    "        _ = axs[i].set_xlim(10, 125)\n",
    "        _ = axs[i].bar(ages_count.keys(), ages_count.values(), color='r', log=True, alpha=0.6, width=0.8)\n",
    "plot_age_of_clusters(clusters_for_k)"
   ]
  },
  {
   "cell_type": "code",
   "execution_count": 33,
   "id": "b809262d",
   "metadata": {},
   "outputs": [
    {
     "name": "stdout",
     "output_type": "stream",
     "text": [
      "Counter({'Q6581097': 20, 'Q6581072': 4})\n",
      "Counter({'Q6581097': 474, 'Q6581072': 193})\n",
      "Counter({'Q6581097': 375, 'Q6581072': 100, 'Q1052281': 2})\n"
     ]
    }
   ],
   "source": [
    "print(Counter(clusters_for_k[2].gender))\n",
    "print(Counter(clusters_for_k[3].gender))\n",
    "print(Counter(clusters_for_k[4].gender))"
   ]
  },
  {
   "cell_type": "code",
   "execution_count": 156,
   "id": "c8da6c61",
   "metadata": {},
   "outputs": [],
   "source": [
    "clusters_for_k_5 = get_cluster_points(speakers_features_preprocessed, kprotos[8].labels_)"
   ]
  },
  {
   "cell_type": "code",
   "execution_count": 161,
   "id": "2f2caa2f",
   "metadata": {},
   "outputs": [
    {
     "data": {
      "text/html": [
       "<div>\n",
       "<style scoped>\n",
       "    .dataframe tbody tr th:only-of-type {\n",
       "        vertical-align: middle;\n",
       "    }\n",
       "\n",
       "    .dataframe tbody tr th {\n",
       "        vertical-align: top;\n",
       "    }\n",
       "\n",
       "    .dataframe thead th {\n",
       "        text-align: right;\n",
       "    }\n",
       "</style>\n",
       "<table border=\"1\" class=\"dataframe\">\n",
       "  <thead>\n",
       "    <tr style=\"text-align: right;\">\n",
       "      <th></th>\n",
       "      <th>n_quotes</th>\n",
       "      <th>age</th>\n",
       "      <th>nationality</th>\n",
       "      <th>gender</th>\n",
       "      <th>occupation</th>\n",
       "    </tr>\n",
       "    <tr>\n",
       "      <th>id</th>\n",
       "      <th></th>\n",
       "      <th></th>\n",
       "      <th></th>\n",
       "      <th></th>\n",
       "      <th></th>\n",
       "    </tr>\n",
       "  </thead>\n",
       "  <tbody>\n",
       "    <tr>\n",
       "      <th>Q26220662</th>\n",
       "      <td>1</td>\n",
       "      <td>671.0</td>\n",
       "      <td>Q179876</td>\n",
       "      <td>Q6581097</td>\n",
       "      <td>Q82955</td>\n",
       "    </tr>\n",
       "  </tbody>\n",
       "</table>\n",
       "</div>"
      ],
      "text/plain": [
       "           n_quotes    age nationality    gender occupation\n",
       "id                                                         \n",
       "Q26220662         1  671.0     Q179876  Q6581097     Q82955"
      ]
     },
     "execution_count": 161,
     "metadata": {},
     "output_type": "execute_result"
    }
   ],
   "source": [
    "clusters_for_k_5[3]"
   ]
  }
 ],
 "metadata": {
  "kernelspec": {
   "display_name": "Python 3",
   "language": "python",
   "name": "python3"
  },
  "language_info": {
   "codemirror_mode": {
    "name": "ipython",
    "version": 3
   },
   "file_extension": ".py",
   "mimetype": "text/x-python",
   "name": "python",
   "nbconvert_exporter": "python",
   "pygments_lexer": "ipython3",
   "version": "3.9.2"
  }
 },
 "nbformat": 4,
 "nbformat_minor": 5
}
