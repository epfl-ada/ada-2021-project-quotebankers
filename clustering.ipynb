{
 "cells": [
  {
   "cell_type": "markdown",
   "id": "b96aed65-125a-4489-8c08-622e99d0ca60",
   "metadata": {},
   "source": [
    "# _Who has a voice in the media?_"
   ]
  },
  {
   "cell_type": "markdown",
   "id": "1593c269-a4a4-4638-8b8c-08f27493e276",
   "metadata": {},
   "source": [
    "## 1. Pre-processing the dataset\n",
    "In this study of \"_Who has a voice in the media_\", the **speaker identity and what it said is vital**. Thus, we remove the following rows from the original dataset:\n",
    "- rows where either the author or the quotation is NaN; \n",
    "- rows where the author has probability lower than 50%. \n",
    "\n",
    "Later, we also do a sanity controll and **remove possible duplicate of rows** with the same quote-ID as we obiously don't want to use exactly the same quote more than once in our analyzes. \n",
    "\n",
    "Finally, to reduce the dataset further we **remove columns** that we will not use for our analysis: _quoteID_, _speaker_, _probas_, _urls_, _phase_ and _numOccurrences_."
   ]
  },
  {
   "cell_type": "code",
   "execution_count": 1,
   "id": "8e15f9ce-bf3e-4ac7-bd12-561bdd5fbe8b",
   "metadata": {},
   "outputs": [],
   "source": [
    "import pandas as pd\n",
    "import numpy as np\n",
    "import matplotlib.pyplot as plt\n",
    "from datetime import datetime\n",
    "from collections import Counter\n",
    "from pathlib import Path"
   ]
  },
  {
   "cell_type": "markdown",
   "id": "72bb7cc0-60c0-45c3-8c11-10233b200116",
   "metadata": {},
   "source": [
    "## 2. Initial analysis\n",
    "Here, we do initial studies on the content of the dataset. For instance we plot the following information about the speakers:\n",
    "- occupation;\n",
    "- gender;\n",
    "- age;\n",
    "- ethnicity;\n",
    "- top 20 speakers.\n",
    "**OBS! For practical reasons, in the initial analysis in Milestone 2, we randomly picked 100,000 quotations of each year instead of dealing with the whole data. The code and the analysis will basically remain the same but only need to be run for a longer time.**"
   ]
  },
  {
   "cell_type": "code",
   "execution_count": 2,
   "id": "e083d5e2-bf21-4108-83ec-1b0d2aaa35f3",
   "metadata": {},
   "outputs": [],
   "source": [
    "datafolder = Path(\"data\")\n",
    "\n",
    "DATA = {\n",
    "    '2015': 'data/clean-quotes-2015.bz2',\n",
    "    '2016': 'data/clean-quotes-2016.bz2',\n",
    "    '2017': 'data/clean-quotes-2017.bz2',\n",
    "    '2018': 'data/clean-quotes-2018.bz2',\n",
    "    '2019': 'data/clean-quotes-2019.bz2',\n",
    "    '2020': 'data/clean-quotes-2020.bz2',\n",
    "}\n",
    "\n",
    "ALL_YEARS = ['2015', '2016', '2017', '2018', '2019', '2020']\n",
    "\n",
    "def load_data(year, sample=True, sample_size=100_000):\n",
    "    year_file = Path(DATA[year])\n",
    "    if year_file.exists():\n",
    "        df = pd.read_csv(DATA[year], compression='bz2')\n",
    "        if sample:\n",
    "            df = df.sample(n=sample_size, random_state=1)\n",
    "    else:\n",
    "        return None \n",
    "    \n",
    "wikidata_speakers = pd.read_parquet('data/speaker_attributes.parquet')\n",
    "wikidata_speakers.set_index('id', inplace=True)"
   ]
  },
  {
   "cell_type": "code",
   "execution_count": 3,
   "id": "63d390fa",
   "metadata": {},
   "outputs": [],
   "source": [
    "nrows = 10_000\n",
    "df = pd.read_csv(DATA['2020'], compression='bz2', nrows=nrows)"
   ]
  },
  {
   "cell_type": "code",
   "execution_count": 4,
   "id": "83e29f4e-b580-4f7b-93b1-269321ece587",
   "metadata": {},
   "outputs": [],
   "source": [
    "qids = df.qids.tolist()\n",
    "wanted_qids = [eval(qid)[0] for qid in qids if len(eval(qid)) == 1 and eval(qid)[0] in wikidata_speakers.index]\n",
    "speakers = wikidata_speakers.loc[wanted_qids]\n",
    "speakers = speakers[~speakers.index.duplicated(keep='first')]\n",
    "\n",
    "n_quotes_per_person = Counter(wanted_qids)\n",
    "speakers['n_quotes'] = speakers.index.map(n_quotes_per_person)\n",
    "\n",
    "ages = []\n",
    "for date in speakers.date_of_birth.values:\n",
    "    if not date is None:\n",
    "        ages.append(datetime.now().year - int(date[0][1:5]))\n",
    "    else:\n",
    "        ages.append(None)\n",
    "\n",
    "speakers['age'] = ages\n"
   ]
  },
  {
   "cell_type": "markdown",
   "id": "b9007ddd",
   "metadata": {},
   "source": [
    "### 3. Pre-process dataset\n",
    "- Only keep meaningful features"
   ]
  },
  {
   "cell_type": "code",
   "execution_count": 11,
   "id": "64873ccf",
   "metadata": {},
   "outputs": [
    {
     "name": "stdout",
     "output_type": "stream",
     "text": [
      "The percentage of speakers with US_congress_bio_ID is 2.665%\n",
      "The percentage of speakers with candidacy is 4.705%\n",
      "The percentage of speakers with ethnic_group is 7.480%\n",
      "The percentage of speakers with religion is 11.009%\n",
      "The percentage of speakers with academic_degree is 2.261%\n",
      "The percentage of speakers with party is 23.378%\n",
      "The percentage of speakers with nationality is 84.047%\n",
      "The percentage of speakers with gender is 98.511%\n",
      "The percentage of speakers with occupation is 96.526%\n"
     ]
    }
   ],
   "source": [
    "print(f'The percentage of speakers with US_congress_bio_ID is {100 * len(speakers.US_congress_bio_ID.value_counts().index) / len(speakers.index) :.3f}%')\n",
    "print(f'The percentage of speakers with candidacy is {100 * sum(speakers.candidacy.value_counts().values) / len(speakers.index):.3f}%')\n",
    "print(f'The percentage of speakers with ethnic_group is {100 * sum(speakers.ethnic_group.value_counts().values) / len(speakers.index):.3f}%')\n",
    "print(f'The percentage of speakers with religion is {100 * sum(speakers.religion.value_counts().values) / len(speakers.index):.3f}%')\n",
    "print(f'The percentage of speakers with academic_degree is {100 * sum(speakers.academic_degree.value_counts().values) / len(speakers.index):.3f}%')\n",
    "print(f'The percentage of speakers with party is {100 * sum(speakers.party.value_counts().values) / len(speakers.index):.3f}%')\n",
    "print(f'The percentage of speakers with nationality is {100 * sum(speakers.nationality.value_counts().values) / len(speakers.index):.3f}%')\n",
    "print(f'The percentage of speakers with gender is {100 * sum(speakers.gender.value_counts().values) / len(speakers.index):.3f}%')\n",
    "print(f'The percentage of speakers with occupation is {100 * sum(speakers.occupation.value_counts().values) / len(speakers.index):.3f}%')"
   ]
  },
  {
   "cell_type": "markdown",
   "id": "1b525af0",
   "metadata": {},
   "source": [
    "Drop the columns:\n",
    "- that are particular to the speaker and don't add any value to the clustering (alisaes, label, US_congress_ID) ;\n",
    "- that don't add value to clustering (lastrevid, type);\n",
    "- that contain too little data to draw any conclusions (candidacy - 2.9%, academic_degree - 1.3%);\n",
    "- used to produce the new ages column (date_of_birth). "
   ]
  },
  {
   "cell_type": "code",
   "execution_count": 12,
   "id": "63fd782f",
   "metadata": {},
   "outputs": [
    {
     "data": {
      "text/html": [
       "<div>\n",
       "<style scoped>\n",
       "    .dataframe tbody tr th:only-of-type {\n",
       "        vertical-align: middle;\n",
       "    }\n",
       "\n",
       "    .dataframe tbody tr th {\n",
       "        vertical-align: top;\n",
       "    }\n",
       "\n",
       "    .dataframe thead th {\n",
       "        text-align: right;\n",
       "    }\n",
       "</style>\n",
       "<table border=\"1\" class=\"dataframe\">\n",
       "  <thead>\n",
       "    <tr style=\"text-align: right;\">\n",
       "      <th></th>\n",
       "      <th>nationality</th>\n",
       "      <th>gender</th>\n",
       "      <th>ethnic_group</th>\n",
       "      <th>occupation</th>\n",
       "      <th>party</th>\n",
       "      <th>n_quotes</th>\n",
       "      <th>age</th>\n",
       "    </tr>\n",
       "    <tr>\n",
       "      <th>id</th>\n",
       "      <th></th>\n",
       "      <th></th>\n",
       "      <th></th>\n",
       "      <th></th>\n",
       "      <th></th>\n",
       "      <th></th>\n",
       "      <th></th>\n",
       "    </tr>\n",
       "  </thead>\n",
       "  <tbody>\n",
       "    <tr>\n",
       "      <th>Q367796</th>\n",
       "      <td>[Q30]</td>\n",
       "      <td>[Q6581072]</td>\n",
       "      <td>None</td>\n",
       "      <td>[Q82955]</td>\n",
       "      <td>[Q29468]</td>\n",
       "      <td>1</td>\n",
       "      <td>80.0</td>\n",
       "    </tr>\n",
       "    <tr>\n",
       "      <th>Q20684375</th>\n",
       "      <td>None</td>\n",
       "      <td>[Q6581072]</td>\n",
       "      <td>None</td>\n",
       "      <td>None</td>\n",
       "      <td>None</td>\n",
       "      <td>2</td>\n",
       "      <td>37.0</td>\n",
       "    </tr>\n",
       "    <tr>\n",
       "      <th>Q5268447</th>\n",
       "      <td>[Q23635]</td>\n",
       "      <td>[Q6581097]</td>\n",
       "      <td>None</td>\n",
       "      <td>[Q12299841]</td>\n",
       "      <td>None</td>\n",
       "      <td>1</td>\n",
       "      <td>60.0</td>\n",
       "    </tr>\n",
       "    <tr>\n",
       "      <th>Q4864119</th>\n",
       "      <td>None</td>\n",
       "      <td>[Q6581097]</td>\n",
       "      <td>None</td>\n",
       "      <td>None</td>\n",
       "      <td>[Q9630]</td>\n",
       "      <td>1</td>\n",
       "      <td>NaN</td>\n",
       "    </tr>\n",
       "    <tr>\n",
       "      <th>Q816459</th>\n",
       "      <td>[Q30]</td>\n",
       "      <td>[Q6581097]</td>\n",
       "      <td>[Q49085]</td>\n",
       "      <td>[Q212980, Q9385011, Q82955, Q482980, Q1622272,...</td>\n",
       "      <td>[Q29468, Q29552, Q327591, Q29468]</td>\n",
       "      <td>1</td>\n",
       "      <td>70.0</td>\n",
       "    </tr>\n",
       "  </tbody>\n",
       "</table>\n",
       "</div>"
      ],
      "text/plain": [
       "          nationality      gender ethnic_group  \\\n",
       "id                                               \n",
       "Q367796         [Q30]  [Q6581072]         None   \n",
       "Q20684375        None  [Q6581072]         None   \n",
       "Q5268447     [Q23635]  [Q6581097]         None   \n",
       "Q4864119         None  [Q6581097]         None   \n",
       "Q816459         [Q30]  [Q6581097]     [Q49085]   \n",
       "\n",
       "                                                  occupation  \\\n",
       "id                                                             \n",
       "Q367796                                             [Q82955]   \n",
       "Q20684375                                               None   \n",
       "Q5268447                                         [Q12299841]   \n",
       "Q4864119                                                None   \n",
       "Q816459    [Q212980, Q9385011, Q82955, Q482980, Q1622272,...   \n",
       "\n",
       "                                       party  n_quotes   age  \n",
       "id                                                            \n",
       "Q367796                             [Q29468]         1  80.0  \n",
       "Q20684375                               None         2  37.0  \n",
       "Q5268447                                None         1  60.0  \n",
       "Q4864119                             [Q9630]         1   NaN  \n",
       "Q816459    [Q29468, Q29552, Q327591, Q29468]         1  70.0  "
      ]
     },
     "execution_count": 12,
     "metadata": {},
     "output_type": "execute_result"
    }
   ],
   "source": [
    "speakers_features = speakers.drop(columns=['aliases', 'label', 'US_congress_bio_ID', \n",
    "                                           'lastrevid', 'type', \n",
    "                                           'candidacy', 'academic_degree',\n",
    "                                           'date_of_birth', 'religion'])\n",
    "speakers_features.head()"
   ]
  },
  {
   "cell_type": "markdown",
   "id": "86e3ed3f",
   "metadata": {},
   "source": [
    "More pre-processing: make the None names to 'Unknown', otherwise the KPrototype doesn't run. This way, the 'Unknown' class becomes a categorical variable."
   ]
  },
  {
   "cell_type": "code",
   "execution_count": 13,
   "id": "bacb43e5",
   "metadata": {},
   "outputs": [],
   "source": [
    "speakers_features_preprocessed = pd.DataFrame()\n",
    "speakers_features_preprocessed['n_quotes'] = speakers_features['n_quotes']\n",
    "speakers_features_preprocessed['age'] = speakers_features['age'].fillna(speakers_features['age'].median())\n",
    "\n",
    "for name, values in speakers_features.iteritems():\n",
    "    # Remove all None values from categorical rows, and keep only first instance of list occupation, nationality\n",
    "    if name not in ['n_quotes', 'age']:\n",
    "        updated_values = []\n",
    "        for val in values:\n",
    "            if not val is None:\n",
    "                updated_values.append(val[0])\n",
    "            else:\n",
    "                updated_values.append('Unknown')\n",
    "        speakers_features_preprocessed[name] = updated_values\n",
    "    "
   ]
  },
  {
   "cell_type": "code",
   "execution_count": 14,
   "id": "8f4130bf",
   "metadata": {},
   "outputs": [
    {
     "data": {
      "text/html": [
       "<div>\n",
       "<style scoped>\n",
       "    .dataframe tbody tr th:only-of-type {\n",
       "        vertical-align: middle;\n",
       "    }\n",
       "\n",
       "    .dataframe tbody tr th {\n",
       "        vertical-align: top;\n",
       "    }\n",
       "\n",
       "    .dataframe thead th {\n",
       "        text-align: right;\n",
       "    }\n",
       "</style>\n",
       "<table border=\"1\" class=\"dataframe\">\n",
       "  <thead>\n",
       "    <tr style=\"text-align: right;\">\n",
       "      <th></th>\n",
       "      <th>n_quotes</th>\n",
       "      <th>age</th>\n",
       "      <th>nationality</th>\n",
       "      <th>gender</th>\n",
       "      <th>ethnic_group</th>\n",
       "      <th>occupation</th>\n",
       "      <th>party</th>\n",
       "    </tr>\n",
       "    <tr>\n",
       "      <th>id</th>\n",
       "      <th></th>\n",
       "      <th></th>\n",
       "      <th></th>\n",
       "      <th></th>\n",
       "      <th></th>\n",
       "      <th></th>\n",
       "      <th></th>\n",
       "    </tr>\n",
       "  </thead>\n",
       "  <tbody>\n",
       "    <tr>\n",
       "      <th>Q367796</th>\n",
       "      <td>1</td>\n",
       "      <td>80.0</td>\n",
       "      <td>Q30</td>\n",
       "      <td>Q6581072</td>\n",
       "      <td>Unknown</td>\n",
       "      <td>Q82955</td>\n",
       "      <td>Q29468</td>\n",
       "    </tr>\n",
       "    <tr>\n",
       "      <th>Q20684375</th>\n",
       "      <td>2</td>\n",
       "      <td>37.0</td>\n",
       "      <td>Unknown</td>\n",
       "      <td>Q6581072</td>\n",
       "      <td>Unknown</td>\n",
       "      <td>Unknown</td>\n",
       "      <td>Unknown</td>\n",
       "    </tr>\n",
       "    <tr>\n",
       "      <th>Q5268447</th>\n",
       "      <td>1</td>\n",
       "      <td>60.0</td>\n",
       "      <td>Q23635</td>\n",
       "      <td>Q6581097</td>\n",
       "      <td>Unknown</td>\n",
       "      <td>Q12299841</td>\n",
       "      <td>Unknown</td>\n",
       "    </tr>\n",
       "    <tr>\n",
       "      <th>Q4864119</th>\n",
       "      <td>1</td>\n",
       "      <td>52.0</td>\n",
       "      <td>Unknown</td>\n",
       "      <td>Q6581097</td>\n",
       "      <td>Unknown</td>\n",
       "      <td>Unknown</td>\n",
       "      <td>Q9630</td>\n",
       "    </tr>\n",
       "    <tr>\n",
       "      <th>Q816459</th>\n",
       "      <td>1</td>\n",
       "      <td>70.0</td>\n",
       "      <td>Q30</td>\n",
       "      <td>Q6581097</td>\n",
       "      <td>Q49085</td>\n",
       "      <td>Q212980</td>\n",
       "      <td>Q29468</td>\n",
       "    </tr>\n",
       "  </tbody>\n",
       "</table>\n",
       "</div>"
      ],
      "text/plain": [
       "           n_quotes   age nationality    gender ethnic_group occupation  \\\n",
       "id                                                                        \n",
       "Q367796           1  80.0         Q30  Q6581072      Unknown     Q82955   \n",
       "Q20684375         2  37.0     Unknown  Q6581072      Unknown    Unknown   \n",
       "Q5268447          1  60.0      Q23635  Q6581097      Unknown  Q12299841   \n",
       "Q4864119          1  52.0     Unknown  Q6581097      Unknown    Unknown   \n",
       "Q816459           1  70.0         Q30  Q6581097       Q49085    Q212980   \n",
       "\n",
       "             party  \n",
       "id                  \n",
       "Q367796     Q29468  \n",
       "Q20684375  Unknown  \n",
       "Q5268447   Unknown  \n",
       "Q4864119     Q9630  \n",
       "Q816459     Q29468  "
      ]
     },
     "execution_count": 14,
     "metadata": {},
     "output_type": "execute_result"
    }
   ],
   "source": [
    "speakers_features_preprocessed.head()"
   ]
  },
  {
   "cell_type": "code",
   "execution_count": 15,
   "id": "00acd9d4",
   "metadata": {},
   "outputs": [],
   "source": [
    "assert(speakers_features_preprocessed.n_quotes.isna().sum() == 0)\n",
    "assert(speakers_features_preprocessed.age.isna().sum() == 0)\n",
    "assert(speakers_features_preprocessed.nationality.isna().sum() == 0)\n",
    "assert(speakers_features_preprocessed.gender.isna().sum() == 0)\n",
    "assert(speakers_features_preprocessed.ethnic_group.isna().sum() == 0)\n",
    "assert(speakers_features_preprocessed.occupation.isna().sum() == 0)\n",
    "assert(speakers_features_preprocessed.party.isna().sum() == 0)\n",
    "# assert(speakers_features_preprocessed.religion.isna().sum() == 0)"
   ]
  },
  {
   "cell_type": "code",
   "execution_count": 16,
   "id": "4ba6b3d7",
   "metadata": {},
   "outputs": [],
   "source": [
    "speakers_features_full = pd.DataFrame()\n",
    "speakers_features_full['n_quotes'] = speakers_features['n_quotes']\n",
    "speakers_features_full['age'] = speakers_features['age'].fillna(speakers_features['age'].median()) # Fill the unknown ages with the median of the ages\n",
    "\n",
    "for name, values in speakers_features.iteritems():\n",
    "    # Remove all None values from categorical rows, and keep only first instance of list occupation, nationality\n",
    "    if name not in ['n_quotes', 'age']:\n",
    "        updated_values = []\n",
    "        for val in values:\n",
    "            if not val is None:\n",
    "                updated_values.append(val[0])\n",
    "            else:\n",
    "                updated_values.append(None)\n",
    "        speakers_features_full[name] = updated_values"
   ]
  },
  {
   "cell_type": "code",
   "execution_count": 17,
   "id": "c61473da",
   "metadata": {},
   "outputs": [
    {
     "data": {
      "text/html": [
       "<div>\n",
       "<style scoped>\n",
       "    .dataframe tbody tr th:only-of-type {\n",
       "        vertical-align: middle;\n",
       "    }\n",
       "\n",
       "    .dataframe tbody tr th {\n",
       "        vertical-align: top;\n",
       "    }\n",
       "\n",
       "    .dataframe thead th {\n",
       "        text-align: right;\n",
       "    }\n",
       "</style>\n",
       "<table border=\"1\" class=\"dataframe\">\n",
       "  <thead>\n",
       "    <tr style=\"text-align: right;\">\n",
       "      <th></th>\n",
       "      <th>n_quotes</th>\n",
       "      <th>age</th>\n",
       "      <th>nationality</th>\n",
       "      <th>gender</th>\n",
       "      <th>occupation</th>\n",
       "    </tr>\n",
       "    <tr>\n",
       "      <th>id</th>\n",
       "      <th></th>\n",
       "      <th></th>\n",
       "      <th></th>\n",
       "      <th></th>\n",
       "      <th></th>\n",
       "    </tr>\n",
       "  </thead>\n",
       "  <tbody>\n",
       "    <tr>\n",
       "      <th>Q367796</th>\n",
       "      <td>1</td>\n",
       "      <td>80.0</td>\n",
       "      <td>Q30</td>\n",
       "      <td>Q6581072</td>\n",
       "      <td>Q82955</td>\n",
       "    </tr>\n",
       "    <tr>\n",
       "      <th>Q5268447</th>\n",
       "      <td>1</td>\n",
       "      <td>60.0</td>\n",
       "      <td>Q23635</td>\n",
       "      <td>Q6581097</td>\n",
       "      <td>Q12299841</td>\n",
       "    </tr>\n",
       "    <tr>\n",
       "      <th>Q816459</th>\n",
       "      <td>1</td>\n",
       "      <td>70.0</td>\n",
       "      <td>Q30</td>\n",
       "      <td>Q6581097</td>\n",
       "      <td>Q212980</td>\n",
       "    </tr>\n",
       "    <tr>\n",
       "      <th>Q30164281</th>\n",
       "      <td>1</td>\n",
       "      <td>36.0</td>\n",
       "      <td>Q145</td>\n",
       "      <td>Q6581097</td>\n",
       "      <td>Q82955</td>\n",
       "    </tr>\n",
       "    <tr>\n",
       "      <th>Q56255401</th>\n",
       "      <td>1</td>\n",
       "      <td>23.0</td>\n",
       "      <td>Q258</td>\n",
       "      <td>Q6581097</td>\n",
       "      <td>Q14089670</td>\n",
       "    </tr>\n",
       "  </tbody>\n",
       "</table>\n",
       "</div>"
      ],
      "text/plain": [
       "           n_quotes   age nationality    gender occupation\n",
       "id                                                        \n",
       "Q367796           1  80.0         Q30  Q6581072     Q82955\n",
       "Q5268447          1  60.0      Q23635  Q6581097  Q12299841\n",
       "Q816459           1  70.0         Q30  Q6581097    Q212980\n",
       "Q30164281         1  36.0        Q145  Q6581097     Q82955\n",
       "Q56255401         1  23.0        Q258  Q6581097  Q14089670"
      ]
     },
     "execution_count": 17,
     "metadata": {},
     "output_type": "execute_result"
    }
   ],
   "source": [
    "speakers_features_preprocessed = speakers_features_full.drop(columns=['ethnic_group', 'party']).dropna(axis=0)\n",
    "\n",
    "speakers_features_preprocessed.head()"
   ]
  },
  {
   "cell_type": "markdown",
   "id": "908cf196",
   "metadata": {},
   "source": [
    "### 4. Cluster with K-prototypes\n",
    "K-prototypes can handle clustering of numerical and categorical variables producing better results than doing one-hot encoding followed by k-means.  \n",
    "Reference: https://github.com/nicodv/kmodes."
   ]
  },
  {
   "cell_type": "code",
   "execution_count": 60,
   "id": "9ab4f0d7",
   "metadata": {},
   "outputs": [],
   "source": [
    "from kmodes.kprototypes import KPrototypes\n",
    "from sklearn.metrics import silhouette_score\n",
    "\n",
    "def run_kprototypes(features, start, end):\n",
    "    \"\"\"\n",
    "    Runs the k-prototypes clustering method for several values of k.\n",
    "    Returns: a dictionary containing the result where the key is k and the value is\n",
    "             the result of clustering with k, e.g. kprotos = {2: kproto_2, 3: kproto_3}.\n",
    "    \"\"\"\n",
    "    kprotos = {}\n",
    "    for k in range(start, end + 1):\n",
    "        # Assign the labels to the clusters\n",
    "        kproto = KPrototypes(n_clusters=k, random_state=10, n_jobs=-1).fit(features, categorical=[2, 3, 4])\n",
    "        kprotos[k] = kproto\n",
    "    return kprotos\n",
    "\n",
    "def plot_sse(kprotos):\n",
    "    # Plot sum of squared errors (SSE): use elbow method for best k\n",
    "    plt.plot(kprotos.keys(), [kproto.cost_ for _, kproto in kprotos.items()])\n",
    "    plt.xlabel('K')\n",
    "    plt.ylabel('Sum of Squared Errors')"
   ]
  },
  {
   "cell_type": "code",
   "execution_count": 61,
   "id": "75ca0546",
   "metadata": {},
   "outputs": [
    {
     "data": {
      "image/png": "[encoded data removed]",
      "text/plain": [
       "<Figure size 432x288 with 1 Axes>"
      ]
     },
     "metadata": {
      "needs_background": "light"
     },
     "output_type": "display_data"
    }
   ],
   "source": [
    "kprotos = run_kprototypes(speakers_features_preprocessed, start=2, end=15)\n",
    "plot_sse(kprotos)"
   ]
  },
  {
   "cell_type": "markdown",
   "id": "5b15d058",
   "metadata": {},
   "source": [
    "### Check distribution of elements among clusters"
   ]
  },
  {
   "cell_type": "code",
   "execution_count": 67,
   "id": "dfd0ab1a",
   "metadata": {},
   "outputs": [
    {
     "name": "stdout",
     "output_type": "stream",
     "text": [
      "k = 2 --> Counter({1: 2516, 0: 1990})\n",
      "k = 3 --> Counter({1: 2146, 2: 1439, 0: 921})\n",
      "k = 4 --> Counter({1: 1731, 0: 1295, 3: 1227, 2: 253})\n",
      "k = 5 --> Counter({4: 1398, 0: 1074, 1: 1018, 3: 841, 2: 175})\n",
      "k = 6 --> Counter({3: 1360, 4: 1216, 2: 880, 5: 718, 1: 331, 0: 1})\n",
      "k = 7 --> Counter({6: 1151, 4: 994, 5: 807, 3: 759, 2: 606, 1: 188, 0: 1})\n",
      "k = 8 --> Counter({1: 906, 5: 809, 6: 688, 7: 675, 2: 651, 4: 602, 0: 174, 3: 1})\n",
      "k = 9 --> Counter({4: 1003, 8: 903, 0: 729, 3: 600, 5: 543, 7: 536, 1: 188, 6: 3, 2: 1})\n",
      "k = 10 --> Counter({4: 911, 6: 764, 9: 636, 1: 543, 3: 470, 7: 432, 0: 391, 5: 234, 8: 124, 2: 1})\n",
      "k = 11 --> Counter({8: 647, 5: 625, 6: 580, 4: 533, 3: 515, 1: 511, 2: 486, 0: 406, 9: 186, 10: 16, 7: 1})\n",
      "k = 12 --> Counter({0: 837, 10: 647, 1: 589, 9: 469, 5: 418, 2: 413, 8: 389, 11: 379, 7: 214, 3: 135, 4: 15, 6: 1})\n",
      "k = 13 --> Counter({11: 837, 9: 647, 0: 589, 8: 538, 4: 441, 1: 406, 12: 390, 10: 294, 6: 210, 2: 135, 3: 15, 7: 3, 5: 1})\n",
      "k = 14 --> Counter({10: 837, 8: 647, 6: 589, 7: 445, 0: 413, 12: 404, 11: 390, 3: 216, 5: 210, 9: 201, 1: 135, 2: 15, 13: 3, 4: 1})\n",
      "k = 15 --> Counter({9: 837, 7: 647, 5: 517, 6: 407, 11: 381, 8: 370, 13: 348, 10: 311, 14: 233, 2: 173, 4: 154, 0: 109, 1: 15, 12: 3, 3: 1})\n"
     ]
    }
   ],
   "source": [
    "def print_cluster_labels(kprotos):\n",
    "    \"\"\"Print cluster labels to see distribution of elements among them.\"\"\"\n",
    "    for k, kproto in kprotos.items():\n",
    "        print(f'k = {k} --> {Counter(kproto.labels_)}')\n",
    "print_cluster_labels(kprotos)"
   ]
  },
  {
   "cell_type": "markdown",
   "id": "d254528a",
   "metadata": {},
   "source": [
    "### 5. Visualize clusters distributions for k=6"
   ]
  },
  {
   "cell_type": "code",
   "execution_count": 62,
   "id": "64f80c26",
   "metadata": {},
   "outputs": [],
   "source": [
    "def get_cluster_points(features, labels):\n",
    "    \"\"\"\n",
    "    Given the features clustered over and the resulting labels, return dataframes\n",
    "    where each dataframe contains the points of a label.\n",
    "    -----\n",
    "    Input: features - the dataframe which the clustering was run for\n",
    "           labels   - the labels that each row of features received on clustering\n",
    "    Returns:\n",
    "           list_of_dfs - a list of dataframes, where each dataframe contains the points\n",
    "                         of a same cluster label.\n",
    "    \"\"\"\n",
    "    unique_classes = np.unique(labels)\n",
    "    list_of_dfs = []\n",
    "    for label in unique_classes:\n",
    "        class_filter = np.equal(label, labels) * 1\n",
    "        indices = np.nonzero(class_filter)\n",
    "        df = features.iloc[indices]\n",
    "        list_of_dfs.append(df)\n",
    "    return list_of_dfs\n",
    "\n",
    "clusters_for_k_6 = get_cluster_points(speakers_features_preprocessed, kprotos[6].labels_)"
   ]
  },
  {
   "cell_type": "code",
   "execution_count": 107,
   "id": "746f70f0",
   "metadata": {},
   "outputs": [],
   "source": [
    "from qwikidata.linked_data_interface import get_entity_dict_from_api\n",
    "from qwikidata.entity import WikidataItem\n",
    "import itertools\n",
    "\n",
    "def plot_occupation_of_clusters(clusters, nr_occupations=5):\n",
    "    \"\"\"\n",
    "    Input: clusters - list of dataframes, where each dataframe contains points of the same cluster label.\n",
    "    \"\"\"\n",
    "    nr_clusters = len(clusters)\n",
    "    _, axs = plt.subplots(1, 6, figsize=(22, 8), sharey=True)\n",
    "\n",
    "    for i, df in enumerate(clusters):\n",
    "        # Get the qids from the quotations df:\n",
    "        qids = df.index.tolist()\n",
    "        # Get the rows of the speakers having the wanted qids\n",
    "        speakers = wikidata_speakers.loc[qids]\n",
    "        # Get the speakers occupations and count them\n",
    "        occupation_ids = [occ_id[0] for occ_id in speakers.occupation.values if not occ_id is None]\n",
    "        occupation_count = Counter(occupation_ids)\n",
    "        occupation_count_sorted = dict(sorted(occupation_count.items(), key=lambda x: x[1], reverse=True)) \n",
    "        top_occupations = dict(itertools.islice(occupation_count_sorted.items(), nr_occupations)) \n",
    "        # Query wikidata for occupation labels\n",
    "        top_occupations_labels = [get_entity_dict_from_api(item)['labels']['en']['value'] for item in top_occupations.keys()]\n",
    "        # Plot\n",
    "        _ = axs[i].set_title(f'Cluster {i+1}')\n",
    "        _ = axs[i].bar(top_occupations.keys(), top_occupations.values(), color='g', log=False, alpha=0.6)\n",
    "        _ = axs[i].set_xticklabels(top_occupations_labels)\n",
    "        _ = plt.setp(axs[i].get_xticklabels(), fontsize=12, rotation=55, ha='right')\n"
   ]
  },
  {
   "cell_type": "code",
   "execution_count": 108,
   "id": "f10000ef",
   "metadata": {},
   "outputs": [
    {
     "name": "stderr",
     "output_type": "stream",
     "text": [
      "<ipython-input-107-b5f0fcb76a9a>:27: UserWarning: FixedFormatter should only be used together with FixedLocator\n",
      "  _ = axs[i].set_xticklabels(top_occupations_labels)\n"
     ]
    },
    {
     "data": {
      "image/png": "[encoded data removed]",
      "text/plain": [
       "<Figure size 1584x576 with 6 Axes>"
      ]
     },
     "metadata": {
      "needs_background": "light"
     },
     "output_type": "display_data"
    }
   ],
   "source": [
    "plot_occupation_of_clusters(clusters_for_k_6)"
   ]
  },
  {
   "cell_type": "code",
   "execution_count": 109,
   "id": "dfcf2772",
   "metadata": {},
   "outputs": [],
   "source": [
    "def plot_nationality_of_clusters(clusters, nr_nationalities=5):\n",
    "    \"\"\"\n",
    "    Input: clusters - list of dataframes, where each dataframe contains points of the same cluster label.\n",
    "    \"\"\"\n",
    "    nr_clusters = len(clusters)\n",
    "    _, axs = plt.subplots(1, 6, figsize=(22, 8), sharey=True)\n",
    "\n",
    "    for i, df in enumerate(clusters):\n",
    "        # Get the qids from the quotations df:\n",
    "        qids = df.index.tolist()\n",
    "        # Get the rows of the speakers having the wanted qids\n",
    "        speakers = wikidata_speakers.loc[qids]\n",
    "        # Get the speakers occupations and count them\n",
    "        nationality_ids = [nat[0] for nat in speakers.nationality.values if not nat is None]\n",
    "        nationality_count = Counter(nationality_ids)\n",
    "        nationality_count_sorted = dict(sorted(nationality_count.items(), key=lambda x: x[1], reverse=True)) \n",
    "        top_nationalities = dict(itertools.islice(nationality_count_sorted.items(), nr_nationalities)) \n",
    "\n",
    "        # Query wikidata for occupation labels\n",
    "        top_nationality_labels = [get_entity_dict_from_api(item)['labels']['en']['value'] for item in top_nationalities.keys()]\n",
    "        # Plot\n",
    "        _ = axs[i].set_title(f'Cluster {i+1}')\n",
    "        _ = axs[i].bar(top_nationalities.keys(), top_nationalities.values(), color='b', log=False, alpha=0.6)\n",
    "        _ = axs[i].set_xticklabels(top_nationality_labels)\n",
    "        _ = plt.setp(axs[i].get_xticklabels(), fontsize=12, rotation=55, ha='right')\n"
   ]
  },
  {
   "cell_type": "code",
   "execution_count": 110,
   "id": "cc2a1d7d",
   "metadata": {},
   "outputs": [
    {
     "name": "stderr",
     "output_type": "stream",
     "text": [
      "<ipython-input-109-1dca1dd63e07>:24: UserWarning: FixedFormatter should only be used together with FixedLocator\n",
      "  _ = axs[i].set_xticklabels(top_nationality_labels)\n"
     ]
    },
    {
     "data": {
      "image/png": "[encoded data removed]",
      "text/plain": [
       "<Figure size 1584x576 with 6 Axes>"
      ]
     },
     "metadata": {
      "needs_background": "light"
     },
     "output_type": "display_data"
    }
   ],
   "source": [
    "plot_nationality_of_clusters(clusters_for_k_6)"
   ]
  },
  {
   "cell_type": "code",
   "execution_count": 125,
   "id": "c70aadb1",
   "metadata": {},
   "outputs": [
    {
     "data": {
      "image/png": "[encoded data removed]",
      "text/plain": [
       "<Figure size 1800x576 with 6 Axes>"
      ]
     },
     "metadata": {
      "needs_background": "light"
     },
     "output_type": "display_data"
    }
   ],
   "source": [
    "def plot_nr_quotes_of_clusters(clusters):\n",
    "    # plt.bar(range(1, len(clusters) + 1), [cluster_df.n_quotes.sum() for cluster_df in clusters])\n",
    "    # plt.xlabel('Cluster number')\n",
    "    # plt.ylabel('Number of quotations')\n",
    "    _, axs = plt.subplots(1, 6, figsize=(25, 8), sharey=True)\n",
    "    for i, cluster_df in enumerate(clusters):\n",
    "        axs[i].hist(cluster_df.n_quotes, bins=30, log=True)\n",
    "        axs[i].set_title(f'Cluster {i+1}')\n",
    "plot_nr_quotes_of_clusters(clusters_for_k_6)"
   ]
  },
  {
   "cell_type": "code",
   "execution_count": 140,
   "id": "46ac1193",
   "metadata": {},
   "outputs": [
    {
     "data": {
      "image/png": "[encoded data removed]",
      "text/plain": [
       "<Figure size 1800x360 with 6 Axes>"
      ]
     },
     "metadata": {
      "needs_background": "light"
     },
     "output_type": "display_data"
    }
   ],
   "source": [
    "def plot_age_of_clusters(clusters):\n",
    "    \"\"\"\n",
    "    Input: clusters - list of dataframes, where each dataframe contains points of the same cluster label.\n",
    "    \"\"\"\n",
    "    _, axs = plt.subplots(1, 6, figsize=(25, 5), sharey=True)\n",
    "    for i, cluster_df in enumerate(clusters):\n",
    "        ages_count = Counter(cluster_df.age)\n",
    "        # axs[i].hist(cluster_df.n_quotes, bins=30)\n",
    "        _ = axs[i].set_title(f'Cluster {i+1}') \n",
    "        _ = axs[i].set_xlim(10, 125)\n",
    "        _ = axs[i].bar(ages_count.keys(), ages_count.values(), color='r', log=True, alpha=0.6, width=0.8)\n",
    "plot_age_of_clusters(clusters_for_k_6)"
   ]
  },
  {
   "cell_type": "code",
   "execution_count": null,
   "id": "0c272f57",
   "metadata": {},
   "outputs": [],
   "source": [
    "def plot_ethnicity_of_clusters(clusters, nr_ethnicities=5):\n",
    "    \"\"\"\n",
    "    Input: clusters - list of dataframes, where each dataframe contains points of the same cluster label.\n",
    "    \"\"\"\n",
    "    _, axs = plt.subplots(1, 6, figsize=(22, 8), sharey=True)\n",
    "\n",
    "    for i, df in enumerate(clusters):\n",
    "        # Get the qids from the quotations df:\n",
    "        qids = df.index.tolist()\n",
    "        # Get the rows of the speakers having the wanted qids\n",
    "        speakers = wikidata_speakers.loc[qids]\n",
    "\n",
    "        ethnic_ids = [ethnic_id[0] for ethnic_id in speakers.ethnic_group.values if ethnic_id is not None]\n",
    "        ethnic_count = Counter(ethnic_ids)\n",
    "\n",
    "        # Manual grouping of the top 20 ethnicity groups into: black, white and asian (ethnicities that American companies normally use)\n",
    "        ethnic_count_manual = {'black':  ethnic_count['Q49085'] + ethnic_count['Q190168'] + ethnic_count['Q244157'] + \n",
    "                                        ethnic_count['Q33938'] + ethnic_count['Q129962'],\n",
    "                            \n",
    "                            'white':  ethnic_count['Q7325'] + ethnic_count['Q678551'] + ethnic_count['Q2325516'] + \n",
    "                                        ethnic_count['Q170826'] + ethnic_count['Q974693'] + ethnic_count['Q1075293'] + \n",
    "                                        ethnic_count['Q42406'] + ethnic_count['Q842438'] + ethnic_count['Q49078'] + \n",
    "                                        ethnic_count['Q79797'] + ethnic_count['Q7994501'] + ethnic_count['Ashkenazi Jews'],\n",
    "                            \n",
    "                            'asians': ethnic_count['Q932244'] + ethnic_count['Q854323'] + ethnic_count['Q862086'],\n",
    "                            \n",
    "                            'indigeneous': 0\n",
    "                            }\n",
    "\n",
    "        ethnic_count_sorted = dict(sorted(ethnic_count_manual.items(), key=lambda x: x[1], reverse=True)) \n",
    "        top_ethnicities = dict(itertools.islice(ethnic_count_sorted.items(), nr_ethnicities)) \n",
    "\n",
    "        # Plot\n",
    "        _ = axs[i].set_title(f'Cluster {i+1}')\n",
    "        _ = axs[i].bar(top_ethnicities.keys(), top_ethnicities.values(), color='b', log=False, alpha=0.6)\n",
    "        _ = axs[i].set_xticklabels(top_ethnicities)\n",
    "        _ = plt.setp(axs[i].get_xticklabels(), fontsize=12, rotation=55, ha='right')\n",
    "\n"
   ]
  }
 ],
 "metadata": {
  "kernelspec": {
   "display_name": "Python 3",
   "language": "python",
   "name": "python3"
  },
  "language_info": {
   "codemirror_mode": {
    "name": "ipython",
    "version": 3
   },
   "file_extension": ".py",
   "mimetype": "text/x-python",
   "name": "python",
   "nbconvert_exporter": "python",
   "pygments_lexer": "ipython3",
   "version": "3.9.2"
  }
 },
 "nbformat": 4,
 "nbformat_minor": 5
}
