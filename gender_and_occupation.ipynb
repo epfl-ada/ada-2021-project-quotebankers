{
 "cells": [
  {
   "cell_type": "markdown",
   "id": "b46bb8ec-8429-471b-8152-b7db73bdc225",
   "metadata": {},
   "source": [
    "### IDEAS\n",
    "\n",
    "- combine with stock data and examine how donald trump effected the stock market\n",
    "- something something corona\n",
    "- something something fake news\n"
   ]
  },
  {
   "cell_type": "code",
   "execution_count": 1,
   "id": "c6d4d118-2576-45d0-bd00-bb2e3b0665e9",
   "metadata": {},
   "outputs": [],
   "source": [
    "import time\n",
    "import json\n",
    "import pandas as pd\n",
    "from collections import Counter\n",
    "import qwikidata"
   ]
  },
  {
   "cell_type": "code",
   "execution_count": 2,
   "id": "32710ebb-8aa8-412a-b3c1-ffacaaeab74f",
   "metadata": {},
   "outputs": [
    {
     "ename": "FileNotFoundError",
     "evalue": "[Errno 2] No such file or directory: 'data/wikidata/speaker_attributes.parquet'",
     "output_type": "error",
     "traceback": [
      "\u001b[0;31m---------------------------------------------------------------------------\u001b[0m",
      "\u001b[0;31mFileNotFoundError\u001b[0m                         Traceback (most recent call last)",
      "\u001b[0;32m/var/folders/98/3dhdr3cn76j4tmpzb1w_70s80000gn/T/ipykernel_8278/3734797411.py\u001b[0m in \u001b[0;36m<module>\u001b[0;34m\u001b[0m\n\u001b[0;32m----> 1\u001b[0;31m \u001b[0mwikidata\u001b[0m \u001b[0;34m=\u001b[0m \u001b[0mpd\u001b[0m\u001b[0;34m.\u001b[0m\u001b[0mread_parquet\u001b[0m\u001b[0;34m(\u001b[0m\u001b[0;34m\"data/wikidata/speaker_attributes.parquet\"\u001b[0m\u001b[0;34m)\u001b[0m\u001b[0;34m\u001b[0m\u001b[0;34m\u001b[0m\u001b[0m\n\u001b[0m\u001b[1;32m      2\u001b[0m \u001b[0mwikidata\u001b[0m\u001b[0;34m.\u001b[0m\u001b[0mset_index\u001b[0m\u001b[0;34m(\u001b[0m\u001b[0;34m'id'\u001b[0m\u001b[0;34m,\u001b[0m \u001b[0minplace\u001b[0m\u001b[0;34m=\u001b[0m\u001b[0;32mTrue\u001b[0m\u001b[0;34m)\u001b[0m\u001b[0;34m\u001b[0m\u001b[0;34m\u001b[0m\u001b[0m\n",
      "\u001b[0;32m~/.virtualenvs/ada/lib/python3.9/site-packages/pandas/io/parquet.py\u001b[0m in \u001b[0;36mread_parquet\u001b[0;34m(path, engine, columns, storage_options, use_nullable_dtypes, **kwargs)\u001b[0m\n\u001b[1;32m    493\u001b[0m     \u001b[0mimpl\u001b[0m \u001b[0;34m=\u001b[0m \u001b[0mget_engine\u001b[0m\u001b[0;34m(\u001b[0m\u001b[0mengine\u001b[0m\u001b[0;34m)\u001b[0m\u001b[0;34m\u001b[0m\u001b[0;34m\u001b[0m\u001b[0m\n\u001b[1;32m    494\u001b[0m \u001b[0;34m\u001b[0m\u001b[0m\n\u001b[0;32m--> 495\u001b[0;31m     return impl.read(\n\u001b[0m\u001b[1;32m    496\u001b[0m         \u001b[0mpath\u001b[0m\u001b[0;34m,\u001b[0m\u001b[0;34m\u001b[0m\u001b[0;34m\u001b[0m\u001b[0m\n\u001b[1;32m    497\u001b[0m         \u001b[0mcolumns\u001b[0m\u001b[0;34m=\u001b[0m\u001b[0mcolumns\u001b[0m\u001b[0;34m,\u001b[0m\u001b[0;34m\u001b[0m\u001b[0;34m\u001b[0m\u001b[0m\n",
      "\u001b[0;32m~/.virtualenvs/ada/lib/python3.9/site-packages/pandas/io/parquet.py\u001b[0m in \u001b[0;36mread\u001b[0;34m(self, path, columns, use_nullable_dtypes, storage_options, **kwargs)\u001b[0m\n\u001b[1;32m    230\u001b[0m             \u001b[0mto_pandas_kwargs\u001b[0m\u001b[0;34m[\u001b[0m\u001b[0;34m\"split_blocks\"\u001b[0m\u001b[0;34m]\u001b[0m \u001b[0;34m=\u001b[0m \u001b[0;32mTrue\u001b[0m  \u001b[0;31m# type: ignore[assignment]\u001b[0m\u001b[0;34m\u001b[0m\u001b[0;34m\u001b[0m\u001b[0m\n\u001b[1;32m    231\u001b[0m \u001b[0;34m\u001b[0m\u001b[0m\n\u001b[0;32m--> 232\u001b[0;31m         path_or_handle, handles, kwargs[\"filesystem\"] = _get_path_or_handle(\n\u001b[0m\u001b[1;32m    233\u001b[0m             \u001b[0mpath\u001b[0m\u001b[0;34m,\u001b[0m\u001b[0;34m\u001b[0m\u001b[0;34m\u001b[0m\u001b[0m\n\u001b[1;32m    234\u001b[0m             \u001b[0mkwargs\u001b[0m\u001b[0;34m.\u001b[0m\u001b[0mpop\u001b[0m\u001b[0;34m(\u001b[0m\u001b[0;34m\"filesystem\"\u001b[0m\u001b[0;34m,\u001b[0m \u001b[0;32mNone\u001b[0m\u001b[0;34m)\u001b[0m\u001b[0;34m,\u001b[0m\u001b[0;34m\u001b[0m\u001b[0;34m\u001b[0m\u001b[0m\n",
      "\u001b[0;32m~/.virtualenvs/ada/lib/python3.9/site-packages/pandas/io/parquet.py\u001b[0m in \u001b[0;36m_get_path_or_handle\u001b[0;34m(path, fs, storage_options, mode, is_dir)\u001b[0m\n\u001b[1;32m     99\u001b[0m         \u001b[0;31m# fsspec resources can also point to directories\u001b[0m\u001b[0;34m\u001b[0m\u001b[0;34m\u001b[0m\u001b[0m\n\u001b[1;32m    100\u001b[0m         \u001b[0;31m# this branch is used for example when reading from non-fsspec URLs\u001b[0m\u001b[0;34m\u001b[0m\u001b[0;34m\u001b[0m\u001b[0m\n\u001b[0;32m--> 101\u001b[0;31m         handles = get_handle(\n\u001b[0m\u001b[1;32m    102\u001b[0m             \u001b[0mpath_or_handle\u001b[0m\u001b[0;34m,\u001b[0m \u001b[0mmode\u001b[0m\u001b[0;34m,\u001b[0m \u001b[0mis_text\u001b[0m\u001b[0;34m=\u001b[0m\u001b[0;32mFalse\u001b[0m\u001b[0;34m,\u001b[0m \u001b[0mstorage_options\u001b[0m\u001b[0;34m=\u001b[0m\u001b[0mstorage_options\u001b[0m\u001b[0;34m\u001b[0m\u001b[0;34m\u001b[0m\u001b[0m\n\u001b[1;32m    103\u001b[0m         )\n",
      "\u001b[0;32m~/.virtualenvs/ada/lib/python3.9/site-packages/pandas/io/common.py\u001b[0m in \u001b[0;36mget_handle\u001b[0;34m(path_or_buf, mode, encoding, compression, memory_map, is_text, errors, storage_options)\u001b[0m\n\u001b[1;32m    709\u001b[0m         \u001b[0;32melse\u001b[0m\u001b[0;34m:\u001b[0m\u001b[0;34m\u001b[0m\u001b[0;34m\u001b[0m\u001b[0m\n\u001b[1;32m    710\u001b[0m             \u001b[0;31m# Binary mode\u001b[0m\u001b[0;34m\u001b[0m\u001b[0;34m\u001b[0m\u001b[0m\n\u001b[0;32m--> 711\u001b[0;31m             \u001b[0mhandle\u001b[0m \u001b[0;34m=\u001b[0m \u001b[0mopen\u001b[0m\u001b[0;34m(\u001b[0m\u001b[0mhandle\u001b[0m\u001b[0;34m,\u001b[0m \u001b[0mioargs\u001b[0m\u001b[0;34m.\u001b[0m\u001b[0mmode\u001b[0m\u001b[0;34m)\u001b[0m\u001b[0;34m\u001b[0m\u001b[0;34m\u001b[0m\u001b[0m\n\u001b[0m\u001b[1;32m    712\u001b[0m         \u001b[0mhandles\u001b[0m\u001b[0;34m.\u001b[0m\u001b[0mappend\u001b[0m\u001b[0;34m(\u001b[0m\u001b[0mhandle\u001b[0m\u001b[0;34m)\u001b[0m\u001b[0;34m\u001b[0m\u001b[0;34m\u001b[0m\u001b[0m\n\u001b[1;32m    713\u001b[0m \u001b[0;34m\u001b[0m\u001b[0m\n",
      "\u001b[0;31mFileNotFoundError\u001b[0m: [Errno 2] No such file or directory: 'data/wikidata/speaker_attributes.parquet'"
     ]
    }
   ],
   "source": [
    "wikidata = pd.read_parquet(\"data/wikidata/speaker_attributes.parquet\")\n",
    "wikidata.set_index('id', inplace=True)"
   ]
  },
  {
   "cell_type": "code",
   "execution_count": 5,
   "id": "ec5870cc-35ea-4868-9d84-d2d4178a0439",
   "metadata": {},
   "outputs": [],
   "source": [
    "def count_genders(chunk):\n",
    "        start = time.time()\n",
    "        chunk.drop(chunk[chunk.speaker == \"None\"].index, inplace=True)\n",
    "        ids = [id[0] for id in chunk.qids.tolist() if id and id[0] in wikidata.index]\n",
    "        persons = wikidata.loc[ids]\n",
    "        all_genders = persons.gender.tolist()\n",
    "        genders = {}\n",
    "        for persons_genders in all_genders:\n",
    "            if persons_genders is not None:\n",
    "                for gender in persons_genders:\n",
    "                    if gender in genders:\n",
    "                        genders[gender] += 1\n",
    "                    else:\n",
    "                        genders[gender] = 1\n",
    "        end = time.time()\n",
    "        print(f\"processed {len(chunk.index)} rows in {end-start} seconds\")\n",
    "        return genders\n",
    "        "
   ]
  },
  {
   "cell_type": "markdown",
   "id": "d45d8387-fb51-4d36-bfca-de3a5df7c5dd",
   "metadata": {},
   "source": [
    "## 2015 gender distribution"
   ]
  },
  {
   "cell_type": "code",
   "execution_count": 4,
   "id": "5217e200-876e-4fcc-910f-f0c28f80a4d7",
   "metadata": {},
   "outputs": [
    {
     "name": "stdout",
     "output_type": "stream",
     "text": [
      "processed 664366 rows in 20.66435980796814 seconds\n",
      "processed 664330 rows in 9.490515947341919 seconds\n",
      "processed 664041 rows in 10.549960851669312 seconds\n",
      "processed 663744 rows in 10.10627007484436 seconds\n",
      "processed 662838 rows in 13.786396026611328 seconds\n",
      "processed 663399 rows in 13.197026014328003 seconds\n",
      "processed 663629 rows in 12.62345290184021 seconds\n",
      "processed 663480 rows in 13.412301063537598 seconds\n",
      "processed 664152 rows in 13.11406421661377 seconds\n",
      "processed 663453 rows in 13.884776830673218 seconds\n",
      "processed 663635 rows in 14.200618028640747 seconds\n",
      "processed 663922 rows in 13.863384008407593 seconds\n",
      "processed 664555 rows in 13.354342937469482 seconds\n",
      "processed 664549 rows in 15.693877935409546 seconds\n",
      "processed 664539 rows in 14.052035093307495 seconds\n",
      "processed 663682 rows in 15.685143947601318 seconds\n",
      "processed 663435 rows in 14.558385133743286 seconds\n",
      "processed 664107 rows in 15.032324075698853 seconds\n",
      "processed 663447 rows in 15.193601131439209 seconds\n",
      "processed 664086 rows in 14.425082206726074 seconds\n",
      "processed 580649 rows in 14.233615159988403 seconds\n",
      "Males: 11544037\n",
      "Females: 2080342\n",
      "Others: 31735\n"
     ]
    }
   ],
   "source": [
    "with pd.read_json('data/quotes-2015.json-002.bz2', lines=True, compression='bz2', chunksize=1000000) as df_reader:\n",
    "    male = \"Q6581097\"\n",
    "    female = \"Q6581072\"\n",
    "    genders = {}\n",
    "    for chunk in df_reader:\n",
    "        res = count_genders(chunk)\n",
    "        genders = dict(Counter(genders) + Counter(res))\n",
    "    print(f\"Males: {genders[male]}\")\n",
    "    print(f\"Females: {genders[female]}\")\n",
    "    print(f\"Others: {sum(num for gender, num in genders.items() if gender not in [male, female])}\")\n",
    "\n",
    "    \n"
   ]
  },
  {
   "cell_type": "markdown",
   "id": "b697b780-4385-4b84-8255-4cafc9a20d68",
   "metadata": {},
   "source": [
    "## 2019 gender distribution"
   ]
  },
  {
   "cell_type": "code",
   "execution_count": 5,
   "id": "7f496af4-b303-4081-b3a0-4b92929ca152",
   "metadata": {},
   "outputs": [
    {
     "name": "stdout",
     "output_type": "stream",
     "text": [
      "processed 651197 rows in 15.239314794540405 seconds\n",
      "processed 651853 rows in 12.179042100906372 seconds\n",
      "processed 651655 rows in 12.057482957839966 seconds\n",
      "processed 651757 rows in 11.940613985061646 seconds\n",
      "processed 650770 rows in 10.616096019744873 seconds\n",
      "processed 651955 rows in 14.199491739273071 seconds\n",
      "processed 652129 rows in 14.61597204208374 seconds\n",
      "processed 651577 rows in 13.911149740219116 seconds\n",
      "processed 651905 rows in 14.416616916656494 seconds\n",
      "processed 651431 rows in 15.063307046890259 seconds\n",
      "processed 651049 rows in 14.291039943695068 seconds\n",
      "processed 651739 rows in 14.399224042892456 seconds\n",
      "processed 651161 rows in 14.966541051864624 seconds\n",
      "processed 652707 rows in 14.450883150100708 seconds\n",
      "processed 652029 rows in 14.356558084487915 seconds\n",
      "processed 651449 rows in 15.333826065063477 seconds\n",
      "processed 651664 rows in 14.59077501296997 seconds\n",
      "processed 651506 rows in 15.201304912567139 seconds\n",
      "processed 651643 rows in 15.27651572227478 seconds\n",
      "processed 651716 rows in 14.744148969650269 seconds\n",
      "processed 652676 rows in 14.728201866149902 seconds\n",
      "processed 497726 rows in 11.875954866409302 seconds\n",
      "Males: 11307252\n",
      "Females: 2609069\n",
      "Others: 30596\n"
     ]
    }
   ],
   "source": [
    "with pd.read_json('data/quotes-2019.json-004.bz2', lines=True, compression='bz2', chunksize=1000000) as df_reader:\n",
    "    male = \"Q6581097\"\n",
    "    female = \"Q6581072\"\n",
    "    genders = {}\n",
    "    for chunk in df_reader:\n",
    "        res = count_genders(chunk)\n",
    "        genders = dict(Counter(genders) + Counter(res))\n",
    "    print(f\"Males: {genders[male]}\")\n",
    "    print(f\"Females: {genders[female]}\")\n",
    "    print(f\"Others: {sum(num for gender, num in genders.items() if gender not in [male, female])}\")"
   ]
  },
  {
   "cell_type": "code",
   "execution_count": 6,
   "id": "3e2b720c-2f64-412a-b26b-b17812a50114",
   "metadata": {},
   "outputs": [
    {
     "data": {
      "text/plain": [
       "0.15269261079716"
      ]
     },
     "execution_count": 6,
     "metadata": {},
     "output_type": "execute_result"
    }
   ],
   "source": [
    "2080342/(11544037+2080342)"
   ]
  },
  {
   "cell_type": "code",
   "execution_count": 7,
   "id": "657d39c3-df77-4685-b59a-6ebf06149531",
   "metadata": {},
   "outputs": [
    {
     "data": {
      "text/plain": [
       "0.18748266873119698"
      ]
     },
     "execution_count": 7,
     "metadata": {},
     "output_type": "execute_result"
    }
   ],
   "source": [
    "2609069/(11307252 +2609069)"
   ]
  },
  {
   "cell_type": "code",
   "execution_count": 25,
   "id": "afacd90b-f039-460e-b41a-45a26599a204",
   "metadata": {},
   "outputs": [
    {
     "ename": "ValueError",
     "evalue": "Expected object or value",
     "output_type": "error",
     "traceback": [
      "\u001b[0;31m---------------------------------------------------------------------------\u001b[0m",
      "\u001b[0;31mValueError\u001b[0m                                Traceback (most recent call last)",
      "\u001b[0;32m/var/folders/98/3dhdr3cn76j4tmpzb1w_70s80000gn/T/ipykernel_5996/1199315468.py\u001b[0m in \u001b[0;36m<module>\u001b[0;34m\u001b[0m\n\u001b[1;32m     15\u001b[0m \u001b[0mres\u001b[0m \u001b[0;34m=\u001b[0m \u001b[0;34m{\u001b[0m\u001b[0;34m}\u001b[0m\u001b[0;34m\u001b[0m\u001b[0;34m\u001b[0m\u001b[0m\n\u001b[1;32m     16\u001b[0m \u001b[0;32mwith\u001b[0m \u001b[0mpd\u001b[0m\u001b[0;34m.\u001b[0m\u001b[0mread_json\u001b[0m\u001b[0;34m(\u001b[0m\u001b[0;34m'data/Clean_Quotebank/clean-quotes-2019.json-005.bz2'\u001b[0m\u001b[0;34m,\u001b[0m \u001b[0mlines\u001b[0m\u001b[0;34m=\u001b[0m\u001b[0;32mTrue\u001b[0m\u001b[0;34m,\u001b[0m \u001b[0mcompression\u001b[0m\u001b[0;34m=\u001b[0m\u001b[0;34m'bz2'\u001b[0m\u001b[0;34m,\u001b[0m \u001b[0mchunksize\u001b[0m\u001b[0;34m=\u001b[0m\u001b[0;36m10000\u001b[0m\u001b[0;34m)\u001b[0m \u001b[0;32mas\u001b[0m \u001b[0mdf_reader\u001b[0m\u001b[0;34m:\u001b[0m\u001b[0;34m\u001b[0m\u001b[0;34m\u001b[0m\u001b[0m\n\u001b[0;32m---> 17\u001b[0;31m     \u001b[0;32mfor\u001b[0m \u001b[0mchunk\u001b[0m \u001b[0;32min\u001b[0m \u001b[0mdf_reader\u001b[0m\u001b[0;34m:\u001b[0m\u001b[0;34m\u001b[0m\u001b[0;34m\u001b[0m\u001b[0m\n\u001b[0m\u001b[1;32m     18\u001b[0m         \u001b[0mres\u001b[0m \u001b[0;34m=\u001b[0m \u001b[0mtest\u001b[0m\u001b[0;34m(\u001b[0m\u001b[0mchunk\u001b[0m\u001b[0;34m)\u001b[0m\u001b[0;34m\u001b[0m\u001b[0;34m\u001b[0m\u001b[0m\n\u001b[1;32m     19\u001b[0m         \u001b[0;32mbreak\u001b[0m\u001b[0;34m\u001b[0m\u001b[0;34m\u001b[0m\u001b[0m\n",
      "\u001b[0;32m~/.virtualenvs/ada/lib/python3.9/site-packages/pandas/io/json/_json.py\u001b[0m in \u001b[0;36m__next__\u001b[0;34m(self)\u001b[0m\n\u001b[1;32m    796\u001b[0m         \u001b[0;32mif\u001b[0m \u001b[0mlines\u001b[0m\u001b[0;34m:\u001b[0m\u001b[0;34m\u001b[0m\u001b[0;34m\u001b[0m\u001b[0m\n\u001b[1;32m    797\u001b[0m             \u001b[0mlines_json\u001b[0m \u001b[0;34m=\u001b[0m \u001b[0mself\u001b[0m\u001b[0;34m.\u001b[0m\u001b[0m_combine_lines\u001b[0m\u001b[0;34m(\u001b[0m\u001b[0mlines\u001b[0m\u001b[0;34m)\u001b[0m\u001b[0;34m\u001b[0m\u001b[0;34m\u001b[0m\u001b[0m\n\u001b[0;32m--> 798\u001b[0;31m             \u001b[0mobj\u001b[0m \u001b[0;34m=\u001b[0m \u001b[0mself\u001b[0m\u001b[0;34m.\u001b[0m\u001b[0m_get_object_parser\u001b[0m\u001b[0;34m(\u001b[0m\u001b[0mlines_json\u001b[0m\u001b[0;34m)\u001b[0m\u001b[0;34m\u001b[0m\u001b[0;34m\u001b[0m\u001b[0m\n\u001b[0m\u001b[1;32m    799\u001b[0m \u001b[0;34m\u001b[0m\u001b[0m\n\u001b[1;32m    800\u001b[0m             \u001b[0;31m# Make sure that the returned objects have the right index.\u001b[0m\u001b[0;34m\u001b[0m\u001b[0;34m\u001b[0m\u001b[0m\n",
      "\u001b[0;32m~/.virtualenvs/ada/lib/python3.9/site-packages/pandas/io/json/_json.py\u001b[0m in \u001b[0;36m_get_object_parser\u001b[0;34m(self, json)\u001b[0m\n\u001b[1;32m    768\u001b[0m         \u001b[0mobj\u001b[0m \u001b[0;34m=\u001b[0m \u001b[0;32mNone\u001b[0m\u001b[0;34m\u001b[0m\u001b[0;34m\u001b[0m\u001b[0m\n\u001b[1;32m    769\u001b[0m         \u001b[0;32mif\u001b[0m \u001b[0mtyp\u001b[0m \u001b[0;34m==\u001b[0m \u001b[0;34m\"frame\"\u001b[0m\u001b[0;34m:\u001b[0m\u001b[0;34m\u001b[0m\u001b[0;34m\u001b[0m\u001b[0m\n\u001b[0;32m--> 770\u001b[0;31m             \u001b[0mobj\u001b[0m \u001b[0;34m=\u001b[0m \u001b[0mFrameParser\u001b[0m\u001b[0;34m(\u001b[0m\u001b[0mjson\u001b[0m\u001b[0;34m,\u001b[0m \u001b[0;34m**\u001b[0m\u001b[0mkwargs\u001b[0m\u001b[0;34m)\u001b[0m\u001b[0;34m.\u001b[0m\u001b[0mparse\u001b[0m\u001b[0;34m(\u001b[0m\u001b[0;34m)\u001b[0m\u001b[0;34m\u001b[0m\u001b[0;34m\u001b[0m\u001b[0m\n\u001b[0m\u001b[1;32m    771\u001b[0m \u001b[0;34m\u001b[0m\u001b[0m\n\u001b[1;32m    772\u001b[0m         \u001b[0;32mif\u001b[0m \u001b[0mtyp\u001b[0m \u001b[0;34m==\u001b[0m \u001b[0;34m\"series\"\u001b[0m \u001b[0;32mor\u001b[0m \u001b[0mobj\u001b[0m \u001b[0;32mis\u001b[0m \u001b[0;32mNone\u001b[0m\u001b[0;34m:\u001b[0m\u001b[0;34m\u001b[0m\u001b[0;34m\u001b[0m\u001b[0m\n",
      "\u001b[0;32m~/.virtualenvs/ada/lib/python3.9/site-packages/pandas/io/json/_json.py\u001b[0m in \u001b[0;36mparse\u001b[0;34m(self)\u001b[0m\n\u001b[1;32m    883\u001b[0m \u001b[0;34m\u001b[0m\u001b[0m\n\u001b[1;32m    884\u001b[0m         \u001b[0;32melse\u001b[0m\u001b[0;34m:\u001b[0m\u001b[0;34m\u001b[0m\u001b[0;34m\u001b[0m\u001b[0m\n\u001b[0;32m--> 885\u001b[0;31m             \u001b[0mself\u001b[0m\u001b[0;34m.\u001b[0m\u001b[0m_parse_no_numpy\u001b[0m\u001b[0;34m(\u001b[0m\u001b[0;34m)\u001b[0m\u001b[0;34m\u001b[0m\u001b[0;34m\u001b[0m\u001b[0m\n\u001b[0m\u001b[1;32m    886\u001b[0m \u001b[0;34m\u001b[0m\u001b[0m\n\u001b[1;32m    887\u001b[0m         \u001b[0;32mif\u001b[0m \u001b[0mself\u001b[0m\u001b[0;34m.\u001b[0m\u001b[0mobj\u001b[0m \u001b[0;32mis\u001b[0m \u001b[0;32mNone\u001b[0m\u001b[0;34m:\u001b[0m\u001b[0;34m\u001b[0m\u001b[0;34m\u001b[0m\u001b[0m\n",
      "\u001b[0;32m~/.virtualenvs/ada/lib/python3.9/site-packages/pandas/io/json/_json.py\u001b[0m in \u001b[0;36m_parse_no_numpy\u001b[0;34m(self)\u001b[0m\n\u001b[1;32m   1138\u001b[0m         \u001b[0;32mif\u001b[0m \u001b[0morient\u001b[0m \u001b[0;34m==\u001b[0m \u001b[0;34m\"columns\"\u001b[0m\u001b[0;34m:\u001b[0m\u001b[0;34m\u001b[0m\u001b[0;34m\u001b[0m\u001b[0m\n\u001b[1;32m   1139\u001b[0m             self.obj = DataFrame(\n\u001b[0;32m-> 1140\u001b[0;31m                 \u001b[0mloads\u001b[0m\u001b[0;34m(\u001b[0m\u001b[0mjson\u001b[0m\u001b[0;34m,\u001b[0m \u001b[0mprecise_float\u001b[0m\u001b[0;34m=\u001b[0m\u001b[0mself\u001b[0m\u001b[0;34m.\u001b[0m\u001b[0mprecise_float\u001b[0m\u001b[0;34m)\u001b[0m\u001b[0;34m,\u001b[0m \u001b[0mdtype\u001b[0m\u001b[0;34m=\u001b[0m\u001b[0;32mNone\u001b[0m\u001b[0;34m\u001b[0m\u001b[0;34m\u001b[0m\u001b[0m\n\u001b[0m\u001b[1;32m   1141\u001b[0m             )\n\u001b[1;32m   1142\u001b[0m         \u001b[0;32melif\u001b[0m \u001b[0morient\u001b[0m \u001b[0;34m==\u001b[0m \u001b[0;34m\"split\"\u001b[0m\u001b[0;34m:\u001b[0m\u001b[0;34m\u001b[0m\u001b[0;34m\u001b[0m\u001b[0m\n",
      "\u001b[0;31mValueError\u001b[0m: Expected object or value"
     ]
    }
   ],
   "source": [
    "def test(chunk):\n",
    "    professions_ = {}\n",
    "    ids = [id[0] for id in chunk.qids.tolist() if id and id[0] in wikidata.index]\n",
    "    persons = wikidata.loc[ids]    \n",
    "    all_professions = persons.occupation.tolist()\n",
    "    for persons_profession in all_professions:\n",
    "        if persons_profession is not None:\n",
    "            for profession in persons_profession:\n",
    "                if profession in professions_:\n",
    "                    professions_[profession] += 1\n",
    "                else:\n",
    "                    professions_[profession] = 1\n",
    "    return professions_\n",
    "res = {}\n",
    "with pd.read_json('data/Clean_Quotebank/clean-quotes-2019.json-005.bz2', lines=True, compression='bz2', chunksize=10000) as df_reader:\n",
    "    for chunk in df_reader:\n",
    "        res = test(chunk)\n",
    "        break"
   ]
  },
  {
   "cell_type": "code",
   "execution_count": null,
   "id": "b4b9d66c-7765-4e53-8882-da5b3e428593",
   "metadata": {},
   "outputs": [],
   "source": [
    "a = {k: v for k, v in sorted(res.items(), key=lambda item: item[1])}\n"
   ]
  },
  {
   "cell_type": "code",
   "execution_count": null,
   "id": "ce61a6c8-422e-47d3-9cf7-8c6345cdf0b9",
   "metadata": {},
   "outputs": [
    {
     "data": {
      "text/plain": [
       "{}"
      ]
     },
     "execution_count": 19,
     "metadata": {},
     "output_type": "execute_result"
    }
   ],
   "source": [
    "import qwikidata\n"
   ]
  },
  {
   "cell_type": "code",
   "execution_count": 38,
   "id": "6fc74e59-555d-4cbb-8c17-697b2b8900eb",
   "metadata": {},
   "outputs": [
    {
     "ename": "NameError",
     "evalue": "name 'Q82955' is not defined",
     "output_type": "error",
     "traceback": [
      "\u001b[0;31m---------------------------------------------------------------------------\u001b[0m",
      "\u001b[0;31mNameError\u001b[0m                                 Traceback (most recent call last)",
      "\u001b[0;32m/var/folders/98/3dhdr3cn76j4tmpzb1w_70s80000gn/T/ipykernel_35990/4160656784.py\u001b[0m in \u001b[0;36m<module>\u001b[0;34m\u001b[0m\n\u001b[0;32m----> 1\u001b[0;31m \u001b[0mwikidata\u001b[0m\u001b[0;34m.\u001b[0m\u001b[0mloc\u001b[0m\u001b[0;34m[\u001b[0m\u001b[0mQ82955\u001b[0m\u001b[0;34m]\u001b[0m\u001b[0;34m\u001b[0m\u001b[0;34m\u001b[0m\u001b[0m\n\u001b[0m",
      "\u001b[0;31mNameError\u001b[0m: name 'Q82955' is not defined"
     ]
    }
   ],
   "source": [
    "wikidata.loc[Q82955]"
   ]
  },
  {
   "cell_type": "code",
   "execution_count": null,
   "id": "af115381-2a28-4f4e-a36a-c478b32d7ee6",
   "metadata": {},
   "outputs": [],
   "source": []
  }
 ],
 "metadata": {
  "kernelspec": {
   "display_name": "ada",
   "language": "python",
   "name": "ada"
  },
  "language_info": {
   "codemirror_mode": {
    "name": "ipython",
    "version": 3
   },
   "file_extension": ".py",
   "mimetype": "text/x-python",
   "name": "python",
   "nbconvert_exporter": "python",
   "pygments_lexer": "ipython3",
   "version": "3.9.7"
  }
 },
 "nbformat": 4,
 "nbformat_minor": 5
}
