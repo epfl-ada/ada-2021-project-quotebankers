{
 "cells": [
  {
   "cell_type": "code",
   "execution_count": 1,
   "id": "f1815bc8-d925-4c3b-ad77-337b799b59c9",
   "metadata": {},
   "outputs": [],
   "source": [
    "import os\n",
    "os.environ['TF_CPP_MIN_LOG_LEVEL'] = '2' \n",
    "import pandas as pd\n",
    "import numpy as np\n",
    "import tensorflow as tf\n",
    "from tensorflow import feature_column\n",
    "from tensorflow.keras import layers\n",
    "from sklearn.model_selection import train_test_split\n",
    "from qwikidata.entity import WikidataItem, WikidataLexeme, WikidataProperty\n",
    "from qwikidata.linked_data_interface import get_entity_dict_from_api\n",
    "import pickle\n",
    "\n",
    "from datetime import datetime"
   ]
  },
  {
   "cell_type": "markdown",
   "id": "6099c2d9-f4b2-4141-a8de-b50a21d5868b",
   "metadata": {},
   "source": [
    "## Load speakers dataset"
   ]
  },
  {
   "cell_type": "code",
   "execution_count": 2,
   "id": "2a9db42a-fe28-41aa-b243-5639ff4ef132",
   "metadata": {},
   "outputs": [],
   "source": [
    "speakers = pd.read_json('data/df_endgame_topic_emotion.jsonl')"
   ]
  },
  {
   "cell_type": "markdown",
   "id": "7a5fbd95-e419-4291-aded-94324003330d",
   "metadata": {},
   "source": [
    "## Fix nationality, gender and occupation "
   ]
  },
  {
   "cell_type": "code",
   "execution_count": 3,
   "id": "cb84b7a3-f16f-46b7-8bd8-acccfac9a1cf",
   "metadata": {},
   "outputs": [],
   "source": [
    "download_nationalities = False # download the label of the country from wikidata, use false if \n",
    "                               # nationalities.pickle is generated\n"
   ]
  },
  {
   "cell_type": "code",
   "execution_count": 4,
   "id": "64983f60-cf8f-48ac-ba0a-24701393943f",
   "metadata": {},
   "outputs": [],
   "source": [
    "nationality_id_to_nationality = {}\n",
    "if download_nationalities:\n",
    "    length = len(speakers.nationality.unique())\n",
    "    for i, country_encoded in enumerate(speakers.nationality.unique()):\n",
    "        if i % 50 == 0:\n",
    "            print((i/length) * 100, \"%\" )\n",
    "        if country_encoded not in id_to_nationalities:\n",
    "            try:\n",
    "                val = get_entity_dict_from_api(country_encoded)\n",
    "                nationality_id_to_nationality[country_encoded] = val['labels']['en']['value']\n",
    "            except:\n",
    "                print(val['labels'])\n",
    "\n",
    "\n",
    "    with open('nationalities.pickle', 'wb') as handle:\n",
    "        pickle.dump(nationality_id_to_nationality, handle)\n",
    "else:\n",
    "    with open('nationalities.pickle', 'rb') as handle:\n",
    "        nationality_id_to_nationality = pickle.load(handle)"
   ]
  },
  {
   "cell_type": "markdown",
   "id": "2fb66578-620c-4d60-af9a-4ae8b9fa0115",
   "metadata": {},
   "source": [
    "#### load dataframe with wordnet conversions of the occupations"
   ]
  },
  {
   "cell_type": "code",
   "execution_count": 5,
   "id": "ca30605a-9ce1-4c95-81d4-6adf8d7b6205",
   "metadata": {},
   "outputs": [],
   "source": [
    "speakers_8_occupations = pd.read_json('data/speakers_8_occupations', compression='bz2')\n",
    "speakers_8_only_scores = speakers_8_occupations.drop(columns=['n_quotes', 'n_unique_quotes', 'age', 'nationality', 'gender', 'occupation'])\n",
    "speakers_8_only_scores = speakers_8_only_scores.rename({'politician_score': 'politician', \n",
    "                                    'athlete_score': 'athlete',\n",
    "                                   'actor_score': 'actor',\n",
    "                                   'lawyer_score': 'lawyer',\n",
    "                                    'researcher_score': 'researcher',\n",
    "                                    'journalist_score': 'journalist',\n",
    "                                    'musician_score': 'musician',\n",
    "                                    'businessperson_score': 'businessperson'\n",
    "                                    }, axis=1)\n",
    "id_to_occupation = speakers_8_only_scores.idxmax(axis=1)"
   ]
  },
  {
   "cell_type": "markdown",
   "id": "074c265c-8d5f-43c8-81cf-75818acce35e",
   "metadata": {},
   "source": [
    "#### Convert nationality, occupation and gender from id to real value"
   ]
  },
  {
   "cell_type": "code",
   "execution_count": 6,
   "id": "4368255a-e983-4c98-8543-ba5e65eb7309",
   "metadata": {},
   "outputs": [],
   "source": [
    "speakers.nationality = speakers.nationality.apply(\n",
    "    lambda x: nationality_id_to_nationality[x] if x in nationality_id_to_nationality else 'unk')\n",
    "\n",
    "speakers.occupation = speakers.index.map(\n",
    "    lambda x: id_to_occupation[x] if x in id_to_occupation else 'unk')\n",
    "\n",
    "genders = {'Q6581097': 'male',\n",
    "           'Q6581072': 'female'\n",
    "          }\n",
    "speakers.gender = speakers.gender.apply(lambda x: genders[x] if x in genders else 'other')"
   ]
  },
  {
   "cell_type": "markdown",
   "id": "5e33e596-60db-4fec-8a4c-3704ec5d388b",
   "metadata": {},
   "source": [
    "## Clean the data"
   ]
  },
  {
   "cell_type": "code",
   "execution_count": 7,
   "id": "27bc1837-ef49-4080-8b1c-b322f5fe2b06",
   "metadata": {},
   "outputs": [
    {
     "data": {
      "text/html": [
       "<div>\n",
       "<style scoped>\n",
       "    .dataframe tbody tr th:only-of-type {\n",
       "        vertical-align: middle;\n",
       "    }\n",
       "\n",
       "    .dataframe tbody tr th {\n",
       "        vertical-align: top;\n",
       "    }\n",
       "\n",
       "    .dataframe thead th {\n",
       "        text-align: right;\n",
       "    }\n",
       "</style>\n",
       "<table border=\"1\" class=\"dataframe\">\n",
       "  <thead>\n",
       "    <tr style=\"text-align: right;\">\n",
       "      <th></th>\n",
       "      <th>n_quotes</th>\n",
       "      <th>age</th>\n",
       "      <th>nationality</th>\n",
       "      <th>gender</th>\n",
       "      <th>occupation</th>\n",
       "      <th>topic</th>\n",
       "      <th>emotion</th>\n",
       "    </tr>\n",
       "  </thead>\n",
       "  <tbody>\n",
       "    <tr>\n",
       "      <th>Q233981</th>\n",
       "      <td>1773</td>\n",
       "      <td>33</td>\n",
       "      <td>South Africa</td>\n",
       "      <td>female</td>\n",
       "      <td>politician</td>\n",
       "      <td>art</td>\n",
       "      <td>joy</td>\n",
       "    </tr>\n",
       "    <tr>\n",
       "      <th>Q216816</th>\n",
       "      <td>1056</td>\n",
       "      <td>46</td>\n",
       "      <td>Spain</td>\n",
       "      <td>male</td>\n",
       "      <td>athlete</td>\n",
       "      <td>sport</td>\n",
       "      <td>anger</td>\n",
       "    </tr>\n",
       "    <tr>\n",
       "      <th>Q51685552</th>\n",
       "      <td>540</td>\n",
       "      <td>42</td>\n",
       "      <td>United States of America</td>\n",
       "      <td>male</td>\n",
       "      <td>musician</td>\n",
       "      <td>sport</td>\n",
       "      <td>joy</td>\n",
       "    </tr>\n",
       "    <tr>\n",
       "      <th>Q7790863</th>\n",
       "      <td>21</td>\n",
       "      <td>85</td>\n",
       "      <td>United States of America</td>\n",
       "      <td>male</td>\n",
       "      <td>politician</td>\n",
       "      <td>economy &amp; finance</td>\n",
       "      <td>fear</td>\n",
       "    </tr>\n",
       "    <tr>\n",
       "      <th>Q5534345</th>\n",
       "      <td>1752</td>\n",
       "      <td>52</td>\n",
       "      <td>Australia</td>\n",
       "      <td>male</td>\n",
       "      <td>athlete</td>\n",
       "      <td>sport</td>\n",
       "      <td>neutral</td>\n",
       "    </tr>\n",
       "  </tbody>\n",
       "</table>\n",
       "</div>"
      ],
      "text/plain": [
       "           n_quotes  age               nationality  gender  occupation  \\\n",
       "Q233981        1773   33              South Africa  female  politician   \n",
       "Q216816        1056   46                     Spain    male     athlete   \n",
       "Q51685552       540   42  United States of America    male    musician   \n",
       "Q7790863         21   85  United States of America    male  politician   \n",
       "Q5534345       1752   52                 Australia    male     athlete   \n",
       "\n",
       "                       topic  emotion  \n",
       "Q233981                  art      joy  \n",
       "Q216816                sport    anger  \n",
       "Q51685552              sport      joy  \n",
       "Q7790863   economy & finance     fear  \n",
       "Q5534345               sport  neutral  "
      ]
     },
     "execution_count": 7,
     "metadata": {},
     "output_type": "execute_result"
    }
   ],
   "source": [
    "speakers = speakers.drop(columns=['numOccurrences', 'quotation', 'n_unique_quotes'])\n",
    "speakers = speakers.dropna(axis=0) # remove row if any column value is None\n",
    "speakers.head()"
   ]
  },
  {
   "cell_type": "markdown",
   "id": "f64a8e03-3c0b-4111-b2e0-abd59463b9fb",
   "metadata": {},
   "source": [
    "#### Convert labels to categorical features"
   ]
  },
  {
   "cell_type": "code",
   "execution_count": 8,
   "id": "f16d3f74-e26b-4b1d-9ff5-3f5ef8588a37",
   "metadata": {},
   "outputs": [],
   "source": [
    "# This could probably be done in tensorflow instead\n",
    "def convert_n_quotes_to_categorical(x):\n",
    "    if 0 <= x < 10:\n",
    "        return 0\n",
    "    if 10 <= x < 100:\n",
    "        return 1\n",
    "    if 100 <= x < 500:\n",
    "        return 2\n",
    "    if 500 <= x < 1000:\n",
    "        return 3\n",
    "    return 4\n",
    "speakers.n_quotes = speakers.n_quotes.apply(convert_n_quotes_to_categorical)"
   ]
  },
  {
   "cell_type": "markdown",
   "id": "0d2978c5-3683-4ff7-b516-3fc4608f82d3",
   "metadata": {},
   "source": [
    "#### Make all text features lowercase for consistency"
   ]
  },
  {
   "cell_type": "code",
   "execution_count": 9,
   "id": "5832cb36-882a-4061-9356-b3c229c30330",
   "metadata": {},
   "outputs": [],
   "source": [
    "speakers.nationality = speakers.nationality.apply(lambda x: x.lower())\n",
    "speakers.gender = speakers.gender.apply(lambda x: x.lower()) \n",
    "speakers.occupation = speakers.occupation.apply(lambda x: x.lower()) \n",
    "speakers.topic = speakers.topic.apply(lambda x: x.lower()) \n",
    "speakers.emotion = speakers.emotion.apply(lambda x: x.lower()) "
   ]
  },
  {
   "cell_type": "markdown",
   "id": "aa87d278-11cf-41df-96b6-ef7abf994ed7",
   "metadata": {},
   "source": [
    "#### Create label encoder (onehot) for the labels"
   ]
  },
  {
   "cell_type": "code",
   "execution_count": 10,
   "id": "99f1f3ba-6253-4c00-acea-40dffa56935b",
   "metadata": {},
   "outputs": [
    {
     "data": {
      "text/plain": [
       "LabelEncoder()"
      ]
     },
     "execution_count": 10,
     "metadata": {},
     "output_type": "execute_result"
    }
   ],
   "source": [
    "from sklearn.preprocessing import LabelEncoder\n",
    "from keras.utils import np_utils\n",
    "encoder = LabelEncoder()\n",
    "encoder.fit(speakers.n_quotes)"
   ]
  },
  {
   "cell_type": "markdown",
   "id": "65eabdd1-f71f-488e-b465-88cf10e69edb",
   "metadata": {},
   "source": [
    "#### Create feature layer"
   ]
  },
  {
   "cell_type": "code",
   "execution_count": 11,
   "id": "1ab3e169-3cea-4657-a353-22eac2b70592",
   "metadata": {},
   "outputs": [],
   "source": [
    "feature_columns = []\n",
    "bucketized_column_names = [('age', list(range(5, 100, 5)))]\n",
    "for col_name, boundaries in bucketized_column_names:\n",
    "    numerical_clumn = tf.feature_column.numeric_column(col_name, dtype=tf.dtypes.int32, normalizer_fn=None)\n",
    "    bucketized_column = feature_column.bucketized_column(numerical_clumn, boundaries=boundaries)\n",
    "    feature_columns.append(bucketized_column)\n",
    "indicator_column_names = ['nationality', 'gender', 'occupation', 'emotion', 'topic']\n",
    "\n",
    "for col_name in indicator_column_names:\n",
    "    categorical_column = feature_column.categorical_column_with_vocabulary_list(\n",
    "      col_name, speakers[col_name].unique())\n",
    "    indicator_column = feature_column.indicator_column(categorical_column)\n",
    "    feature_columns.append(indicator_column)\n",
    "\n",
    "feature_layer = tf.keras.layers.DenseFeatures(feature_columns)  "
   ]
  },
  {
   "cell_type": "markdown",
   "id": "9e21d446-2f58-4c9e-97d9-ff3be6a5182d",
   "metadata": {},
   "source": [
    "#### Split into data into train, validation and test"
   ]
  },
  {
   "cell_type": "code",
   "execution_count": 12,
   "id": "c5603a55-ef0f-489d-870f-bdd6308c5319",
   "metadata": {},
   "outputs": [],
   "source": [
    "train, test = train_test_split(speakers, test_size = .2 )\n",
    "train, val = train_test_split(train, test_size = .2 )"
   ]
  },
  {
   "cell_type": "markdown",
   "id": "f375f50e-72f2-4725-b15c-a9bf7d075585",
   "metadata": {},
   "source": [
    "#### batchify and encode dataset"
   ]
  },
  {
   "cell_type": "code",
   "execution_count": 13,
   "id": "2bcf3023-47b6-4bb1-a918-63bc04a4bca4",
   "metadata": {},
   "outputs": [],
   "source": [
    "def df_to_dataset(dataframe, shuffle=True, batch_size=32):\n",
    "    dataframe = dataframe.copy()\n",
    "    encoded_Y = encoder.transform(dataframe.pop('n_quotes'))\n",
    "    labels = np_utils.to_categorical(encoded_Y)\n",
    "    ds = tf.data.Dataset.from_tensor_slices((dict(dataframe), labels))\n",
    "    if shuffle:\n",
    "        ds = ds.shuffle(buffer_size=len(dataframe))\n",
    "    ds = ds.batch(batch_size)\n",
    "    return ds\n",
    "\n",
    "batch_size = 32\n",
    "train_ds = df_to_dataset(train, batch_size=batch_size)\n",
    "val_ds = df_to_dataset(val, shuffle=False, batch_size=batch_size)\n",
    "test_ds = df_to_dataset(test, shuffle=False, batch_size=batch_size)"
   ]
  },
  {
   "cell_type": "markdown",
   "id": "7cb23e3a-9fcf-4a4a-94d6-6bf022882186",
   "metadata": {},
   "source": [
    "#### Create, train and test the model"
   ]
  },
  {
   "cell_type": "code",
   "execution_count": 30,
   "id": "47784e73-0ac5-4d43-8728-fc63b38ed94d",
   "metadata": {},
   "outputs": [
    {
     "name": "stdout",
     "output_type": "stream",
     "text": [
      "Epoch 1/5\n",
      "WARNING:tensorflow:Layers in a Sequential model should only have a single input tensor, but we receive a <class 'dict'> input: {'age': <tf.Tensor 'IteratorGetNext:0' shape=(None,) dtype=int64>, 'nationality': <tf.Tensor 'IteratorGetNext:3' shape=(None,) dtype=string>, 'gender': <tf.Tensor 'IteratorGetNext:2' shape=(None,) dtype=string>, 'occupation': <tf.Tensor 'IteratorGetNext:4' shape=(None,) dtype=string>, 'topic': <tf.Tensor 'IteratorGetNext:5' shape=(None,) dtype=string>, 'emotion': <tf.Tensor 'IteratorGetNext:1' shape=(None,) dtype=string>}\n",
      "Consider rewriting this model with the Functional API.\n",
      "WARNING:tensorflow:Layers in a Sequential model should only have a single input tensor, but we receive a <class 'dict'> input: {'age': <tf.Tensor 'IteratorGetNext:0' shape=(None,) dtype=int64>, 'nationality': <tf.Tensor 'IteratorGetNext:3' shape=(None,) dtype=string>, 'gender': <tf.Tensor 'IteratorGetNext:2' shape=(None,) dtype=string>, 'occupation': <tf.Tensor 'IteratorGetNext:4' shape=(None,) dtype=string>, 'topic': <tf.Tensor 'IteratorGetNext:5' shape=(None,) dtype=string>, 'emotion': <tf.Tensor 'IteratorGetNext:1' shape=(None,) dtype=string>}\n",
      "Consider rewriting this model with the Functional API.\n",
      "3829/3836 [============================>.] - ETA: 0s - loss: 1.2519 - accuracy: 0.5162WARNING:tensorflow:Layers in a Sequential model should only have a single input tensor, but we receive a <class 'dict'> input: {'age': <tf.Tensor 'IteratorGetNext:0' shape=(None,) dtype=int64>, 'nationality': <tf.Tensor 'IteratorGetNext:3' shape=(None,) dtype=string>, 'gender': <tf.Tensor 'IteratorGetNext:2' shape=(None,) dtype=string>, 'occupation': <tf.Tensor 'IteratorGetNext:4' shape=(None,) dtype=string>, 'topic': <tf.Tensor 'IteratorGetNext:5' shape=(None,) dtype=string>, 'emotion': <tf.Tensor 'IteratorGetNext:1' shape=(None,) dtype=string>}\n",
      "Consider rewriting this model with the Functional API.\n",
      "3836/3836 [==============================] - 9s 2ms/step - loss: 1.2519 - accuracy: 0.5163 - val_loss: 1.2488 - val_accuracy: 0.5178\n",
      "Epoch 2/5\n",
      "3836/3836 [==============================] - 8s 2ms/step - loss: 1.2398 - accuracy: 0.5170 - val_loss: 1.2434 - val_accuracy: 0.5182\n",
      "Epoch 3/5\n",
      "3836/3836 [==============================] - 8s 2ms/step - loss: 1.2341 - accuracy: 0.5168 - val_loss: 1.2439 - val_accuracy: 0.5176\n",
      "Epoch 4/5\n",
      "3836/3836 [==============================] - 8s 2ms/step - loss: 1.2280 - accuracy: 0.5176 - val_loss: 1.2490 - val_accuracy: 0.5180\n",
      "Epoch 5/5\n",
      "3836/3836 [==============================] - 9s 2ms/step - loss: 1.2212 - accuracy: 0.5181 - val_loss: 1.2559 - val_accuracy: 0.5162\n",
      "1199/1199 [==============================] - 2s 1ms/step - loss: 1.2491 - accuracy: 0.5192\n",
      "Accuracy:  0.5192147493362427\n"
     ]
    }
   ],
   "source": [
    "from keras import backend as K\n",
    "from keras import losses\n",
    "\n",
    "def OCC_loss(y_true, y_pred):\n",
    "    '''\n",
    "    Credit to https://github.com/JHart96 for this ordinal categorical crossentropy function\n",
    "    '''\n",
    "    weights = K.cast(K.abs(K.argmax(y_true, axis=1) - K.argmax(y_pred, axis=1))/(K.int_shape(y_pred)[1] - 1), dtype='float32')\n",
    "    return (1.0 + weights) * losses.categorical_crossentropy(y_true, y_pred)\n",
    "\n",
    "def get_model():\n",
    "\n",
    "    model = tf.keras.Sequential([\n",
    "        feature_layer,\n",
    "        layers.Dense(128, activation='relu'),\n",
    "        layers.Dense(256, activation='relu'),\n",
    "        layers.Dense(128, activation='relu'),\n",
    "        layers.Dense(5, activation='softmax')\n",
    "    ])\n",
    "\n",
    "    model.compile(optimizer='adam',\n",
    "                  loss='categorical_crossentropy',\n",
    "                  metrics=['accuracy'])\n",
    "    return model\n",
    "\n",
    "model = get_model()\n",
    "\n",
    "model.fit(train_ds,\n",
    "      validation_data=val_ds,\n",
    "      epochs=5)\n",
    "\n",
    "loss, accuracy = model.evaluate(test_ds)\n",
    "\n",
    "print(\"Accuracy: \", accuracy)"
   ]
  },
  {
   "cell_type": "markdown",
   "id": "906c32b3-1f91-4391-aa4e-be31e310d3eb",
   "metadata": {},
   "source": [
    "#### Prediction example"
   ]
  },
  {
   "cell_type": "code",
   "execution_count": 31,
   "id": "363982fd-6e03-4994-9e7b-313fb1f096ee",
   "metadata": {},
   "outputs": [
    {
     "name": "stdout",
     "output_type": "stream",
     "text": [
      "WARNING:tensorflow:Layers in a Sequential model should only have a single input tensor, but we receive a <class 'dict'> input: {'age': <tf.Tensor 'IteratorGetNext:0' shape=(None,) dtype=int32>, 'nationality': <tf.Tensor 'IteratorGetNext:3' shape=(None,) dtype=string>, 'gender': <tf.Tensor 'IteratorGetNext:2' shape=(None,) dtype=string>, 'occupation': <tf.Tensor 'IteratorGetNext:4' shape=(None,) dtype=string>, 'topic': <tf.Tensor 'IteratorGetNext:5' shape=(None,) dtype=string>, 'emotion': <tf.Tensor 'IteratorGetNext:1' shape=(None,) dtype=string>}\n",
      "Consider rewriting this model with the Functional API.\n",
      "[[0.02251375 0.25645047 0.27099028 0.13448538 0.31556016]]\n",
      "[4]\n"
     ]
    }
   ],
   "source": [
    "age = 55\n",
    "nationality = 'united states of america'\n",
    "gender = 'male'\n",
    "occupation = 'politician'\n",
    "topic = 'politics'\n",
    "emotion = 'anger'\n",
    "\n",
    "input_example = {'age': tf.convert_to_tensor([np.array(age)]),\n",
    "     'nationality': tf.convert_to_tensor([np.array(nationality)]),\n",
    "     'gender': tf.convert_to_tensor([np.array(gender)]), \n",
    "     'occupation': tf.convert_to_tensor([np.array(occupation)]) ,\n",
    "     'topic': tf.convert_to_tensor([np.array(topic)]),\n",
    "     'emotion': tf.convert_to_tensor([np.array(emotion)]),\n",
    "     \n",
    "    }\n",
    "\n",
    "pred = model.predict(input_example)\n",
    "print(pred)\n",
    "print(np.argmax(tf.nn.softmax(pred), axis=1))"
   ]
  },
  {
   "cell_type": "code",
   "execution_count": 19,
   "id": "06370416-85cf-4f2e-9f87-3317f17ec364",
   "metadata": {},
   "outputs": [
    {
     "name": "stdout",
     "output_type": "stream",
     "text": [
      "WARNING:tensorflow:Layers in a Sequential model should only have a single input tensor, but we receive a <class 'dict'> input: {'age': <tf.Tensor 'IteratorGetNext:0' shape=(None,) dtype=int64>, 'nationality': <tf.Tensor 'IteratorGetNext:3' shape=(None,) dtype=string>, 'gender': <tf.Tensor 'IteratorGetNext:2' shape=(None,) dtype=string>, 'occupation': <tf.Tensor 'IteratorGetNext:4' shape=(None,) dtype=string>, 'topic': <tf.Tensor 'IteratorGetNext:5' shape=(None,) dtype=string>, 'emotion': <tf.Tensor 'IteratorGetNext:1' shape=(None,) dtype=string>}\n",
      "Consider rewriting this model with the Functional API.\n"
     ]
    },
    {
     "data": {
      "text/plain": [
       "(array([1.1000e+01, 0.0000e+00, 3.7768e+04, 0.0000e+00, 0.0000e+00,\n",
       "        2.2100e+02, 0.0000e+00, 0.0000e+00, 0.0000e+00, 3.5600e+02]),\n",
       " array([0. , 0.4, 0.8, 1.2, 1.6, 2. , 2.4, 2.8, 3.2, 3.6, 4. ]),\n",
       " <BarContainer object of 10 artists>)"
      ]
     },
     "execution_count": 19,
     "metadata": {},
     "output_type": "execute_result"
    },
    {
     "data": {
      "image/png": "[encoded data removed]",
      "text/plain": [
       "<Figure size 432x288 with 1 Axes>"
      ]
     },
     "metadata": {
      "needs_background": "light"
     },
     "output_type": "display_data"
    }
   ],
   "source": [
    "import matplotlib.pyplot as plt\n",
    "\n",
    "predictions = model.predict(test_ds)\n",
    "a = np.argmax(tf.nn.softmax(predictions), axis=1)\n",
    "\n",
    "plt.hist(a)"
   ]
  },
  {
   "cell_type": "markdown",
   "id": "d47848ff-37f1-40c4-9408-85957a6c8730",
   "metadata": {},
   "source": [
    "#### Retrain on entire dataset"
   ]
  },
  {
   "cell_type": "code",
   "execution_count": 20,
   "id": "a43eb224-7b99-4cd3-a731-a0a72cd4c5f5",
   "metadata": {},
   "outputs": [
    {
     "name": "stdout",
     "output_type": "stream",
     "text": [
      "Epoch 1/10\n",
      "5994/5994 [==============================] - 11s 2ms/step - loss: 1.5723 - accuracy: 0.5170\n",
      "Epoch 2/10\n",
      "5994/5994 [==============================] - 11s 2ms/step - loss: 1.5655 - accuracy: 0.5169\n",
      "Epoch 3/10\n",
      "5994/5994 [==============================] - 11s 2ms/step - loss: 1.5576 - accuracy: 0.5162\n",
      "Epoch 4/10\n",
      "5994/5994 [==============================] - 11s 2ms/step - loss: 1.5486 - accuracy: 0.5168\n",
      "Epoch 5/10\n",
      "5994/5994 [==============================] - 11s 2ms/step - loss: 1.5392 - accuracy: 0.5176\n",
      "Epoch 6/10\n",
      "5994/5994 [==============================] - 11s 2ms/step - loss: 1.5289 - accuracy: 0.5189\n",
      "Epoch 7/10\n",
      "5994/5994 [==============================] - 11s 2ms/step - loss: 1.5187 - accuracy: 0.5203\n",
      "Epoch 8/10\n",
      "5994/5994 [==============================] - 11s 2ms/step - loss: 1.5077 - accuracy: 0.5219\n",
      "Epoch 9/10\n",
      "5994/5994 [==============================] - 11s 2ms/step - loss: 1.4968 - accuracy: 0.5235\n",
      "Epoch 10/10\n",
      "5994/5994 [==============================] - 12s 2ms/step - loss: 1.4868 - accuracy: 0.5256\n"
     ]
    },
    {
     "data": {
      "text/plain": [
       "<keras.callbacks.History at 0x154921c10>"
      ]
     },
     "execution_count": 20,
     "metadata": {},
     "output_type": "execute_result"
    }
   ],
   "source": [
    "entire_df = df_to_dataset(speakers, batch_size=32)\n",
    "model.fit(entire_df, epochs=10)"
   ]
  },
  {
   "cell_type": "markdown",
   "id": "6b9bcb43-50e1-4d4a-a648-860878d3fc0d",
   "metadata": {},
   "source": [
    "#### Save model"
   ]
  },
  {
   "cell_type": "code",
   "execution_count": 32,
   "id": "cef3ceff-d58e-493c-86de-f99f29e63d72",
   "metadata": {},
   "outputs": [
    {
     "name": "stdout",
     "output_type": "stream",
     "text": [
      "WARNING:tensorflow:Layers in a Sequential model should only have a single input tensor, but we receive a <class 'dict'> input: {'age': <tf.Tensor 'age:0' shape=(None,) dtype=int64>, 'nationality': <tf.Tensor 'nationality:0' shape=(None,) dtype=string>, 'gender': <tf.Tensor 'gender:0' shape=(None,) dtype=string>, 'occupation': <tf.Tensor 'occupation:0' shape=(None,) dtype=string>, 'topic': <tf.Tensor 'topic:0' shape=(None,) dtype=string>, 'emotion': <tf.Tensor 'emotion:0' shape=(None,) dtype=string>}\n",
      "Consider rewriting this model with the Functional API.\n",
      "WARNING:tensorflow:Layers in a Sequential model should only have a single input tensor, but we receive a <class 'dict'> input: {'age': <tf.Tensor 'inputs:0' shape=(None,) dtype=int64>, 'nationality': <tf.Tensor 'inputs_3:0' shape=(None,) dtype=string>, 'gender': <tf.Tensor 'inputs_2:0' shape=(None,) dtype=string>, 'occupation': <tf.Tensor 'inputs_4:0' shape=(None,) dtype=string>, 'topic': <tf.Tensor 'inputs_5:0' shape=(None,) dtype=string>, 'emotion': <tf.Tensor 'inputs_1:0' shape=(None,) dtype=string>}\n",
      "Consider rewriting this model with the Functional API.\n",
      "WARNING:tensorflow:Unresolved object in checkpoint: (root).layer-0._resources.emotion\n",
      "WARNING:tensorflow:Unresolved object in checkpoint: (root).layer-0._resources.gender\n",
      "WARNING:tensorflow:Unresolved object in checkpoint: (root).layer-0._resources.nationality\n",
      "WARNING:tensorflow:Unresolved object in checkpoint: (root).layer-0._resources.occupation\n",
      "WARNING:tensorflow:Unresolved object in checkpoint: (root).layer-0._resources.topic\n",
      "WARNING:tensorflow:Unresolved object in checkpoint: (root).layer-0._resources.emotion.emotion_lookup\n",
      "WARNING:tensorflow:Unresolved object in checkpoint: (root).layer-0._resources.gender.gender_lookup\n",
      "WARNING:tensorflow:Unresolved object in checkpoint: (root).layer-0._resources.nationality.nationality_lookup\n",
      "WARNING:tensorflow:Unresolved object in checkpoint: (root).layer-0._resources.occupation.occupation_lookup\n",
      "WARNING:tensorflow:Unresolved object in checkpoint: (root).layer-0._resources.topic.topic_lookup\n",
      "WARNING:tensorflow:Unresolved object in checkpoint: (root).layer-0._resources.emotion.emotion_lookup._initializer\n",
      "WARNING:tensorflow:Unresolved object in checkpoint: (root).layer-0._resources.gender.gender_lookup._initializer\n",
      "WARNING:tensorflow:Unresolved object in checkpoint: (root).layer-0._resources.nationality.nationality_lookup._initializer\n",
      "WARNING:tensorflow:Unresolved object in checkpoint: (root).layer-0._resources.occupation.occupation_lookup._initializer\n",
      "WARNING:tensorflow:Unresolved object in checkpoint: (root).layer-0._resources.topic.topic_lookup._initializer\n",
      "WARNING:tensorflow:A checkpoint was restored (e.g. tf.train.Checkpoint.restore or tf.keras.Model.load_weights) but not all checkpointed values were used. See above for specific issues. Use expect_partial() on the load status object, e.g. tf.train.Checkpoint.restore(...).expect_partial(), to silence these warnings, or use assert_consumed() to make the check explicit. See https://www.tensorflow.org/guide/checkpoint#loading_mechanics for details.\n",
      "WARNING:tensorflow:Layers in a Sequential model should only have a single input tensor, but we receive a <class 'dict'> input: {'age': <tf.Tensor 'inputs:0' shape=(None,) dtype=int64>, 'nationality': <tf.Tensor 'inputs_3:0' shape=(None,) dtype=string>, 'gender': <tf.Tensor 'inputs_2:0' shape=(None,) dtype=string>, 'occupation': <tf.Tensor 'inputs_4:0' shape=(None,) dtype=string>, 'topic': <tf.Tensor 'inputs_5:0' shape=(None,) dtype=string>, 'emotion': <tf.Tensor 'inputs_1:0' shape=(None,) dtype=string>}\n",
      "Consider rewriting this model with the Functional API.\n",
      "WARNING:tensorflow:Layers in a Sequential model should only have a single input tensor, but we receive a <class 'dict'> input: {'age': <tf.Tensor 'age:0' shape=(None,) dtype=int64>, 'nationality': <tf.Tensor 'nationality:0' shape=(None,) dtype=string>, 'gender': <tf.Tensor 'gender:0' shape=(None,) dtype=string>, 'occupation': <tf.Tensor 'occupation:0' shape=(None,) dtype=string>, 'topic': <tf.Tensor 'topic:0' shape=(None,) dtype=string>, 'emotion': <tf.Tensor 'emotion:0' shape=(None,) dtype=string>}\n",
      "Consider rewriting this model with the Functional API.\n",
      "WARNING:tensorflow:Layers in a Sequential model should only have a single input tensor, but we receive a <class 'dict'> input: {'age': <tf.Tensor 'age:0' shape=(None,) dtype=int64>, 'nationality': <tf.Tensor 'nationality:0' shape=(None,) dtype=string>, 'gender': <tf.Tensor 'gender:0' shape=(None,) dtype=string>, 'occupation': <tf.Tensor 'occupation:0' shape=(None,) dtype=string>, 'topic': <tf.Tensor 'topic:0' shape=(None,) dtype=string>, 'emotion': <tf.Tensor 'emotion:0' shape=(None,) dtype=string>}\n",
      "Consider rewriting this model with the Functional API.\n",
      "WARNING:tensorflow:Layers in a Sequential model should only have a single input tensor, but we receive a <class 'dict'> input: {'age': <tf.Tensor 'inputs/age:0' shape=(None,) dtype=int64>, 'nationality': <tf.Tensor 'inputs/nationality:0' shape=(None,) dtype=string>, 'gender': <tf.Tensor 'inputs/gender:0' shape=(None,) dtype=string>, 'occupation': <tf.Tensor 'inputs/occupation:0' shape=(None,) dtype=string>, 'topic': <tf.Tensor 'inputs/topic:0' shape=(None,) dtype=string>, 'emotion': <tf.Tensor 'inputs/emotion:0' shape=(None,) dtype=string>}\n",
      "Consider rewriting this model with the Functional API.\n",
      "WARNING:tensorflow:Layers in a Sequential model should only have a single input tensor, but we receive a <class 'dict'> input: {'age': <tf.Tensor 'inputs/age:0' shape=(None,) dtype=int64>, 'nationality': <tf.Tensor 'inputs/nationality:0' shape=(None,) dtype=string>, 'gender': <tf.Tensor 'inputs/gender:0' shape=(None,) dtype=string>, 'occupation': <tf.Tensor 'inputs/occupation:0' shape=(None,) dtype=string>, 'topic': <tf.Tensor 'inputs/topic:0' shape=(None,) dtype=string>, 'emotion': <tf.Tensor 'inputs/emotion:0' shape=(None,) dtype=string>}\n",
      "Consider rewriting this model with the Functional API.\n",
      "INFO:tensorflow:Assets written to: models/quote_prediction_model/assets\n"
     ]
    }
   ],
   "source": [
    "model.save('models/quote_prediction_model')"
   ]
  },
  {
   "cell_type": "markdown",
   "id": "db9b05c7-10bf-4649-8387-34ee2828d0db",
   "metadata": {},
   "source": [
    "#### Test loading the model\n"
   ]
  },
  {
   "cell_type": "code",
   "execution_count": 33,
   "id": "e73fba9e-4239-41fb-8db9-348badd50c82",
   "metadata": {},
   "outputs": [
    {
     "name": "stdout",
     "output_type": "stream",
     "text": [
      "WARNING:tensorflow:Layers in a Sequential model should only have a single input tensor, but we receive a <class 'dict'> input: {'age': <tf.Tensor 'IteratorGetNext:0' shape=(None,) dtype=int32>, 'nationality': <tf.Tensor 'IteratorGetNext:3' shape=(None,) dtype=string>, 'gender': <tf.Tensor 'IteratorGetNext:2' shape=(None,) dtype=string>, 'occupation': <tf.Tensor 'IteratorGetNext:4' shape=(None,) dtype=string>, 'topic': <tf.Tensor 'IteratorGetNext:5' shape=(None,) dtype=string>, 'emotion': <tf.Tensor 'IteratorGetNext:1' shape=(None,) dtype=string>}\n",
      "Consider rewriting this model with the Functional API.\n",
      "[[0.02251375 0.25645047 0.27099028 0.13448538 0.31556016]]\n",
      "[4]\n"
     ]
    }
   ],
   "source": [
    "new_model = tf.keras.models.load_model('models/quote_prediction_model')\n",
    "\n",
    "age = 55\n",
    "nationality = 'united states of america'\n",
    "gender = 'male'\n",
    "occupation = 'politician'\n",
    "topic = 'politics'\n",
    "emotion = 'anger'\n",
    "\n",
    "input_example = {'age': tf.convert_to_tensor([np.array(age)]),\n",
    "     'nationality': tf.convert_to_tensor([np.array(nationality)]),\n",
    "     'gender': tf.convert_to_tensor([np.array(gender)]), \n",
    "     'occupation': tf.convert_to_tensor([np.array(occupation)]) ,\n",
    "     'topic': tf.convert_to_tensor([np.array(topic)]),\n",
    "     'emotion': tf.convert_to_tensor([np.array(emotion)]),\n",
    "     \n",
    "    }\n",
    "\n",
    "pred = new_model.predict(input_example)\n",
    "print(pred)\n",
    "print(np.argmax(tf.nn.softmax(pred), axis=1))"
   ]
  }
 ],
 "metadata": {
  "kernelspec": {
   "display_name": "ada",
   "language": "python",
   "name": "ada"
  },
  "language_info": {
   "codemirror_mode": {
    "name": "ipython",
    "version": 3
   },
   "file_extension": ".py",
   "mimetype": "text/x-python",
   "name": "python",
   "nbconvert_exporter": "python",
   "pygments_lexer": "ipython3",
   "version": "3.9.7"
  }
 },
 "nbformat": 4,
 "nbformat_minor": 5
}
