{
 "cells": [
  {
   "cell_type": "markdown",
   "metadata": {},
   "source": [
    "## Who is quoted in the media"
   ]
  },
  {
   "cell_type": "code",
   "execution_count": 2,
   "metadata": {},
   "outputs": [],
   "source": [
    "import pandas as pd\n",
    "from datetime import datetime\n",
    "import plotly.express as px\n",
    "import matplotlib.pyplot as plt\n",
    "pd.options.plotting.backend = \"plotly\""
   ]
  },
  {
   "cell_type": "code",
   "execution_count": 3,
   "metadata": {},
   "outputs": [],
   "source": [
    "# Plotting standards\n",
    "plt.rc('axes', labelsize=14)   # fontsize of the x and y labels\n",
    "plt.rc('axes', titlesize=14)\n",
    "plt.rc('xtick', labelsize=13)    # fontsize of the tick labels\n",
    "plt.rc('ytick', labelsize=13)\n",
    "plt.rc('legend', fontsize=14)    # legend fontsize\n",
    "plt.rc('figure', titlesize=14)   # fontsize of the figure title\n",
    "plt.rc('lines', markersize=7)\n",
    "plt.rc('lines', linewidth=2)"
   ]
  },
  {
   "cell_type": "markdown",
   "metadata": {},
   "source": [
    "### 0. Pre-process initial data, remove unused columns"
   ]
  },
  {
   "cell_type": "code",
   "execution_count": 4,
   "metadata": {},
   "outputs": [
    {
     "name": "stdout",
     "output_type": "stream",
     "text": [
      "(691122, 16)\n"
     ]
    },
    {
     "data": {
      "text/html": [
       "<div>\n",
       "<style scoped>\n",
       "    .dataframe tbody tr th:only-of-type {\n",
       "        vertical-align: middle;\n",
       "    }\n",
       "\n",
       "    .dataframe tbody tr th {\n",
       "        vertical-align: top;\n",
       "    }\n",
       "\n",
       "    .dataframe thead th {\n",
       "        text-align: right;\n",
       "    }\n",
       "</style>\n",
       "<table border=\"1\" class=\"dataframe\">\n",
       "  <thead>\n",
       "    <tr style=\"text-align: right;\">\n",
       "      <th></th>\n",
       "      <th>aliases</th>\n",
       "      <th>date_of_birth</th>\n",
       "      <th>nationality</th>\n",
       "      <th>gender</th>\n",
       "      <th>lastrevid</th>\n",
       "      <th>ethnic_group</th>\n",
       "      <th>US_congress_bio_ID</th>\n",
       "      <th>occupation</th>\n",
       "      <th>party</th>\n",
       "      <th>academic_degree</th>\n",
       "      <th>label</th>\n",
       "      <th>candidacy</th>\n",
       "      <th>type</th>\n",
       "      <th>religion</th>\n",
       "      <th>n_unique_quotes</th>\n",
       "      <th>n_quotes</th>\n",
       "    </tr>\n",
       "  </thead>\n",
       "  <tbody>\n",
       "    <tr>\n",
       "      <th>Q270316</th>\n",
       "      <td>[Cynthia Jeanne Bowers, C. Jeanne Shaheen]</td>\n",
       "      <td>[+1947-01-28T00:00:00Z]</td>\n",
       "      <td>[Q30]</td>\n",
       "      <td>[Q6581072]</td>\n",
       "      <td>1393026432</td>\n",
       "      <td>None</td>\n",
       "      <td>S001181</td>\n",
       "      <td>[Q82955]</td>\n",
       "      <td>[Q29552]</td>\n",
       "      <td>None</td>\n",
       "      <td>Jeanne Shaheen</td>\n",
       "      <td>None</td>\n",
       "      <td>item</td>\n",
       "      <td>[Q23540]</td>\n",
       "      <td>4094</td>\n",
       "      <td>21060</td>\n",
       "    </tr>\n",
       "    <tr>\n",
       "      <th>Q1253</th>\n",
       "      <td>[Ban Kimoon, Ban Ki Moon]</td>\n",
       "      <td>[+1944-06-13T00:00:00Z]</td>\n",
       "      <td>[Q884]</td>\n",
       "      <td>[Q6581097]</td>\n",
       "      <td>1384825460</td>\n",
       "      <td>[Q484464]</td>\n",
       "      <td>None</td>\n",
       "      <td>[Q82955, Q193391]</td>\n",
       "      <td>[Q327591]</td>\n",
       "      <td>None</td>\n",
       "      <td>Ban Ki-moon</td>\n",
       "      <td>None</td>\n",
       "      <td>item</td>\n",
       "      <td>[Q9581, Q748]</td>\n",
       "      <td>12746</td>\n",
       "      <td>94704</td>\n",
       "    </tr>\n",
       "  </tbody>\n",
       "</table>\n",
       "</div>"
      ],
      "text/plain": [
       "                                            aliases            date_of_birth  \\\n",
       "Q270316  [Cynthia Jeanne Bowers, C. Jeanne Shaheen]  [+1947-01-28T00:00:00Z]   \n",
       "Q1253                     [Ban Kimoon, Ban Ki Moon]  [+1944-06-13T00:00:00Z]   \n",
       "\n",
       "        nationality      gender   lastrevid ethnic_group US_congress_bio_ID  \\\n",
       "Q270316       [Q30]  [Q6581072]  1393026432         None            S001181   \n",
       "Q1253        [Q884]  [Q6581097]  1384825460    [Q484464]               None   \n",
       "\n",
       "                occupation      party academic_degree           label  \\\n",
       "Q270316           [Q82955]   [Q29552]            None  Jeanne Shaheen   \n",
       "Q1253    [Q82955, Q193391]  [Q327591]            None     Ban Ki-moon   \n",
       "\n",
       "        candidacy  type       religion  n_unique_quotes  n_quotes  \n",
       "Q270316      None  item       [Q23540]             4094     21060  \n",
       "Q1253        None  item  [Q9581, Q748]            12746     94704  "
      ]
     },
     "execution_count": 4,
     "metadata": {},
     "output_type": "execute_result"
    }
   ],
   "source": [
    "speakers = pd.read_json('data/speakers.json.bz2', compression='bz2')\n",
    "print(speakers.shape)\n",
    "speakers.head(2)"
   ]
  },
  {
   "cell_type": "code",
   "execution_count": 15,
   "metadata": {},
   "outputs": [
    {
     "name": "stdout",
     "output_type": "stream",
     "text": [
      "(101351, 7)\n"
     ]
    },
    {
     "name": "stderr",
     "output_type": "stream",
     "text": [
      "<ipython-input-15-b1936749281a>:49: SettingWithCopyWarning:\n",
      "\n",
      "\n",
      "A value is trying to be set on a copy of a slice from a DataFrame.\n",
      "Try using .loc[row_indexer,col_indexer] = value instead\n",
      "\n",
      "See the caveats in the documentation: https://pandas.pydata.org/pandas-docs/stable/user_guide/indexing.html#returning-a-view-versus-a-copy\n",
      "\n"
     ]
    }
   ],
   "source": [
    "# Drop the columns that don't add value to clustering (e.g. speaker name) and other attributes present in less than 50% of the speakers\n",
    "speakers_dropped = speakers.drop(columns=['label', 'US_congress_bio_ID', \n",
    "                                          'lastrevid', 'type', \n",
    "                                          'candidacy', 'academic_degree',\n",
    "                                          'religion',\n",
    "                                          'ethnic_group', 'party']).dropna(axis=0)\n",
    "# Add the age from the date-of-birth column\n",
    "ages = []\n",
    "for birth in speakers_dropped.date_of_birth.values:\n",
    "    if not birth is None:\n",
    "        ages.append(datetime.now().year - int(birth[0][1:5]))\n",
    "    else:\n",
    "        ages.append(None)\n",
    "\n",
    "speakers_dropped['age'] = ages\n",
    "speakers_dropped.head(2)\n",
    "\n",
    "# Remove the date_of_birth column\n",
    "speakers_features = speakers_dropped.drop(columns=['date_of_birth']).dropna(axis=0)\n",
    "\n",
    "# Keep only the first instance of occupation, nationality and gender\n",
    "speakers_features_full = pd.DataFrame()\n",
    "speakers_features_full['n_quotes'] = speakers_features['n_quotes']\n",
    "speakers_features_full['n_unique_quotes'] = speakers_features['n_unique_quotes']\n",
    "speakers_features_full['age'] = speakers_features['age']\n",
    "\n",
    "for name, values in speakers_features.iteritems():\n",
    "    if name not in ['n_quotes', 'n_unique_quotes', 'age']:\n",
    "        updated_values = []\n",
    "        for val in values:\n",
    "            if not val is None:\n",
    "                updated_values.append(val[0])\n",
    "            else:\n",
    "                updated_values.append(None)\n",
    "        speakers_features_full[name] = updated_values\n",
    "\n",
    "speakers_features_preprocessed = speakers_features_full.dropna(axis=0) # remove row if any column value is None\n",
    "\n",
    "# Only keep the speakers with age within [0, 150]\n",
    "speakers_features_final = speakers_features_preprocessed[(speakers_features_preprocessed.age > 0) \n",
    "                                                               & (speakers_features_preprocessed.age < 150)]\n",
    "print(speakers_features_final.shape)\n",
    "speakers_features_final.head(2)\n",
    "\n",
    "# Reduce genders to male, female and others\n",
    "map_gender = lambda gender: gender if (gender == 'Q6581097' or gender == 'Q6581072') else 'Other'\n",
    "reduced_genders = speakers_features_final['gender'].map(map_gender)\n",
    "\n",
    "speakers_features_final['gender'] = reduced_genders"
   ]
  },
  {
   "cell_type": "code",
   "execution_count": 16,
   "metadata": {},
   "outputs": [
    {
     "data": {
      "text/html": [
       "<div>\n",
       "<style scoped>\n",
       "    .dataframe tbody tr th:only-of-type {\n",
       "        vertical-align: middle;\n",
       "    }\n",
       "\n",
       "    .dataframe tbody tr th {\n",
       "        vertical-align: top;\n",
       "    }\n",
       "\n",
       "    .dataframe thead th {\n",
       "        text-align: right;\n",
       "    }\n",
       "</style>\n",
       "<table border=\"1\" class=\"dataframe\">\n",
       "  <thead>\n",
       "    <tr style=\"text-align: right;\">\n",
       "      <th></th>\n",
       "      <th>n_quotes</th>\n",
       "      <th>n_unique_quotes</th>\n",
       "      <th>age</th>\n",
       "      <th>aliases</th>\n",
       "      <th>nationality</th>\n",
       "      <th>gender</th>\n",
       "      <th>occupation</th>\n",
       "    </tr>\n",
       "  </thead>\n",
       "  <tbody>\n",
       "    <tr>\n",
       "      <th>Q270316</th>\n",
       "      <td>21060</td>\n",
       "      <td>4094</td>\n",
       "      <td>74</td>\n",
       "      <td>Cynthia Jeanne Bowers</td>\n",
       "      <td>Q30</td>\n",
       "      <td>Q6581072</td>\n",
       "      <td>Q82955</td>\n",
       "    </tr>\n",
       "    <tr>\n",
       "      <th>Q1253</th>\n",
       "      <td>94704</td>\n",
       "      <td>12746</td>\n",
       "      <td>77</td>\n",
       "      <td>Ban Kimoon</td>\n",
       "      <td>Q884</td>\n",
       "      <td>Q6581097</td>\n",
       "      <td>Q82955</td>\n",
       "    </tr>\n",
       "  </tbody>\n",
       "</table>\n",
       "</div>"
      ],
      "text/plain": [
       "         n_quotes  n_unique_quotes  age                aliases nationality  \\\n",
       "Q270316     21060             4094   74  Cynthia Jeanne Bowers         Q30   \n",
       "Q1253       94704            12746   77             Ban Kimoon        Q884   \n",
       "\n",
       "           gender occupation  \n",
       "Q270316  Q6581072     Q82955  \n",
       "Q1253    Q6581097     Q82955  "
      ]
     },
     "execution_count": 16,
     "metadata": {},
     "output_type": "execute_result"
    }
   ],
   "source": [
    "speakers_features_final.head(2)"
   ]
  },
  {
   "cell_type": "markdown",
   "metadata": {},
   "source": [
    "### 1. Authors vs n_quotes "
   ]
  },
  {
   "cell_type": "code",
   "execution_count": 19,
   "metadata": {},
   "outputs": [
    {
     "data": {
      "image/png": "[encoded data removed]",
      "text/plain": [
       "<Figure size 1080x576 with 1 Axes>"
      ]
     },
     "metadata": {
      "needs_background": "light"
     },
     "output_type": "display_data"
    }
   ],
   "source": [
    "fig = plt.figure(figsize=(15,8))\n",
    "speakers_sorted = speakers_features_final.sort_values(by=['n_quotes'], ascending=False)\n",
    "plt.bar(speakers_sorted.n_quotes.keys().tolist()[0:-1:4_000], \n",
    "        speakers_sorted.n_quotes.values.tolist()[0:-1:4_000], \n",
    "        align='center', width=1, alpha=0.6, facecolor='blue', edgecolor='w', log=True)\n",
    "plt.tick_params(axis='x',labelbottom=False, pad=5)\n",
    "plt.xlabel('Different speakers')\n",
    "plt.ylabel('Number of quotes')\n",
    "plt.title('Number of quotes per speaker')\n",
    "plt.show()"
   ]
  },
  {
   "cell_type": "code",
   "execution_count": 36,
   "metadata": {},
   "outputs": [
    {
     "data": {
      "application/vnd.plotly.v1+json": {
       "config": {
        "plotlyServerURL": "https://plot.ly"
       },
       "data": [
        {
         "alignmentgroup": "True",
         "bingroup": "x",
         "histfunc": "sum",
         "hovertemplate": "x=%{x}<br>sum of y=%{y}<extra></extra>",
         "legendgroup": "",
         "marker": {
          "color": "#636efa",
          "pattern": {
           "shape": ""
          }
         },
         "name": "",
         "offsetgroup": "",
         "orientation": "v",
         "showlegend": false,
         "type": "histogram",
         "x": [
          "Donald John Trump",
          "Robert Casey",
          "Carl Celian Icahn",
          "John Francis Collins",
          "Kenneth Eric Church",
          "Michael John Robinson",
          "Daniel Edward Aykroyd",
          "David William Duchovny",
          "Whitney Eve Port",
          "Shahriar Alam",
          "Frank Owen Gehry",
          "Andre Krouwel",
          "Richard John Keogh",
          "Christine Allen",
          "Vivek Y. Ranadive",
          "Gavino",
          "Jonathan Saul Freedland",
          "Brian Norman Naylor",
          "Ifeadikachukwu Anthony Odenigbo",
          "Bill Bailey",
          "Ella Mai Howell",
          "Cecilia Braekhus",
          "Greg Alexander Docherty",
          "Rory Graham",
          "Paul Harwood Blanchard",
          "Carol [Editor] Harrison",
          "Kulik, Stephen",
          "Jeffrey Ryan Roufus",
          "Joshua Samuel Sims",
          "Dhananjaya Maduranga de Silva",
          "William B. Fulton",
          "Mr Justice Gillen",
          "David Michael Dellucci",
          "Wayne William Gray",
          "Anthony William Greig",
          "Angel Cordero",
          "Robert Bower Peterson, Jr.",
          "Sherwin N. Tugna",
          "Steven G. Rogelberg",
          "Manuel Gutierrez",
          "Frank Michael Sullivan III",
          "Chris Scobille",
          "Glibert Scott-Heron",
          "Manfred Hähnel",
          "Casey Price",
          "Archie Hamilton",
          "Veniamin But",
          "Brittany Anne Murphy",
          "Winston Anthony Lloyd Cozier",
          "Caruso, Sophia Anne",
          "Alban Martin James Newman",
          "Cassidy Marie Wolf",
          "Travon DaShawn Frank Smart",
          "Randol Doyle Choate",
          "Justin Rory Gonzales",
          "Arne Grinberg",
          "Renee Fox",
          "Barbara Jacobs",
          "Marius Paul Trésor",
          "Andrew Jonathan Whiteley",
          "Kay Tobin Lahusen",
          "David E Smith",
          "Carlos Fernando Corporan",
          "Gabriel Rufián Romero",
          "Jun Gu",
          "Madison Michelle Pettis",
          "James Tyrie Campbell",
          "Peter Dager",
          "Charles Manski",
          "Spencer C. H. Barrett",
          "Ιωάννα Παναγιώτου",
          "Ian George Prentice",
          "Ted W. Watts",
          "Adesuwa Oyenokwe",
          "Spencer Elliot Livermore, Baron Livermore",
          "Anastasia Electra Ashley",
          "Hebert Peck",
          "Samuel Davis Dalembert",
          "El Mouhoub Mouhoud",
          "John J. Moore",
          "Patricia Smith",
          "Donald Warren Iwerks",
          "James Bradfield Moody",
          "Maria Guinand",
          "Koko",
          "Sonia E Gardner",
          "Eric Bernier",
          "Robert Lyall Hannaford",
          "Rene Rivas",
          "Mrs. Fields",
          "William Chase Tatum",
          "Gregory J. Costantino",
          "Madeline Marie",
          "Charles Louis Fefferman",
          "Genevieve Borne",
          "Heinrich Scholz",
          "Edward Bereal",
          "Ted Frost",
          "Pov Heng",
          "Stuart Garrard",
          "Peter D. Adkison",
          "Andras Schiffer",
          "Rory McAllister",
          "Efrain Cruz",
          "William Roger Louis",
          "Sergio Sánchez",
          "Escobar Marisol",
          "Sebastian Danchin",
          "Shamim Patwari",
          "Aliaj, Besnik",
          "Éric Chouinard",
          "Martina Jacová",
          "Michel Ray",
          "Debbie Szotecki",
          "Jerome Drouin",
          "Oleg Georgiyevich Grigoryev",
          "Denes Nagy",
          "Sif Atladottir",
          "Alejandro Santana Tirachini",
          "Lisbeth Palme",
          "Sylvia Bambala Chalikosa",
          "Ermin Bicakcic",
          "Merḥav, Dinah",
          "Rene Schmidt",
          "Maricela Chavez",
          "Fawzia Fuad Chirine",
          "David Sternfeld",
          "Osian Gwynn Ellis",
          "Aleksandr Yevgenyevich Akimov",
          "Emerson Augusto Thome",
          "Marlo Delgado Suarez",
          "Omer Sismanoglu",
          "Robert C. Coates",
          "Robert Roger McCrae",
          "BB Pradhan",
          "Toni Canto",
          "Benedetto Fabio Granata",
          "Lara Liang Veronin",
          "Marcello Giuseppe Escorel",
          "Stephen John Pickell",
          "Andreas Oberg",
          "Martin Beyer",
          "Amanda Linnea Fondell",
          "María Isabel Ulloa Cruz",
          "L. Lavrysen"
         ],
         "xaxis": "x",
         "y": [
          7888869,
          24998,
          13269,
          8769,
          6406,
          5081,
          4114,
          3425,
          2932,
          2519,
          2194,
          1934,
          1708,
          1542,
          1382,
          1250,
          1140,
          1039,
          947,
          869,
          800,
          741,
          687,
          636,
          590,
          548,
          510,
          473,
          441,
          414,
          387,
          363,
          341,
          320,
          300,
          282,
          266,
          250,
          236,
          222,
          210,
          199,
          188,
          178,
          168,
          159,
          151,
          143,
          135,
          128,
          121,
          115,
          109,
          103,
          98,
          93,
          88,
          83,
          79,
          75,
          71,
          68,
          64,
          62,
          58,
          55,
          53,
          50,
          48,
          45,
          43,
          41,
          39,
          37,
          36,
          34,
          32,
          31,
          29,
          28,
          27,
          25,
          24,
          23,
          22,
          21,
          20,
          19,
          18,
          17,
          16,
          16,
          15,
          14,
          14,
          13,
          12,
          12,
          11,
          11,
          10,
          10,
          9,
          9,
          8,
          8,
          8,
          7,
          7,
          6,
          6,
          6,
          6,
          5,
          5,
          5,
          4,
          4,
          4,
          4,
          4,
          3,
          3,
          3,
          3,
          3,
          2,
          2,
          2,
          2,
          2,
          2,
          2,
          2,
          2,
          1,
          1,
          1,
          1,
          1,
          1,
          1,
          1,
          1,
          1
         ],
         "yaxis": "y"
        }
       ],
       "layout": {
        "barmode": "relative",
        "font": {
         "family": "Nunito"
        },
        "legend": {
         "tracegroupgap": 0,
         "x": 0.99,
         "xanchor": "right",
         "y": 0.99,
         "yanchor": "top"
        },
        "template": {},
        "title": {
         "text": "Number of quotations per speaker"
        },
        "xaxis": {
         "anchor": "y",
         "domain": [
          0,
          1
         ],
         "title": {
          "text": ""
         },
         "type": "category"
        },
        "yaxis": {
         "anchor": "x",
         "domain": [
          0,
          1
         ],
         "title": {
          "text": "Number of quotations"
         },
         "type": "log"
        }
       }
      }
     },
     "metadata": {},
     "output_type": "display_data"
    }
   ],
   "source": [
    "color_discrete_map={\n",
    "    \"male\":\"blue\", \n",
    "    \"female\":\"red\"}\n",
    "\n",
    "fig = px.histogram(x=speakers_sorted.aliases.tolist()[0:-1:700],\n",
    "                   y=speakers_sorted.n_quotes.values.tolist()[0:-1:700],\n",
    "                   title=f\"Number of quotations per speaker\",\n",
    "                   log_y=True)\n",
    "fig.update_layout(yaxis_title=\"Number of quotations\", xaxis_title=\"\")\n",
    "fig.update_xaxes(type='category')\n",
    "fig.update_layout(\n",
    "    template=None,\n",
    "    font_family='Nunito',\n",
    "    legend=dict(\n",
    "    yanchor=\"top\",\n",
    "    y=0.99,\n",
    "    xanchor=\"right\",\n",
    "    x=0.99\n",
    "    )\n",
    ")\n",
    "fig.show()\n",
    "fig.write_html(\"data/images/quotations_per_speaker.html\")"
   ]
  },
  {
   "cell_type": "markdown",
   "metadata": {},
   "source": [
    "### 2. Gender visualization"
   ]
  },
  {
   "cell_type": "code",
   "execution_count": 48,
   "metadata": {},
   "outputs": [
    {
     "name": "stdout",
     "output_type": "stream",
     "text": [
      "Men: 76.92384304582546% \n",
      "Women: 22.95324648867662\n",
      "Rest: 0.1229104654979232\n"
     ]
    }
   ],
   "source": [
    "count = speakers_features_final.gender.value_counts()\n",
    "count\n",
    "percentage_men = count['Q6581097'] / count.sum()\n",
    "percentage_women = count['Q6581072'] / count.sum()\n",
    "percentage_rest = count['Other'] / count.sum()    \n",
    "print(f'Men: {100*percentage_men}% \\nWomen: {100*percentage_women}\\nRest: {100*percentage_rest}')"
   ]
  },
  {
   "cell_type": "code",
   "execution_count": 49,
   "metadata": {},
   "outputs": [
    {
     "data": {
      "image/png": "[encoded data removed]",
      "text/plain": [
       "<Figure size 432x288 with 1 Axes>"
      ]
     },
     "metadata": {
      "needs_background": "light"
     },
     "output_type": "display_data"
    }
   ],
   "source": [
    "import matplotlib.image as mpimg\n",
    "img = mpimg.imread('data/images/infogender_white.png')\n",
    "imgplot = plt.imshow(img)\n",
    "plt.show()"
   ]
  },
  {
   "cell_type": "markdown",
   "metadata": {},
   "source": [
    "### 3. Occupations for all, men, and women"
   ]
  },
  {
   "cell_type": "code",
   "execution_count": null,
   "metadata": {},
   "outputs": [],
   "source": []
  }
 ],
 "metadata": {
  "interpreter": {
   "hash": "0050bdc898b9a679c387244c11e8057e7ae4f22360b32a2e55d1f190f6800284"
  },
  "kernelspec": {
   "display_name": "Python 3.9.2 64-bit",
   "language": "python",
   "name": "python3"
  },
  "language_info": {
   "codemirror_mode": {
    "name": "ipython",
    "version": 3
   },
   "file_extension": ".py",
   "mimetype": "text/x-python",
   "name": "python",
   "nbconvert_exporter": "python",
   "pygments_lexer": "ipython3",
   "version": "3.9.2"
  },
  "orig_nbformat": 4
 },
 "nbformat": 4,
 "nbformat_minor": 2
}
